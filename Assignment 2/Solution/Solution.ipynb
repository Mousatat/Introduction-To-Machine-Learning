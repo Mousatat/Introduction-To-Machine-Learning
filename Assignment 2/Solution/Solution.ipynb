{
  "cells": [
    {
      "cell_type": "markdown",
      "source": [
        "# Assignment 2\n",
        "\n",
        "## Instructions\n",
        "- Your submission should be the `.ipynb` file with your name,\n",
        "  like `YusufMesbah.ipynb`. it should include the answers to the questions in\n",
        "  markdown cells.\n",
        "- You are expected to follow the best practices for code writing and model\n",
        "training. Poor coding style will be penalized.\n",
        "- You are allowed to discuss ideas with your peers, but no sharing of code.\n",
        "Plagiarism in the code will result in failing. If you use code from the\n",
        "internet, cite it.\n",
        "- If the instructions seem vague, use common sense."
      ],
      "metadata": {
        "id": "s5N3ruIJv953"
      }
    },
    {
      "cell_type": "markdown",
      "source": [
        "# Task 1: ANN (30%)\n",
        "For this task, you are required to build a fully connect feed-forward ANN model\n",
        "for a multi-label regression problem.\n",
        "\n",
        "For the given data, you need do proper data preprocessing, design the ANN model,\n",
        "then fine-tune your model architecture (number of layers, number of neurons,\n",
        "activation function, learning rate, momentum, regularization).\n",
        "\n",
        "For evaluating your model, do $80/20$ train test split.\n",
        "\n",
        "### Data\n",
        "You will be working with the data in `Task 1.csv` for predicting students'\n",
        "scores in 3 different exams: math, reading and writing. The columns include:\n",
        " - gender\n",
        " - race\n",
        " - parental level of education\n",
        " - lunch meal plan at school\n",
        " - whether the student undertook the test preparation course"
      ],
      "metadata": {
        "id": "HVtjLnNbwAtb"
      }
    },
    {
      "cell_type": "code",
      "execution_count": 76,
      "metadata": {
        "id": "Ag8OHXjYiakz"
      },
      "outputs": [],
      "source": [
        "import numpy as np \n",
        "import pandas as pd \n",
        "import matplotlib.pyplot as plt\n",
        "import seaborn as sns\n",
        "from collections import Counter\n",
        "import math\n",
        "import tensorflow as tf\n",
        "from tensorflow.keras import Model\n",
        "from tensorflow.keras import Sequential\n",
        "from tensorflow.keras.optimizers import Adam\n",
        "from sklearn.preprocessing import StandardScaler\n",
        "from tensorflow.keras.layers import Dense, Dropout\n",
        "from sklearn.model_selection import train_test_split\n",
        "from tensorflow.keras.losses import MeanAbsoluteError"
      ]
    },
    {
      "cell_type": "code",
      "source": [
        "# Openning goodle drive to get the triple_mnist.zip from it\n",
        "from google.colab import drive\n",
        "drive.mount('/content/drive/')"
      ],
      "metadata": {
        "colab": {
          "base_uri": "https://localhost:8080/"
        },
        "id": "Zi-rSxrS-lMI",
        "outputId": "36979071-04ad-468d-e13f-def68e2b812e"
      },
      "execution_count": 77,
      "outputs": [
        {
          "output_type": "stream",
          "name": "stdout",
          "text": [
            "Drive already mounted at /content/drive/; to attempt to forcibly remount, call drive.mount(\"/content/drive/\", force_remount=True).\n"
          ]
        }
      ]
    },
    {
      "cell_type": "code",
      "execution_count": 78,
      "metadata": {
        "id": "b3h0chAzH0pO"
      },
      "outputs": [],
      "source": [
        "# data is the dataset of task 1\n",
        "data = pd.read_csv('Task 1.csv')"
      ]
    },
    {
      "cell_type": "code",
      "source": [
        "# Unziping the triple_mnist.zip folder\n",
        "!unzip /content/drive/MyDrive/triple_mnist.zip"
      ],
      "metadata": {
        "colab": {
          "base_uri": "https://localhost:8080/"
        },
        "id": "UgqVfQRYCEny",
        "outputId": "fe19d65f-7fe7-4d72-819f-007bf41e5a17"
      },
      "execution_count": 79,
      "outputs": [
        {
          "output_type": "stream",
          "name": "stdout",
          "text": [
            "Archive:  /content/drive/MyDrive/triple_mnist.zip\n",
            "replace triple_mnist/test/002/0_002.png? [y]es, [n]o, [A]ll, [N]one, [r]ename: n\n",
            "replace triple_mnist/test/002/10_002.png? [y]es, [n]o, [A]ll, [N]one, [r]ename: "
          ]
        }
      ]
    },
    {
      "cell_type": "code",
      "execution_count": 80,
      "metadata": {
        "colab": {
          "base_uri": "https://localhost:8080/"
        },
        "id": "DDBqXm_XR14c",
        "outputId": "5c79314d-9f49-4371-e7a9-325193bcecd6"
      },
      "outputs": [
        {
          "output_type": "stream",
          "name": "stdout",
          "text": [
            "(1000, 8)\n"
          ]
        }
      ],
      "source": [
        "# I used ordinal encoder because I noticed it gave the same result of One hot and it has less number of columns \n",
        "from sklearn.preprocessing import OrdinalEncoder\n",
        "def oe_new_features(df, features_name, encoder): #the function for ordinal encoding\n",
        "    new_feats = encoder.transform(df[features_name])\n",
        "    new_cols = pd.DataFrame(new_feats, dtype=int, columns=features_name)\n",
        "    new_df = df.copy()\n",
        "    new_df.drop(features_name, axis=1, inplace=True)\n",
        "    new_df = pd.concat([new_df, new_cols], axis=1)\n",
        "    return new_df\n",
        "encoder = OrdinalEncoder()\n",
        "f_name = ['gender','race/ethnicity','parental level of education','lunch','test preparation course']\n",
        "encoder.fit(data[f_name])\n",
        "data = oe_new_features(data, f_name, encoder)\n",
        "print(data.shape)"
      ]
    },
    {
      "cell_type": "code",
      "execution_count": 81,
      "metadata": {
        "id": "Un_OXzUXMvGA"
      },
      "outputs": [],
      "source": [
        "from sklearn.model_selection import train_test_split\n",
        "# making the train and test data\n",
        "\n",
        "X_ANN= data[['gender','race/ethnicity', 'parental level of education', 'lunch', 'test preparation course']]\n",
        "y_ANN= data[['math score', 'reading score', 'writing score']]\n",
        "\n",
        "X_train_ANN, X_test_ANN, y_train_ANN, y_test_ANN = train_test_split(X_ANN,y_ANN,test_size=0.2)"
      ]
    },
    {
      "cell_type": "code",
      "execution_count": 82,
      "metadata": {
        "colab": {
          "base_uri": "https://localhost:8080/",
          "height": 316
        },
        "id": "t5NqyqHlSv6s",
        "outputId": "7c972926-5177-4bf0-f8a3-395662c1f1d2"
      },
      "outputs": [
        {
          "output_type": "stream",
          "name": "stdout",
          "text": [
            "7/7 [==============================] - 0s 2ms/step\n",
            "the result of the model is: [10.525827407836914, 0.5600000023841858]\n"
          ]
        },
        {
          "output_type": "display_data",
          "data": {
            "text/plain": [
              "<Figure size 432x288 with 1 Axes>"
            ],
            "image/png": "[encoded data removed]"
          },
          "metadata": {}
        }
      ],
      "source": [
        "# mlp for multi-output regression\n",
        "from numpy import mean\n",
        "from numpy import std\n",
        "from sklearn.datasets import make_regression\n",
        "from sklearn.model_selection import RepeatedKFold\n",
        "from keras.models import Sequential\n",
        "from keras.layers import Dense\n",
        "mae = MeanAbsoluteError()\n",
        "# define the model\n",
        "def get_model(n_inputs, n_outputs, loss1):\n",
        "\tmodel = Sequential()\n",
        "\tmodel.add(Dense(20, input_dim=n_inputs, kernel_initializer='he_uniform', activation='relu'))\n",
        "\tmodel.add(Dense(300,activation='relu'))\n",
        "\tmodel.add(Dropout(0.2))\n",
        "\tmodel.add(Dense(100,activation='relu'))\n",
        "\tmodel.add(Dropout(0.2))\n",
        "\tmodel.add(Dense(n_outputs))\n",
        "\tmodel.compile(loss=loss1, optimizer=Adam(learning_rate=0.01), metrics=['accuracy'])\n",
        "\treturn model\n",
        "model_ANN = get_model(5,3,mae)\n",
        "\n",
        "# fit model\n",
        "history = model_ANN.fit(X_train_ANN, y_train_ANN, verbose=0, epochs=100)\n",
        "# evaluate model on test set\n",
        "result = model_ANN.evaluate(X_test_ANN, y_test_ANN, verbose=0)\n",
        "y_pred = model_ANN.predict(X_test_ANN)\n",
        "print(f\"the result of the model is: {result}\")\n",
        "def plot_result(history, key):\n",
        "  plt.plot(history.history[key])\n",
        "  plt.xlabel(\"Epochs\")\n",
        "  plt.ylabel(key)\n",
        "  plt.show()\n",
        "\n",
        "plot_result(history, 'accuracy')"
      ]
    },
    {
      "cell_type": "markdown",
      "source": [
        "### Questions\n",
        "1. What preprocessing techniques did you use? Why?\n",
        "    - I used ordinal encoder because I noticed it gave the same result of One hot and it has less number of columns \n",
        "2. Describe the fine-tuning process and how you reached your model architecture.\n",
        "    - I made fine tuning by my self and I did not put it here because it takes more than 30 minutes and at the end it gave bad result:\n",
        "    Due to the fact that Keras Tuner asks us to pass a function that identifies the hyperparameters that it must tune while simultaneously creating the model.\n",
        "    I used tuner Random search because one way to find the optimal parameters is to try every possible combinations of the available parameters [Grid Search], but the number of combinations would increase exponentially as the number of hyperparameters increases. Trying all the combinations one by one takes longer to explore the hyperparameter space. Random search helps to explore more hyperparameter space in less time as compared to Grid Search.\n",
        "    It takes model-building function as a parameter.\n",
        "    max_trail:This figure represents the total number of hyperparameter combinations that will be tested or used to determine which one works best.\n",
        "    execution_per_trail:It informs the tuner how many times a particular combination must be used in order to evaluate how well it performs against the target.\n",
        "    directory:helps us to avoid the error in rerun\n",
        "\n",
        "After that Start tuning using tuner.search()\n",
        "Finally Get optimal hyperparameters and models from the tuner\n",
        "\n",
        "The accuracy of the new model was 0.2 so I tried to build a model by my self (Randomly) and I get Accuracy 0.6 so I kept the model with the better accuracy and as the fine tunning by keras did not show good result I deleted it."
      ],
      "metadata": {
        "id": "hisa4bzBwGfk"
      }
    },
    {
      "cell_type": "markdown",
      "source": [
        "# Task 2: CNN (40%)\n",
        "For this task, you will be doing image classification:\n",
        "- First, adapt your best model from Task 1 to work on this task, and\n",
        "fit it on the new data. Then, evaluate its performance.\n",
        "- After that, build a CNN model for image classification.\n",
        "- Compare both models in terms of accuracy, number of parameters and speed of\n",
        "inference (the time the model takes to predict 50 samples).\n",
        "\n",
        "For the given data, you need to do proper data preprocessing and augmentation,\n",
        "data loaders.\n",
        "Then fine-tune your model architecture (number of layers, number of filters,\n",
        "activation function, learning rate, momentum, regularization).\n",
        "\n",
        "### Data\n",
        "You will be working with the data in `triple_mnist.zip` for predicting 3-digit\n",
        "numbers writen in the image. Each image contains 3 digits similar to the\n",
        "following example (whose label is `039`):\n",
        "\n",
        "![example](https://github.com/shaohua0116/MultiDigitMNIST/blob/master/asset/examples/039/0_039.png?raw=true)"
      ],
      "metadata": {
        "id": "zH4rwImnjp1z"
      }
    },
    {
      "cell_type": "code",
      "execution_count": 83,
      "metadata": {
        "id": "BqG70j1meFKZ"
      },
      "outputs": [],
      "source": [
        "import numpy as np\n",
        "import cv2\n",
        "import matplotlib.pyplot as plt\n",
        "from scipy import ndimage\n",
        "import tensorflow as tf\n",
        "import matplotlib.pyplot as plt\n",
        "import matplotlib.image as image\n",
        "from tensorflow import keras\n",
        "from tensorflow.keras import datasets, layers, models, losses\n",
        "import numpy as np"
      ]
    },
    {
      "cell_type": "code",
      "execution_count": 84,
      "metadata": {
        "id": "Xgmhdwwule_X"
      },
      "outputs": [],
      "source": [
        "# this function is to split one image to 3 images each one has one digit\n",
        "# I used simple algorithm after I noticed that the image has a lot of zero pixels\n",
        "# I notices also that the image can always be splited in width \n",
        "# I created and I idea which is there is always a comlumn with fully zeros pixels between the digits\n",
        "# so I started check on every comlumn if it is full with zeros or not and if this column is between the digits or not\n",
        "# and I took the index of any column that is between the digits and has full zero pixels\n",
        "# then I got two indexes and I split the image to three smaller images by the indexes that I has \n",
        "# the height of the image still the same but I has to make the width of images that I got equal to the original image\n",
        "# so I used padding\n",
        "# the funtuntion return three images each of them has one digit   \n",
        "def convert_one_to_three_images(image_matrix):\n",
        "  # fold and pre and check only variables helped me to find the indexes\n",
        "  # index1 is the index of the comlumn that split the first digit from the second\n",
        "  # index2 is the index of the comlumn that split the second digit from the third\n",
        "  fold = 0\n",
        "  pre = 0\n",
        "  idx1 = -1\n",
        "  idx2 = -1\n",
        "  for i in range(84):\n",
        "    check = 0\n",
        "    for j in range(84):     #this for loop to find if the column has number greater of zero or not\n",
        "      if image_matrix[j][i] != 0:\n",
        "        check=1\n",
        "        break\n",
        "    if check == 0:\n",
        "      if fold == 0:         \n",
        "        continue            # here it mean that we still before the first digit\n",
        "      elif fold == 1:\n",
        "        idx1 = i            # here it mean that we finished from the first digit and arrived to the first split\n",
        "        fold += 1\n",
        "        pre=0\n",
        "      elif fold == 2:\n",
        "        continue            # her it mean that we are between the first and second digit but we already got index1\n",
        "      elif fold == 3:\n",
        "        idx2 = i            # here it mean that we finished from the second digit and arrived to the third split\n",
        "        break\n",
        "    else:\n",
        "      if pre == 0:          # here we are in digit zone \n",
        "        fold += 1\n",
        "        pre = 1\n",
        "  # after getting the indexs I split the main images to three smaller images\n",
        "  image1 = image_matrix[0:84,0:idx1] \n",
        "  image2 = image_matrix[0:84,idx1+1:idx2]\n",
        "  image3 = image_matrix[0:84,idx2+1:84]\n",
        "  # now I do padding to the images \n",
        "  image1 = np.pad(image1, [(0, 0), (0, 84-image1.shape[1])], mode='constant')\n",
        "  image2 = np.pad(image2, [(0, 0), (0, 84-image2.shape[1])], mode='constant')\n",
        "  image3 = np.pad(image3, [(0, 0), (0, 84-image3.shape[1])], mode='constant')\n",
        "  return image1, image2, image3"
      ]
    },
    {
      "cell_type": "code",
      "execution_count": 85,
      "metadata": {
        "id": "K8-8jfHWuUNp"
      },
      "outputs": [],
      "source": [
        "#take 5 min to load the data\n",
        "import os\n",
        "import cv2\n",
        "\n",
        "train_data_directory = \"/content/triple_mnist/train\"\n",
        "test_dir = \"/content/triple_mnist/test\"\n",
        "val_dir = \"/content/triple_mnist/val\"\n",
        "labels = []\n",
        "train_data_list = []\n",
        "test_data_list = []\n",
        "val_data_list = []\n",
        "for i in range (0,10):\n",
        "    for j in range (0,10):\n",
        "        for k in range (0,10):\n",
        "            labels.append(\"{}{}{}\".format(i,j,k))\n",
        "\n",
        "def split(label):\n",
        "    num = []\n",
        "    for i in label:\n",
        "        num.append(i)\n",
        "    number1 = num[0]\n",
        "    number2 = num[1]\n",
        "    number3 = num[2]\n",
        "    return number1, number2, number3\n",
        "def create_train_DATA():\n",
        "    for label in labels:\n",
        "        path = os.path.join(train_data_directory, label)\n",
        "        try:\n",
        "            for img in os.listdir(path):\n",
        "                try:\n",
        "                    img_arr = cv2.imread(os.path.join(path, img), cv2.IMREAD_GRAYSCALE)\n",
        "                    image1 , image2, image3 = convert_one_to_three_images(img_arr)\n",
        "                    number1 ,number2 , number3 = split(str(label))\n",
        "                    train_data_list.append([image1,int(number1)])\n",
        "                    train_data_list.append([image2,int(number2)])\n",
        "                    train_data_list.append([image3,int(number3)])\n",
        "                except Exception as e:\n",
        "                    pass\n",
        "        except Exception as e:\n",
        "                    pass\n",
        "            \n",
        "def create_test_DATA():\n",
        "    for label in labels:\n",
        "        path = os.path.join(test_dir, label)\n",
        "        try:\n",
        "            for img in os.listdir(path):\n",
        "                try:\n",
        "                    img_arr = cv2.imread(os.path.join(path, img), cv2.IMREAD_GRAYSCALE)\n",
        "                    image1 , image2, image3 = convert_one_to_three_images(img_arr)\n",
        "                    number1 ,number2 , number3 = split(str(label))\n",
        "                    test_data_list.append([image1,int(number1)])\n",
        "                    test_data_list.append([image2,int(number2)])\n",
        "                    test_data_list.append([image3,int(number3)])\n",
        "                except Exception as e:\n",
        "                    pass\n",
        "        except Exception as e:\n",
        "                    pass\n",
        "\n",
        "def create_val_DATA():\n",
        "    for label in labels:\n",
        "        path = os.path.join(val_dir, label)\n",
        "        try:\n",
        "            for img in os.listdir(path):\n",
        "                try:\n",
        "                    img_arr = cv2.imread(os.path.join(path, img), cv2.IMREAD_GRAYSCALE)\n",
        "                    image1 , image2, image3 = convert_one_to_three_images(img_arr)\n",
        "                    number1 ,number2 , number3 = split(str(label))\n",
        "                    val_data_list.append([image1,int(number1)])\n",
        "                    val_data_list.append([image2,int(number2)])\n",
        "                    val_data_list.append([image3,int(number3)])\n",
        "                except Exception as e:\n",
        "                    pass\n",
        "        except Exception as e:\n",
        "                    pass\n",
        "    \n",
        "create_train_DATA()\n",
        "create_test_DATA()\n",
        "create_val_DATA()"
      ]
    },
    {
      "cell_type": "code",
      "execution_count": 86,
      "metadata": {
        "id": "r7Vr9rsJuNhx"
      },
      "outputs": [],
      "source": [
        "# Model / data parameters\n",
        "number_classes = 10\n",
        "input_inshape = (84, 84, 1)"
      ]
    },
    {
      "cell_type": "code",
      "execution_count": 87,
      "metadata": {
        "id": "7JqKmkh0yA-b"
      },
      "outputs": [],
      "source": [
        "import random\n",
        "random.shuffle(train_data_list)\n",
        "x_train = []\n",
        "y_train = []\n",
        "for X, y in train_data_list:\n",
        "    x_train.append(X)\n",
        "    y_train.append(y)\n",
        "    \n",
        "x_test = []\n",
        "y_test = []\n",
        "for X, y in test_data_list:\n",
        "    x_test.append(X)\n",
        "    y_test.append(y)\n",
        "    \n",
        "x_val = []\n",
        "y_val = []\n",
        "for X, y in val_data_list:\n",
        "    x_val.append(X)\n",
        "    y_val.append(y)"
      ]
    },
    {
      "cell_type": "code",
      "execution_count": 88,
      "metadata": {
        "colab": {
          "base_uri": "https://localhost:8080/"
        },
        "id": "hH8FX4u5-flb",
        "outputId": "286f7cc8-5933-4f93-f08e-df125a146248"
      },
      "outputs": [
        {
          "output_type": "execute_result",
          "data": {
            "text/plain": [
              "array([[0, 0, 0, ..., 0, 0, 0],\n",
              "       [0, 0, 0, ..., 0, 0, 0],\n",
              "       [0, 0, 0, ..., 0, 0, 0],\n",
              "       ...,\n",
              "       [0, 0, 0, ..., 0, 0, 0],\n",
              "       [0, 0, 0, ..., 0, 0, 0],\n",
              "       [0, 0, 0, ..., 0, 0, 0]], dtype=uint8)"
            ]
          },
          "metadata": {},
          "execution_count": 88
        }
      ],
      "source": [
        "x_train[0]"
      ]
    },
    {
      "cell_type": "code",
      "execution_count": 89,
      "metadata": {
        "colab": {
          "base_uri": "https://localhost:8080/"
        },
        "id": "ZcjpnHPV-fld",
        "outputId": "8d01102a-4010-4aca-b4e4-dda497b02d04"
      },
      "outputs": [
        {
          "output_type": "execute_result",
          "data": {
            "text/plain": [
              "(192000, 84, 84)"
            ]
          },
          "metadata": {},
          "execution_count": 89
        }
      ],
      "source": [
        "x_train = np.array(x_train)\n",
        "y_train = np.array(y_train)\n",
        "x_test = np.array(x_test)\n",
        "y_test = np.array(y_test)\n",
        "x_val = np.array(x_val)\n",
        "y_val = np.array(y_val)\n",
        "x_train.shape"
      ]
    },
    {
      "cell_type": "code",
      "source": [
        "print(y_train.shape)"
      ],
      "metadata": {
        "colab": {
          "base_uri": "https://localhost:8080/"
        },
        "id": "zfYTH2ZfuRhV",
        "outputId": "7f31ab19-5e98-4601-dc0b-f6f231f82eac"
      },
      "execution_count": 90,
      "outputs": [
        {
          "output_type": "stream",
          "name": "stdout",
          "text": [
            "(192000,)\n"
          ]
        }
      ]
    },
    {
      "cell_type": "code",
      "execution_count": 91,
      "metadata": {
        "id": "VWaYvxpx-fle"
      },
      "outputs": [],
      "source": [
        "# convert class vectors to binary class matrices\n",
        "y_train = keras.utils.to_categorical(y_train, number_classes)\n",
        "y_test = keras.utils.to_categorical(y_test, number_classes)\n",
        "y_val = keras.utils.to_categorical(y_val, number_classes)"
      ]
    },
    {
      "cell_type": "code",
      "source": [
        "# ANN for minist data\n",
        "model_ANN2 = get_model(7056, 10, \"categorical_crossentropy\")\n",
        "history_ANN2 = model_ANN2.fit(x_train.reshape(-1,7056), y_train, verbose=1, epochs=3)\n"
      ],
      "metadata": {
        "colab": {
          "base_uri": "https://localhost:8080/"
        },
        "id": "QanFEcgfOn12",
        "outputId": "a9cc87a3-8d0b-434d-d57a-730b8e78d234"
      },
      "execution_count": 92,
      "outputs": [
        {
          "output_type": "stream",
          "name": "stdout",
          "text": [
            "Epoch 1/3\n",
            "6000/6000 [==============================] - 18s 3ms/step - loss: 8.0204 - accuracy: 0.1005\n",
            "Epoch 2/3\n",
            "6000/6000 [==============================] - 19s 3ms/step - loss: 7.9941 - accuracy: 0.1017\n",
            "Epoch 3/3\n",
            "6000/6000 [==============================] - 22s 4ms/step - loss: nan - accuracy: 0.0995\n"
          ]
        }
      ]
    },
    {
      "cell_type": "code",
      "source": [
        "score = model_ANN2.evaluate(x_test.reshape(-1,7056), y_test, verbose=1)\n",
        "print(\"Test loss of ANN with minist dataset:\", score[0])\n",
        "print(\"Test accuracy of ANN with minist dataset:\", score[1])"
      ],
      "metadata": {
        "colab": {
          "base_uri": "https://localhost:8080/",
          "height": 209
        },
        "id": "ZaT1kvwdXcf1",
        "outputId": "2c76bbf4-b6c0-4cc4-a6e9-e356c980b799"
      },
      "execution_count": 2,
      "outputs": [
        {
          "output_type": "error",
          "ename": "NameError",
          "evalue": "ignored",
          "traceback": [
            "\u001b[0;31m---------------------------------------------------------------------------\u001b[0m",
            "\u001b[0;31mNameError\u001b[0m                                 Traceback (most recent call last)",
            "\u001b[0;32m<ipython-input-2-086b81e54daf>\u001b[0m in \u001b[0;36m<module>\u001b[0;34m\u001b[0m\n\u001b[0;32m----> 1\u001b[0;31m \u001b[0mscore\u001b[0m \u001b[0;34m=\u001b[0m \u001b[0mmodel_ANN2\u001b[0m\u001b[0;34m.\u001b[0m\u001b[0mevaluate\u001b[0m\u001b[0;34m(\u001b[0m\u001b[0mx_test\u001b[0m\u001b[0;34m.\u001b[0m\u001b[0mreshape\u001b[0m\u001b[0;34m(\u001b[0m\u001b[0;34m-\u001b[0m\u001b[0;36m1\u001b[0m\u001b[0;34m,\u001b[0m\u001b[0;36m7056\u001b[0m\u001b[0;34m)\u001b[0m\u001b[0;34m,\u001b[0m \u001b[0my_test\u001b[0m\u001b[0;34m,\u001b[0m \u001b[0mverbose\u001b[0m\u001b[0;34m=\u001b[0m\u001b[0;36m1\u001b[0m\u001b[0;34m)\u001b[0m\u001b[0;34m\u001b[0m\u001b[0;34m\u001b[0m\u001b[0m\n\u001b[0m\u001b[1;32m      2\u001b[0m \u001b[0mprint\u001b[0m\u001b[0;34m(\u001b[0m\u001b[0;34m\"Test loss of ANN with minist dataset:\"\u001b[0m\u001b[0;34m,\u001b[0m \u001b[0mscore\u001b[0m\u001b[0;34m[\u001b[0m\u001b[0;36m0\u001b[0m\u001b[0;34m]\u001b[0m\u001b[0;34m)\u001b[0m\u001b[0;34m\u001b[0m\u001b[0;34m\u001b[0m\u001b[0m\n\u001b[1;32m      3\u001b[0m \u001b[0mprint\u001b[0m\u001b[0;34m(\u001b[0m\u001b[0;34m\"Test accuracy of ANN with minist dataset:\"\u001b[0m\u001b[0;34m,\u001b[0m \u001b[0mscore\u001b[0m\u001b[0;34m[\u001b[0m\u001b[0;36m1\u001b[0m\u001b[0;34m]\u001b[0m\u001b[0;34m)\u001b[0m\u001b[0;34m\u001b[0m\u001b[0;34m\u001b[0m\u001b[0m\n",
            "\u001b[0;31mNameError\u001b[0m: name 'model_ANN2' is not defined"
          ]
        }
      ]
    },
    {
      "cell_type": "code",
      "execution_count": 19,
      "metadata": {
        "id": "tT7lwuPVyn-C",
        "colab": {
          "base_uri": "https://localhost:8080/"
        },
        "outputId": "f72d0afa-0b0e-452c-9439-0dc33694728f"
      },
      "outputs": [
        {
          "output_type": "stream",
          "name": "stdout",
          "text": [
            "Model: \"sequential_2\"\n",
            "_________________________________________________________________\n",
            " Layer (type)                Output Shape              Param #   \n",
            "=================================================================\n",
            " conv2d (Conv2D)             (None, 82, 82, 32)        320       \n",
            "                                                                 \n",
            " max_pooling2d (MaxPooling2D  (None, 41, 41, 32)       0         \n",
            " )                                                               \n",
            "                                                                 \n",
            " conv2d_1 (Conv2D)           (None, 39, 39, 64)        18496     \n",
            "                                                                 \n",
            " max_pooling2d_1 (MaxPooling  (None, 19, 19, 64)       0         \n",
            " 2D)                                                             \n",
            "                                                                 \n",
            " flatten (Flatten)           (None, 23104)             0         \n",
            "                                                                 \n",
            " dense_8 (Dense)             (None, 10)                231050    \n",
            "                                                                 \n",
            "=================================================================\n",
            "Total params: 249,866\n",
            "Trainable params: 249,866\n",
            "Non-trainable params: 0\n",
            "_________________________________________________________________\n"
          ]
        }
      ],
      "source": [
        "# implement the CNN model with the given architecture above\n",
        "model = keras.Sequential(\n",
        "    [\n",
        "        keras.Input(shape=input_inshape),\n",
        "        layers.Conv2D(32, kernel_size=(3, 3), activation=\"relu\"),\n",
        "        layers.MaxPooling2D(pool_size=(2, 2)),\n",
        "        layers.Conv2D(64, kernel_size=(3, 3), activation=\"relu\"),\n",
        "        layers.MaxPooling2D(pool_size=(2, 2)),\n",
        "        layers.Flatten(),\n",
        "        layers.Dense(number_classes, activation=\"softmax\"),\n",
        "    ]\n",
        ")\n",
        "\n",
        "model.summary()"
      ]
    },
    {
      "cell_type": "code",
      "execution_count": null,
      "metadata": {
        "id": "Hf5dgtRry02i"
      },
      "outputs": [],
      "source": [
        "batch_size = 128\n",
        "epochs = 5\n",
        "# todo: write one line of code to compile the model with:\n",
        "#   - the categorical_crossentropy loss function\n",
        "#   - use adam as optimizer\n",
        "#   - use 'accuracy' as metrics\n",
        "\n",
        "model.compile(loss=\"categorical_crossentropy\", optimizer=\"adam\", metrics=[\"accuracy\"])\n",
        "\n",
        "# todo: write one line of code to train the model:\n",
        "#   - set the size of the batch size\n",
        "#   - also, set train / validation dataset split as 90 / 10\n",
        "\n",
        "history = model.fit(x_train, y_train, batch_size=batch_size, epochs=epochs, validation_data=(x_val,y_val))\n"
      ]
    },
    {
      "cell_type": "code",
      "execution_count": 21,
      "metadata": {
        "id": "vdvQtEKdy2-6",
        "colab": {
          "base_uri": "https://localhost:8080/",
          "height": 295
        },
        "outputId": "53b22086-26de-4028-9321-8fada1075f95"
      },
      "outputs": [
        {
          "output_type": "display_data",
          "data": {
            "text/plain": [
              "<Figure size 432x288 with 1 Axes>"
            ],
            "image/png": "[encoded data removed]"
          },
          "metadata": {
            "needs_background": "light"
          }
        }
      ],
      "source": [
        "plt.plot(history.history['loss'])\n",
        "plt.plot(history.history['val_loss'])\n",
        "plt.title('model loss')\n",
        "plt.ylabel('loss')\n",
        "plt.xlabel('epoch')\n",
        "plt.legend(['train', 'val'], loc='upper left')\n",
        "plt.show()"
      ]
    },
    {
      "cell_type": "code",
      "execution_count": 22,
      "metadata": {
        "id": "3pnrGEI3y501",
        "colab": {
          "base_uri": "https://localhost:8080/",
          "height": 295
        },
        "outputId": "85fbc8d6-dd3d-44cf-cad7-1ba152d814ba"
      },
      "outputs": [
        {
          "output_type": "display_data",
          "data": {
            "text/plain": [
              "<Figure size 432x288 with 1 Axes>"
            ],
            "image/png": "[encoded data removed]"
          },
          "metadata": {
            "needs_background": "light"
          }
        }
      ],
      "source": [
        "plt.plot(history.history['accuracy'])\n",
        "plt.plot(history.history['val_accuracy'])\n",
        "plt.title('model accuracy')\n",
        "plt.ylabel('accuracy')\n",
        "plt.xlabel('epoch')\n",
        "plt.legend(['train', 'val'], loc='upper left')\n",
        "plt.show()"
      ]
    },
    {
      "cell_type": "code",
      "execution_count": 24,
      "metadata": {
        "id": "Xyl5wEy-y7Yb",
        "colab": {
          "base_uri": "https://localhost:8080/"
        },
        "outputId": "31da4695-048d-4292-b2a7-487d63ead7e4"
      },
      "outputs": [
        {
          "output_type": "stream",
          "name": "stdout",
          "text": [
            "1875/1875 [==============================] - 11s 6ms/step - loss: 0.2202 - accuracy: 0.9473\n",
            "Test loss: 0.22022800147533417\n",
            "OMG Test accuracy: 0.9472500085830688\n"
          ]
        }
      ],
      "source": [
        "score = model.evaluate(x_test, y_test, verbose=1)\n",
        "print(\"Test loss:\", score[0])\n",
        "print(\"OMG Test accuracy:\", score[1])"
      ]
    },
    {
      "cell_type": "markdown",
      "source": [
        "### Questions\n",
        "1. What preprocessing techniques did you use? Why?\n",
        "    -  I made a function to split one image to 3 images each one has one digit, I used simple (prefix sum without summing) algorithm after I noticed that the image has a lot of zero pixels, I notices also that the image can always be splited in width, so i created and I idea which is there is always a comlumn with fully zeros pixels between the digits,so I started check on every comlumn if it is full with zeros or not and if this column is between the digits or not, and I took the index of any column that is between the digits and has full zero pixels. finally I got two indexes and I split the image to three smaller images by the indexes that I has. the height of the image still the same but I have to make the width of images equal to the original image so I used padding the funtuntion return three images each of them has one digit.\n",
        "\n",
        "![image.png](data:image/png;base64,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)  \n",
        "2. What data augmentation techniques did you use?\n",
        "    - I used convert to gray scale and padding technques after splitting the images\n",
        "3. Describe the fine-tuning process and how you reached your final CNN model.\n",
        "    - With fine-tuning, I first changed the last layer to match the output in our dataset. But besides, we also retrain the layers of the network that we want.\n",
        "    and every thing else as finetuning the last task"
      ],
      "metadata": {
        "id": "AO4KXSuiwQpO"
      }
    },
    {
      "cell_type": "markdown",
      "source": [
        "# Task 4: Domain Gap (15%)\n",
        "\n",
        "Evaluate your CNN model from task 2 on SVHN data without retraining your model."
      ],
      "metadata": {
        "id": "b5nM1CfGoZrT"
      }
    },
    {
      "cell_type": "code",
      "execution_count": 25,
      "metadata": {
        "colab": {
          "base_uri": "https://localhost:8080/"
        },
        "id": "z3e46ao1-flj",
        "outputId": "fd4e1e93-7caa-487a-8432-af9323bd4459"
      },
      "outputs": [
        {
          "output_type": "stream",
          "name": "stdout",
          "text": [
            "Archive:  /content/drive/MyDrive/svhn.zip\n",
            "   creating: svhn/\n",
            " extracting: svhn/111.png            \n",
            " extracting: svhn/113.png            \n",
            " extracting: svhn/114.png            \n",
            " extracting: svhn/116.png            \n",
            "  inflating: svhn/120.png            \n",
            " extracting: svhn/124.png            \n",
            " extracting: svhn/128.png            \n",
            "  inflating: svhn/129.png            \n",
            "  inflating: svhn/130.png            \n",
            " extracting: svhn/132.png            \n",
            " extracting: svhn/136.png            \n",
            " extracting: svhn/138.png            \n",
            " extracting: svhn/140.png            \n",
            " extracting: svhn/144.png            \n",
            " extracting: svhn/148.png            \n",
            " extracting: svhn/150.png            \n",
            " extracting: svhn/151.png            \n",
            " extracting: svhn/153.png            \n",
            " extracting: svhn/157.png            \n",
            "  inflating: svhn/158.png            \n",
            " extracting: svhn/159.png            \n",
            " extracting: svhn/164.png            \n",
            " extracting: svhn/165.png            \n",
            " extracting: svhn/166.png            \n",
            " extracting: svhn/171.png            \n",
            " extracting: svhn/174.png            \n",
            " extracting: svhn/176.png            \n",
            " extracting: svhn/178.png            \n",
            " extracting: svhn/187.png            \n",
            " extracting: svhn/188.png            \n",
            "  inflating: svhn/191.png            \n",
            "  inflating: svhn/193.png            \n",
            " extracting: svhn/195.png            \n",
            " extracting: svhn/200.png            \n",
            " extracting: svhn/203.png            \n",
            " extracting: svhn/204.png            \n",
            "  inflating: svhn/205.png            \n",
            " extracting: svhn/208.png            \n",
            " extracting: svhn/209.png            \n",
            " extracting: svhn/215.png            \n",
            " extracting: svhn/218.png            \n",
            " extracting: svhn/220.png            \n",
            " extracting: svhn/222.png            \n",
            " extracting: svhn/241.png            \n",
            "  inflating: svhn/251.png            \n",
            " extracting: svhn/255.png            \n",
            " extracting: svhn/256.png            \n",
            " extracting: svhn/261.png            \n",
            " extracting: svhn/266.png            \n",
            " extracting: svhn/282.png            \n",
            " extracting: svhn/286.png            \n",
            "  inflating: svhn/289.png            \n",
            " extracting: svhn/290.png            \n",
            " extracting: svhn/292.png            \n",
            " extracting: svhn/297.png            \n",
            " extracting: svhn/304.png            \n",
            " extracting: svhn/307.png            \n",
            " extracting: svhn/308.png            \n",
            "  inflating: svhn/315.png            \n",
            " extracting: svhn/316.png            \n",
            " extracting: svhn/318.png            \n",
            " extracting: svhn/323.png            \n",
            "  inflating: svhn/327.png            \n",
            "  inflating: svhn/328.png            \n",
            " extracting: svhn/353.png            \n",
            " extracting: svhn/355.png            \n",
            "  inflating: svhn/380.png            \n",
            " extracting: svhn/402.png            \n",
            "  inflating: svhn/410.png            \n",
            " extracting: svhn/419.png            \n",
            " extracting: svhn/421.png            \n",
            " extracting: svhn/460.png            \n",
            "  inflating: svhn/464.png            \n",
            "  inflating: svhn/505.png            \n",
            " extracting: svhn/513.png            \n",
            " extracting: svhn/515.png            \n",
            " extracting: svhn/542.png            \n",
            " extracting: svhn/553.png            \n",
            " extracting: svhn/568.png            \n",
            "  inflating: svhn/570.png            \n",
            " extracting: svhn/638.png            \n",
            " extracting: svhn/658.png            \n",
            " extracting: svhn/701.png            \n",
            " extracting: svhn/708.png            \n",
            " extracting: svhn/739.png            \n",
            " extracting: svhn/744.png            \n",
            " extracting: svhn/750.png            \n",
            " extracting: svhn/754.png            \n",
            " extracting: svhn/817.png            \n",
            " extracting: svhn/840.png            \n",
            " extracting: svhn/910.png            \n",
            " extracting: svhn/995.png            \n"
          ]
        }
      ],
      "source": [
        "# I unziped the svhn.zip\n",
        "!unzip /content/drive/MyDrive/svhn.zip"
      ]
    },
    {
      "cell_type": "code",
      "source": [
        "test_data_dir_svhn = \"/content/svhn\"\n",
        "test_data_svhn = []\n",
        "def create_test_for_svhn():\n",
        "  for img in os.listdir(test_data_dir_svhn):\n",
        "          img_arr = cv2.imread(os.path.join(test_data_dir_svhn, img), cv2.IMREAD_GRAYSCALE)\n",
        "          img_arr.resize(84,84)\n",
        "          image1 , image2, image3 = convert_one_to_three_images(img_arr)\n",
        "          number1 ,number2 , number3 = split(str(img[0:4]))\n",
        "          test_data_svhn.append([image1,int(number1)])\n",
        "          test_data_svhn.append([image2,int(number2)])\n",
        "          test_data_svhn.append([image3,int(number3)])\n",
        "create_test_for_svhn()\n",
        "x_test_svhn = []\n",
        "y_test_svhn = []\n",
        "for features, label in test_data_svhn:\n",
        "    x_test_svhn.append(features)\n",
        "    y_test_svhn.append(label)\n",
        "x_test_svhn = np.array(x_test_svhn)/255.0\n",
        "y_test_svhn = np.array(y_test_svhn)\n",
        "y_test_svhn = keras.utils.to_categorical(y_test_svhn, number_classes)   \n",
        "score = model.evaluate(x_test_svhn, y_test_svhn, verbose=1)\n",
        "print(\"Test loss:\", score[0])\n",
        "print(\"Test accuracy:\", score[1])\n",
        "print(x_test_svhn.shape)"
      ],
      "metadata": {
        "colab": {
          "base_uri": "https://localhost:8080/"
        },
        "id": "ziDBYzoTIJNB",
        "outputId": "c2918f58-9be0-4fc6-eb3c-3f2ef8cb9015"
      },
      "execution_count": 26,
      "outputs": [
        {
          "output_type": "stream",
          "name": "stdout",
          "text": [
            "9/9 [==============================] - 0s 15ms/step - loss: 2.6639 - accuracy: 0.2065\n",
            "Test loss: 2.6638596057891846\n",
            "Test accuracy: 0.20652173459529877\n",
            "(276, 84, 84)\n"
          ]
        }
      ]
    },
    {
      "cell_type": "markdown",
      "source": [
        "### Questions\n",
        "1. How did your model perform? Why is it better/worse?\n",
        "    - it perform very bad comparing to the previes model and that is because I did not split the images to three part effecianlty \n",
        "2. What is domain gap in the context of ML?\n",
        "    - *Deep domain adaptation enables us to move a specific DNN's knowledge from a source task to a new, connected target task. It has been used well in projects like picture classification and style transfer. In some ways, deep domain adaptation enables us to reduce the quantity of training data needed for a specific new computer vision task, bringing us closer to human-level performance. Therefore, I believe that advancement in this area will be essential to the field of computer vision as a whole, and I hope that it will eventually enable us to reuse knowledge across visual tasks in an efficient and straightforward manner.*\n",
        "3. Suggest two ways through which the problem of domain gap can be tackled.\n",
        "    - *Reducing Domain Gap by Reducing Style Bias*"
      ],
      "metadata": {
        "id": "X8rPgoIywcgM"
      }
    },
    {
      "cell_type": "markdown",
      "source": [
        "# Task 3: Decision Trees and Ensemble Learning (15%)\n",
        "\n",
        "For the `loan_data.csv` data, predict if the bank should give a loan or not.\n",
        "You need to do the following:\n",
        "- Fine-tune a decision tree on the data\n",
        "- Fine-tune a random forest on the data\n",
        "- Compare their performance\n",
        "- Visualize your DT and one of the trees from the RF\n",
        "\n",
        "For evaluating your models, do $80/20$ train test split.\n",
        "\n",
        "### Data\n",
        "- `credit.policy`: Whether the customer meets the credit underwriting criteria.\n",
        "- `purpose`: The purpose of the loan.\n",
        "- `int.rate`: The interest rate of the loan.\n",
        "- `installment`: The monthly installments owed by the borrower if the loan is funded.\n",
        "- `log.annual.inc`: The natural logarithm of the self-reported annual income of the borrower.\n",
        "- `dti`: The debt-to-income ratio of the borrower.\n",
        "- `fico`: The FICO credit score of the borrower.\n",
        "- `days.with.cr.line`: The number of days the borrower has had a credit line.\n",
        "- `revol.bal`: The borrower's revolving balance.\n",
        "- `revol.util`: The borrower's revolving line utilization rate."
      ],
      "metadata": {
        "id": "74LBYVnNozSz"
      }
    },
    {
      "cell_type": "code",
      "source": [
        "import numpy as np\n",
        "import pandas as pd\n",
        "import matplotlib.pyplot as plt\n",
        "import seaborn as sns\n",
        "import warnings\n",
        "%matplotlib inline\n",
        "sns.set_style(\"darkgrid\")\n",
        "warnings.filterwarnings('ignore')\n",
        "loans = pd.read_csv('loan_data.csv')\n",
        "loans.info()\n",
        "cat_feats = ['purpose']\n",
        "final_data = pd.get_dummies(loans, columns = cat_feats, drop_first = True)\n",
        "final_data.head()"
      ],
      "metadata": {
        "colab": {
          "base_uri": "https://localhost:8080/",
          "height": 658
        },
        "id": "bpCA5-r5Na2N",
        "outputId": "16e26cb2-2adc-4efa-866e-77c6b5b50e12"
      },
      "execution_count": 53,
      "outputs": [
        {
          "output_type": "stream",
          "name": "stdout",
          "text": [
            "<class 'pandas.core.frame.DataFrame'>\n",
            "RangeIndex: 9578 entries, 0 to 9577\n",
            "Data columns (total 14 columns):\n",
            " #   Column             Non-Null Count  Dtype  \n",
            "---  ------             --------------  -----  \n",
            " 0   credit.policy      9578 non-null   int64  \n",
            " 1   purpose            9578 non-null   object \n",
            " 2   int.rate           9578 non-null   float64\n",
            " 3   installment        9578 non-null   float64\n",
            " 4   log.annual.inc     9578 non-null   float64\n",
            " 5   dti                9578 non-null   float64\n",
            " 6   fico               9578 non-null   int64  \n",
            " 7   days.with.cr.line  9578 non-null   float64\n",
            " 8   revol.bal          9578 non-null   int64  \n",
            " 9   revol.util         9578 non-null   float64\n",
            " 10  inq.last.6mths     9578 non-null   int64  \n",
            " 11  delinq.2yrs        9578 non-null   int64  \n",
            " 12  pub.rec            9578 non-null   int64  \n",
            " 13  not.fully.paid     9578 non-null   int64  \n",
            "dtypes: float64(6), int64(7), object(1)\n",
            "memory usage: 1.0+ MB\n"
          ]
        },
        {
          "output_type": "execute_result",
          "data": {
            "text/plain": [
              "   credit.policy  int.rate  installment  log.annual.inc    dti  fico  \\\n",
              "0              1    0.1189       829.10       11.350407  19.48   737   \n",
              "1              1    0.1071       228.22       11.082143  14.29   707   \n",
              "2              1    0.1357       366.86       10.373491  11.63   682   \n",
              "3              1    0.1008       162.34       11.350407   8.10   712   \n",
              "4              1    0.1426       102.92       11.299732  14.97   667   \n",
              "\n",
              "   days.with.cr.line  revol.bal  revol.util  inq.last.6mths  delinq.2yrs  \\\n",
              "0        5639.958333      28854        52.1               0            0   \n",
              "1        2760.000000      33623        76.7               0            0   \n",
              "2        4710.000000       3511        25.6               1            0   \n",
              "3        2699.958333      33667        73.2               1            0   \n",
              "4        4066.000000       4740        39.5               0            1   \n",
              "\n",
              "   pub.rec  not.fully.paid  purpose_credit_card  purpose_debt_consolidation  \\\n",
              "0        0               0                    0                           1   \n",
              "1        0               0                    1                           0   \n",
              "2        0               0                    0                           1   \n",
              "3        0               0                    0                           1   \n",
              "4        0               0                    1                           0   \n",
              "\n",
              "   purpose_educational  purpose_home_improvement  purpose_major_purchase  \\\n",
              "0                    0                         0                       0   \n",
              "1                    0                         0                       0   \n",
              "2                    0                         0                       0   \n",
              "3                    0                         0                       0   \n",
              "4                    0                         0                       0   \n",
              "\n",
              "   purpose_small_business  \n",
              "0                       0  \n",
              "1                       0  \n",
              "2                       0  \n",
              "3                       0  \n",
              "4                       0  "
            ],
            "text/html": [
              "\n",
              "  <div id=\"df-08f2e0c0-560d-431c-a22a-255da999b575\">\n",
              "    <div class=\"colab-df-container\">\n",
              "      <div>\n",
              "<style scoped>\n",
              "    .dataframe tbody tr th:only-of-type {\n",
              "        vertical-align: middle;\n",
              "    }\n",
              "\n",
              "    .dataframe tbody tr th {\n",
              "        vertical-align: top;\n",
              "    }\n",
              "\n",
              "    .dataframe thead th {\n",
              "        text-align: right;\n",
              "    }\n",
              "</style>\n",
              "<table border=\"1\" class=\"dataframe\">\n",
              "  <thead>\n",
              "    <tr style=\"text-align: right;\">\n",
              "      <th></th>\n",
              "      <th>credit.policy</th>\n",
              "      <th>int.rate</th>\n",
              "      <th>installment</th>\n",
              "      <th>log.annual.inc</th>\n",
              "      <th>dti</th>\n",
              "      <th>fico</th>\n",
              "      <th>days.with.cr.line</th>\n",
              "      <th>revol.bal</th>\n",
              "      <th>revol.util</th>\n",
              "      <th>inq.last.6mths</th>\n",
              "      <th>delinq.2yrs</th>\n",
              "      <th>pub.rec</th>\n",
              "      <th>not.fully.paid</th>\n",
              "      <th>purpose_credit_card</th>\n",
              "      <th>purpose_debt_consolidation</th>\n",
              "      <th>purpose_educational</th>\n",
              "      <th>purpose_home_improvement</th>\n",
              "      <th>purpose_major_purchase</th>\n",
              "      <th>purpose_small_business</th>\n",
              "    </tr>\n",
              "  </thead>\n",
              "  <tbody>\n",
              "    <tr>\n",
              "      <th>0</th>\n",
              "      <td>1</td>\n",
              "      <td>0.1189</td>\n",
              "      <td>829.10</td>\n",
              "      <td>11.350407</td>\n",
              "      <td>19.48</td>\n",
              "      <td>737</td>\n",
              "      <td>5639.958333</td>\n",
              "      <td>28854</td>\n",
              "      <td>52.1</td>\n",
              "      <td>0</td>\n",
              "      <td>0</td>\n",
              "      <td>0</td>\n",
              "      <td>0</td>\n",
              "      <td>0</td>\n",
              "      <td>1</td>\n",
              "      <td>0</td>\n",
              "      <td>0</td>\n",
              "      <td>0</td>\n",
              "      <td>0</td>\n",
              "    </tr>\n",
              "    <tr>\n",
              "      <th>1</th>\n",
              "      <td>1</td>\n",
              "      <td>0.1071</td>\n",
              "      <td>228.22</td>\n",
              "      <td>11.082143</td>\n",
              "      <td>14.29</td>\n",
              "      <td>707</td>\n",
              "      <td>2760.000000</td>\n",
              "      <td>33623</td>\n",
              "      <td>76.7</td>\n",
              "      <td>0</td>\n",
              "      <td>0</td>\n",
              "      <td>0</td>\n",
              "      <td>0</td>\n",
              "      <td>1</td>\n",
              "      <td>0</td>\n",
              "      <td>0</td>\n",
              "      <td>0</td>\n",
              "      <td>0</td>\n",
              "      <td>0</td>\n",
              "    </tr>\n",
              "    <tr>\n",
              "      <th>2</th>\n",
              "      <td>1</td>\n",
              "      <td>0.1357</td>\n",
              "      <td>366.86</td>\n",
              "      <td>10.373491</td>\n",
              "      <td>11.63</td>\n",
              "      <td>682</td>\n",
              "      <td>4710.000000</td>\n",
              "      <td>3511</td>\n",
              "      <td>25.6</td>\n",
              "      <td>1</td>\n",
              "      <td>0</td>\n",
              "      <td>0</td>\n",
              "      <td>0</td>\n",
              "      <td>0</td>\n",
              "      <td>1</td>\n",
              "      <td>0</td>\n",
              "      <td>0</td>\n",
              "      <td>0</td>\n",
              "      <td>0</td>\n",
              "    </tr>\n",
              "    <tr>\n",
              "      <th>3</th>\n",
              "      <td>1</td>\n",
              "      <td>0.1008</td>\n",
              "      <td>162.34</td>\n",
              "      <td>11.350407</td>\n",
              "      <td>8.10</td>\n",
              "      <td>712</td>\n",
              "      <td>2699.958333</td>\n",
              "      <td>33667</td>\n",
              "      <td>73.2</td>\n",
              "      <td>1</td>\n",
              "      <td>0</td>\n",
              "      <td>0</td>\n",
              "      <td>0</td>\n",
              "      <td>0</td>\n",
              "      <td>1</td>\n",
              "      <td>0</td>\n",
              "      <td>0</td>\n",
              "      <td>0</td>\n",
              "      <td>0</td>\n",
              "    </tr>\n",
              "    <tr>\n",
              "      <th>4</th>\n",
              "      <td>1</td>\n",
              "      <td>0.1426</td>\n",
              "      <td>102.92</td>\n",
              "      <td>11.299732</td>\n",
              "      <td>14.97</td>\n",
              "      <td>667</td>\n",
              "      <td>4066.000000</td>\n",
              "      <td>4740</td>\n",
              "      <td>39.5</td>\n",
              "      <td>0</td>\n",
              "      <td>1</td>\n",
              "      <td>0</td>\n",
              "      <td>0</td>\n",
              "      <td>1</td>\n",
              "      <td>0</td>\n",
              "      <td>0</td>\n",
              "      <td>0</td>\n",
              "      <td>0</td>\n",
              "      <td>0</td>\n",
              "    </tr>\n",
              "  </tbody>\n",
              "</table>\n",
              "</div>\n",
              "      <button class=\"colab-df-convert\" onclick=\"convertToInteractive('df-08f2e0c0-560d-431c-a22a-255da999b575')\"\n",
              "              title=\"Convert this dataframe to an interactive table.\"\n",
              "              style=\"display:none;\">\n",
              "        \n",
              "  <svg xmlns=\"http://www.w3.org/2000/svg\" height=\"24px\"viewBox=\"0 0 24 24\"\n",
              "       width=\"24px\">\n",
              "    <path d=\"M0 0h24v24H0V0z\" fill=\"none\"/>\n",
              "    <path d=\"M18.56 5.44l.94 2.06.94-2.06 2.06-.94-2.06-.94-.94-2.06-.94 2.06-2.06.94zm-11 1L8.5 8.5l.94-2.06 2.06-.94-2.06-.94L8.5 2.5l-.94 2.06-2.06.94zm10 10l.94 2.06.94-2.06 2.06-.94-2.06-.94-.94-2.06-.94 2.06-2.06.94z\"/><path d=\"M17.41 7.96l-1.37-1.37c-.4-.4-.92-.59-1.43-.59-.52 0-1.04.2-1.43.59L10.3 9.45l-7.72 7.72c-.78.78-.78 2.05 0 2.83L4 21.41c.39.39.9.59 1.41.59.51 0 1.02-.2 1.41-.59l7.78-7.78 2.81-2.81c.8-.78.8-2.07 0-2.86zM5.41 20L4 18.59l7.72-7.72 1.47 1.35L5.41 20z\"/>\n",
              "  </svg>\n",
              "      </button>\n",
              "      \n",
              "  <style>\n",
              "    .colab-df-container {\n",
              "      display:flex;\n",
              "      flex-wrap:wrap;\n",
              "      gap: 12px;\n",
              "    }\n",
              "\n",
              "    .colab-df-convert {\n",
              "      background-color: #E8F0FE;\n",
              "      border: none;\n",
              "      border-radius: 50%;\n",
              "      cursor: pointer;\n",
              "      display: none;\n",
              "      fill: #1967D2;\n",
              "      height: 32px;\n",
              "      padding: 0 0 0 0;\n",
              "      width: 32px;\n",
              "    }\n",
              "\n",
              "    .colab-df-convert:hover {\n",
              "      background-color: #E2EBFA;\n",
              "      box-shadow: 0px 1px 2px rgba(60, 64, 67, 0.3), 0px 1px 3px 1px rgba(60, 64, 67, 0.15);\n",
              "      fill: #174EA6;\n",
              "    }\n",
              "\n",
              "    [theme=dark] .colab-df-convert {\n",
              "      background-color: #3B4455;\n",
              "      fill: #D2E3FC;\n",
              "    }\n",
              "\n",
              "    [theme=dark] .colab-df-convert:hover {\n",
              "      background-color: #434B5C;\n",
              "      box-shadow: 0px 1px 3px 1px rgba(0, 0, 0, 0.15);\n",
              "      filter: drop-shadow(0px 1px 2px rgba(0, 0, 0, 0.3));\n",
              "      fill: #FFFFFF;\n",
              "    }\n",
              "  </style>\n",
              "\n",
              "      <script>\n",
              "        const buttonEl =\n",
              "          document.querySelector('#df-08f2e0c0-560d-431c-a22a-255da999b575 button.colab-df-convert');\n",
              "        buttonEl.style.display =\n",
              "          google.colab.kernel.accessAllowed ? 'block' : 'none';\n",
              "\n",
              "        async function convertToInteractive(key) {\n",
              "          const element = document.querySelector('#df-08f2e0c0-560d-431c-a22a-255da999b575');\n",
              "          const dataTable =\n",
              "            await google.colab.kernel.invokeFunction('convertToInteractive',\n",
              "                                                     [key], {});\n",
              "          if (!dataTable) return;\n",
              "\n",
              "          const docLinkHtml = 'Like what you see? Visit the ' +\n",
              "            '<a target=\"_blank\" href=https://colab.research.google.com/notebooks/data_table.ipynb>data table notebook</a>'\n",
              "            + ' to learn more about interactive tables.';\n",
              "          element.innerHTML = '';\n",
              "          dataTable['output_type'] = 'display_data';\n",
              "          await google.colab.output.renderOutput(dataTable, element);\n",
              "          const docLink = document.createElement('div');\n",
              "          docLink.innerHTML = docLinkHtml;\n",
              "          element.appendChild(docLink);\n",
              "        }\n",
              "      </script>\n",
              "    </div>\n",
              "  </div>\n",
              "  "
            ]
          },
          "metadata": {},
          "execution_count": 53
        }
      ]
    },
    {
      "cell_type": "code",
      "source": [
        "from sklearn.model_selection import train_test_split\n",
        "from sklearn.tree import DecisionTreeClassifier\n",
        "from sklearn.metrics import confusion_matrix, classification_report\n",
        "X = final_data.drop('credit.policy', axis = 1)\n",
        "y = final_data['credit.policy']\n",
        "# Splitting the data to treain and test\n",
        "X_train, X_test, y_train, y_test = train_test_split(X, y, test_size = 0.2 , random_state= 101)\n"
      ],
      "metadata": {
        "id": "uGbUIz2FPZyd"
      },
      "execution_count": 54,
      "outputs": []
    },
    {
      "cell_type": "code",
      "source": [
        "import graphviz\n",
        "from sklearn import tree\n",
        "features = X.columns.tolist()\n",
        "target = 'credit.policy'\n",
        "def plot_tree(clf):\n",
        "    dot_data = tree.export_graphviz(clf, out_file=None,\n",
        "                       feature_names=features,\n",
        "                       class_names=target,\n",
        "                       filled=True, rounded=True,\n",
        "                       special_characters=True)\n",
        "    graph = graphviz.Source(dot_data)\n",
        "    return graph"
      ],
      "metadata": {
        "id": "m9LCg6GAslKt"
      },
      "execution_count": 65,
      "outputs": []
    },
    {
      "cell_type": "code",
      "source": [
        "from sklearn.tree import DecisionTreeClassifier\n",
        "dtree = DecisionTreeClassifier()\n",
        "dtree.fit(X_train, y_train)\n",
        "y_predict = dtree.predict(X_test)\n",
        "evaluate_model(dtree)"
      ],
      "metadata": {
        "id": "IeqhMP7AVKdG",
        "colab": {
          "base_uri": "https://localhost:8080/"
        },
        "outputId": "70ee81cc-5f87-49e8-ab1f-f9d1ddf1f66a"
      },
      "execution_count": 73,
      "outputs": [
        {
          "output_type": "stream",
          "name": "stdout",
          "text": [
            "Train Accuracy : 1.0\n",
            "Train Confusion Matrix:\n",
            "[[1501    0]\n",
            " [   0 6161]]\n",
            "--------------------------------------------------\n",
            "Test Accuracy : 0.9926931106471816\n",
            "Test Confusion Matrix:\n",
            "[[ 360    7]\n",
            " [   7 1542]]\n"
          ]
        }
      ]
    },
    {
      "cell_type": "code",
      "source": [
        "from sklearn.metrics import accuracy_score\n",
        "def evaluate_model(dt_classifier):\n",
        "    print(\"Train Accuracy :\", accuracy_score(y_train, dt_classifier.predict(X_train)))\n",
        "    print(\"Train Confusion Matrix:\")\n",
        "    print(confusion_matrix(y_train, dt_classifier.predict(X_train)))\n",
        "    print(\"-\"*50)\n",
        "    print(\"Test Accuracy :\", accuracy_score(y_test, dt_classifier.predict(X_test)))\n",
        "    print(\"Test Confusion Matrix:\")\n",
        "    print(confusion_matrix(y_test, dt_classifier.predict(X_test)))"
      ],
      "metadata": {
        "id": "EnGglvhlZaxn"
      },
      "execution_count": 36,
      "outputs": []
    },
    {
      "cell_type": "code",
      "source": [
        "dt_depth = DecisionTreeClassifier(max_depth=3)\n",
        "dt_depth.fit(X_train, y_train)\n",
        "evaluate_model(dt_depth)"
      ],
      "metadata": {
        "colab": {
          "base_uri": "https://localhost:8080/"
        },
        "id": "QqihNpkqdhFI",
        "outputId": "5eb6d79f-6ae7-4332-9824-6a0813a8b0eb"
      },
      "execution_count": 74,
      "outputs": [
        {
          "output_type": "stream",
          "name": "stdout",
          "text": [
            "Train Accuracy : 0.9697206995562516\n",
            "Train Confusion Matrix:\n",
            "[[1270  231]\n",
            " [   1 6160]]\n",
            "--------------------------------------------------\n",
            "Test Accuracy : 0.9686847599164927\n",
            "Test Confusion Matrix:\n",
            "[[ 308   59]\n",
            " [   1 1548]]\n"
          ]
        }
      ]
    },
    {
      "cell_type": "code",
      "source": [
        "dt_min_split = DecisionTreeClassifier(min_samples_split=30)\n",
        "dt_min_split.fit(X_train, y_train)\n",
        "evaluate_model(dt_min_split)"
      ],
      "metadata": {
        "colab": {
          "base_uri": "https://localhost:8080/"
        },
        "id": "NB0LgBY2dpFr",
        "outputId": "dba2790f-a9fc-4704-fa6e-81ac20055706"
      },
      "execution_count": 75,
      "outputs": [
        {
          "output_type": "stream",
          "name": "stdout",
          "text": [
            "Train Accuracy : 0.9947794309579744\n",
            "Train Confusion Matrix:\n",
            "[[1478   23]\n",
            " [  17 6144]]\n",
            "--------------------------------------------------\n",
            "Test Accuracy : 0.9926931106471816\n",
            "Test Confusion Matrix:\n",
            "[[ 361    6]\n",
            " [   8 1541]]\n"
          ]
        }
      ]
    },
    {
      "cell_type": "code",
      "source": [
        "dt_min_leaf = DecisionTreeClassifier(min_samples_leaf=20, random_state=42)\n",
        "dt_min_leaf.fit(X_train, y_train)\n",
        "evaluate_model(dt_min_leaf)"
      ],
      "metadata": {
        "colab": {
          "base_uri": "https://localhost:8080/"
        },
        "id": "3Ud35-W3d4lk",
        "outputId": "436c58bc-8684-496e-bda0-d9709f52fb80"
      },
      "execution_count": 61,
      "outputs": [
        {
          "output_type": "stream",
          "name": "stdout",
          "text": [
            "Train Accuracy : 0.9895588619159489\n",
            "Train Confusion Matrix:\n",
            "[[1450   51]\n",
            " [  29 6132]]\n",
            "--------------------------------------------------\n",
            "Test Accuracy : 0.9874739039665971\n",
            "Test Confusion Matrix:\n",
            "[[ 353   14]\n",
            " [  10 1539]]\n"
          ]
        }
      ]
    },
    {
      "cell_type": "code",
      "source": [
        "dt_min_leaf_entropy = DecisionTreeClassifier(min_samples_leaf=20, random_state=42, criterion=\"entropy\")\n",
        "dt_min_leaf_entropy.fit(X_train, y_train)\n",
        "evaluate_model(dt_min_leaf_entropy)"
      ],
      "metadata": {
        "colab": {
          "base_uri": "https://localhost:8080/"
        },
        "id": "Un1UBDxXeBFk",
        "outputId": "c5df4982-e6c6-43db-dfb0-9959177a61ed"
      },
      "execution_count": 62,
      "outputs": [
        {
          "output_type": "stream",
          "name": "stdout",
          "text": [
            "Train Accuracy : 0.9898198903680501\n",
            "Train Confusion Matrix:\n",
            "[[1447   54]\n",
            " [  24 6137]]\n",
            "--------------------------------------------------\n",
            "Test Accuracy : 0.9848643006263048\n",
            "Test Confusion Matrix:\n",
            "[[ 347   20]\n",
            " [   9 1540]]\n"
          ]
        }
      ]
    },
    {
      "cell_type": "code",
      "source": [
        "dt = DecisionTreeClassifier(random_state=42)\n",
        "from sklearn.model_selection import GridSearchCV\n",
        "params = {\n",
        "    'max_depth': [2, 3, 5, 10, 20],\n",
        "    'min_samples_leaf': [5, 10, 20, 50, 100],\n",
        "    'criterion': [\"gini\", \"entropy\"]\n",
        "}\n",
        "grid_search = GridSearchCV(estimator=dt, \n",
        "                           param_grid=params, \n",
        "                           cv=4, n_jobs=-1, verbose=1, scoring = \"accuracy\")\n",
        "grid_search.fit(X_train, y_train)\n",
        "score_df = pd.DataFrame(grid_search.cv_results_)\n",
        "score_df.head()"
      ],
      "metadata": {
        "colab": {
          "base_uri": "https://localhost:8080/",
          "height": 635
        },
        "id": "b3svI0JReIYc",
        "outputId": "d7f03a08-816d-4468-b254-f77bea36f66c"
      },
      "execution_count": 63,
      "outputs": [
        {
          "output_type": "stream",
          "name": "stdout",
          "text": [
            "Fitting 4 folds for each of 50 candidates, totalling 200 fits\n"
          ]
        },
        {
          "output_type": "execute_result",
          "data": {
            "text/plain": [
              "   mean_fit_time  std_fit_time  mean_score_time  std_score_time  \\\n",
              "0       0.024073      0.004244         0.003747        0.000866   \n",
              "1       0.021664      0.004963         0.003473        0.000199   \n",
              "2       0.016977      0.001622         0.003689        0.000174   \n",
              "3       0.016090      0.000607         0.003837        0.000166   \n",
              "4       0.016003      0.000507         0.003572        0.000095   \n",
              "\n",
              "  param_criterion param_max_depth param_min_samples_leaf  \\\n",
              "0            gini               2                      5   \n",
              "1            gini               2                     10   \n",
              "2            gini               2                     20   \n",
              "3            gini               2                     50   \n",
              "4            gini               2                    100   \n",
              "\n",
              "                                              params  split0_test_score  \\\n",
              "0  {'criterion': 'gini', 'max_depth': 2, 'min_sam...           0.947808   \n",
              "1  {'criterion': 'gini', 'max_depth': 2, 'min_sam...           0.947808   \n",
              "2  {'criterion': 'gini', 'max_depth': 2, 'min_sam...           0.947808   \n",
              "3  {'criterion': 'gini', 'max_depth': 2, 'min_sam...           0.947808   \n",
              "4  {'criterion': 'gini', 'max_depth': 2, 'min_sam...           0.947808   \n",
              "\n",
              "   split1_test_score  split2_test_score  split3_test_score  mean_test_score  \\\n",
              "0           0.948852           0.956658           0.949869         0.950797   \n",
              "1           0.948852           0.956658           0.949869         0.950797   \n",
              "2           0.948852           0.956658           0.949869         0.950797   \n",
              "3           0.948852           0.956658           0.949869         0.950797   \n",
              "4           0.948852           0.956658           0.949869         0.950797   \n",
              "\n",
              "   std_test_score  rank_test_score  \n",
              "0        0.003462               41  \n",
              "1        0.003462               41  \n",
              "2        0.003462               41  \n",
              "3        0.003462               41  \n",
              "4        0.003462               41  "
            ],
            "text/html": [
              "\n",
              "  <div id=\"df-f7278cdb-8a25-40b3-9653-5aae0d312da1\">\n",
              "    <div class=\"colab-df-container\">\n",
              "      <div>\n",
              "<style scoped>\n",
              "    .dataframe tbody tr th:only-of-type {\n",
              "        vertical-align: middle;\n",
              "    }\n",
              "\n",
              "    .dataframe tbody tr th {\n",
              "        vertical-align: top;\n",
              "    }\n",
              "\n",
              "    .dataframe thead th {\n",
              "        text-align: right;\n",
              "    }\n",
              "</style>\n",
              "<table border=\"1\" class=\"dataframe\">\n",
              "  <thead>\n",
              "    <tr style=\"text-align: right;\">\n",
              "      <th></th>\n",
              "      <th>mean_fit_time</th>\n",
              "      <th>std_fit_time</th>\n",
              "      <th>mean_score_time</th>\n",
              "      <th>std_score_time</th>\n",
              "      <th>param_criterion</th>\n",
              "      <th>param_max_depth</th>\n",
              "      <th>param_min_samples_leaf</th>\n",
              "      <th>params</th>\n",
              "      <th>split0_test_score</th>\n",
              "      <th>split1_test_score</th>\n",
              "      <th>split2_test_score</th>\n",
              "      <th>split3_test_score</th>\n",
              "      <th>mean_test_score</th>\n",
              "      <th>std_test_score</th>\n",
              "      <th>rank_test_score</th>\n",
              "    </tr>\n",
              "  </thead>\n",
              "  <tbody>\n",
              "    <tr>\n",
              "      <th>0</th>\n",
              "      <td>0.024073</td>\n",
              "      <td>0.004244</td>\n",
              "      <td>0.003747</td>\n",
              "      <td>0.000866</td>\n",
              "      <td>gini</td>\n",
              "      <td>2</td>\n",
              "      <td>5</td>\n",
              "      <td>{'criterion': 'gini', 'max_depth': 2, 'min_sam...</td>\n",
              "      <td>0.947808</td>\n",
              "      <td>0.948852</td>\n",
              "      <td>0.956658</td>\n",
              "      <td>0.949869</td>\n",
              "      <td>0.950797</td>\n",
              "      <td>0.003462</td>\n",
              "      <td>41</td>\n",
              "    </tr>\n",
              "    <tr>\n",
              "      <th>1</th>\n",
              "      <td>0.021664</td>\n",
              "      <td>0.004963</td>\n",
              "      <td>0.003473</td>\n",
              "      <td>0.000199</td>\n",
              "      <td>gini</td>\n",
              "      <td>2</td>\n",
              "      <td>10</td>\n",
              "      <td>{'criterion': 'gini', 'max_depth': 2, 'min_sam...</td>\n",
              "      <td>0.947808</td>\n",
              "      <td>0.948852</td>\n",
              "      <td>0.956658</td>\n",
              "      <td>0.949869</td>\n",
              "      <td>0.950797</td>\n",
              "      <td>0.003462</td>\n",
              "      <td>41</td>\n",
              "    </tr>\n",
              "    <tr>\n",
              "      <th>2</th>\n",
              "      <td>0.016977</td>\n",
              "      <td>0.001622</td>\n",
              "      <td>0.003689</td>\n",
              "      <td>0.000174</td>\n",
              "      <td>gini</td>\n",
              "      <td>2</td>\n",
              "      <td>20</td>\n",
              "      <td>{'criterion': 'gini', 'max_depth': 2, 'min_sam...</td>\n",
              "      <td>0.947808</td>\n",
              "      <td>0.948852</td>\n",
              "      <td>0.956658</td>\n",
              "      <td>0.949869</td>\n",
              "      <td>0.950797</td>\n",
              "      <td>0.003462</td>\n",
              "      <td>41</td>\n",
              "    </tr>\n",
              "    <tr>\n",
              "      <th>3</th>\n",
              "      <td>0.016090</td>\n",
              "      <td>0.000607</td>\n",
              "      <td>0.003837</td>\n",
              "      <td>0.000166</td>\n",
              "      <td>gini</td>\n",
              "      <td>2</td>\n",
              "      <td>50</td>\n",
              "      <td>{'criterion': 'gini', 'max_depth': 2, 'min_sam...</td>\n",
              "      <td>0.947808</td>\n",
              "      <td>0.948852</td>\n",
              "      <td>0.956658</td>\n",
              "      <td>0.949869</td>\n",
              "      <td>0.950797</td>\n",
              "      <td>0.003462</td>\n",
              "      <td>41</td>\n",
              "    </tr>\n",
              "    <tr>\n",
              "      <th>4</th>\n",
              "      <td>0.016003</td>\n",
              "      <td>0.000507</td>\n",
              "      <td>0.003572</td>\n",
              "      <td>0.000095</td>\n",
              "      <td>gini</td>\n",
              "      <td>2</td>\n",
              "      <td>100</td>\n",
              "      <td>{'criterion': 'gini', 'max_depth': 2, 'min_sam...</td>\n",
              "      <td>0.947808</td>\n",
              "      <td>0.948852</td>\n",
              "      <td>0.956658</td>\n",
              "      <td>0.949869</td>\n",
              "      <td>0.950797</td>\n",
              "      <td>0.003462</td>\n",
              "      <td>41</td>\n",
              "    </tr>\n",
              "  </tbody>\n",
              "</table>\n",
              "</div>\n",
              "      <button class=\"colab-df-convert\" onclick=\"convertToInteractive('df-f7278cdb-8a25-40b3-9653-5aae0d312da1')\"\n",
              "              title=\"Convert this dataframe to an interactive table.\"\n",
              "              style=\"display:none;\">\n",
              "        \n",
              "  <svg xmlns=\"http://www.w3.org/2000/svg\" height=\"24px\"viewBox=\"0 0 24 24\"\n",
              "       width=\"24px\">\n",
              "    <path d=\"M0 0h24v24H0V0z\" fill=\"none\"/>\n",
              "    <path d=\"M18.56 5.44l.94 2.06.94-2.06 2.06-.94-2.06-.94-.94-2.06-.94 2.06-2.06.94zm-11 1L8.5 8.5l.94-2.06 2.06-.94-2.06-.94L8.5 2.5l-.94 2.06-2.06.94zm10 10l.94 2.06.94-2.06 2.06-.94-2.06-.94-.94-2.06-.94 2.06-2.06.94z\"/><path d=\"M17.41 7.96l-1.37-1.37c-.4-.4-.92-.59-1.43-.59-.52 0-1.04.2-1.43.59L10.3 9.45l-7.72 7.72c-.78.78-.78 2.05 0 2.83L4 21.41c.39.39.9.59 1.41.59.51 0 1.02-.2 1.41-.59l7.78-7.78 2.81-2.81c.8-.78.8-2.07 0-2.86zM5.41 20L4 18.59l7.72-7.72 1.47 1.35L5.41 20z\"/>\n",
              "  </svg>\n",
              "      </button>\n",
              "      \n",
              "  <style>\n",
              "    .colab-df-container {\n",
              "      display:flex;\n",
              "      flex-wrap:wrap;\n",
              "      gap: 12px;\n",
              "    }\n",
              "\n",
              "    .colab-df-convert {\n",
              "      background-color: #E8F0FE;\n",
              "      border: none;\n",
              "      border-radius: 50%;\n",
              "      cursor: pointer;\n",
              "      display: none;\n",
              "      fill: #1967D2;\n",
              "      height: 32px;\n",
              "      padding: 0 0 0 0;\n",
              "      width: 32px;\n",
              "    }\n",
              "\n",
              "    .colab-df-convert:hover {\n",
              "      background-color: #E2EBFA;\n",
              "      box-shadow: 0px 1px 2px rgba(60, 64, 67, 0.3), 0px 1px 3px 1px rgba(60, 64, 67, 0.15);\n",
              "      fill: #174EA6;\n",
              "    }\n",
              "\n",
              "    [theme=dark] .colab-df-convert {\n",
              "      background-color: #3B4455;\n",
              "      fill: #D2E3FC;\n",
              "    }\n",
              "\n",
              "    [theme=dark] .colab-df-convert:hover {\n",
              "      background-color: #434B5C;\n",
              "      box-shadow: 0px 1px 3px 1px rgba(0, 0, 0, 0.15);\n",
              "      filter: drop-shadow(0px 1px 2px rgba(0, 0, 0, 0.3));\n",
              "      fill: #FFFFFF;\n",
              "    }\n",
              "  </style>\n",
              "\n",
              "      <script>\n",
              "        const buttonEl =\n",
              "          document.querySelector('#df-f7278cdb-8a25-40b3-9653-5aae0d312da1 button.colab-df-convert');\n",
              "        buttonEl.style.display =\n",
              "          google.colab.kernel.accessAllowed ? 'block' : 'none';\n",
              "\n",
              "        async function convertToInteractive(key) {\n",
              "          const element = document.querySelector('#df-f7278cdb-8a25-40b3-9653-5aae0d312da1');\n",
              "          const dataTable =\n",
              "            await google.colab.kernel.invokeFunction('convertToInteractive',\n",
              "                                                     [key], {});\n",
              "          if (!dataTable) return;\n",
              "\n",
              "          const docLinkHtml = 'Like what you see? Visit the ' +\n",
              "            '<a target=\"_blank\" href=https://colab.research.google.com/notebooks/data_table.ipynb>data table notebook</a>'\n",
              "            + ' to learn more about interactive tables.';\n",
              "          element.innerHTML = '';\n",
              "          dataTable['output_type'] = 'display_data';\n",
              "          await google.colab.output.renderOutput(dataTable, element);\n",
              "          const docLink = document.createElement('div');\n",
              "          docLink.innerHTML = docLinkHtml;\n",
              "          element.appendChild(docLink);\n",
              "        }\n",
              "      </script>\n",
              "    </div>\n",
              "  </div>\n",
              "  "
            ]
          },
          "metadata": {},
          "execution_count": 63
        }
      ]
    },
    {
      "cell_type": "code",
      "source": [
        "print(grid_search.best_estimator_)\n",
        "dt_best = grid_search.best_estimator_\n",
        "evaluate_model(dt_best)\n",
        "print(classification_report(y_test, dt_best.predict(X_test)))"
      ],
      "metadata": {
        "colab": {
          "base_uri": "https://localhost:8080/"
        },
        "id": "KK-VeR_vehT-",
        "outputId": "6864a265-0187-4f67-88cd-acc509cf93ac"
      },
      "execution_count": 67,
      "outputs": [
        {
          "output_type": "stream",
          "name": "stdout",
          "text": [
            "DecisionTreeClassifier(criterion='entropy', max_depth=20, min_samples_leaf=5,\n",
            "                       random_state=42)\n",
            "Train Accuracy : 0.9960845732184808\n",
            "Train Confusion Matrix:\n",
            "[[1485   16]\n",
            " [  14 6147]]\n",
            "--------------------------------------------------\n",
            "Test Accuracy : 0.9926931106471816\n",
            "Test Confusion Matrix:\n",
            "[[ 360    7]\n",
            " [   7 1542]]\n",
            "              precision    recall  f1-score   support\n",
            "\n",
            "           0       0.98      0.98      0.98       367\n",
            "           1       1.00      1.00      1.00      1549\n",
            "\n",
            "    accuracy                           0.99      1916\n",
            "   macro avg       0.99      0.99      0.99      1916\n",
            "weighted avg       0.99      0.99      0.99      1916\n",
            "\n"
          ]
        }
      ]
    },
    {
      "cell_type": "code",
      "source": [
        "graph = plot_tree(dt_best)\n",
        "graph"
      ],
      "metadata": {
        "colab": {
          "base_uri": "https://localhost:8080/",
          "height": 1000
        },
        "id": "L3ru5IFSvFwW",
        "outputId": "45cfb392-866c-4d7e-df06-9c87b13b88c6"
      },
      "execution_count": 68,
      "outputs": [
        {
          "output_type": "execute_result",
          "data": {
            "text/plain": [
              "<graphviz.files.Source at 0x7f41507d40d0>"
            ],
            "image/svg+xml": "<?xml version=\"1.0\" encoding=\"UTF-8\" standalone=\"no\"?>\n<!DOCTYPE svg PUBLIC \"-//W3C//DTD SVG 1.1//EN\"\n \"http://www.w3.org/Graphics/SVG/1.1/DTD/svg11.dtd\">\n<!-- Generated by graphviz version 2.40.1 (20161225.0304)\n -->\n<!-- Title: Tree Pages: 1 -->\n<svg width=\"2612pt\" height=\"1980pt\"\n viewBox=\"0.00 0.00 2611.50 1980.00\" xmlns=\"http://www.w3.org/2000/svg\" xmlns:xlink=\"http://www.w3.org/1999/xlink\">\n<g id=\"graph0\" class=\"graph\" transform=\"scale(1 1) rotate(0) translate(4 1976)\">\n<title>Tree</title>\n<polygon fill=\"#ffffff\" stroke=\"transparent\" points=\"-4,4 -4,-1976 2607.5,-1976 2607.5,4 -4,4\"/>\n<!-- 0 -->\n<g id=\"node1\" class=\"node\">\n<title>0</title>\n<path fill=\"#69b5eb\" stroke=\"#000000\" d=\"M2217,-1972C2217,-1972 2092,-1972 2092,-1972 2086,-1972 2080,-1966 2080,-1960 2080,-1960 2080,-1901 2080,-1901 2080,-1895 2086,-1889 2092,-1889 2092,-1889 2217,-1889 2217,-1889 2223,-1889 2229,-1895 2229,-1901 2229,-1901 2229,-1960 2229,-1960 2229,-1966 2223,-1972 2217,-1972\"/>\n<text text-anchor=\"start\" x=\"2092\" y=\"-1956.8\" font-family=\"Helvetica,sans-Serif\" font-size=\"14.00\" fill=\"#000000\">inq.last.6mths ≤ 3.5</text>\n<text text-anchor=\"start\" x=\"2103.5\" y=\"-1941.8\" font-family=\"Helvetica,sans-Serif\" font-size=\"14.00\" fill=\"#000000\">entropy = 0.714</text>\n<text text-anchor=\"start\" x=\"2102.5\" y=\"-1926.8\" font-family=\"Helvetica,sans-Serif\" font-size=\"14.00\" fill=\"#000000\">samples = 7662</text>\n<text text-anchor=\"start\" x=\"2088\" y=\"-1911.8\" font-family=\"Helvetica,sans-Serif\" font-size=\"14.00\" fill=\"#000000\">value = [1501, 6161]</text>\n<text text-anchor=\"start\" x=\"2127\" y=\"-1896.8\" font-family=\"Helvetica,sans-Serif\" font-size=\"14.00\" fill=\"#000000\">class = r</text>\n</g>\n<!-- 1 -->\n<g id=\"node2\" class=\"node\">\n<title>1</title>\n<path fill=\"#4ea7e8\" stroke=\"#000000\" d=\"M2026.5,-1853C2026.5,-1853 1910.5,-1853 1910.5,-1853 1904.5,-1853 1898.5,-1847 1898.5,-1841 1898.5,-1841 1898.5,-1782 1898.5,-1782 1898.5,-1776 1904.5,-1770 1910.5,-1770 1910.5,-1770 2026.5,-1770 2026.5,-1770 2032.5,-1770 2038.5,-1776 2038.5,-1782 2038.5,-1782 2038.5,-1841 2038.5,-1841 2038.5,-1847 2032.5,-1853 2026.5,-1853\"/>\n<text text-anchor=\"start\" x=\"1931\" y=\"-1837.8\" font-family=\"Helvetica,sans-Serif\" font-size=\"14.00\" fill=\"#000000\">fico ≤ 659.5</text>\n<text text-anchor=\"start\" x=\"1917.5\" y=\"-1822.8\" font-family=\"Helvetica,sans-Serif\" font-size=\"14.00\" fill=\"#000000\">entropy = 0.456</text>\n<text text-anchor=\"start\" x=\"1916.5\" y=\"-1807.8\" font-family=\"Helvetica,sans-Serif\" font-size=\"14.00\" fill=\"#000000\">samples = 6668</text>\n<text text-anchor=\"start\" x=\"1906.5\" y=\"-1792.8\" font-family=\"Helvetica,sans-Serif\" font-size=\"14.00\" fill=\"#000000\">value = [640, 6028]</text>\n<text text-anchor=\"start\" x=\"1941\" y=\"-1777.8\" font-family=\"Helvetica,sans-Serif\" font-size=\"14.00\" fill=\"#000000\">class = r</text>\n</g>\n<!-- 0&#45;&gt;1 -->\n<g id=\"edge1\" class=\"edge\">\n<title>0&#45;&gt;1</title>\n<path fill=\"none\" stroke=\"#000000\" d=\"M2089.4462,-1888.8796C2074.1546,-1879.0962 2057.7516,-1868.6019 2042.114,-1858.5971\"/>\n<polygon fill=\"#000000\" stroke=\"#000000\" points=\"2043.8268,-1855.538 2033.517,-1853.0969 2040.0543,-1861.4345 2043.8268,-1855.538\"/>\n<text text-anchor=\"middle\" x=\"2038.881\" y=\"-1873.8147\" font-family=\"Helvetica,sans-Serif\" font-size=\"14.00\" fill=\"#000000\">True</text>\n</g>\n<!-- 86 -->\n<g id=\"node87\" class=\"node\">\n<title>86</title>\n<path fill=\"#e99458\" stroke=\"#000000\" d=\"M2222.5,-1853C2222.5,-1853 2114.5,-1853 2114.5,-1853 2108.5,-1853 2102.5,-1847 2102.5,-1841 2102.5,-1841 2102.5,-1782 2102.5,-1782 2102.5,-1776 2108.5,-1770 2114.5,-1770 2114.5,-1770 2222.5,-1770 2222.5,-1770 2228.5,-1770 2234.5,-1776 2234.5,-1782 2234.5,-1782 2234.5,-1841 2234.5,-1841 2234.5,-1847 2228.5,-1853 2222.5,-1853\"/>\n<text text-anchor=\"start\" x=\"2131\" y=\"-1837.8\" font-family=\"Helvetica,sans-Serif\" font-size=\"14.00\" fill=\"#000000\">fico ≤ 739.5</text>\n<text text-anchor=\"start\" x=\"2117.5\" y=\"-1822.8\" font-family=\"Helvetica,sans-Serif\" font-size=\"14.00\" fill=\"#000000\">entropy = 0.568</text>\n<text text-anchor=\"start\" x=\"2120.5\" y=\"-1807.8\" font-family=\"Helvetica,sans-Serif\" font-size=\"14.00\" fill=\"#000000\">samples = 994</text>\n<text text-anchor=\"start\" x=\"2110.5\" y=\"-1792.8\" font-family=\"Helvetica,sans-Serif\" font-size=\"14.00\" fill=\"#000000\">value = [861, 133]</text>\n<text text-anchor=\"start\" x=\"2139.5\" y=\"-1777.8\" font-family=\"Helvetica,sans-Serif\" font-size=\"14.00\" fill=\"#000000\">class = c</text>\n</g>\n<!-- 0&#45;&gt;86 -->\n<g id=\"edge86\" class=\"edge\">\n<title>0&#45;&gt;86</title>\n<path fill=\"none\" stroke=\"#000000\" d=\"M2159.3965,-1888.8796C2160.3607,-1880.6838 2161.3836,-1871.9891 2162.3822,-1863.5013\"/>\n<polygon fill=\"#000000\" stroke=\"#000000\" points=\"2165.8901,-1863.6386 2163.5826,-1853.2981 2158.9381,-1862.8206 2165.8901,-1863.6386\"/>\n<text text-anchor=\"middle\" x=\"2179.0737\" y=\"-1869.2201\" font-family=\"Helvetica,sans-Serif\" font-size=\"14.00\" fill=\"#000000\">False</text>\n</g>\n<!-- 2 -->\n<g id=\"node3\" class=\"node\">\n<title>2</title>\n<path fill=\"#e5813a\" stroke=\"#000000\" d=\"M1791.5,-1734C1791.5,-1734 1697.5,-1734 1697.5,-1734 1691.5,-1734 1685.5,-1728 1685.5,-1722 1685.5,-1722 1685.5,-1663 1685.5,-1663 1685.5,-1657 1691.5,-1651 1697.5,-1651 1697.5,-1651 1791.5,-1651 1791.5,-1651 1797.5,-1651 1803.5,-1657 1803.5,-1663 1803.5,-1663 1803.5,-1722 1803.5,-1722 1803.5,-1728 1797.5,-1734 1791.5,-1734\"/>\n<text text-anchor=\"start\" x=\"1707\" y=\"-1718.8\" font-family=\"Helvetica,sans-Serif\" font-size=\"14.00\" fill=\"#000000\">fico ≤ 639.5</text>\n<text text-anchor=\"start\" x=\"1693.5\" y=\"-1703.8\" font-family=\"Helvetica,sans-Serif\" font-size=\"14.00\" fill=\"#000000\">entropy = 0.034</text>\n<text text-anchor=\"start\" x=\"1696.5\" y=\"-1688.8\" font-family=\"Helvetica,sans-Serif\" font-size=\"14.00\" fill=\"#000000\">samples = 280</text>\n<text text-anchor=\"start\" x=\"1694.5\" y=\"-1673.8\" font-family=\"Helvetica,sans-Serif\" font-size=\"14.00\" fill=\"#000000\">value = [279, 1]</text>\n<text text-anchor=\"start\" x=\"1715.5\" y=\"-1658.8\" font-family=\"Helvetica,sans-Serif\" font-size=\"14.00\" fill=\"#000000\">class = c</text>\n</g>\n<!-- 1&#45;&gt;2 -->\n<g id=\"edge2\" class=\"edge\">\n<title>1&#45;&gt;2</title>\n<path fill=\"none\" stroke=\"#000000\" d=\"M1898.2396,-1774.1742C1870.9198,-1759.6605 1839.7334,-1743.0927 1812.6216,-1728.6896\"/>\n<polygon fill=\"#000000\" stroke=\"#000000\" points=\"1814.0681,-1725.4948 1803.5948,-1723.8941 1810.7839,-1731.6766 1814.0681,-1725.4948\"/>\n</g>\n<!-- 5 -->\n<g id=\"node6\" class=\"node\">\n<title>5</title>\n<path fill=\"#45a3e7\" stroke=\"#000000\" d=\"M2046,-1734C2046,-1734 1891,-1734 1891,-1734 1885,-1734 1879,-1728 1879,-1722 1879,-1722 1879,-1663 1879,-1663 1879,-1657 1885,-1651 1891,-1651 1891,-1651 2046,-1651 2046,-1651 2052,-1651 2058,-1657 2058,-1663 2058,-1663 2058,-1722 2058,-1722 2058,-1728 2052,-1734 2046,-1734\"/>\n<text text-anchor=\"start\" x=\"1887\" y=\"-1718.8\" font-family=\"Helvetica,sans-Serif\" font-size=\"14.00\" fill=\"#000000\">days.with.cr.line ≤ 1109.5</text>\n<text text-anchor=\"start\" x=\"1917.5\" y=\"-1703.8\" font-family=\"Helvetica,sans-Serif\" font-size=\"14.00\" fill=\"#000000\">entropy = 0.313</text>\n<text text-anchor=\"start\" x=\"1916.5\" y=\"-1688.8\" font-family=\"Helvetica,sans-Serif\" font-size=\"14.00\" fill=\"#000000\">samples = 6388</text>\n<text text-anchor=\"start\" x=\"1906.5\" y=\"-1673.8\" font-family=\"Helvetica,sans-Serif\" font-size=\"14.00\" fill=\"#000000\">value = [361, 6027]</text>\n<text text-anchor=\"start\" x=\"1941\" y=\"-1658.8\" font-family=\"Helvetica,sans-Serif\" font-size=\"14.00\" fill=\"#000000\">class = r</text>\n</g>\n<!-- 1&#45;&gt;5 -->\n<g id=\"edge5\" class=\"edge\">\n<title>1&#45;&gt;5</title>\n<path fill=\"none\" stroke=\"#000000\" d=\"M1968.5,-1769.8796C1968.5,-1761.6838 1968.5,-1752.9891 1968.5,-1744.5013\"/>\n<polygon fill=\"#000000\" stroke=\"#000000\" points=\"1972.0001,-1744.298 1968.5,-1734.2981 1965.0001,-1744.2981 1972.0001,-1744.298\"/>\n</g>\n<!-- 3 -->\n<g id=\"node4\" class=\"node\">\n<title>3</title>\n<path fill=\"#e9965a\" stroke=\"#000000\" d=\"M1656.5,-1607.5C1656.5,-1607.5 1562.5,-1607.5 1562.5,-1607.5 1556.5,-1607.5 1550.5,-1601.5 1550.5,-1595.5 1550.5,-1595.5 1550.5,-1551.5 1550.5,-1551.5 1550.5,-1545.5 1556.5,-1539.5 1562.5,-1539.5 1562.5,-1539.5 1656.5,-1539.5 1656.5,-1539.5 1662.5,-1539.5 1668.5,-1545.5 1668.5,-1551.5 1668.5,-1551.5 1668.5,-1595.5 1668.5,-1595.5 1668.5,-1601.5 1662.5,-1607.5 1656.5,-1607.5\"/>\n<text text-anchor=\"start\" x=\"1558.5\" y=\"-1592.3\" font-family=\"Helvetica,sans-Serif\" font-size=\"14.00\" fill=\"#000000\">entropy = 0.592</text>\n<text text-anchor=\"start\" x=\"1570\" y=\"-1577.3\" font-family=\"Helvetica,sans-Serif\" font-size=\"14.00\" fill=\"#000000\">samples = 7</text>\n<text text-anchor=\"start\" x=\"1568\" y=\"-1562.3\" font-family=\"Helvetica,sans-Serif\" font-size=\"14.00\" fill=\"#000000\">value = [6, 1]</text>\n<text text-anchor=\"start\" x=\"1580.5\" y=\"-1547.3\" font-family=\"Helvetica,sans-Serif\" font-size=\"14.00\" fill=\"#000000\">class = c</text>\n</g>\n<!-- 2&#45;&gt;3 -->\n<g id=\"edge3\" class=\"edge\">\n<title>2&#45;&gt;3</title>\n<path fill=\"none\" stroke=\"#000000\" d=\"M1697.2836,-1650.8796C1683.9358,-1639.1138 1669.4215,-1626.3197 1656.1096,-1614.5855\"/>\n<polygon fill=\"#000000\" stroke=\"#000000\" points=\"1658.2448,-1611.8019 1648.4287,-1607.8149 1653.616,-1617.0531 1658.2448,-1611.8019\"/>\n</g>\n<!-- 4 -->\n<g id=\"node5\" class=\"node\">\n<title>4</title>\n<path fill=\"#e58139\" stroke=\"#000000\" d=\"M1790.5,-1607.5C1790.5,-1607.5 1698.5,-1607.5 1698.5,-1607.5 1692.5,-1607.5 1686.5,-1601.5 1686.5,-1595.5 1686.5,-1595.5 1686.5,-1551.5 1686.5,-1551.5 1686.5,-1545.5 1692.5,-1539.5 1698.5,-1539.5 1698.5,-1539.5 1790.5,-1539.5 1790.5,-1539.5 1796.5,-1539.5 1802.5,-1545.5 1802.5,-1551.5 1802.5,-1551.5 1802.5,-1595.5 1802.5,-1595.5 1802.5,-1601.5 1796.5,-1607.5 1790.5,-1607.5\"/>\n<text text-anchor=\"start\" x=\"1702\" y=\"-1592.3\" font-family=\"Helvetica,sans-Serif\" font-size=\"14.00\" fill=\"#000000\">entropy = 0.0</text>\n<text text-anchor=\"start\" x=\"1696.5\" y=\"-1577.3\" font-family=\"Helvetica,sans-Serif\" font-size=\"14.00\" fill=\"#000000\">samples = 273</text>\n<text text-anchor=\"start\" x=\"1694.5\" y=\"-1562.3\" font-family=\"Helvetica,sans-Serif\" font-size=\"14.00\" fill=\"#000000\">value = [273, 0]</text>\n<text text-anchor=\"start\" x=\"1715.5\" y=\"-1547.3\" font-family=\"Helvetica,sans-Serif\" font-size=\"14.00\" fill=\"#000000\">class = c</text>\n</g>\n<!-- 2&#45;&gt;4 -->\n<g id=\"edge4\" class=\"edge\">\n<title>2&#45;&gt;4</title>\n<path fill=\"none\" stroke=\"#000000\" d=\"M1744.5,-1650.8796C1744.5,-1640.2134 1744.5,-1628.7021 1744.5,-1617.9015\"/>\n<polygon fill=\"#000000\" stroke=\"#000000\" points=\"1748.0001,-1617.8149 1744.5,-1607.8149 1741.0001,-1617.815 1748.0001,-1617.8149\"/>\n</g>\n<!-- 6 -->\n<g id=\"node7\" class=\"node\">\n<title>6</title>\n<path fill=\"#e58139\" stroke=\"#000000\" d=\"M1924.5,-1607.5C1924.5,-1607.5 1832.5,-1607.5 1832.5,-1607.5 1826.5,-1607.5 1820.5,-1601.5 1820.5,-1595.5 1820.5,-1595.5 1820.5,-1551.5 1820.5,-1551.5 1820.5,-1545.5 1826.5,-1539.5 1832.5,-1539.5 1832.5,-1539.5 1924.5,-1539.5 1924.5,-1539.5 1930.5,-1539.5 1936.5,-1545.5 1936.5,-1551.5 1936.5,-1551.5 1936.5,-1595.5 1936.5,-1595.5 1936.5,-1601.5 1930.5,-1607.5 1924.5,-1607.5\"/>\n<text text-anchor=\"start\" x=\"1836\" y=\"-1592.3\" font-family=\"Helvetica,sans-Serif\" font-size=\"14.00\" fill=\"#000000\">entropy = 0.0</text>\n<text text-anchor=\"start\" x=\"1830.5\" y=\"-1577.3\" font-family=\"Helvetica,sans-Serif\" font-size=\"14.00\" fill=\"#000000\">samples = 140</text>\n<text text-anchor=\"start\" x=\"1828.5\" y=\"-1562.3\" font-family=\"Helvetica,sans-Serif\" font-size=\"14.00\" fill=\"#000000\">value = [140, 0]</text>\n<text text-anchor=\"start\" x=\"1849.5\" y=\"-1547.3\" font-family=\"Helvetica,sans-Serif\" font-size=\"14.00\" fill=\"#000000\">class = c</text>\n</g>\n<!-- 5&#45;&gt;6 -->\n<g id=\"edge6\" class=\"edge\">\n<title>5&#45;&gt;6</title>\n<path fill=\"none\" stroke=\"#000000\" d=\"M1937.0224,-1650.8796C1928.4565,-1639.5536 1919.17,-1627.2748 1910.5717,-1615.9058\"/>\n<polygon fill=\"#000000\" stroke=\"#000000\" points=\"1913.2762,-1613.6795 1904.4525,-1607.8149 1907.6931,-1617.902 1913.2762,-1613.6795\"/>\n</g>\n<!-- 7 -->\n<g id=\"node8\" class=\"node\">\n<title>7</title>\n<path fill=\"#40a1e6\" stroke=\"#000000\" d=\"M2082.5,-1615C2082.5,-1615 1966.5,-1615 1966.5,-1615 1960.5,-1615 1954.5,-1609 1954.5,-1603 1954.5,-1603 1954.5,-1544 1954.5,-1544 1954.5,-1538 1960.5,-1532 1966.5,-1532 1966.5,-1532 2082.5,-1532 2082.5,-1532 2088.5,-1532 2094.5,-1538 2094.5,-1544 2094.5,-1544 2094.5,-1603 2094.5,-1603 2094.5,-1609 2088.5,-1615 2082.5,-1615\"/>\n<text text-anchor=\"start\" x=\"1962.5\" y=\"-1599.8\" font-family=\"Helvetica,sans-Serif\" font-size=\"14.00\" fill=\"#000000\">revol.bal ≤ 74020.5</text>\n<text text-anchor=\"start\" x=\"1973.5\" y=\"-1584.8\" font-family=\"Helvetica,sans-Serif\" font-size=\"14.00\" fill=\"#000000\">entropy = 0.221</text>\n<text text-anchor=\"start\" x=\"1972.5\" y=\"-1569.8\" font-family=\"Helvetica,sans-Serif\" font-size=\"14.00\" fill=\"#000000\">samples = 6248</text>\n<text text-anchor=\"start\" x=\"1962.5\" y=\"-1554.8\" font-family=\"Helvetica,sans-Serif\" font-size=\"14.00\" fill=\"#000000\">value = [221, 6027]</text>\n<text text-anchor=\"start\" x=\"1997\" y=\"-1539.8\" font-family=\"Helvetica,sans-Serif\" font-size=\"14.00\" fill=\"#000000\">class = r</text>\n</g>\n<!-- 5&#45;&gt;7 -->\n<g id=\"edge7\" class=\"edge\">\n<title>5&#45;&gt;7</title>\n<path fill=\"none\" stroke=\"#000000\" d=\"M1988.0861,-1650.8796C1992.1124,-1642.3236 1996.3947,-1633.2238 2000.5549,-1624.3833\"/>\n<polygon fill=\"#000000\" stroke=\"#000000\" points=\"2003.7392,-1625.8366 2004.8303,-1615.2981 1997.4054,-1622.856 2003.7392,-1625.8366\"/>\n</g>\n<!-- 8 -->\n<g id=\"node9\" class=\"node\">\n<title>8</title>\n<path fill=\"#3d9fe5\" stroke=\"#000000\" d=\"M1812.5,-1496C1812.5,-1496 1696.5,-1496 1696.5,-1496 1690.5,-1496 1684.5,-1490 1684.5,-1484 1684.5,-1484 1684.5,-1425 1684.5,-1425 1684.5,-1419 1690.5,-1413 1696.5,-1413 1696.5,-1413 1812.5,-1413 1812.5,-1413 1818.5,-1413 1824.5,-1419 1824.5,-1425 1824.5,-1425 1824.5,-1484 1824.5,-1484 1824.5,-1490 1818.5,-1496 1812.5,-1496\"/>\n<text text-anchor=\"start\" x=\"1716.5\" y=\"-1480.8\" font-family=\"Helvetica,sans-Serif\" font-size=\"14.00\" fill=\"#000000\">dti ≤ 24.995</text>\n<text text-anchor=\"start\" x=\"1703.5\" y=\"-1465.8\" font-family=\"Helvetica,sans-Serif\" font-size=\"14.00\" fill=\"#000000\">entropy = 0.131</text>\n<text text-anchor=\"start\" x=\"1702.5\" y=\"-1450.8\" font-family=\"Helvetica,sans-Serif\" font-size=\"14.00\" fill=\"#000000\">samples = 6052</text>\n<text text-anchor=\"start\" x=\"1692.5\" y=\"-1435.8\" font-family=\"Helvetica,sans-Serif\" font-size=\"14.00\" fill=\"#000000\">value = [110, 5942]</text>\n<text text-anchor=\"start\" x=\"1727\" y=\"-1420.8\" font-family=\"Helvetica,sans-Serif\" font-size=\"14.00\" fill=\"#000000\">class = r</text>\n</g>\n<!-- 7&#45;&gt;8 -->\n<g id=\"edge8\" class=\"edge\">\n<title>7&#45;&gt;8</title>\n<path fill=\"none\" stroke=\"#000000\" d=\"M1954.4678,-1536.2548C1951.4495,-1534.7941 1948.451,-1533.3698 1945.5,-1532 1909.4513,-1515.2672 1868.7335,-1498.4668 1834.1822,-1484.8067\"/>\n<polygon fill=\"#000000\" stroke=\"#000000\" points=\"1835.1965,-1481.4447 1824.6094,-1481.0398 1832.6333,-1487.9585 1835.1965,-1481.4447\"/>\n</g>\n<!-- 67 -->\n<g id=\"node68\" class=\"node\">\n<title>67</title>\n<path fill=\"#f9e1d1\" stroke=\"#000000\" d=\"M2086.5,-1496C2086.5,-1496 1962.5,-1496 1962.5,-1496 1956.5,-1496 1950.5,-1490 1950.5,-1484 1950.5,-1484 1950.5,-1425 1950.5,-1425 1950.5,-1419 1956.5,-1413 1962.5,-1413 1962.5,-1413 2086.5,-1413 2086.5,-1413 2092.5,-1413 2098.5,-1419 2098.5,-1425 2098.5,-1425 2098.5,-1484 2098.5,-1484 2098.5,-1490 2092.5,-1496 2086.5,-1496\"/>\n<text text-anchor=\"start\" x=\"1958.5\" y=\"-1480.8\" font-family=\"Helvetica,sans-Serif\" font-size=\"14.00\" fill=\"#000000\">revol.bal ≤ 149674.5</text>\n<text text-anchor=\"start\" x=\"1973.5\" y=\"-1465.8\" font-family=\"Helvetica,sans-Serif\" font-size=\"14.00\" fill=\"#000000\">entropy = 0.987</text>\n<text text-anchor=\"start\" x=\"1976.5\" y=\"-1450.8\" font-family=\"Helvetica,sans-Serif\" font-size=\"14.00\" fill=\"#000000\">samples = 196</text>\n<text text-anchor=\"start\" x=\"1970.5\" y=\"-1435.8\" font-family=\"Helvetica,sans-Serif\" font-size=\"14.00\" fill=\"#000000\">value = [111, 85]</text>\n<text text-anchor=\"start\" x=\"1995.5\" y=\"-1420.8\" font-family=\"Helvetica,sans-Serif\" font-size=\"14.00\" fill=\"#000000\">class = c</text>\n</g>\n<!-- 7&#45;&gt;67 -->\n<g id=\"edge67\" class=\"edge\">\n<title>7&#45;&gt;67</title>\n<path fill=\"none\" stroke=\"#000000\" d=\"M2024.5,-1531.8796C2024.5,-1523.6838 2024.5,-1514.9891 2024.5,-1506.5013\"/>\n<polygon fill=\"#000000\" stroke=\"#000000\" points=\"2028.0001,-1506.298 2024.5,-1496.2981 2021.0001,-1506.2981 2028.0001,-1506.298\"/>\n</g>\n<!-- 9 -->\n<g id=\"node10\" class=\"node\">\n<title>9</title>\n<path fill=\"#3b9ee5\" stroke=\"#000000\" d=\"M1419.5,-1377C1419.5,-1377 1311.5,-1377 1311.5,-1377 1305.5,-1377 1299.5,-1371 1299.5,-1365 1299.5,-1365 1299.5,-1306 1299.5,-1306 1299.5,-1300 1305.5,-1294 1311.5,-1294 1311.5,-1294 1419.5,-1294 1419.5,-1294 1425.5,-1294 1431.5,-1300 1431.5,-1306 1431.5,-1306 1431.5,-1365 1431.5,-1365 1431.5,-1371 1425.5,-1377 1419.5,-1377\"/>\n<text text-anchor=\"start\" x=\"1312.5\" y=\"-1361.8\" font-family=\"Helvetica,sans-Serif\" font-size=\"14.00\" fill=\"#000000\">revol.util ≤ 99.85</text>\n<text text-anchor=\"start\" x=\"1314.5\" y=\"-1346.8\" font-family=\"Helvetica,sans-Serif\" font-size=\"14.00\" fill=\"#000000\">entropy = 0.075</text>\n<text text-anchor=\"start\" x=\"1313.5\" y=\"-1331.8\" font-family=\"Helvetica,sans-Serif\" font-size=\"14.00\" fill=\"#000000\">samples = 5994</text>\n<text text-anchor=\"start\" x=\"1307.5\" y=\"-1316.8\" font-family=\"Helvetica,sans-Serif\" font-size=\"14.00\" fill=\"#000000\">value = [55, 5939]</text>\n<text text-anchor=\"start\" x=\"1338\" y=\"-1301.8\" font-family=\"Helvetica,sans-Serif\" font-size=\"14.00\" fill=\"#000000\">class = r</text>\n</g>\n<!-- 8&#45;&gt;9 -->\n<g id=\"edge9\" class=\"edge\">\n<title>8&#45;&gt;9</title>\n<path fill=\"none\" stroke=\"#000000\" d=\"M1684.055,-1432.95C1615.4675,-1411.9682 1511.5569,-1380.1807 1441.2241,-1358.665\"/>\n<polygon fill=\"#000000\" stroke=\"#000000\" points=\"1442.1163,-1355.2778 1431.5298,-1355.6994 1440.0685,-1361.9716 1442.1163,-1355.2778\"/>\n</g>\n<!-- 62 -->\n<g id=\"node63\" class=\"node\">\n<title>62</title>\n<path fill=\"#e68844\" stroke=\"#000000\" d=\"M1815.5,-1377C1815.5,-1377 1693.5,-1377 1693.5,-1377 1687.5,-1377 1681.5,-1371 1681.5,-1365 1681.5,-1365 1681.5,-1306 1681.5,-1306 1681.5,-1300 1687.5,-1294 1693.5,-1294 1693.5,-1294 1815.5,-1294 1815.5,-1294 1821.5,-1294 1827.5,-1300 1827.5,-1306 1827.5,-1306 1827.5,-1365 1827.5,-1365 1827.5,-1371 1821.5,-1377 1815.5,-1377\"/>\n<text text-anchor=\"start\" x=\"1689.5\" y=\"-1361.8\" font-family=\"Helvetica,sans-Serif\" font-size=\"14.00\" fill=\"#000000\">installment ≤ 135.81</text>\n<text text-anchor=\"start\" x=\"1703.5\" y=\"-1346.8\" font-family=\"Helvetica,sans-Serif\" font-size=\"14.00\" fill=\"#000000\">entropy = 0.294</text>\n<text text-anchor=\"start\" x=\"1710.5\" y=\"-1331.8\" font-family=\"Helvetica,sans-Serif\" font-size=\"14.00\" fill=\"#000000\">samples = 58</text>\n<text text-anchor=\"start\" x=\"1709\" y=\"-1316.8\" font-family=\"Helvetica,sans-Serif\" font-size=\"14.00\" fill=\"#000000\">value = [55, 3]</text>\n<text text-anchor=\"start\" x=\"1725.5\" y=\"-1301.8\" font-family=\"Helvetica,sans-Serif\" font-size=\"14.00\" fill=\"#000000\">class = c</text>\n</g>\n<!-- 8&#45;&gt;62 -->\n<g id=\"edge62\" class=\"edge\">\n<title>8&#45;&gt;62</title>\n<path fill=\"none\" stroke=\"#000000\" d=\"M1754.5,-1412.8796C1754.5,-1404.6838 1754.5,-1395.9891 1754.5,-1387.5013\"/>\n<polygon fill=\"#000000\" stroke=\"#000000\" points=\"1758.0001,-1387.298 1754.5,-1377.2981 1751.0001,-1387.2981 1758.0001,-1387.298\"/>\n</g>\n<!-- 10 -->\n<g id=\"node11\" class=\"node\">\n<title>10</title>\n<path fill=\"#3a9ee5\" stroke=\"#000000\" d=\"M1197.5,-1258C1197.5,-1258 1081.5,-1258 1081.5,-1258 1075.5,-1258 1069.5,-1252 1069.5,-1246 1069.5,-1246 1069.5,-1187 1069.5,-1187 1069.5,-1181 1075.5,-1175 1081.5,-1175 1081.5,-1175 1197.5,-1175 1197.5,-1175 1203.5,-1175 1209.5,-1181 1209.5,-1187 1209.5,-1187 1209.5,-1246 1209.5,-1246 1209.5,-1252 1203.5,-1258 1197.5,-1258\"/>\n<text text-anchor=\"start\" x=\"1077.5\" y=\"-1242.8\" font-family=\"Helvetica,sans-Serif\" font-size=\"14.00\" fill=\"#000000\">revol.bal ≤ 40035.0</text>\n<text text-anchor=\"start\" x=\"1088.5\" y=\"-1227.8\" font-family=\"Helvetica,sans-Serif\" font-size=\"14.00\" fill=\"#000000\">entropy = 0.062</text>\n<text text-anchor=\"start\" x=\"1087.5\" y=\"-1212.8\" font-family=\"Helvetica,sans-Serif\" font-size=\"14.00\" fill=\"#000000\">samples = 5981</text>\n<text text-anchor=\"start\" x=\"1081.5\" y=\"-1197.8\" font-family=\"Helvetica,sans-Serif\" font-size=\"14.00\" fill=\"#000000\">value = [43, 5938]</text>\n<text text-anchor=\"start\" x=\"1112\" y=\"-1182.8\" font-family=\"Helvetica,sans-Serif\" font-size=\"14.00\" fill=\"#000000\">class = r</text>\n</g>\n<!-- 9&#45;&gt;10 -->\n<g id=\"edge10\" class=\"edge\">\n<title>9&#45;&gt;10</title>\n<path fill=\"none\" stroke=\"#000000\" d=\"M1299.2196,-1300.6001C1274.0536,-1287.349 1245.1352,-1272.1221 1218.8808,-1258.2978\"/>\n<polygon fill=\"#000000\" stroke=\"#000000\" points=\"1220.1949,-1255.0343 1209.7159,-1253.4721 1216.9335,-1261.2281 1220.1949,-1255.0343\"/>\n</g>\n<!-- 59 -->\n<g id=\"node60\" class=\"node\">\n<title>59</title>\n<path fill=\"#e78c49\" stroke=\"#000000\" d=\"M1437,-1258C1437,-1258 1294,-1258 1294,-1258 1288,-1258 1282,-1252 1282,-1246 1282,-1246 1282,-1187 1282,-1187 1282,-1181 1288,-1175 1294,-1175 1294,-1175 1437,-1175 1437,-1175 1443,-1175 1449,-1181 1449,-1187 1449,-1187 1449,-1246 1449,-1246 1449,-1252 1443,-1258 1437,-1258\"/>\n<text text-anchor=\"start\" x=\"1290\" y=\"-1242.8\" font-family=\"Helvetica,sans-Serif\" font-size=\"14.00\" fill=\"#000000\">log.annual.inc ≤ 10.747</text>\n<text text-anchor=\"start\" x=\"1314.5\" y=\"-1227.8\" font-family=\"Helvetica,sans-Serif\" font-size=\"14.00\" fill=\"#000000\">entropy = 0.391</text>\n<text text-anchor=\"start\" x=\"1321.5\" y=\"-1212.8\" font-family=\"Helvetica,sans-Serif\" font-size=\"14.00\" fill=\"#000000\">samples = 13</text>\n<text text-anchor=\"start\" x=\"1320\" y=\"-1197.8\" font-family=\"Helvetica,sans-Serif\" font-size=\"14.00\" fill=\"#000000\">value = [12, 1]</text>\n<text text-anchor=\"start\" x=\"1336.5\" y=\"-1182.8\" font-family=\"Helvetica,sans-Serif\" font-size=\"14.00\" fill=\"#000000\">class = c</text>\n</g>\n<!-- 9&#45;&gt;59 -->\n<g id=\"edge59\" class=\"edge\">\n<title>9&#45;&gt;59</title>\n<path fill=\"none\" stroke=\"#000000\" d=\"M1365.5,-1293.8796C1365.5,-1285.6838 1365.5,-1276.9891 1365.5,-1268.5013\"/>\n<polygon fill=\"#000000\" stroke=\"#000000\" points=\"1369.0001,-1268.298 1365.5,-1258.2981 1362.0001,-1268.2981 1369.0001,-1268.298\"/>\n</g>\n<!-- 11 -->\n<g id=\"node12\" class=\"node\">\n<title>11</title>\n<path fill=\"#3a9de5\" stroke=\"#000000\" d=\"M879.5,-1139C879.5,-1139 771.5,-1139 771.5,-1139 765.5,-1139 759.5,-1133 759.5,-1127 759.5,-1127 759.5,-1068 759.5,-1068 759.5,-1062 765.5,-1056 771.5,-1056 771.5,-1056 879.5,-1056 879.5,-1056 885.5,-1056 891.5,-1062 891.5,-1068 891.5,-1068 891.5,-1127 891.5,-1127 891.5,-1133 885.5,-1139 879.5,-1139\"/>\n<text text-anchor=\"start\" x=\"780\" y=\"-1123.8\" font-family=\"Helvetica,sans-Serif\" font-size=\"14.00\" fill=\"#000000\">revol.bal ≤ 0.5</text>\n<text text-anchor=\"start\" x=\"774.5\" y=\"-1108.8\" font-family=\"Helvetica,sans-Serif\" font-size=\"14.00\" fill=\"#000000\">entropy = 0.039</text>\n<text text-anchor=\"start\" x=\"773.5\" y=\"-1093.8\" font-family=\"Helvetica,sans-Serif\" font-size=\"14.00\" fill=\"#000000\">samples = 5686</text>\n<text text-anchor=\"start\" x=\"767.5\" y=\"-1078.8\" font-family=\"Helvetica,sans-Serif\" font-size=\"14.00\" fill=\"#000000\">value = [24, 5662]</text>\n<text text-anchor=\"start\" x=\"798\" y=\"-1063.8\" font-family=\"Helvetica,sans-Serif\" font-size=\"14.00\" fill=\"#000000\">class = r</text>\n</g>\n<!-- 10&#45;&gt;11 -->\n<g id=\"edge11\" class=\"edge\">\n<title>10&#45;&gt;11</title>\n<path fill=\"none\" stroke=\"#000000\" d=\"M1069.4231,-1189.9422C1019.3969,-1170.9832 952.1773,-1145.5083 900.9715,-1126.1022\"/>\n<polygon fill=\"#000000\" stroke=\"#000000\" points=\"902.1957,-1122.8233 891.6044,-1122.5523 899.715,-1129.3691 902.1957,-1122.8233\"/>\n</g>\n<!-- 48 -->\n<g id=\"node49\" class=\"node\">\n<title>48</title>\n<path fill=\"#47a4e7\" stroke=\"#000000\" d=\"M1211,-1139C1211,-1139 1068,-1139 1068,-1139 1062,-1139 1056,-1133 1056,-1127 1056,-1127 1056,-1068 1056,-1068 1056,-1062 1062,-1056 1068,-1056 1068,-1056 1211,-1056 1211,-1056 1217,-1056 1223,-1062 1223,-1068 1223,-1068 1223,-1127 1223,-1127 1223,-1133 1217,-1139 1211,-1139\"/>\n<text text-anchor=\"start\" x=\"1064\" y=\"-1123.8\" font-family=\"Helvetica,sans-Serif\" font-size=\"14.00\" fill=\"#000000\">log.annual.inc ≤ 10.916</text>\n<text text-anchor=\"start\" x=\"1088.5\" y=\"-1108.8\" font-family=\"Helvetica,sans-Serif\" font-size=\"14.00\" fill=\"#000000\">entropy = 0.345</text>\n<text text-anchor=\"start\" x=\"1091.5\" y=\"-1093.8\" font-family=\"Helvetica,sans-Serif\" font-size=\"14.00\" fill=\"#000000\">samples = 295</text>\n<text text-anchor=\"start\" x=\"1085.5\" y=\"-1078.8\" font-family=\"Helvetica,sans-Serif\" font-size=\"14.00\" fill=\"#000000\">value = [19, 276]</text>\n<text text-anchor=\"start\" x=\"1112\" y=\"-1063.8\" font-family=\"Helvetica,sans-Serif\" font-size=\"14.00\" fill=\"#000000\">class = r</text>\n</g>\n<!-- 10&#45;&gt;48 -->\n<g id=\"edge48\" class=\"edge\">\n<title>10&#45;&gt;48</title>\n<path fill=\"none\" stroke=\"#000000\" d=\"M1139.5,-1174.8796C1139.5,-1166.6838 1139.5,-1157.9891 1139.5,-1149.5013\"/>\n<polygon fill=\"#000000\" stroke=\"#000000\" points=\"1143.0001,-1149.298 1139.5,-1139.2981 1136.0001,-1149.2981 1143.0001,-1149.298\"/>\n</g>\n<!-- 12 -->\n<g id=\"node13\" class=\"node\">\n<title>12</title>\n<path fill=\"#46a3e7\" stroke=\"#000000\" d=\"M645.5,-1020C645.5,-1020 545.5,-1020 545.5,-1020 539.5,-1020 533.5,-1014 533.5,-1008 533.5,-1008 533.5,-949 533.5,-949 533.5,-943 539.5,-937 545.5,-937 545.5,-937 645.5,-937 645.5,-937 651.5,-937 657.5,-943 657.5,-949 657.5,-949 657.5,-1008 657.5,-1008 657.5,-1014 651.5,-1020 645.5,-1020\"/>\n<text text-anchor=\"start\" x=\"547.5\" y=\"-1004.8\" font-family=\"Helvetica,sans-Serif\" font-size=\"14.00\" fill=\"#000000\">int.rate ≤ 0.109</text>\n<text text-anchor=\"start\" x=\"544.5\" y=\"-989.8\" font-family=\"Helvetica,sans-Serif\" font-size=\"14.00\" fill=\"#000000\">entropy = 0.333</text>\n<text text-anchor=\"start\" x=\"547.5\" y=\"-974.8\" font-family=\"Helvetica,sans-Serif\" font-size=\"14.00\" fill=\"#000000\">samples = 179</text>\n<text text-anchor=\"start\" x=\"541.5\" y=\"-959.8\" font-family=\"Helvetica,sans-Serif\" font-size=\"14.00\" fill=\"#000000\">value = [11, 168]</text>\n<text text-anchor=\"start\" x=\"568\" y=\"-944.8\" font-family=\"Helvetica,sans-Serif\" font-size=\"14.00\" fill=\"#000000\">class = r</text>\n</g>\n<!-- 11&#45;&gt;12 -->\n<g id=\"edge12\" class=\"edge\">\n<title>11&#45;&gt;12</title>\n<path fill=\"none\" stroke=\"#000000\" d=\"M759.283,-1063.2399C730.2988,-1048.2437 696.2395,-1030.6217 666.709,-1015.3429\"/>\n<polygon fill=\"#000000\" stroke=\"#000000\" points=\"668.1905,-1012.1687 657.7005,-1010.682 664.9737,-1018.3859 668.1905,-1012.1687\"/>\n</g>\n<!-- 23 -->\n<g id=\"node24\" class=\"node\">\n<title>23</title>\n<path fill=\"#399de5\" stroke=\"#000000\" d=\"M897,-1020C897,-1020 754,-1020 754,-1020 748,-1020 742,-1014 742,-1008 742,-1008 742,-949 742,-949 742,-943 748,-937 754,-937 754,-937 897,-937 897,-937 903,-937 909,-943 909,-949 909,-949 909,-1008 909,-1008 909,-1014 903,-1020 897,-1020\"/>\n<text text-anchor=\"start\" x=\"750\" y=\"-1004.8\" font-family=\"Helvetica,sans-Serif\" font-size=\"14.00\" fill=\"#000000\">log.annual.inc ≤ 10.493</text>\n<text text-anchor=\"start\" x=\"774.5\" y=\"-989.8\" font-family=\"Helvetica,sans-Serif\" font-size=\"14.00\" fill=\"#000000\">entropy = 0.024</text>\n<text text-anchor=\"start\" x=\"773.5\" y=\"-974.8\" font-family=\"Helvetica,sans-Serif\" font-size=\"14.00\" fill=\"#000000\">samples = 5507</text>\n<text text-anchor=\"start\" x=\"767.5\" y=\"-959.8\" font-family=\"Helvetica,sans-Serif\" font-size=\"14.00\" fill=\"#000000\">value = [13, 5494]</text>\n<text text-anchor=\"start\" x=\"798\" y=\"-944.8\" font-family=\"Helvetica,sans-Serif\" font-size=\"14.00\" fill=\"#000000\">class = r</text>\n</g>\n<!-- 11&#45;&gt;23 -->\n<g id=\"edge23\" class=\"edge\">\n<title>11&#45;&gt;23</title>\n<path fill=\"none\" stroke=\"#000000\" d=\"M825.5,-1055.8796C825.5,-1047.6838 825.5,-1038.9891 825.5,-1030.5013\"/>\n<polygon fill=\"#000000\" stroke=\"#000000\" points=\"829.0001,-1030.298 825.5,-1020.2981 822.0001,-1030.2981 829.0001,-1030.298\"/>\n</g>\n<!-- 13 -->\n<g id=\"node14\" class=\"node\">\n<title>13</title>\n<path fill=\"#5eafea\" stroke=\"#000000\" d=\"M507.5,-901C507.5,-901 413.5,-901 413.5,-901 407.5,-901 401.5,-895 401.5,-889 401.5,-889 401.5,-830 401.5,-830 401.5,-824 407.5,-818 413.5,-818 413.5,-818 507.5,-818 507.5,-818 513.5,-818 519.5,-824 519.5,-830 519.5,-830 519.5,-889 519.5,-889 519.5,-895 513.5,-901 507.5,-901\"/>\n<text text-anchor=\"start\" x=\"412\" y=\"-885.8\" font-family=\"Helvetica,sans-Serif\" font-size=\"14.00\" fill=\"#000000\">revol.util ≤ 0.05</text>\n<text text-anchor=\"start\" x=\"409.5\" y=\"-870.8\" font-family=\"Helvetica,sans-Serif\" font-size=\"14.00\" fill=\"#000000\">entropy = 0.627</text>\n<text text-anchor=\"start\" x=\"416.5\" y=\"-855.8\" font-family=\"Helvetica,sans-Serif\" font-size=\"14.00\" fill=\"#000000\">samples = 70</text>\n<text text-anchor=\"start\" x=\"410.5\" y=\"-840.8\" font-family=\"Helvetica,sans-Serif\" font-size=\"14.00\" fill=\"#000000\">value = [11, 59]</text>\n<text text-anchor=\"start\" x=\"433\" y=\"-825.8\" font-family=\"Helvetica,sans-Serif\" font-size=\"14.00\" fill=\"#000000\">class = r</text>\n</g>\n<!-- 12&#45;&gt;13 -->\n<g id=\"edge13\" class=\"edge\">\n<title>12&#45;&gt;13</title>\n<path fill=\"none\" stroke=\"#000000\" d=\"M548.2836,-936.8796C537.7598,-927.6031 526.5109,-917.6874 515.6979,-908.1559\"/>\n<polygon fill=\"#000000\" stroke=\"#000000\" points=\"517.734,-905.2851 507.918,-901.2981 513.1052,-910.5362 517.734,-905.2851\"/>\n</g>\n<!-- 22 -->\n<g id=\"node23\" class=\"node\">\n<title>22</title>\n<path fill=\"#399de5\" stroke=\"#000000\" d=\"M641.5,-893.5C641.5,-893.5 549.5,-893.5 549.5,-893.5 543.5,-893.5 537.5,-887.5 537.5,-881.5 537.5,-881.5 537.5,-837.5 537.5,-837.5 537.5,-831.5 543.5,-825.5 549.5,-825.5 549.5,-825.5 641.5,-825.5 641.5,-825.5 647.5,-825.5 653.5,-831.5 653.5,-837.5 653.5,-837.5 653.5,-881.5 653.5,-881.5 653.5,-887.5 647.5,-893.5 641.5,-893.5\"/>\n<text text-anchor=\"start\" x=\"553\" y=\"-878.3\" font-family=\"Helvetica,sans-Serif\" font-size=\"14.00\" fill=\"#000000\">entropy = 0.0</text>\n<text text-anchor=\"start\" x=\"547.5\" y=\"-863.3\" font-family=\"Helvetica,sans-Serif\" font-size=\"14.00\" fill=\"#000000\">samples = 109</text>\n<text text-anchor=\"start\" x=\"545.5\" y=\"-848.3\" font-family=\"Helvetica,sans-Serif\" font-size=\"14.00\" fill=\"#000000\">value = [0, 109]</text>\n<text text-anchor=\"start\" x=\"568\" y=\"-833.3\" font-family=\"Helvetica,sans-Serif\" font-size=\"14.00\" fill=\"#000000\">class = r</text>\n</g>\n<!-- 12&#45;&gt;22 -->\n<g id=\"edge22\" class=\"edge\">\n<title>12&#45;&gt;22</title>\n<path fill=\"none\" stroke=\"#000000\" d=\"M595.5,-936.8796C595.5,-926.2134 595.5,-914.7021 595.5,-903.9015\"/>\n<polygon fill=\"#000000\" stroke=\"#000000\" points=\"599.0001,-903.8149 595.5,-893.8149 592.0001,-903.815 599.0001,-903.8149\"/>\n</g>\n<!-- 14 -->\n<g id=\"node15\" class=\"node\">\n<title>14</title>\n<path fill=\"#43a2e6\" stroke=\"#000000\" d=\"M372.5,-782C372.5,-782 242.5,-782 242.5,-782 236.5,-782 230.5,-776 230.5,-770 230.5,-770 230.5,-711 230.5,-711 230.5,-705 236.5,-699 242.5,-699 242.5,-699 372.5,-699 372.5,-699 378.5,-699 384.5,-705 384.5,-711 384.5,-711 384.5,-770 384.5,-770 384.5,-776 378.5,-782 372.5,-782\"/>\n<text text-anchor=\"start\" x=\"238.5\" y=\"-766.8\" font-family=\"Helvetica,sans-Serif\" font-size=\"14.00\" fill=\"#000000\">installment ≤ 218.955</text>\n<text text-anchor=\"start\" x=\"256.5\" y=\"-751.8\" font-family=\"Helvetica,sans-Serif\" font-size=\"14.00\" fill=\"#000000\">entropy = 0.283</text>\n<text text-anchor=\"start\" x=\"263.5\" y=\"-736.8\" font-family=\"Helvetica,sans-Serif\" font-size=\"14.00\" fill=\"#000000\">samples = 61</text>\n<text text-anchor=\"start\" x=\"262\" y=\"-721.8\" font-family=\"Helvetica,sans-Serif\" font-size=\"14.00\" fill=\"#000000\">value = [3, 58]</text>\n<text text-anchor=\"start\" x=\"280\" y=\"-706.8\" font-family=\"Helvetica,sans-Serif\" font-size=\"14.00\" fill=\"#000000\">class = r</text>\n</g>\n<!-- 13&#45;&gt;14 -->\n<g id=\"edge14\" class=\"edge\">\n<title>13&#45;&gt;14</title>\n<path fill=\"none\" stroke=\"#000000\" d=\"M406.988,-817.8796C394.7588,-808.368 381.6656,-798.1843 369.1268,-788.432\"/>\n<polygon fill=\"#000000\" stroke=\"#000000\" points=\"371.0241,-785.4736 360.9818,-782.0969 366.7265,-790.9991 371.0241,-785.4736\"/>\n</g>\n<!-- 21 -->\n<g id=\"node22\" class=\"node\">\n<title>21</title>\n<path fill=\"#e89152\" stroke=\"#000000\" d=\"M508.5,-774.5C508.5,-774.5 414.5,-774.5 414.5,-774.5 408.5,-774.5 402.5,-768.5 402.5,-762.5 402.5,-762.5 402.5,-718.5 402.5,-718.5 402.5,-712.5 408.5,-706.5 414.5,-706.5 414.5,-706.5 508.5,-706.5 508.5,-706.5 514.5,-706.5 520.5,-712.5 520.5,-718.5 520.5,-718.5 520.5,-762.5 520.5,-762.5 520.5,-768.5 514.5,-774.5 508.5,-774.5\"/>\n<text text-anchor=\"start\" x=\"410.5\" y=\"-759.3\" font-family=\"Helvetica,sans-Serif\" font-size=\"14.00\" fill=\"#000000\">entropy = 0.503</text>\n<text text-anchor=\"start\" x=\"422\" y=\"-744.3\" font-family=\"Helvetica,sans-Serif\" font-size=\"14.00\" fill=\"#000000\">samples = 9</text>\n<text text-anchor=\"start\" x=\"420\" y=\"-729.3\" font-family=\"Helvetica,sans-Serif\" font-size=\"14.00\" fill=\"#000000\">value = [8, 1]</text>\n<text text-anchor=\"start\" x=\"432.5\" y=\"-714.3\" font-family=\"Helvetica,sans-Serif\" font-size=\"14.00\" fill=\"#000000\">class = c</text>\n</g>\n<!-- 13&#45;&gt;21 -->\n<g id=\"edge21\" class=\"edge\">\n<title>13&#45;&gt;21</title>\n<path fill=\"none\" stroke=\"#000000\" d=\"M460.8498,-817.8796C460.9394,-807.2134 461.0361,-795.7021 461.1269,-784.9015\"/>\n<polygon fill=\"#000000\" stroke=\"#000000\" points=\"464.6274,-784.844 461.2116,-774.8149 457.6276,-784.7851 464.6274,-784.844\"/>\n</g>\n<!-- 15 -->\n<g id=\"node16\" class=\"node\">\n<title>15</title>\n<path fill=\"#4ea8e8\" stroke=\"#000000\" d=\"M244,-663C244,-663 127,-663 127,-663 121,-663 115,-657 115,-651 115,-651 115,-592 115,-592 115,-586 121,-580 127,-580 127,-580 244,-580 244,-580 250,-580 256,-586 256,-592 256,-592 256,-651 256,-651 256,-657 250,-663 244,-663\"/>\n<text text-anchor=\"start\" x=\"123\" y=\"-647.8\" font-family=\"Helvetica,sans-Serif\" font-size=\"14.00\" fill=\"#000000\">inq.last.6mths ≤ 0.5</text>\n<text text-anchor=\"start\" x=\"134.5\" y=\"-632.8\" font-family=\"Helvetica,sans-Serif\" font-size=\"14.00\" fill=\"#000000\">entropy = 0.459</text>\n<text text-anchor=\"start\" x=\"141.5\" y=\"-617.8\" font-family=\"Helvetica,sans-Serif\" font-size=\"14.00\" fill=\"#000000\">samples = 31</text>\n<text text-anchor=\"start\" x=\"140\" y=\"-602.8\" font-family=\"Helvetica,sans-Serif\" font-size=\"14.00\" fill=\"#000000\">value = [3, 28]</text>\n<text text-anchor=\"start\" x=\"158\" y=\"-587.8\" font-family=\"Helvetica,sans-Serif\" font-size=\"14.00\" fill=\"#000000\">class = r</text>\n</g>\n<!-- 14&#45;&gt;15 -->\n<g id=\"edge15\" class=\"edge\">\n<title>14&#45;&gt;15</title>\n<path fill=\"none\" stroke=\"#000000\" d=\"M264.8303,-698.8796C255.4123,-689.6931 245.3516,-679.8798 235.6672,-670.4336\"/>\n<polygon fill=\"#000000\" stroke=\"#000000\" points=\"237.9543,-667.7751 228.3518,-663.2981 233.0665,-672.7861 237.9543,-667.7751\"/>\n</g>\n<!-- 20 -->\n<g id=\"node21\" class=\"node\">\n<title>20</title>\n<path fill=\"#399de5\" stroke=\"#000000\" d=\"M369,-655.5C369,-655.5 286,-655.5 286,-655.5 280,-655.5 274,-649.5 274,-643.5 274,-643.5 274,-599.5 274,-599.5 274,-593.5 280,-587.5 286,-587.5 286,-587.5 369,-587.5 369,-587.5 375,-587.5 381,-593.5 381,-599.5 381,-599.5 381,-643.5 381,-643.5 381,-649.5 375,-655.5 369,-655.5\"/>\n<text text-anchor=\"start\" x=\"285\" y=\"-640.3\" font-family=\"Helvetica,sans-Serif\" font-size=\"14.00\" fill=\"#000000\">entropy = 0.0</text>\n<text text-anchor=\"start\" x=\"283.5\" y=\"-625.3\" font-family=\"Helvetica,sans-Serif\" font-size=\"14.00\" fill=\"#000000\">samples = 30</text>\n<text text-anchor=\"start\" x=\"282\" y=\"-610.3\" font-family=\"Helvetica,sans-Serif\" font-size=\"14.00\" fill=\"#000000\">value = [0, 30]</text>\n<text text-anchor=\"start\" x=\"300\" y=\"-595.3\" font-family=\"Helvetica,sans-Serif\" font-size=\"14.00\" fill=\"#000000\">class = r</text>\n</g>\n<!-- 14&#45;&gt;20 -->\n<g id=\"edge20\" class=\"edge\">\n<title>14&#45;&gt;20</title>\n<path fill=\"none\" stroke=\"#000000\" d=\"M314.495,-698.8796C316.2877,-688.2134 318.2223,-676.7021 320.0376,-665.9015\"/>\n<polygon fill=\"#000000\" stroke=\"#000000\" points=\"323.5269,-666.2568 321.7328,-655.8149 316.6237,-665.0965 323.5269,-666.2568\"/>\n</g>\n<!-- 16 -->\n<g id=\"node17\" class=\"node\">\n<title>16</title>\n<path fill=\"#399de5\" stroke=\"#000000\" d=\"M95,-536.5C95,-536.5 12,-536.5 12,-536.5 6,-536.5 0,-530.5 0,-524.5 0,-524.5 0,-480.5 0,-480.5 0,-474.5 6,-468.5 12,-468.5 12,-468.5 95,-468.5 95,-468.5 101,-468.5 107,-474.5 107,-480.5 107,-480.5 107,-524.5 107,-524.5 107,-530.5 101,-536.5 95,-536.5\"/>\n<text text-anchor=\"start\" x=\"11\" y=\"-521.3\" font-family=\"Helvetica,sans-Serif\" font-size=\"14.00\" fill=\"#000000\">entropy = 0.0</text>\n<text text-anchor=\"start\" x=\"9.5\" y=\"-506.3\" font-family=\"Helvetica,sans-Serif\" font-size=\"14.00\" fill=\"#000000\">samples = 17</text>\n<text text-anchor=\"start\" x=\"8\" y=\"-491.3\" font-family=\"Helvetica,sans-Serif\" font-size=\"14.00\" fill=\"#000000\">value = [0, 17]</text>\n<text text-anchor=\"start\" x=\"26\" y=\"-476.3\" font-family=\"Helvetica,sans-Serif\" font-size=\"14.00\" fill=\"#000000\">class = r</text>\n</g>\n<!-- 15&#45;&gt;16 -->\n<g id=\"edge16\" class=\"edge\">\n<title>15&#45;&gt;16</title>\n<path fill=\"none\" stroke=\"#000000\" d=\"M139.3328,-579.8796C126.2817,-568.1138 112.0899,-555.3197 99.0739,-543.5855\"/>\n<polygon fill=\"#000000\" stroke=\"#000000\" points=\"101.3346,-540.9113 91.5636,-536.8149 96.6474,-546.1104 101.3346,-540.9113\"/>\n</g>\n<!-- 17 -->\n<g id=\"node18\" class=\"node\">\n<title>17</title>\n<path fill=\"#6fb8ec\" stroke=\"#000000\" d=\"M254,-544C254,-544 137,-544 137,-544 131,-544 125,-538 125,-532 125,-532 125,-473 125,-473 125,-467 131,-461 137,-461 137,-461 254,-461 254,-461 260,-461 266,-467 266,-473 266,-473 266,-532 266,-532 266,-538 260,-544 254,-544\"/>\n<text text-anchor=\"start\" x=\"133\" y=\"-528.8\" font-family=\"Helvetica,sans-Serif\" font-size=\"14.00\" fill=\"#000000\">inq.last.6mths ≤ 1.5</text>\n<text text-anchor=\"start\" x=\"148.5\" y=\"-513.8\" font-family=\"Helvetica,sans-Serif\" font-size=\"14.00\" fill=\"#000000\">entropy = 0.75</text>\n<text text-anchor=\"start\" x=\"151.5\" y=\"-498.8\" font-family=\"Helvetica,sans-Serif\" font-size=\"14.00\" fill=\"#000000\">samples = 14</text>\n<text text-anchor=\"start\" x=\"150\" y=\"-483.8\" font-family=\"Helvetica,sans-Serif\" font-size=\"14.00\" fill=\"#000000\">value = [3, 11]</text>\n<text text-anchor=\"start\" x=\"168\" y=\"-468.8\" font-family=\"Helvetica,sans-Serif\" font-size=\"14.00\" fill=\"#000000\">class = r</text>\n</g>\n<!-- 15&#45;&gt;17 -->\n<g id=\"edge17\" class=\"edge\">\n<title>15&#45;&gt;17</title>\n<path fill=\"none\" stroke=\"#000000\" d=\"M188.9975,-579.8796C189.6862,-571.6838 190.4169,-562.9891 191.1301,-554.5013\"/>\n<polygon fill=\"#000000\" stroke=\"#000000\" points=\"194.6378,-554.5561 191.9876,-544.2981 187.6624,-553.9698 194.6378,-554.5561\"/>\n</g>\n<!-- 18 -->\n<g id=\"node19\" class=\"node\">\n<title>18</title>\n<path fill=\"#b0d8f5\" stroke=\"#000000\" d=\"M116.5,-417.5C116.5,-417.5 22.5,-417.5 22.5,-417.5 16.5,-417.5 10.5,-411.5 10.5,-405.5 10.5,-405.5 10.5,-361.5 10.5,-361.5 10.5,-355.5 16.5,-349.5 22.5,-349.5 22.5,-349.5 116.5,-349.5 116.5,-349.5 122.5,-349.5 128.5,-355.5 128.5,-361.5 128.5,-361.5 128.5,-405.5 128.5,-405.5 128.5,-411.5 122.5,-417.5 116.5,-417.5\"/>\n<text text-anchor=\"start\" x=\"18.5\" y=\"-402.3\" font-family=\"Helvetica,sans-Serif\" font-size=\"14.00\" fill=\"#000000\">entropy = 0.954</text>\n<text text-anchor=\"start\" x=\"30\" y=\"-387.3\" font-family=\"Helvetica,sans-Serif\" font-size=\"14.00\" fill=\"#000000\">samples = 8</text>\n<text text-anchor=\"start\" x=\"28\" y=\"-372.3\" font-family=\"Helvetica,sans-Serif\" font-size=\"14.00\" fill=\"#000000\">value = [3, 5]</text>\n<text text-anchor=\"start\" x=\"42\" y=\"-357.3\" font-family=\"Helvetica,sans-Serif\" font-size=\"14.00\" fill=\"#000000\">class = r</text>\n</g>\n<!-- 17&#45;&gt;18 -->\n<g id=\"edge18\" class=\"edge\">\n<title>17&#45;&gt;18</title>\n<path fill=\"none\" stroke=\"#000000\" d=\"M151.4313,-460.8796C139.0898,-449.2237 125.6798,-436.5587 113.351,-424.9148\"/>\n<polygon fill=\"#000000\" stroke=\"#000000\" points=\"115.5068,-422.1366 105.8335,-417.8149 110.7004,-427.2258 115.5068,-422.1366\"/>\n</g>\n<!-- 19 -->\n<g id=\"node20\" class=\"node\">\n<title>19</title>\n<path fill=\"#399de5\" stroke=\"#000000\" d=\"M236,-417.5C236,-417.5 159,-417.5 159,-417.5 153,-417.5 147,-411.5 147,-405.5 147,-405.5 147,-361.5 147,-361.5 147,-355.5 153,-349.5 159,-349.5 159,-349.5 236,-349.5 236,-349.5 242,-349.5 248,-355.5 248,-361.5 248,-361.5 248,-405.5 248,-405.5 248,-411.5 242,-417.5 236,-417.5\"/>\n<text text-anchor=\"start\" x=\"155\" y=\"-402.3\" font-family=\"Helvetica,sans-Serif\" font-size=\"14.00\" fill=\"#000000\">entropy = 0.0</text>\n<text text-anchor=\"start\" x=\"158\" y=\"-387.3\" font-family=\"Helvetica,sans-Serif\" font-size=\"14.00\" fill=\"#000000\">samples = 6</text>\n<text text-anchor=\"start\" x=\"156\" y=\"-372.3\" font-family=\"Helvetica,sans-Serif\" font-size=\"14.00\" fill=\"#000000\">value = [0, 6]</text>\n<text text-anchor=\"start\" x=\"170\" y=\"-357.3\" font-family=\"Helvetica,sans-Serif\" font-size=\"14.00\" fill=\"#000000\">class = r</text>\n</g>\n<!-- 17&#45;&gt;19 -->\n<g id=\"edge19\" class=\"edge\">\n<title>17&#45;&gt;19</title>\n<path fill=\"none\" stroke=\"#000000\" d=\"M196.1995,-460.8796C196.3788,-450.2134 196.5722,-438.7021 196.7538,-427.9015\"/>\n<polygon fill=\"#000000\" stroke=\"#000000\" points=\"200.2546,-427.8724 196.9233,-417.8149 193.2556,-427.7547 200.2546,-427.8724\"/>\n</g>\n<!-- 24 -->\n<g id=\"node25\" class=\"node\">\n<title>24</title>\n<path fill=\"#3b9ee5\" stroke=\"#000000\" d=\"M799.5,-901C799.5,-901 683.5,-901 683.5,-901 677.5,-901 671.5,-895 671.5,-889 671.5,-889 671.5,-830 671.5,-830 671.5,-824 677.5,-818 683.5,-818 683.5,-818 799.5,-818 799.5,-818 805.5,-818 811.5,-824 811.5,-830 811.5,-830 811.5,-889 811.5,-889 811.5,-895 805.5,-901 799.5,-901\"/>\n<text text-anchor=\"start\" x=\"679.5\" y=\"-885.8\" font-family=\"Helvetica,sans-Serif\" font-size=\"14.00\" fill=\"#000000\">revol.bal ≤ 25145.5</text>\n<text text-anchor=\"start\" x=\"690.5\" y=\"-870.8\" font-family=\"Helvetica,sans-Serif\" font-size=\"14.00\" fill=\"#000000\">entropy = 0.084</text>\n<text text-anchor=\"start\" x=\"689.5\" y=\"-855.8\" font-family=\"Helvetica,sans-Serif\" font-size=\"14.00\" fill=\"#000000\">samples = 1241</text>\n<text text-anchor=\"start\" x=\"683.5\" y=\"-840.8\" font-family=\"Helvetica,sans-Serif\" font-size=\"14.00\" fill=\"#000000\">value = [13, 1228]</text>\n<text text-anchor=\"start\" x=\"714\" y=\"-825.8\" font-family=\"Helvetica,sans-Serif\" font-size=\"14.00\" fill=\"#000000\">class = r</text>\n</g>\n<!-- 23&#45;&gt;24 -->\n<g id=\"edge24\" class=\"edge\">\n<title>23&#45;&gt;24</title>\n<path fill=\"none\" stroke=\"#000000\" d=\"M796.1209,-936.8796C789.8906,-928.0534 783.2519,-918.6485 776.827,-909.5466\"/>\n<polygon fill=\"#000000\" stroke=\"#000000\" points=\"779.6308,-907.4494 771.0045,-901.2981 773.912,-911.4862 779.6308,-907.4494\"/>\n</g>\n<!-- 47 -->\n<g id=\"node48\" class=\"node\">\n<title>47</title>\n<path fill=\"#399de5\" stroke=\"#000000\" d=\"M941.5,-893.5C941.5,-893.5 841.5,-893.5 841.5,-893.5 835.5,-893.5 829.5,-887.5 829.5,-881.5 829.5,-881.5 829.5,-837.5 829.5,-837.5 829.5,-831.5 835.5,-825.5 841.5,-825.5 841.5,-825.5 941.5,-825.5 941.5,-825.5 947.5,-825.5 953.5,-831.5 953.5,-837.5 953.5,-837.5 953.5,-881.5 953.5,-881.5 953.5,-887.5 947.5,-893.5 941.5,-893.5\"/>\n<text text-anchor=\"start\" x=\"849\" y=\"-878.3\" font-family=\"Helvetica,sans-Serif\" font-size=\"14.00\" fill=\"#000000\">entropy = 0.0</text>\n<text text-anchor=\"start\" x=\"839.5\" y=\"-863.3\" font-family=\"Helvetica,sans-Serif\" font-size=\"14.00\" fill=\"#000000\">samples = 4266</text>\n<text text-anchor=\"start\" x=\"837.5\" y=\"-848.3\" font-family=\"Helvetica,sans-Serif\" font-size=\"14.00\" fill=\"#000000\">value = [0, 4266]</text>\n<text text-anchor=\"start\" x=\"864\" y=\"-833.3\" font-family=\"Helvetica,sans-Serif\" font-size=\"14.00\" fill=\"#000000\">class = r</text>\n</g>\n<!-- 23&#45;&gt;47 -->\n<g id=\"edge47\" class=\"edge\">\n<title>23&#45;&gt;47</title>\n<path fill=\"none\" stroke=\"#000000\" d=\"M848.5836,-936.8796C854.7433,-925.7735 861.4111,-913.7513 867.6129,-902.5691\"/>\n<polygon fill=\"#000000\" stroke=\"#000000\" points=\"870.6787,-904.2576 872.4682,-893.8149 864.5572,-900.8624 870.6787,-904.2576\"/>\n</g>\n<!-- 25 -->\n<g id=\"node26\" class=\"node\">\n<title>25</title>\n<path fill=\"#3a9ee5\" stroke=\"#000000\" d=\"M790.5,-782C790.5,-782 690.5,-782 690.5,-782 684.5,-782 678.5,-776 678.5,-770 678.5,-770 678.5,-711 678.5,-711 678.5,-705 684.5,-699 690.5,-699 690.5,-699 790.5,-699 790.5,-699 796.5,-699 802.5,-705 802.5,-711 802.5,-711 802.5,-770 802.5,-770 802.5,-776 796.5,-782 790.5,-782\"/>\n<text text-anchor=\"start\" x=\"692.5\" y=\"-766.8\" font-family=\"Helvetica,sans-Serif\" font-size=\"14.00\" fill=\"#000000\">int.rate ≤ 0.116</text>\n<text text-anchor=\"start\" x=\"689.5\" y=\"-751.8\" font-family=\"Helvetica,sans-Serif\" font-size=\"14.00\" fill=\"#000000\">entropy = 0.051</text>\n<text text-anchor=\"start\" x=\"688.5\" y=\"-736.8\" font-family=\"Helvetica,sans-Serif\" font-size=\"14.00\" fill=\"#000000\">samples = 1227</text>\n<text text-anchor=\"start\" x=\"686.5\" y=\"-721.8\" font-family=\"Helvetica,sans-Serif\" font-size=\"14.00\" fill=\"#000000\">value = [7, 1220]</text>\n<text text-anchor=\"start\" x=\"713\" y=\"-706.8\" font-family=\"Helvetica,sans-Serif\" font-size=\"14.00\" fill=\"#000000\">class = r</text>\n</g>\n<!-- 24&#45;&gt;25 -->\n<g id=\"edge25\" class=\"edge\">\n<title>24&#45;&gt;25</title>\n<path fill=\"none\" stroke=\"#000000\" d=\"M741.1502,-817.8796C741.0814,-809.6838 741.0083,-800.9891 740.937,-792.5013\"/>\n<polygon fill=\"#000000\" stroke=\"#000000\" points=\"744.4352,-792.2683 740.8512,-782.2981 737.4355,-792.3272 744.4352,-792.2683\"/>\n</g>\n<!-- 44 -->\n<g id=\"node45\" class=\"node\">\n<title>44</title>\n<path fill=\"#cee6f8\" stroke=\"#000000\" d=\"M930.5,-782C930.5,-782 832.5,-782 832.5,-782 826.5,-782 820.5,-776 820.5,-770 820.5,-770 820.5,-711 820.5,-711 820.5,-705 826.5,-699 832.5,-699 832.5,-699 930.5,-699 930.5,-699 936.5,-699 942.5,-705 942.5,-711 942.5,-711 942.5,-770 942.5,-770 942.5,-776 936.5,-782 930.5,-782\"/>\n<text text-anchor=\"start\" x=\"828.5\" y=\"-766.8\" font-family=\"Helvetica,sans-Serif\" font-size=\"14.00\" fill=\"#000000\">revol.util ≤ 49.75</text>\n<text text-anchor=\"start\" x=\"830.5\" y=\"-751.8\" font-family=\"Helvetica,sans-Serif\" font-size=\"14.00\" fill=\"#000000\">entropy = 0.985</text>\n<text text-anchor=\"start\" x=\"837.5\" y=\"-736.8\" font-family=\"Helvetica,sans-Serif\" font-size=\"14.00\" fill=\"#000000\">samples = 14</text>\n<text text-anchor=\"start\" x=\"840\" y=\"-721.8\" font-family=\"Helvetica,sans-Serif\" font-size=\"14.00\" fill=\"#000000\">value = [6, 8]</text>\n<text text-anchor=\"start\" x=\"854\" y=\"-706.8\" font-family=\"Helvetica,sans-Serif\" font-size=\"14.00\" fill=\"#000000\">class = r</text>\n</g>\n<!-- 24&#45;&gt;44 -->\n<g id=\"edge44\" class=\"edge\">\n<title>24&#45;&gt;44</title>\n<path fill=\"none\" stroke=\"#000000\" d=\"M790.4652,-817.8796C801.4847,-808.513 813.2709,-798.4948 824.5842,-788.8784\"/>\n<polygon fill=\"#000000\" stroke=\"#000000\" points=\"826.9732,-791.4414 832.3258,-782.2981 822.4396,-786.1078 826.9732,-791.4414\"/>\n</g>\n<!-- 26 -->\n<g id=\"node27\" class=\"node\">\n<title>26</title>\n<path fill=\"#3b9ee5\" stroke=\"#000000\" d=\"M661.5,-663C661.5,-663 527.5,-663 527.5,-663 521.5,-663 515.5,-657 515.5,-651 515.5,-651 515.5,-592 515.5,-592 515.5,-586 521.5,-580 527.5,-580 527.5,-580 661.5,-580 661.5,-580 667.5,-580 673.5,-586 673.5,-592 673.5,-592 673.5,-651 673.5,-651 673.5,-657 667.5,-663 661.5,-663\"/>\n<text text-anchor=\"start\" x=\"523.5\" y=\"-647.8\" font-family=\"Helvetica,sans-Serif\" font-size=\"14.00\" fill=\"#000000\">log.annual.inc ≤ 9.904</text>\n<text text-anchor=\"start\" x=\"543.5\" y=\"-632.8\" font-family=\"Helvetica,sans-Serif\" font-size=\"14.00\" fill=\"#000000\">entropy = 0.097</text>\n<text text-anchor=\"start\" x=\"546.5\" y=\"-617.8\" font-family=\"Helvetica,sans-Serif\" font-size=\"14.00\" fill=\"#000000\">samples = 563</text>\n<text text-anchor=\"start\" x=\"544.5\" y=\"-602.8\" font-family=\"Helvetica,sans-Serif\" font-size=\"14.00\" fill=\"#000000\">value = [7, 556]</text>\n<text text-anchor=\"start\" x=\"567\" y=\"-587.8\" font-family=\"Helvetica,sans-Serif\" font-size=\"14.00\" fill=\"#000000\">class = r</text>\n</g>\n<!-- 25&#45;&gt;26 -->\n<g id=\"edge26\" class=\"edge\">\n<title>25&#45;&gt;26</title>\n<path fill=\"none\" stroke=\"#000000\" d=\"M689.4363,-698.8796C677.9445,-689.513 665.6532,-679.4948 653.855,-669.8784\"/>\n<polygon fill=\"#000000\" stroke=\"#000000\" points=\"655.7444,-666.903 645.7817,-663.2981 651.3218,-672.329 655.7444,-666.903\"/>\n</g>\n<!-- 43 -->\n<g id=\"node44\" class=\"node\">\n<title>43</title>\n<path fill=\"#399de5\" stroke=\"#000000\" d=\"M795.5,-655.5C795.5,-655.5 703.5,-655.5 703.5,-655.5 697.5,-655.5 691.5,-649.5 691.5,-643.5 691.5,-643.5 691.5,-599.5 691.5,-599.5 691.5,-593.5 697.5,-587.5 703.5,-587.5 703.5,-587.5 795.5,-587.5 795.5,-587.5 801.5,-587.5 807.5,-593.5 807.5,-599.5 807.5,-599.5 807.5,-643.5 807.5,-643.5 807.5,-649.5 801.5,-655.5 795.5,-655.5\"/>\n<text text-anchor=\"start\" x=\"707\" y=\"-640.3\" font-family=\"Helvetica,sans-Serif\" font-size=\"14.00\" fill=\"#000000\">entropy = 0.0</text>\n<text text-anchor=\"start\" x=\"701.5\" y=\"-625.3\" font-family=\"Helvetica,sans-Serif\" font-size=\"14.00\" fill=\"#000000\">samples = 664</text>\n<text text-anchor=\"start\" x=\"699.5\" y=\"-610.3\" font-family=\"Helvetica,sans-Serif\" font-size=\"14.00\" fill=\"#000000\">value = [0, 664]</text>\n<text text-anchor=\"start\" x=\"722\" y=\"-595.3\" font-family=\"Helvetica,sans-Serif\" font-size=\"14.00\" fill=\"#000000\">class = r</text>\n</g>\n<!-- 25&#45;&gt;43 -->\n<g id=\"edge43\" class=\"edge\">\n<title>25&#45;&gt;43</title>\n<path fill=\"none\" stroke=\"#000000\" d=\"M743.6478,-698.8796C744.4545,-688.2134 745.3251,-676.7021 746.1419,-665.9015\"/>\n<polygon fill=\"#000000\" stroke=\"#000000\" points=\"749.6405,-666.0504 746.9048,-655.8149 742.6605,-665.5225 749.6405,-666.0504\"/>\n</g>\n<!-- 27 -->\n<g id=\"node28\" class=\"node\">\n<title>27</title>\n<path fill=\"#43a2e6\" stroke=\"#000000\" d=\"M647,-544C647,-544 540,-544 540,-544 534,-544 528,-538 528,-532 528,-532 528,-473 528,-473 528,-467 534,-461 540,-461 540,-461 647,-461 647,-461 653,-461 659,-467 659,-473 659,-473 659,-532 659,-532 659,-538 653,-544 647,-544\"/>\n<text text-anchor=\"start\" x=\"536\" y=\"-528.8\" font-family=\"Helvetica,sans-Serif\" font-size=\"14.00\" fill=\"#000000\">revol.bal ≤ 9328.0</text>\n<text text-anchor=\"start\" x=\"542.5\" y=\"-513.8\" font-family=\"Helvetica,sans-Serif\" font-size=\"14.00\" fill=\"#000000\">entropy = 0.272</text>\n<text text-anchor=\"start\" x=\"545.5\" y=\"-498.8\" font-family=\"Helvetica,sans-Serif\" font-size=\"14.00\" fill=\"#000000\">samples = 107</text>\n<text text-anchor=\"start\" x=\"543.5\" y=\"-483.8\" font-family=\"Helvetica,sans-Serif\" font-size=\"14.00\" fill=\"#000000\">value = [5, 102]</text>\n<text text-anchor=\"start\" x=\"566\" y=\"-468.8\" font-family=\"Helvetica,sans-Serif\" font-size=\"14.00\" fill=\"#000000\">class = r</text>\n</g>\n<!-- 26&#45;&gt;27 -->\n<g id=\"edge27\" class=\"edge\">\n<title>26&#45;&gt;27</title>\n<path fill=\"none\" stroke=\"#000000\" d=\"M594.1502,-579.8796C594.0814,-571.6838 594.0083,-562.9891 593.937,-554.5013\"/>\n<polygon fill=\"#000000\" stroke=\"#000000\" points=\"597.4352,-554.2683 593.8512,-544.2981 590.4355,-554.3272 597.4352,-554.2683\"/>\n</g>\n<!-- 34 -->\n<g id=\"node35\" class=\"node\">\n<title>34</title>\n<path fill=\"#3a9de5\" stroke=\"#000000\" d=\"M840.5,-544C840.5,-544 746.5,-544 746.5,-544 740.5,-544 734.5,-538 734.5,-532 734.5,-532 734.5,-473 734.5,-473 734.5,-467 740.5,-461 746.5,-461 746.5,-461 840.5,-461 840.5,-461 846.5,-461 852.5,-467 852.5,-473 852.5,-473 852.5,-532 852.5,-532 852.5,-538 846.5,-544 840.5,-544\"/>\n<text text-anchor=\"start\" x=\"760\" y=\"-528.8\" font-family=\"Helvetica,sans-Serif\" font-size=\"14.00\" fill=\"#000000\">dti ≤ 2.635</text>\n<text text-anchor=\"start\" x=\"742.5\" y=\"-513.8\" font-family=\"Helvetica,sans-Serif\" font-size=\"14.00\" fill=\"#000000\">entropy = 0.041</text>\n<text text-anchor=\"start\" x=\"745.5\" y=\"-498.8\" font-family=\"Helvetica,sans-Serif\" font-size=\"14.00\" fill=\"#000000\">samples = 456</text>\n<text text-anchor=\"start\" x=\"743.5\" y=\"-483.8\" font-family=\"Helvetica,sans-Serif\" font-size=\"14.00\" fill=\"#000000\">value = [2, 454]</text>\n<text text-anchor=\"start\" x=\"766\" y=\"-468.8\" font-family=\"Helvetica,sans-Serif\" font-size=\"14.00\" fill=\"#000000\">class = r</text>\n</g>\n<!-- 26&#45;&gt;34 -->\n<g id=\"edge34\" class=\"edge\">\n<title>26&#45;&gt;34</title>\n<path fill=\"none\" stroke=\"#000000\" d=\"M664.1005,-579.8796C684.0178,-567.9692 705.6972,-555.0052 725.5162,-543.1536\"/>\n<polygon fill=\"#000000\" stroke=\"#000000\" points=\"727.3946,-546.1085 734.1808,-537.9723 723.802,-540.1007 727.3946,-546.1085\"/>\n</g>\n<!-- 28 -->\n<g id=\"node29\" class=\"node\">\n<title>28</title>\n<path fill=\"#3b9ee5\" stroke=\"#000000\" d=\"M442.5,-425C442.5,-425 348.5,-425 348.5,-425 342.5,-425 336.5,-419 336.5,-413 336.5,-413 336.5,-354 336.5,-354 336.5,-348 342.5,-342 348.5,-342 348.5,-342 442.5,-342 442.5,-342 448.5,-342 454.5,-348 454.5,-354 454.5,-354 454.5,-413 454.5,-413 454.5,-419 448.5,-425 442.5,-425\"/>\n<text text-anchor=\"start\" x=\"362\" y=\"-409.8\" font-family=\"Helvetica,sans-Serif\" font-size=\"14.00\" fill=\"#000000\">dti ≤ 1.415</text>\n<text text-anchor=\"start\" x=\"344.5\" y=\"-394.8\" font-family=\"Helvetica,sans-Serif\" font-size=\"14.00\" fill=\"#000000\">entropy = 0.084</text>\n<text text-anchor=\"start\" x=\"351.5\" y=\"-379.8\" font-family=\"Helvetica,sans-Serif\" font-size=\"14.00\" fill=\"#000000\">samples = 95</text>\n<text text-anchor=\"start\" x=\"350\" y=\"-364.8\" font-family=\"Helvetica,sans-Serif\" font-size=\"14.00\" fill=\"#000000\">value = [1, 94]</text>\n<text text-anchor=\"start\" x=\"368\" y=\"-349.8\" font-family=\"Helvetica,sans-Serif\" font-size=\"14.00\" fill=\"#000000\">class = r</text>\n</g>\n<!-- 27&#45;&gt;28 -->\n<g id=\"edge28\" class=\"edge\">\n<title>27&#45;&gt;28</title>\n<path fill=\"none\" stroke=\"#000000\" d=\"M527.8439,-463.04C507.1591,-450.6082 484.2755,-436.8549 463.4354,-424.3299\"/>\n<polygon fill=\"#000000\" stroke=\"#000000\" points=\"465.0156,-421.1961 454.6415,-419.0446 461.4096,-427.1959 465.0156,-421.1961\"/>\n</g>\n<!-- 31 -->\n<g id=\"node32\" class=\"node\">\n<title>31</title>\n<path fill=\"#9ccef2\" stroke=\"#000000\" d=\"M671,-425C671,-425 516,-425 516,-425 510,-425 504,-419 504,-413 504,-413 504,-354 504,-354 504,-348 510,-342 516,-342 516,-342 671,-342 671,-342 677,-342 683,-348 683,-354 683,-354 683,-413 683,-413 683,-419 677,-425 671,-425\"/>\n<text text-anchor=\"start\" x=\"512\" y=\"-409.8\" font-family=\"Helvetica,sans-Serif\" font-size=\"14.00\" fill=\"#000000\">days.with.cr.line ≤ 5116.0</text>\n<text text-anchor=\"start\" x=\"542.5\" y=\"-394.8\" font-family=\"Helvetica,sans-Serif\" font-size=\"14.00\" fill=\"#000000\">entropy = 0.918</text>\n<text text-anchor=\"start\" x=\"549.5\" y=\"-379.8\" font-family=\"Helvetica,sans-Serif\" font-size=\"14.00\" fill=\"#000000\">samples = 12</text>\n<text text-anchor=\"start\" x=\"552\" y=\"-364.8\" font-family=\"Helvetica,sans-Serif\" font-size=\"14.00\" fill=\"#000000\">value = [4, 8]</text>\n<text text-anchor=\"start\" x=\"566\" y=\"-349.8\" font-family=\"Helvetica,sans-Serif\" font-size=\"14.00\" fill=\"#000000\">class = r</text>\n</g>\n<!-- 27&#45;&gt;31 -->\n<g id=\"edge31\" class=\"edge\">\n<title>27&#45;&gt;31</title>\n<path fill=\"none\" stroke=\"#000000\" d=\"M593.5,-460.8796C593.5,-452.6838 593.5,-443.9891 593.5,-435.5013\"/>\n<polygon fill=\"#000000\" stroke=\"#000000\" points=\"597.0001,-435.298 593.5,-425.2981 590.0001,-435.2981 597.0001,-435.298\"/>\n</g>\n<!-- 29 -->\n<g id=\"node30\" class=\"node\">\n<title>29</title>\n<path fill=\"#6ab6ec\" stroke=\"#000000\" d=\"M311.5,-298.5C311.5,-298.5 217.5,-298.5 217.5,-298.5 211.5,-298.5 205.5,-292.5 205.5,-286.5 205.5,-286.5 205.5,-242.5 205.5,-242.5 205.5,-236.5 211.5,-230.5 217.5,-230.5 217.5,-230.5 311.5,-230.5 311.5,-230.5 317.5,-230.5 323.5,-236.5 323.5,-242.5 323.5,-242.5 323.5,-286.5 323.5,-286.5 323.5,-292.5 317.5,-298.5 311.5,-298.5\"/>\n<text text-anchor=\"start\" x=\"213.5\" y=\"-283.3\" font-family=\"Helvetica,sans-Serif\" font-size=\"14.00\" fill=\"#000000\">entropy = 0.722</text>\n<text text-anchor=\"start\" x=\"225\" y=\"-268.3\" font-family=\"Helvetica,sans-Serif\" font-size=\"14.00\" fill=\"#000000\">samples = 5</text>\n<text text-anchor=\"start\" x=\"223\" y=\"-253.3\" font-family=\"Helvetica,sans-Serif\" font-size=\"14.00\" fill=\"#000000\">value = [1, 4]</text>\n<text text-anchor=\"start\" x=\"237\" y=\"-238.3\" font-family=\"Helvetica,sans-Serif\" font-size=\"14.00\" fill=\"#000000\">class = r</text>\n</g>\n<!-- 28&#45;&gt;29 -->\n<g id=\"edge29\" class=\"edge\">\n<title>28&#45;&gt;29</title>\n<path fill=\"none\" stroke=\"#000000\" d=\"M349.6826,-341.8796C336.7303,-330.1138 322.646,-317.3197 309.7286,-305.5855\"/>\n<polygon fill=\"#000000\" stroke=\"#000000\" points=\"312.0306,-302.9482 302.2753,-298.8149 307.3239,-308.1296 312.0306,-302.9482\"/>\n</g>\n<!-- 30 -->\n<g id=\"node31\" class=\"node\">\n<title>30</title>\n<path fill=\"#399de5\" stroke=\"#000000\" d=\"M437,-298.5C437,-298.5 354,-298.5 354,-298.5 348,-298.5 342,-292.5 342,-286.5 342,-286.5 342,-242.5 342,-242.5 342,-236.5 348,-230.5 354,-230.5 354,-230.5 437,-230.5 437,-230.5 443,-230.5 449,-236.5 449,-242.5 449,-242.5 449,-286.5 449,-286.5 449,-292.5 443,-298.5 437,-298.5\"/>\n<text text-anchor=\"start\" x=\"353\" y=\"-283.3\" font-family=\"Helvetica,sans-Serif\" font-size=\"14.00\" fill=\"#000000\">entropy = 0.0</text>\n<text text-anchor=\"start\" x=\"351.5\" y=\"-268.3\" font-family=\"Helvetica,sans-Serif\" font-size=\"14.00\" fill=\"#000000\">samples = 90</text>\n<text text-anchor=\"start\" x=\"350\" y=\"-253.3\" font-family=\"Helvetica,sans-Serif\" font-size=\"14.00\" fill=\"#000000\">value = [0, 90]</text>\n<text text-anchor=\"start\" x=\"368\" y=\"-238.3\" font-family=\"Helvetica,sans-Serif\" font-size=\"14.00\" fill=\"#000000\">class = r</text>\n</g>\n<!-- 28&#45;&gt;30 -->\n<g id=\"edge30\" class=\"edge\">\n<title>28&#45;&gt;30</title>\n<path fill=\"none\" stroke=\"#000000\" d=\"M395.5,-341.8796C395.5,-331.2134 395.5,-319.7021 395.5,-308.9015\"/>\n<polygon fill=\"#000000\" stroke=\"#000000\" points=\"399.0001,-308.8149 395.5,-298.8149 392.0001,-308.815 399.0001,-308.8149\"/>\n</g>\n<!-- 32 -->\n<g id=\"node33\" class=\"node\">\n<title>32</title>\n<path fill=\"#f6d5bd\" stroke=\"#000000\" d=\"M573.5,-298.5C573.5,-298.5 479.5,-298.5 479.5,-298.5 473.5,-298.5 467.5,-292.5 467.5,-286.5 467.5,-286.5 467.5,-242.5 467.5,-242.5 467.5,-236.5 473.5,-230.5 479.5,-230.5 479.5,-230.5 573.5,-230.5 573.5,-230.5 579.5,-230.5 585.5,-236.5 585.5,-242.5 585.5,-242.5 585.5,-286.5 585.5,-286.5 585.5,-292.5 579.5,-298.5 573.5,-298.5\"/>\n<text text-anchor=\"start\" x=\"475.5\" y=\"-283.3\" font-family=\"Helvetica,sans-Serif\" font-size=\"14.00\" fill=\"#000000\">entropy = 0.971</text>\n<text text-anchor=\"start\" x=\"487\" y=\"-268.3\" font-family=\"Helvetica,sans-Serif\" font-size=\"14.00\" fill=\"#000000\">samples = 5</text>\n<text text-anchor=\"start\" x=\"485\" y=\"-253.3\" font-family=\"Helvetica,sans-Serif\" font-size=\"14.00\" fill=\"#000000\">value = [3, 2]</text>\n<text text-anchor=\"start\" x=\"497.5\" y=\"-238.3\" font-family=\"Helvetica,sans-Serif\" font-size=\"14.00\" fill=\"#000000\">class = c</text>\n</g>\n<!-- 31&#45;&gt;32 -->\n<g id=\"edge32\" class=\"edge\">\n<title>31&#45;&gt;32</title>\n<path fill=\"none\" stroke=\"#000000\" d=\"M570.0667,-341.8796C563.8137,-330.7735 557.0448,-318.7513 550.749,-307.5691\"/>\n<polygon fill=\"#000000\" stroke=\"#000000\" points=\"553.7761,-305.8116 545.8202,-298.8149 547.6765,-309.2459 553.7761,-305.8116\"/>\n</g>\n<!-- 33 -->\n<g id=\"node34\" class=\"node\">\n<title>33</title>\n<path fill=\"#5aade9\" stroke=\"#000000\" d=\"M709.5,-298.5C709.5,-298.5 615.5,-298.5 615.5,-298.5 609.5,-298.5 603.5,-292.5 603.5,-286.5 603.5,-286.5 603.5,-242.5 603.5,-242.5 603.5,-236.5 609.5,-230.5 615.5,-230.5 615.5,-230.5 709.5,-230.5 709.5,-230.5 715.5,-230.5 721.5,-236.5 721.5,-242.5 721.5,-242.5 721.5,-286.5 721.5,-286.5 721.5,-292.5 715.5,-298.5 709.5,-298.5\"/>\n<text text-anchor=\"start\" x=\"611.5\" y=\"-283.3\" font-family=\"Helvetica,sans-Serif\" font-size=\"14.00\" fill=\"#000000\">entropy = 0.592</text>\n<text text-anchor=\"start\" x=\"623\" y=\"-268.3\" font-family=\"Helvetica,sans-Serif\" font-size=\"14.00\" fill=\"#000000\">samples = 7</text>\n<text text-anchor=\"start\" x=\"621\" y=\"-253.3\" font-family=\"Helvetica,sans-Serif\" font-size=\"14.00\" fill=\"#000000\">value = [1, 6]</text>\n<text text-anchor=\"start\" x=\"635\" y=\"-238.3\" font-family=\"Helvetica,sans-Serif\" font-size=\"14.00\" fill=\"#000000\">class = r</text>\n</g>\n<!-- 31&#45;&gt;33 -->\n<g id=\"edge33\" class=\"edge\">\n<title>31&#45;&gt;33</title>\n<path fill=\"none\" stroke=\"#000000\" d=\"M617.6329,-341.8796C624.0725,-330.7735 631.0434,-318.7513 637.5271,-307.5691\"/>\n<polygon fill=\"#000000\" stroke=\"#000000\" points=\"640.6148,-309.2215 642.6031,-298.8149 634.5591,-305.7102 640.6148,-309.2215\"/>\n</g>\n<!-- 35 -->\n<g id=\"node36\" class=\"node\">\n<title>35</title>\n<path fill=\"#40a1e6\" stroke=\"#000000\" d=\"M842.5,-425C842.5,-425 744.5,-425 744.5,-425 738.5,-425 732.5,-419 732.5,-413 732.5,-413 732.5,-354 732.5,-354 732.5,-348 738.5,-342 744.5,-342 744.5,-342 842.5,-342 842.5,-342 848.5,-342 854.5,-348 854.5,-354 854.5,-354 854.5,-413 854.5,-413 854.5,-419 848.5,-425 842.5,-425\"/>\n<text text-anchor=\"start\" x=\"740.5\" y=\"-409.8\" font-family=\"Helvetica,sans-Serif\" font-size=\"14.00\" fill=\"#000000\">revol.util ≤ 14.15</text>\n<text text-anchor=\"start\" x=\"742.5\" y=\"-394.8\" font-family=\"Helvetica,sans-Serif\" font-size=\"14.00\" fill=\"#000000\">entropy = 0.219</text>\n<text text-anchor=\"start\" x=\"749.5\" y=\"-379.8\" font-family=\"Helvetica,sans-Serif\" font-size=\"14.00\" fill=\"#000000\">samples = 57</text>\n<text text-anchor=\"start\" x=\"748\" y=\"-364.8\" font-family=\"Helvetica,sans-Serif\" font-size=\"14.00\" fill=\"#000000\">value = [2, 55]</text>\n<text text-anchor=\"start\" x=\"766\" y=\"-349.8\" font-family=\"Helvetica,sans-Serif\" font-size=\"14.00\" fill=\"#000000\">class = r</text>\n</g>\n<!-- 34&#45;&gt;35 -->\n<g id=\"edge35\" class=\"edge\">\n<title>34&#45;&gt;35</title>\n<path fill=\"none\" stroke=\"#000000\" d=\"M793.5,-460.8796C793.5,-452.6838 793.5,-443.9891 793.5,-435.5013\"/>\n<polygon fill=\"#000000\" stroke=\"#000000\" points=\"797.0001,-435.298 793.5,-425.2981 790.0001,-435.2981 797.0001,-435.298\"/>\n</g>\n<!-- 42 -->\n<g id=\"node43\" class=\"node\">\n<title>42</title>\n<path fill=\"#399de5\" stroke=\"#000000\" d=\"M976.5,-417.5C976.5,-417.5 884.5,-417.5 884.5,-417.5 878.5,-417.5 872.5,-411.5 872.5,-405.5 872.5,-405.5 872.5,-361.5 872.5,-361.5 872.5,-355.5 878.5,-349.5 884.5,-349.5 884.5,-349.5 976.5,-349.5 976.5,-349.5 982.5,-349.5 988.5,-355.5 988.5,-361.5 988.5,-361.5 988.5,-405.5 988.5,-405.5 988.5,-411.5 982.5,-417.5 976.5,-417.5\"/>\n<text text-anchor=\"start\" x=\"888\" y=\"-402.3\" font-family=\"Helvetica,sans-Serif\" font-size=\"14.00\" fill=\"#000000\">entropy = 0.0</text>\n<text text-anchor=\"start\" x=\"882.5\" y=\"-387.3\" font-family=\"Helvetica,sans-Serif\" font-size=\"14.00\" fill=\"#000000\">samples = 399</text>\n<text text-anchor=\"start\" x=\"880.5\" y=\"-372.3\" font-family=\"Helvetica,sans-Serif\" font-size=\"14.00\" fill=\"#000000\">value = [0, 399]</text>\n<text text-anchor=\"start\" x=\"903\" y=\"-357.3\" font-family=\"Helvetica,sans-Serif\" font-size=\"14.00\" fill=\"#000000\">class = r</text>\n</g>\n<!-- 34&#45;&gt;42 -->\n<g id=\"edge42\" class=\"edge\">\n<title>34&#45;&gt;42</title>\n<path fill=\"none\" stroke=\"#000000\" d=\"M841.416,-460.8796C854.9615,-449.1138 869.6908,-436.3197 883.1998,-424.5855\"/>\n<polygon fill=\"#000000\" stroke=\"#000000\" points=\"885.7401,-427.015 890.9946,-417.8149 881.1497,-421.7303 885.7401,-427.015\"/>\n</g>\n<!-- 36 -->\n<g id=\"node37\" class=\"node\">\n<title>36</title>\n<path fill=\"#399de5\" stroke=\"#000000\" d=\"M835,-298.5C835,-298.5 752,-298.5 752,-298.5 746,-298.5 740,-292.5 740,-286.5 740,-286.5 740,-242.5 740,-242.5 740,-236.5 746,-230.5 752,-230.5 752,-230.5 835,-230.5 835,-230.5 841,-230.5 847,-236.5 847,-242.5 847,-242.5 847,-286.5 847,-286.5 847,-292.5 841,-298.5 835,-298.5\"/>\n<text text-anchor=\"start\" x=\"751\" y=\"-283.3\" font-family=\"Helvetica,sans-Serif\" font-size=\"14.00\" fill=\"#000000\">entropy = 0.0</text>\n<text text-anchor=\"start\" x=\"749.5\" y=\"-268.3\" font-family=\"Helvetica,sans-Serif\" font-size=\"14.00\" fill=\"#000000\">samples = 34</text>\n<text text-anchor=\"start\" x=\"748\" y=\"-253.3\" font-family=\"Helvetica,sans-Serif\" font-size=\"14.00\" fill=\"#000000\">value = [0, 34]</text>\n<text text-anchor=\"start\" x=\"766\" y=\"-238.3\" font-family=\"Helvetica,sans-Serif\" font-size=\"14.00\" fill=\"#000000\">class = r</text>\n</g>\n<!-- 35&#45;&gt;36 -->\n<g id=\"edge36\" class=\"edge\">\n<title>35&#45;&gt;36</title>\n<path fill=\"none\" stroke=\"#000000\" d=\"M793.5,-341.8796C793.5,-331.2134 793.5,-319.7021 793.5,-308.9015\"/>\n<polygon fill=\"#000000\" stroke=\"#000000\" points=\"797.0001,-308.8149 793.5,-298.8149 790.0001,-308.815 797.0001,-308.8149\"/>\n</g>\n<!-- 37 -->\n<g id=\"node38\" class=\"node\">\n<title>37</title>\n<path fill=\"#4ca6e7\" stroke=\"#000000\" d=\"M1048,-306C1048,-306 877,-306 877,-306 871,-306 865,-300 865,-294 865,-294 865,-235 865,-235 865,-229 871,-223 877,-223 877,-223 1048,-223 1048,-223 1054,-223 1060,-229 1060,-235 1060,-235 1060,-294 1060,-294 1060,-300 1054,-306 1048,-306\"/>\n<text text-anchor=\"start\" x=\"873\" y=\"-290.8\" font-family=\"Helvetica,sans-Serif\" font-size=\"14.00\" fill=\"#000000\">days.with.cr.line ≤ 2579.979</text>\n<text text-anchor=\"start\" x=\"911.5\" y=\"-275.8\" font-family=\"Helvetica,sans-Serif\" font-size=\"14.00\" fill=\"#000000\">entropy = 0.426</text>\n<text text-anchor=\"start\" x=\"918.5\" y=\"-260.8\" font-family=\"Helvetica,sans-Serif\" font-size=\"14.00\" fill=\"#000000\">samples = 23</text>\n<text text-anchor=\"start\" x=\"917\" y=\"-245.8\" font-family=\"Helvetica,sans-Serif\" font-size=\"14.00\" fill=\"#000000\">value = [2, 21]</text>\n<text text-anchor=\"start\" x=\"935\" y=\"-230.8\" font-family=\"Helvetica,sans-Serif\" font-size=\"14.00\" fill=\"#000000\">class = r</text>\n</g>\n<!-- 35&#45;&gt;37 -->\n<g id=\"edge37\" class=\"edge\">\n<title>35&#45;&gt;37</title>\n<path fill=\"none\" stroke=\"#000000\" d=\"M852.608,-341.8796C866.3734,-332.1868 881.1299,-321.7961 895.2193,-311.8752\"/>\n<polygon fill=\"#000000\" stroke=\"#000000\" points=\"897.2641,-314.716 903.4254,-306.0969 893.2339,-308.9926 897.2641,-314.716\"/>\n</g>\n<!-- 38 -->\n<g id=\"node39\" class=\"node\">\n<title>38</title>\n<path fill=\"#399de5\" stroke=\"#000000\" d=\"M939,-179.5C939,-179.5 856,-179.5 856,-179.5 850,-179.5 844,-173.5 844,-167.5 844,-167.5 844,-123.5 844,-123.5 844,-117.5 850,-111.5 856,-111.5 856,-111.5 939,-111.5 939,-111.5 945,-111.5 951,-117.5 951,-123.5 951,-123.5 951,-167.5 951,-167.5 951,-173.5 945,-179.5 939,-179.5\"/>\n<text text-anchor=\"start\" x=\"855\" y=\"-164.3\" font-family=\"Helvetica,sans-Serif\" font-size=\"14.00\" fill=\"#000000\">entropy = 0.0</text>\n<text text-anchor=\"start\" x=\"853.5\" y=\"-149.3\" font-family=\"Helvetica,sans-Serif\" font-size=\"14.00\" fill=\"#000000\">samples = 12</text>\n<text text-anchor=\"start\" x=\"852\" y=\"-134.3\" font-family=\"Helvetica,sans-Serif\" font-size=\"14.00\" fill=\"#000000\">value = [0, 12]</text>\n<text text-anchor=\"start\" x=\"870\" y=\"-119.3\" font-family=\"Helvetica,sans-Serif\" font-size=\"14.00\" fill=\"#000000\">class = r</text>\n</g>\n<!-- 37&#45;&gt;38 -->\n<g id=\"edge38\" class=\"edge\">\n<title>37&#45;&gt;38</title>\n<path fill=\"none\" stroke=\"#000000\" d=\"M939.7662,-222.8796C933.7599,-211.8835 927.263,-199.9893 921.2067,-188.9015\"/>\n<polygon fill=\"#000000\" stroke=\"#000000\" points=\"924.1088,-186.9133 916.2435,-179.8149 917.9655,-190.2689 924.1088,-186.9133\"/>\n</g>\n<!-- 39 -->\n<g id=\"node40\" class=\"node\">\n<title>39</title>\n<path fill=\"#65b3eb\" stroke=\"#000000\" d=\"M1075.5,-187C1075.5,-187 981.5,-187 981.5,-187 975.5,-187 969.5,-181 969.5,-175 969.5,-175 969.5,-116 969.5,-116 969.5,-110 975.5,-104 981.5,-104 981.5,-104 1075.5,-104 1075.5,-104 1081.5,-104 1087.5,-110 1087.5,-116 1087.5,-116 1087.5,-175 1087.5,-175 1087.5,-181 1081.5,-187 1075.5,-187\"/>\n<text text-anchor=\"start\" x=\"980.5\" y=\"-171.8\" font-family=\"Helvetica,sans-Serif\" font-size=\"14.00\" fill=\"#000000\">int.rate ≤ 0.095</text>\n<text text-anchor=\"start\" x=\"977.5\" y=\"-156.8\" font-family=\"Helvetica,sans-Serif\" font-size=\"14.00\" fill=\"#000000\">entropy = 0.684</text>\n<text text-anchor=\"start\" x=\"984.5\" y=\"-141.8\" font-family=\"Helvetica,sans-Serif\" font-size=\"14.00\" fill=\"#000000\">samples = 11</text>\n<text text-anchor=\"start\" x=\"987\" y=\"-126.8\" font-family=\"Helvetica,sans-Serif\" font-size=\"14.00\" fill=\"#000000\">value = [2, 9]</text>\n<text text-anchor=\"start\" x=\"1001\" y=\"-111.8\" font-family=\"Helvetica,sans-Serif\" font-size=\"14.00\" fill=\"#000000\">class = r</text>\n</g>\n<!-- 37&#45;&gt;39 -->\n<g id=\"edge39\" class=\"edge\">\n<title>37&#45;&gt;39</title>\n<path fill=\"none\" stroke=\"#000000\" d=\"M985.5836,-222.8796C990.3789,-214.2335 995.4822,-205.0322 1000.4338,-196.1042\"/>\n<polygon fill=\"#000000\" stroke=\"#000000\" points=\"1003.5284,-197.7407 1005.3179,-187.2981 997.4069,-194.3455 1003.5284,-197.7407\"/>\n</g>\n<!-- 40 -->\n<g id=\"node41\" class=\"node\">\n<title>40</title>\n<path fill=\"#6ab6ec\" stroke=\"#000000\" d=\"M1009.5,-68C1009.5,-68 915.5,-68 915.5,-68 909.5,-68 903.5,-62 903.5,-56 903.5,-56 903.5,-12 903.5,-12 903.5,-6 909.5,0 915.5,0 915.5,0 1009.5,0 1009.5,0 1015.5,0 1021.5,-6 1021.5,-12 1021.5,-12 1021.5,-56 1021.5,-56 1021.5,-62 1015.5,-68 1009.5,-68\"/>\n<text text-anchor=\"start\" x=\"911.5\" y=\"-52.8\" font-family=\"Helvetica,sans-Serif\" font-size=\"14.00\" fill=\"#000000\">entropy = 0.722</text>\n<text text-anchor=\"start\" x=\"923\" y=\"-37.8\" font-family=\"Helvetica,sans-Serif\" font-size=\"14.00\" fill=\"#000000\">samples = 5</text>\n<text text-anchor=\"start\" x=\"921\" y=\"-22.8\" font-family=\"Helvetica,sans-Serif\" font-size=\"14.00\" fill=\"#000000\">value = [1, 4]</text>\n<text text-anchor=\"start\" x=\"935\" y=\"-7.8\" font-family=\"Helvetica,sans-Serif\" font-size=\"14.00\" fill=\"#000000\">class = r</text>\n</g>\n<!-- 39&#45;&gt;40 -->\n<g id=\"edge40\" class=\"edge\">\n<title>39&#45;&gt;40</title>\n<path fill=\"none\" stroke=\"#000000\" d=\"M1003.924,-103.9815C998.7014,-95.1585 993.1771,-85.8258 987.9237,-76.9506\"/>\n<polygon fill=\"#000000\" stroke=\"#000000\" points=\"990.8874,-75.0863 982.7816,-68.2637 984.8636,-78.652 990.8874,-75.0863\"/>\n</g>\n<!-- 41 -->\n<g id=\"node42\" class=\"node\">\n<title>41</title>\n<path fill=\"#61b1ea\" stroke=\"#000000\" d=\"M1137.5,-68C1137.5,-68 1051.5,-68 1051.5,-68 1045.5,-68 1039.5,-62 1039.5,-56 1039.5,-56 1039.5,-12 1039.5,-12 1039.5,-6 1045.5,0 1051.5,0 1051.5,0 1137.5,0 1137.5,0 1143.5,0 1149.5,-6 1149.5,-12 1149.5,-12 1149.5,-56 1149.5,-56 1149.5,-62 1143.5,-68 1137.5,-68\"/>\n<text text-anchor=\"start\" x=\"1047.5\" y=\"-52.8\" font-family=\"Helvetica,sans-Serif\" font-size=\"14.00\" fill=\"#000000\">entropy = 0.65</text>\n<text text-anchor=\"start\" x=\"1055\" y=\"-37.8\" font-family=\"Helvetica,sans-Serif\" font-size=\"14.00\" fill=\"#000000\">samples = 6</text>\n<text text-anchor=\"start\" x=\"1053\" y=\"-22.8\" font-family=\"Helvetica,sans-Serif\" font-size=\"14.00\" fill=\"#000000\">value = [1, 5]</text>\n<text text-anchor=\"start\" x=\"1067\" y=\"-7.8\" font-family=\"Helvetica,sans-Serif\" font-size=\"14.00\" fill=\"#000000\">class = r</text>\n</g>\n<!-- 39&#45;&gt;41 -->\n<g id=\"edge41\" class=\"edge\">\n<title>39&#45;&gt;41</title>\n<path fill=\"none\" stroke=\"#000000\" d=\"M1053.076,-103.9815C1058.2986,-95.1585 1063.8229,-85.8258 1069.0763,-76.9506\"/>\n<polygon fill=\"#000000\" stroke=\"#000000\" points=\"1072.1364,-78.652 1074.2184,-68.2637 1066.1126,-75.0863 1072.1364,-78.652\"/>\n</g>\n<!-- 45 -->\n<g id=\"node46\" class=\"node\">\n<title>45</title>\n<path fill=\"#399de5\" stroke=\"#000000\" d=\"M920,-655.5C920,-655.5 843,-655.5 843,-655.5 837,-655.5 831,-649.5 831,-643.5 831,-643.5 831,-599.5 831,-599.5 831,-593.5 837,-587.5 843,-587.5 843,-587.5 920,-587.5 920,-587.5 926,-587.5 932,-593.5 932,-599.5 932,-599.5 932,-643.5 932,-643.5 932,-649.5 926,-655.5 920,-655.5\"/>\n<text text-anchor=\"start\" x=\"839\" y=\"-640.3\" font-family=\"Helvetica,sans-Serif\" font-size=\"14.00\" fill=\"#000000\">entropy = 0.0</text>\n<text text-anchor=\"start\" x=\"842\" y=\"-625.3\" font-family=\"Helvetica,sans-Serif\" font-size=\"14.00\" fill=\"#000000\">samples = 5</text>\n<text text-anchor=\"start\" x=\"840\" y=\"-610.3\" font-family=\"Helvetica,sans-Serif\" font-size=\"14.00\" fill=\"#000000\">value = [0, 5]</text>\n<text text-anchor=\"start\" x=\"854\" y=\"-595.3\" font-family=\"Helvetica,sans-Serif\" font-size=\"14.00\" fill=\"#000000\">class = r</text>\n</g>\n<!-- 44&#45;&gt;45 -->\n<g id=\"edge45\" class=\"edge\">\n<title>44&#45;&gt;45</title>\n<path fill=\"none\" stroke=\"#000000\" d=\"M881.5,-698.8796C881.5,-688.2134 881.5,-676.7021 881.5,-665.9015\"/>\n<polygon fill=\"#000000\" stroke=\"#000000\" points=\"885.0001,-665.8149 881.5,-655.8149 878.0001,-665.815 885.0001,-665.8149\"/>\n</g>\n<!-- 46 -->\n<g id=\"node47\" class=\"node\">\n<title>46</title>\n<path fill=\"#f2c09c\" stroke=\"#000000\" d=\"M1056.5,-655.5C1056.5,-655.5 962.5,-655.5 962.5,-655.5 956.5,-655.5 950.5,-649.5 950.5,-643.5 950.5,-643.5 950.5,-599.5 950.5,-599.5 950.5,-593.5 956.5,-587.5 962.5,-587.5 962.5,-587.5 1056.5,-587.5 1056.5,-587.5 1062.5,-587.5 1068.5,-593.5 1068.5,-599.5 1068.5,-599.5 1068.5,-643.5 1068.5,-643.5 1068.5,-649.5 1062.5,-655.5 1056.5,-655.5\"/>\n<text text-anchor=\"start\" x=\"958.5\" y=\"-640.3\" font-family=\"Helvetica,sans-Serif\" font-size=\"14.00\" fill=\"#000000\">entropy = 0.918</text>\n<text text-anchor=\"start\" x=\"970\" y=\"-625.3\" font-family=\"Helvetica,sans-Serif\" font-size=\"14.00\" fill=\"#000000\">samples = 9</text>\n<text text-anchor=\"start\" x=\"968\" y=\"-610.3\" font-family=\"Helvetica,sans-Serif\" font-size=\"14.00\" fill=\"#000000\">value = [6, 3]</text>\n<text text-anchor=\"start\" x=\"980.5\" y=\"-595.3\" font-family=\"Helvetica,sans-Serif\" font-size=\"14.00\" fill=\"#000000\">class = c</text>\n</g>\n<!-- 44&#45;&gt;46 -->\n<g id=\"edge46\" class=\"edge\">\n<title>44&#45;&gt;46</title>\n<path fill=\"none\" stroke=\"#000000\" d=\"M926.2682,-698.8796C938.8056,-687.2237 952.4284,-674.5587 964.953,-662.9148\"/>\n<polygon fill=\"#000000\" stroke=\"#000000\" points=\"967.6491,-665.1872 972.5898,-655.8149 962.8828,-660.0605 967.6491,-665.1872\"/>\n</g>\n<!-- 49 -->\n<g id=\"node50\" class=\"node\">\n<title>49</title>\n<path fill=\"#f1bc96\" stroke=\"#000000\" d=\"M1186.5,-1020C1186.5,-1020 1092.5,-1020 1092.5,-1020 1086.5,-1020 1080.5,-1014 1080.5,-1008 1080.5,-1008 1080.5,-949 1080.5,-949 1080.5,-943 1086.5,-937 1092.5,-937 1092.5,-937 1186.5,-937 1186.5,-937 1192.5,-937 1198.5,-943 1198.5,-949 1198.5,-949 1198.5,-1008 1198.5,-1008 1198.5,-1014 1192.5,-1020 1186.5,-1020\"/>\n<text text-anchor=\"start\" x=\"1102\" y=\"-1004.8\" font-family=\"Helvetica,sans-Serif\" font-size=\"14.00\" fill=\"#000000\">fico ≤ 734.5</text>\n<text text-anchor=\"start\" x=\"1088.5\" y=\"-989.8\" font-family=\"Helvetica,sans-Serif\" font-size=\"14.00\" fill=\"#000000\">entropy = 0.904</text>\n<text text-anchor=\"start\" x=\"1095.5\" y=\"-974.8\" font-family=\"Helvetica,sans-Serif\" font-size=\"14.00\" fill=\"#000000\">samples = 25</text>\n<text text-anchor=\"start\" x=\"1094\" y=\"-959.8\" font-family=\"Helvetica,sans-Serif\" font-size=\"14.00\" fill=\"#000000\">value = [17, 8]</text>\n<text text-anchor=\"start\" x=\"1110.5\" y=\"-944.8\" font-family=\"Helvetica,sans-Serif\" font-size=\"14.00\" fill=\"#000000\">class = c</text>\n</g>\n<!-- 48&#45;&gt;49 -->\n<g id=\"edge49\" class=\"edge\">\n<title>48&#45;&gt;49</title>\n<path fill=\"none\" stroke=\"#000000\" d=\"M1139.5,-1055.8796C1139.5,-1047.6838 1139.5,-1038.9891 1139.5,-1030.5013\"/>\n<polygon fill=\"#000000\" stroke=\"#000000\" points=\"1143.0001,-1030.298 1139.5,-1020.2981 1136.0001,-1030.2981 1143.0001,-1030.298\"/>\n</g>\n<!-- 54 -->\n<g id=\"node55\" class=\"node\">\n<title>54</title>\n<path fill=\"#3a9ee5\" stroke=\"#000000\" d=\"M1371.5,-1020C1371.5,-1020 1255.5,-1020 1255.5,-1020 1249.5,-1020 1243.5,-1014 1243.5,-1008 1243.5,-1008 1243.5,-949 1243.5,-949 1243.5,-943 1249.5,-937 1255.5,-937 1255.5,-937 1371.5,-937 1371.5,-937 1377.5,-937 1383.5,-943 1383.5,-949 1383.5,-949 1383.5,-1008 1383.5,-1008 1383.5,-1014 1377.5,-1020 1371.5,-1020\"/>\n<text text-anchor=\"start\" x=\"1251.5\" y=\"-1004.8\" font-family=\"Helvetica,sans-Serif\" font-size=\"14.00\" fill=\"#000000\">revol.bal ≤ 70700.0</text>\n<text text-anchor=\"start\" x=\"1262.5\" y=\"-989.8\" font-family=\"Helvetica,sans-Serif\" font-size=\"14.00\" fill=\"#000000\">entropy = 0.063</text>\n<text text-anchor=\"start\" x=\"1265.5\" y=\"-974.8\" font-family=\"Helvetica,sans-Serif\" font-size=\"14.00\" fill=\"#000000\">samples = 270</text>\n<text text-anchor=\"start\" x=\"1263.5\" y=\"-959.8\" font-family=\"Helvetica,sans-Serif\" font-size=\"14.00\" fill=\"#000000\">value = [2, 268]</text>\n<text text-anchor=\"start\" x=\"1286\" y=\"-944.8\" font-family=\"Helvetica,sans-Serif\" font-size=\"14.00\" fill=\"#000000\">class = r</text>\n</g>\n<!-- 48&#45;&gt;54 -->\n<g id=\"edge54\" class=\"edge\">\n<title>48&#45;&gt;54</title>\n<path fill=\"none\" stroke=\"#000000\" d=\"M1200.3568,-1055.8796C1214.5294,-1046.1868 1229.7225,-1035.7961 1244.2288,-1025.8752\"/>\n<polygon fill=\"#000000\" stroke=\"#000000\" points=\"1246.3992,-1028.6311 1252.6776,-1020.0969 1242.4475,-1022.8531 1246.3992,-1028.6311\"/>\n</g>\n<!-- 50 -->\n<g id=\"node51\" class=\"node\">\n<title>50</title>\n<path fill=\"#e89050\" stroke=\"#000000\" d=\"M1105.5,-901C1105.5,-901 983.5,-901 983.5,-901 977.5,-901 971.5,-895 971.5,-889 971.5,-889 971.5,-830 971.5,-830 971.5,-824 977.5,-818 983.5,-818 983.5,-818 1105.5,-818 1105.5,-818 1111.5,-818 1117.5,-824 1117.5,-830 1117.5,-830 1117.5,-889 1117.5,-889 1117.5,-895 1111.5,-901 1105.5,-901\"/>\n<text text-anchor=\"start\" x=\"979.5\" y=\"-885.8\" font-family=\"Helvetica,sans-Serif\" font-size=\"14.00\" fill=\"#000000\">installment ≤ 382.29</text>\n<text text-anchor=\"start\" x=\"993.5\" y=\"-870.8\" font-family=\"Helvetica,sans-Serif\" font-size=\"14.00\" fill=\"#000000\">entropy = 0.485</text>\n<text text-anchor=\"start\" x=\"1000.5\" y=\"-855.8\" font-family=\"Helvetica,sans-Serif\" font-size=\"14.00\" fill=\"#000000\">samples = 19</text>\n<text text-anchor=\"start\" x=\"999\" y=\"-840.8\" font-family=\"Helvetica,sans-Serif\" font-size=\"14.00\" fill=\"#000000\">value = [17, 2]</text>\n<text text-anchor=\"start\" x=\"1015.5\" y=\"-825.8\" font-family=\"Helvetica,sans-Serif\" font-size=\"14.00\" fill=\"#000000\">class = c</text>\n</g>\n<!-- 49&#45;&gt;50 -->\n<g id=\"edge50\" class=\"edge\">\n<title>49&#45;&gt;50</title>\n<path fill=\"none\" stroke=\"#000000\" d=\"M1106.2736,-936.8796C1099.1556,-927.9633 1091.5661,-918.4565 1084.2308,-909.268\"/>\n<polygon fill=\"#000000\" stroke=\"#000000\" points=\"1086.8425,-906.9295 1077.8682,-901.2981 1081.3719,-911.2968 1086.8425,-906.9295\"/>\n</g>\n<!-- 53 -->\n<g id=\"node54\" class=\"node\">\n<title>53</title>\n<path fill=\"#399de5\" stroke=\"#000000\" d=\"M1225,-893.5C1225,-893.5 1148,-893.5 1148,-893.5 1142,-893.5 1136,-887.5 1136,-881.5 1136,-881.5 1136,-837.5 1136,-837.5 1136,-831.5 1142,-825.5 1148,-825.5 1148,-825.5 1225,-825.5 1225,-825.5 1231,-825.5 1237,-831.5 1237,-837.5 1237,-837.5 1237,-881.5 1237,-881.5 1237,-887.5 1231,-893.5 1225,-893.5\"/>\n<text text-anchor=\"start\" x=\"1144\" y=\"-878.3\" font-family=\"Helvetica,sans-Serif\" font-size=\"14.00\" fill=\"#000000\">entropy = 0.0</text>\n<text text-anchor=\"start\" x=\"1147\" y=\"-863.3\" font-family=\"Helvetica,sans-Serif\" font-size=\"14.00\" fill=\"#000000\">samples = 6</text>\n<text text-anchor=\"start\" x=\"1145\" y=\"-848.3\" font-family=\"Helvetica,sans-Serif\" font-size=\"14.00\" fill=\"#000000\">value = [0, 6]</text>\n<text text-anchor=\"start\" x=\"1159\" y=\"-833.3\" font-family=\"Helvetica,sans-Serif\" font-size=\"14.00\" fill=\"#000000\">class = r</text>\n</g>\n<!-- 49&#45;&gt;53 -->\n<g id=\"edge53\" class=\"edge\">\n<title>49&#45;&gt;53</title>\n<path fill=\"none\" stroke=\"#000000\" d=\"M1155.9383,-936.8796C1160.2379,-925.9935 1164.8851,-914.227 1169.2268,-903.2344\"/>\n<polygon fill=\"#000000\" stroke=\"#000000\" points=\"1172.5288,-904.4015 1172.947,-893.8149 1166.0182,-901.8301 1172.5288,-904.4015\"/>\n</g>\n<!-- 51 -->\n<g id=\"node52\" class=\"node\">\n<title>51</title>\n<path fill=\"#e58139\" stroke=\"#000000\" d=\"M1070,-774.5C1070,-774.5 987,-774.5 987,-774.5 981,-774.5 975,-768.5 975,-762.5 975,-762.5 975,-718.5 975,-718.5 975,-712.5 981,-706.5 987,-706.5 987,-706.5 1070,-706.5 1070,-706.5 1076,-706.5 1082,-712.5 1082,-718.5 1082,-718.5 1082,-762.5 1082,-762.5 1082,-768.5 1076,-774.5 1070,-774.5\"/>\n<text text-anchor=\"start\" x=\"986\" y=\"-759.3\" font-family=\"Helvetica,sans-Serif\" font-size=\"14.00\" fill=\"#000000\">entropy = 0.0</text>\n<text text-anchor=\"start\" x=\"984.5\" y=\"-744.3\" font-family=\"Helvetica,sans-Serif\" font-size=\"14.00\" fill=\"#000000\">samples = 14</text>\n<text text-anchor=\"start\" x=\"983\" y=\"-729.3\" font-family=\"Helvetica,sans-Serif\" font-size=\"14.00\" fill=\"#000000\">value = [14, 0]</text>\n<text text-anchor=\"start\" x=\"999.5\" y=\"-714.3\" font-family=\"Helvetica,sans-Serif\" font-size=\"14.00\" fill=\"#000000\">class = c</text>\n</g>\n<!-- 50&#45;&gt;51 -->\n<g id=\"edge51\" class=\"edge\">\n<title>50&#45;&gt;51</title>\n<path fill=\"none\" stroke=\"#000000\" d=\"M1038.904,-817.8796C1037.4699,-807.2134 1035.9221,-795.7021 1034.47,-784.9015\"/>\n<polygon fill=\"#000000\" stroke=\"#000000\" points=\"1037.9152,-784.2593 1033.1138,-774.8149 1030.9776,-785.1922 1037.9152,-784.2593\"/>\n</g>\n<!-- 52 -->\n<g id=\"node53\" class=\"node\">\n<title>52</title>\n<path fill=\"#f6d5bd\" stroke=\"#000000\" d=\"M1206.5,-774.5C1206.5,-774.5 1112.5,-774.5 1112.5,-774.5 1106.5,-774.5 1100.5,-768.5 1100.5,-762.5 1100.5,-762.5 1100.5,-718.5 1100.5,-718.5 1100.5,-712.5 1106.5,-706.5 1112.5,-706.5 1112.5,-706.5 1206.5,-706.5 1206.5,-706.5 1212.5,-706.5 1218.5,-712.5 1218.5,-718.5 1218.5,-718.5 1218.5,-762.5 1218.5,-762.5 1218.5,-768.5 1212.5,-774.5 1206.5,-774.5\"/>\n<text text-anchor=\"start\" x=\"1108.5\" y=\"-759.3\" font-family=\"Helvetica,sans-Serif\" font-size=\"14.00\" fill=\"#000000\">entropy = 0.971</text>\n<text text-anchor=\"start\" x=\"1120\" y=\"-744.3\" font-family=\"Helvetica,sans-Serif\" font-size=\"14.00\" fill=\"#000000\">samples = 5</text>\n<text text-anchor=\"start\" x=\"1118\" y=\"-729.3\" font-family=\"Helvetica,sans-Serif\" font-size=\"14.00\" fill=\"#000000\">value = [3, 2]</text>\n<text text-anchor=\"start\" x=\"1130.5\" y=\"-714.3\" font-family=\"Helvetica,sans-Serif\" font-size=\"14.00\" fill=\"#000000\">class = c</text>\n</g>\n<!-- 50&#45;&gt;52 -->\n<g id=\"edge52\" class=\"edge\">\n<title>50&#45;&gt;52</title>\n<path fill=\"none\" stroke=\"#000000\" d=\"M1084.7214,-817.8796C1095.8792,-806.3337 1107.9939,-793.7976 1119.1586,-782.2446\"/>\n<polygon fill=\"#000000\" stroke=\"#000000\" points=\"1121.9061,-784.4381 1126.3385,-774.8149 1116.8725,-779.5736 1121.9061,-784.4381\"/>\n</g>\n<!-- 55 -->\n<g id=\"node56\" class=\"node\">\n<title>55</title>\n<path fill=\"#399de5\" stroke=\"#000000\" d=\"M1359.5,-893.5C1359.5,-893.5 1267.5,-893.5 1267.5,-893.5 1261.5,-893.5 1255.5,-887.5 1255.5,-881.5 1255.5,-881.5 1255.5,-837.5 1255.5,-837.5 1255.5,-831.5 1261.5,-825.5 1267.5,-825.5 1267.5,-825.5 1359.5,-825.5 1359.5,-825.5 1365.5,-825.5 1371.5,-831.5 1371.5,-837.5 1371.5,-837.5 1371.5,-881.5 1371.5,-881.5 1371.5,-887.5 1365.5,-893.5 1359.5,-893.5\"/>\n<text text-anchor=\"start\" x=\"1271\" y=\"-878.3\" font-family=\"Helvetica,sans-Serif\" font-size=\"14.00\" fill=\"#000000\">entropy = 0.0</text>\n<text text-anchor=\"start\" x=\"1265.5\" y=\"-863.3\" font-family=\"Helvetica,sans-Serif\" font-size=\"14.00\" fill=\"#000000\">samples = 245</text>\n<text text-anchor=\"start\" x=\"1263.5\" y=\"-848.3\" font-family=\"Helvetica,sans-Serif\" font-size=\"14.00\" fill=\"#000000\">value = [0, 245]</text>\n<text text-anchor=\"start\" x=\"1286\" y=\"-833.3\" font-family=\"Helvetica,sans-Serif\" font-size=\"14.00\" fill=\"#000000\">class = r</text>\n</g>\n<!-- 54&#45;&gt;55 -->\n<g id=\"edge55\" class=\"edge\">\n<title>54&#45;&gt;55</title>\n<path fill=\"none\" stroke=\"#000000\" d=\"M1313.5,-936.8796C1313.5,-926.2134 1313.5,-914.7021 1313.5,-903.9015\"/>\n<polygon fill=\"#000000\" stroke=\"#000000\" points=\"1317.0001,-903.8149 1313.5,-893.8149 1310.0001,-903.815 1317.0001,-903.8149\"/>\n</g>\n<!-- 56 -->\n<g id=\"node57\" class=\"node\">\n<title>56</title>\n<path fill=\"#4aa6e7\" stroke=\"#000000\" d=\"M1545,-901C1545,-901 1402,-901 1402,-901 1396,-901 1390,-895 1390,-889 1390,-889 1390,-830 1390,-830 1390,-824 1396,-818 1402,-818 1402,-818 1545,-818 1545,-818 1551,-818 1557,-824 1557,-830 1557,-830 1557,-889 1557,-889 1557,-895 1551,-901 1545,-901\"/>\n<text text-anchor=\"start\" x=\"1398\" y=\"-885.8\" font-family=\"Helvetica,sans-Serif\" font-size=\"14.00\" fill=\"#000000\">log.annual.inc ≤ 11.262</text>\n<text text-anchor=\"start\" x=\"1422.5\" y=\"-870.8\" font-family=\"Helvetica,sans-Serif\" font-size=\"14.00\" fill=\"#000000\">entropy = 0.402</text>\n<text text-anchor=\"start\" x=\"1429.5\" y=\"-855.8\" font-family=\"Helvetica,sans-Serif\" font-size=\"14.00\" fill=\"#000000\">samples = 25</text>\n<text text-anchor=\"start\" x=\"1428\" y=\"-840.8\" font-family=\"Helvetica,sans-Serif\" font-size=\"14.00\" fill=\"#000000\">value = [2, 23]</text>\n<text text-anchor=\"start\" x=\"1446\" y=\"-825.8\" font-family=\"Helvetica,sans-Serif\" font-size=\"14.00\" fill=\"#000000\">class = r</text>\n</g>\n<!-- 54&#45;&gt;56 -->\n<g id=\"edge56\" class=\"edge\">\n<title>54&#45;&gt;56</title>\n<path fill=\"none\" stroke=\"#000000\" d=\"M1369.4602,-936.8796C1382.3708,-927.2774 1396.2021,-916.9903 1409.4282,-907.1534\"/>\n<polygon fill=\"#000000\" stroke=\"#000000\" points=\"1411.6361,-909.8732 1417.5714,-901.0969 1407.4586,-904.2564 1411.6361,-909.8732\"/>\n</g>\n<!-- 57 -->\n<g id=\"node58\" class=\"node\">\n<title>57</title>\n<path fill=\"#bddef6\" stroke=\"#000000\" d=\"M1454.5,-774.5C1454.5,-774.5 1360.5,-774.5 1360.5,-774.5 1354.5,-774.5 1348.5,-768.5 1348.5,-762.5 1348.5,-762.5 1348.5,-718.5 1348.5,-718.5 1348.5,-712.5 1354.5,-706.5 1360.5,-706.5 1360.5,-706.5 1454.5,-706.5 1454.5,-706.5 1460.5,-706.5 1466.5,-712.5 1466.5,-718.5 1466.5,-718.5 1466.5,-762.5 1466.5,-762.5 1466.5,-768.5 1460.5,-774.5 1454.5,-774.5\"/>\n<text text-anchor=\"start\" x=\"1356.5\" y=\"-759.3\" font-family=\"Helvetica,sans-Serif\" font-size=\"14.00\" fill=\"#000000\">entropy = 0.971</text>\n<text text-anchor=\"start\" x=\"1368\" y=\"-744.3\" font-family=\"Helvetica,sans-Serif\" font-size=\"14.00\" fill=\"#000000\">samples = 5</text>\n<text text-anchor=\"start\" x=\"1366\" y=\"-729.3\" font-family=\"Helvetica,sans-Serif\" font-size=\"14.00\" fill=\"#000000\">value = [2, 3]</text>\n<text text-anchor=\"start\" x=\"1380\" y=\"-714.3\" font-family=\"Helvetica,sans-Serif\" font-size=\"14.00\" fill=\"#000000\">class = r</text>\n</g>\n<!-- 56&#45;&gt;57 -->\n<g id=\"edge57\" class=\"edge\">\n<title>56&#45;&gt;57</title>\n<path fill=\"none\" stroke=\"#000000\" d=\"M1450.4164,-817.8796C1444.2567,-806.7735 1437.5889,-794.7513 1431.3871,-783.5691\"/>\n<polygon fill=\"#000000\" stroke=\"#000000\" points=\"1434.4428,-781.8624 1426.5318,-774.8149 1428.3213,-785.2576 1434.4428,-781.8624\"/>\n</g>\n<!-- 58 -->\n<g id=\"node59\" class=\"node\">\n<title>58</title>\n<path fill=\"#399de5\" stroke=\"#000000\" d=\"M1580,-774.5C1580,-774.5 1497,-774.5 1497,-774.5 1491,-774.5 1485,-768.5 1485,-762.5 1485,-762.5 1485,-718.5 1485,-718.5 1485,-712.5 1491,-706.5 1497,-706.5 1497,-706.5 1580,-706.5 1580,-706.5 1586,-706.5 1592,-712.5 1592,-718.5 1592,-718.5 1592,-762.5 1592,-762.5 1592,-768.5 1586,-774.5 1580,-774.5\"/>\n<text text-anchor=\"start\" x=\"1496\" y=\"-759.3\" font-family=\"Helvetica,sans-Serif\" font-size=\"14.00\" fill=\"#000000\">entropy = 0.0</text>\n<text text-anchor=\"start\" x=\"1494.5\" y=\"-744.3\" font-family=\"Helvetica,sans-Serif\" font-size=\"14.00\" fill=\"#000000\">samples = 20</text>\n<text text-anchor=\"start\" x=\"1493\" y=\"-729.3\" font-family=\"Helvetica,sans-Serif\" font-size=\"14.00\" fill=\"#000000\">value = [0, 20]</text>\n<text text-anchor=\"start\" x=\"1511\" y=\"-714.3\" font-family=\"Helvetica,sans-Serif\" font-size=\"14.00\" fill=\"#000000\">class = r</text>\n</g>\n<!-- 56&#45;&gt;58 -->\n<g id=\"edge58\" class=\"edge\">\n<title>56&#45;&gt;58</title>\n<path fill=\"none\" stroke=\"#000000\" d=\"M1496.2338,-817.8796C1502.2401,-806.8835 1508.737,-794.9893 1514.7933,-783.9015\"/>\n<polygon fill=\"#000000\" stroke=\"#000000\" points=\"1518.0345,-785.2689 1519.7565,-774.8149 1511.8912,-781.9133 1518.0345,-785.2689\"/>\n</g>\n<!-- 60 -->\n<g id=\"node61\" class=\"node\">\n<title>60</title>\n<path fill=\"#e58139\" stroke=\"#000000\" d=\"M1330,-1131.5C1330,-1131.5 1253,-1131.5 1253,-1131.5 1247,-1131.5 1241,-1125.5 1241,-1119.5 1241,-1119.5 1241,-1075.5 1241,-1075.5 1241,-1069.5 1247,-1063.5 1253,-1063.5 1253,-1063.5 1330,-1063.5 1330,-1063.5 1336,-1063.5 1342,-1069.5 1342,-1075.5 1342,-1075.5 1342,-1119.5 1342,-1119.5 1342,-1125.5 1336,-1131.5 1330,-1131.5\"/>\n<text text-anchor=\"start\" x=\"1249\" y=\"-1116.3\" font-family=\"Helvetica,sans-Serif\" font-size=\"14.00\" fill=\"#000000\">entropy = 0.0</text>\n<text text-anchor=\"start\" x=\"1252\" y=\"-1101.3\" font-family=\"Helvetica,sans-Serif\" font-size=\"14.00\" fill=\"#000000\">samples = 8</text>\n<text text-anchor=\"start\" x=\"1250\" y=\"-1086.3\" font-family=\"Helvetica,sans-Serif\" font-size=\"14.00\" fill=\"#000000\">value = [8, 0]</text>\n<text text-anchor=\"start\" x=\"1262.5\" y=\"-1071.3\" font-family=\"Helvetica,sans-Serif\" font-size=\"14.00\" fill=\"#000000\">class = c</text>\n</g>\n<!-- 59&#45;&gt;60 -->\n<g id=\"edge60\" class=\"edge\">\n<title>59&#45;&gt;60</title>\n<path fill=\"none\" stroke=\"#000000\" d=\"M1339.6184,-1174.8796C1332.7121,-1163.7735 1325.2361,-1151.7513 1318.2825,-1140.5691\"/>\n<polygon fill=\"#000000\" stroke=\"#000000\" points=\"1321.0917,-1138.4587 1312.8387,-1131.8149 1315.1473,-1142.1552 1321.0917,-1138.4587\"/>\n</g>\n<!-- 61 -->\n<g id=\"node62\" class=\"node\">\n<title>61</title>\n<path fill=\"#eca06a\" stroke=\"#000000\" d=\"M1466.5,-1131.5C1466.5,-1131.5 1372.5,-1131.5 1372.5,-1131.5 1366.5,-1131.5 1360.5,-1125.5 1360.5,-1119.5 1360.5,-1119.5 1360.5,-1075.5 1360.5,-1075.5 1360.5,-1069.5 1366.5,-1063.5 1372.5,-1063.5 1372.5,-1063.5 1466.5,-1063.5 1466.5,-1063.5 1472.5,-1063.5 1478.5,-1069.5 1478.5,-1075.5 1478.5,-1075.5 1478.5,-1119.5 1478.5,-1119.5 1478.5,-1125.5 1472.5,-1131.5 1466.5,-1131.5\"/>\n<text text-anchor=\"start\" x=\"1368.5\" y=\"-1116.3\" font-family=\"Helvetica,sans-Serif\" font-size=\"14.00\" fill=\"#000000\">entropy = 0.722</text>\n<text text-anchor=\"start\" x=\"1380\" y=\"-1101.3\" font-family=\"Helvetica,sans-Serif\" font-size=\"14.00\" fill=\"#000000\">samples = 5</text>\n<text text-anchor=\"start\" x=\"1378\" y=\"-1086.3\" font-family=\"Helvetica,sans-Serif\" font-size=\"14.00\" fill=\"#000000\">value = [4, 1]</text>\n<text text-anchor=\"start\" x=\"1390.5\" y=\"-1071.3\" font-family=\"Helvetica,sans-Serif\" font-size=\"14.00\" fill=\"#000000\">class = c</text>\n</g>\n<!-- 59&#45;&gt;61 -->\n<g id=\"edge61\" class=\"edge\">\n<title>59&#45;&gt;61</title>\n<path fill=\"none\" stroke=\"#000000\" d=\"M1384.3866,-1174.8796C1389.3265,-1163.9935 1394.6659,-1152.227 1399.6541,-1141.2344\"/>\n<polygon fill=\"#000000\" stroke=\"#000000\" points=\"1402.9834,-1142.3675 1403.9285,-1131.8149 1396.609,-1139.4749 1402.9834,-1142.3675\"/>\n</g>\n<!-- 63 -->\n<g id=\"node64\" class=\"node\">\n<title>63</title>\n<path fill=\"#eca36f\" stroke=\"#000000\" d=\"M1698,-1258C1698,-1258 1585,-1258 1585,-1258 1579,-1258 1573,-1252 1573,-1246 1573,-1246 1573,-1187 1573,-1187 1573,-1181 1579,-1175 1585,-1175 1585,-1175 1698,-1175 1698,-1175 1704,-1175 1710,-1181 1710,-1187 1710,-1187 1710,-1246 1710,-1246 1710,-1252 1704,-1258 1698,-1258\"/>\n<text text-anchor=\"start\" x=\"1581\" y=\"-1242.8\" font-family=\"Helvetica,sans-Serif\" font-size=\"14.00\" fill=\"#000000\">installment ≤ 89.24</text>\n<text text-anchor=\"start\" x=\"1594.5\" y=\"-1227.8\" font-family=\"Helvetica,sans-Serif\" font-size=\"14.00\" fill=\"#000000\">entropy = 0.75</text>\n<text text-anchor=\"start\" x=\"1597.5\" y=\"-1212.8\" font-family=\"Helvetica,sans-Serif\" font-size=\"14.00\" fill=\"#000000\">samples = 14</text>\n<text text-anchor=\"start\" x=\"1596\" y=\"-1197.8\" font-family=\"Helvetica,sans-Serif\" font-size=\"14.00\" fill=\"#000000\">value = [11, 3]</text>\n<text text-anchor=\"start\" x=\"1612.5\" y=\"-1182.8\" font-family=\"Helvetica,sans-Serif\" font-size=\"14.00\" fill=\"#000000\">class = c</text>\n</g>\n<!-- 62&#45;&gt;63 -->\n<g id=\"edge63\" class=\"edge\">\n<title>62&#45;&gt;63</title>\n<path fill=\"none\" stroke=\"#000000\" d=\"M1714.9781,-1293.8796C1706.3403,-1284.7832 1697.119,-1275.0722 1688.2303,-1265.7116\"/>\n<polygon fill=\"#000000\" stroke=\"#000000\" points=\"1690.6146,-1263.1395 1681.1906,-1258.2981 1685.5385,-1267.9597 1690.6146,-1263.1395\"/>\n</g>\n<!-- 66 -->\n<g id=\"node67\" class=\"node\">\n<title>66</title>\n<path fill=\"#e58139\" stroke=\"#000000\" d=\"M1823,-1250.5C1823,-1250.5 1740,-1250.5 1740,-1250.5 1734,-1250.5 1728,-1244.5 1728,-1238.5 1728,-1238.5 1728,-1194.5 1728,-1194.5 1728,-1188.5 1734,-1182.5 1740,-1182.5 1740,-1182.5 1823,-1182.5 1823,-1182.5 1829,-1182.5 1835,-1188.5 1835,-1194.5 1835,-1194.5 1835,-1238.5 1835,-1238.5 1835,-1244.5 1829,-1250.5 1823,-1250.5\"/>\n<text text-anchor=\"start\" x=\"1739\" y=\"-1235.3\" font-family=\"Helvetica,sans-Serif\" font-size=\"14.00\" fill=\"#000000\">entropy = 0.0</text>\n<text text-anchor=\"start\" x=\"1737.5\" y=\"-1220.3\" font-family=\"Helvetica,sans-Serif\" font-size=\"14.00\" fill=\"#000000\">samples = 44</text>\n<text text-anchor=\"start\" x=\"1736\" y=\"-1205.3\" font-family=\"Helvetica,sans-Serif\" font-size=\"14.00\" fill=\"#000000\">value = [44, 0]</text>\n<text text-anchor=\"start\" x=\"1752.5\" y=\"-1190.3\" font-family=\"Helvetica,sans-Serif\" font-size=\"14.00\" fill=\"#000000\">class = c</text>\n</g>\n<!-- 62&#45;&gt;66 -->\n<g id=\"edge66\" class=\"edge\">\n<title>62&#45;&gt;66</title>\n<path fill=\"none\" stroke=\"#000000\" d=\"M1763.9433,-1293.8796C1766.3883,-1283.1034 1769.029,-1271.4647 1771.5014,-1260.5677\"/>\n<polygon fill=\"#000000\" stroke=\"#000000\" points=\"1774.9148,-1261.3415 1773.7143,-1250.8149 1768.0883,-1259.7926 1774.9148,-1261.3415\"/>\n</g>\n<!-- 64 -->\n<g id=\"node65\" class=\"node\">\n<title>64</title>\n<path fill=\"#e58139\" stroke=\"#000000\" d=\"M1586,-1131.5C1586,-1131.5 1509,-1131.5 1509,-1131.5 1503,-1131.5 1497,-1125.5 1497,-1119.5 1497,-1119.5 1497,-1075.5 1497,-1075.5 1497,-1069.5 1503,-1063.5 1509,-1063.5 1509,-1063.5 1586,-1063.5 1586,-1063.5 1592,-1063.5 1598,-1069.5 1598,-1075.5 1598,-1075.5 1598,-1119.5 1598,-1119.5 1598,-1125.5 1592,-1131.5 1586,-1131.5\"/>\n<text text-anchor=\"start\" x=\"1505\" y=\"-1116.3\" font-family=\"Helvetica,sans-Serif\" font-size=\"14.00\" fill=\"#000000\">entropy = 0.0</text>\n<text text-anchor=\"start\" x=\"1508\" y=\"-1101.3\" font-family=\"Helvetica,sans-Serif\" font-size=\"14.00\" fill=\"#000000\">samples = 6</text>\n<text text-anchor=\"start\" x=\"1506\" y=\"-1086.3\" font-family=\"Helvetica,sans-Serif\" font-size=\"14.00\" fill=\"#000000\">value = [6, 0]</text>\n<text text-anchor=\"start\" x=\"1518.5\" y=\"-1071.3\" font-family=\"Helvetica,sans-Serif\" font-size=\"14.00\" fill=\"#000000\">class = c</text>\n</g>\n<!-- 63&#45;&gt;64 -->\n<g id=\"edge64\" class=\"edge\">\n<title>63&#45;&gt;64</title>\n<path fill=\"none\" stroke=\"#000000\" d=\"M1608.6234,-1174.8796C1599.6768,-1163.5536 1589.9776,-1151.2748 1580.9971,-1139.9058\"/>\n<polygon fill=\"#000000\" stroke=\"#000000\" points=\"1583.551,-1137.4926 1574.6059,-1131.8149 1578.058,-1141.8316 1583.551,-1137.4926\"/>\n</g>\n<!-- 65 -->\n<g id=\"node66\" class=\"node\">\n<title>65</title>\n<path fill=\"#f5cdb0\" stroke=\"#000000\" d=\"M1722.5,-1131.5C1722.5,-1131.5 1628.5,-1131.5 1628.5,-1131.5 1622.5,-1131.5 1616.5,-1125.5 1616.5,-1119.5 1616.5,-1119.5 1616.5,-1075.5 1616.5,-1075.5 1616.5,-1069.5 1622.5,-1063.5 1628.5,-1063.5 1628.5,-1063.5 1722.5,-1063.5 1722.5,-1063.5 1728.5,-1063.5 1734.5,-1069.5 1734.5,-1075.5 1734.5,-1075.5 1734.5,-1119.5 1734.5,-1119.5 1734.5,-1125.5 1728.5,-1131.5 1722.5,-1131.5\"/>\n<text text-anchor=\"start\" x=\"1624.5\" y=\"-1116.3\" font-family=\"Helvetica,sans-Serif\" font-size=\"14.00\" fill=\"#000000\">entropy = 0.954</text>\n<text text-anchor=\"start\" x=\"1636\" y=\"-1101.3\" font-family=\"Helvetica,sans-Serif\" font-size=\"14.00\" fill=\"#000000\">samples = 8</text>\n<text text-anchor=\"start\" x=\"1634\" y=\"-1086.3\" font-family=\"Helvetica,sans-Serif\" font-size=\"14.00\" fill=\"#000000\">value = [5, 3]</text>\n<text text-anchor=\"start\" x=\"1646.5\" y=\"-1071.3\" font-family=\"Helvetica,sans-Serif\" font-size=\"14.00\" fill=\"#000000\">class = c</text>\n</g>\n<!-- 63&#45;&gt;65 -->\n<g id=\"edge65\" class=\"edge\">\n<title>63&#45;&gt;65</title>\n<path fill=\"none\" stroke=\"#000000\" d=\"M1653.3916,-1174.8796C1656.4705,-1164.1034 1659.7958,-1152.4647 1662.9092,-1141.5677\"/>\n<polygon fill=\"#000000\" stroke=\"#000000\" points=\"1666.3138,-1142.3917 1665.6957,-1131.8149 1659.5831,-1140.4686 1666.3138,-1142.3917\"/>\n</g>\n<!-- 68 -->\n<g id=\"node69\" class=\"node\">\n<title>68</title>\n<path fill=\"#a6d3f3\" stroke=\"#000000\" d=\"M2049,-1377C2049,-1377 1906,-1377 1906,-1377 1900,-1377 1894,-1371 1894,-1365 1894,-1365 1894,-1306 1894,-1306 1894,-1300 1900,-1294 1906,-1294 1906,-1294 2049,-1294 2049,-1294 2055,-1294 2061,-1300 2061,-1306 2061,-1306 2061,-1365 2061,-1365 2061,-1371 2055,-1377 2049,-1377\"/>\n<text text-anchor=\"start\" x=\"1902\" y=\"-1361.8\" font-family=\"Helvetica,sans-Serif\" font-size=\"14.00\" fill=\"#000000\">log.annual.inc ≤ 11.648</text>\n<text text-anchor=\"start\" x=\"1926.5\" y=\"-1346.8\" font-family=\"Helvetica,sans-Serif\" font-size=\"14.00\" fill=\"#000000\">entropy = 0.939</text>\n<text text-anchor=\"start\" x=\"1929.5\" y=\"-1331.8\" font-family=\"Helvetica,sans-Serif\" font-size=\"14.00\" fill=\"#000000\">samples = 132</text>\n<text text-anchor=\"start\" x=\"1927.5\" y=\"-1316.8\" font-family=\"Helvetica,sans-Serif\" font-size=\"14.00\" fill=\"#000000\">value = [47, 85]</text>\n<text text-anchor=\"start\" x=\"1950\" y=\"-1301.8\" font-family=\"Helvetica,sans-Serif\" font-size=\"14.00\" fill=\"#000000\">class = r</text>\n</g>\n<!-- 67&#45;&gt;68 -->\n<g id=\"edge68\" class=\"edge\">\n<title>67&#45;&gt;68</title>\n<path fill=\"none\" stroke=\"#000000\" d=\"M2008.0617,-1412.8796C2004.718,-1404.4136 2001.164,-1395.4153 1997.7071,-1386.6626\"/>\n<polygon fill=\"#000000\" stroke=\"#000000\" points=\"2000.9373,-1385.3132 1994.0085,-1377.2981 1994.4267,-1387.8847 2000.9373,-1385.3132\"/>\n</g>\n<!-- 85 -->\n<g id=\"node86\" class=\"node\">\n<title>85</title>\n<path fill=\"#e58139\" stroke=\"#000000\" d=\"M2174,-1369.5C2174,-1369.5 2091,-1369.5 2091,-1369.5 2085,-1369.5 2079,-1363.5 2079,-1357.5 2079,-1357.5 2079,-1313.5 2079,-1313.5 2079,-1307.5 2085,-1301.5 2091,-1301.5 2091,-1301.5 2174,-1301.5 2174,-1301.5 2180,-1301.5 2186,-1307.5 2186,-1313.5 2186,-1313.5 2186,-1357.5 2186,-1357.5 2186,-1363.5 2180,-1369.5 2174,-1369.5\"/>\n<text text-anchor=\"start\" x=\"2090\" y=\"-1354.3\" font-family=\"Helvetica,sans-Serif\" font-size=\"14.00\" fill=\"#000000\">entropy = 0.0</text>\n<text text-anchor=\"start\" x=\"2088.5\" y=\"-1339.3\" font-family=\"Helvetica,sans-Serif\" font-size=\"14.00\" fill=\"#000000\">samples = 64</text>\n<text text-anchor=\"start\" x=\"2087\" y=\"-1324.3\" font-family=\"Helvetica,sans-Serif\" font-size=\"14.00\" fill=\"#000000\">value = [64, 0]</text>\n<text text-anchor=\"start\" x=\"2103.5\" y=\"-1309.3\" font-family=\"Helvetica,sans-Serif\" font-size=\"14.00\" fill=\"#000000\">class = c</text>\n</g>\n<!-- 67&#45;&gt;85 -->\n<g id=\"edge85\" class=\"edge\">\n<title>67&#45;&gt;85</title>\n<path fill=\"none\" stroke=\"#000000\" d=\"M2062.2732,-1412.8796C2072.7518,-1401.3337 2084.1291,-1388.7976 2094.6141,-1377.2446\"/>\n<polygon fill=\"#000000\" stroke=\"#000000\" points=\"2097.2282,-1379.5722 2101.357,-1369.8149 2092.0447,-1374.8678 2097.2282,-1379.5722\"/>\n</g>\n<!-- 69 -->\n<g id=\"node70\" class=\"node\">\n<title>69</title>\n<path fill=\"#f2c29f\" stroke=\"#000000\" d=\"M2001.5,-1258C2001.5,-1258 1907.5,-1258 1907.5,-1258 1901.5,-1258 1895.5,-1252 1895.5,-1246 1895.5,-1246 1895.5,-1187 1895.5,-1187 1895.5,-1181 1901.5,-1175 1907.5,-1175 1907.5,-1175 2001.5,-1175 2001.5,-1175 2007.5,-1175 2013.5,-1181 2013.5,-1187 2013.5,-1187 2013.5,-1246 2013.5,-1246 2013.5,-1252 2007.5,-1258 2001.5,-1258\"/>\n<text text-anchor=\"start\" x=\"1917\" y=\"-1242.8\" font-family=\"Helvetica,sans-Serif\" font-size=\"14.00\" fill=\"#000000\">fico ≤ 739.5</text>\n<text text-anchor=\"start\" x=\"1903.5\" y=\"-1227.8\" font-family=\"Helvetica,sans-Serif\" font-size=\"14.00\" fill=\"#000000\">entropy = 0.924</text>\n<text text-anchor=\"start\" x=\"1910.5\" y=\"-1212.8\" font-family=\"Helvetica,sans-Serif\" font-size=\"14.00\" fill=\"#000000\">samples = 59</text>\n<text text-anchor=\"start\" x=\"1904.5\" y=\"-1197.8\" font-family=\"Helvetica,sans-Serif\" font-size=\"14.00\" fill=\"#000000\">value = [39, 20]</text>\n<text text-anchor=\"start\" x=\"1925.5\" y=\"-1182.8\" font-family=\"Helvetica,sans-Serif\" font-size=\"14.00\" fill=\"#000000\">class = c</text>\n</g>\n<!-- 68&#45;&gt;69 -->\n<g id=\"edge69\" class=\"edge\">\n<title>68&#45;&gt;69</title>\n<path fill=\"none\" stroke=\"#000000\" d=\"M1969.4557,-1293.8796C1967.8543,-1285.5938 1966.1542,-1276.798 1964.4966,-1268.2216\"/>\n<polygon fill=\"#000000\" stroke=\"#000000\" points=\"1967.9128,-1267.4522 1962.5786,-1258.2981 1961.0399,-1268.7806 1967.9128,-1267.4522\"/>\n</g>\n<!-- 76 -->\n<g id=\"node77\" class=\"node\">\n<title>76</title>\n<path fill=\"#51a9e8\" stroke=\"#000000\" d=\"M2167.5,-1258C2167.5,-1258 2043.5,-1258 2043.5,-1258 2037.5,-1258 2031.5,-1252 2031.5,-1246 2031.5,-1246 2031.5,-1187 2031.5,-1187 2031.5,-1181 2037.5,-1175 2043.5,-1175 2043.5,-1175 2167.5,-1175 2167.5,-1175 2173.5,-1175 2179.5,-1181 2179.5,-1187 2179.5,-1187 2179.5,-1246 2179.5,-1246 2179.5,-1252 2173.5,-1258 2167.5,-1258\"/>\n<text text-anchor=\"start\" x=\"2039.5\" y=\"-1242.8\" font-family=\"Helvetica,sans-Serif\" font-size=\"14.00\" fill=\"#000000\">revol.bal ≤ 121718.5</text>\n<text text-anchor=\"start\" x=\"2054.5\" y=\"-1227.8\" font-family=\"Helvetica,sans-Serif\" font-size=\"14.00\" fill=\"#000000\">entropy = 0.499</text>\n<text text-anchor=\"start\" x=\"2061.5\" y=\"-1212.8\" font-family=\"Helvetica,sans-Serif\" font-size=\"14.00\" fill=\"#000000\">samples = 73</text>\n<text text-anchor=\"start\" x=\"2060\" y=\"-1197.8\" font-family=\"Helvetica,sans-Serif\" font-size=\"14.00\" fill=\"#000000\">value = [8, 65]</text>\n<text text-anchor=\"start\" x=\"2078\" y=\"-1182.8\" font-family=\"Helvetica,sans-Serif\" font-size=\"14.00\" fill=\"#000000\">class = r</text>\n</g>\n<!-- 68&#45;&gt;76 -->\n<g id=\"edge76\" class=\"edge\">\n<title>68&#45;&gt;76</title>\n<path fill=\"none\" stroke=\"#000000\" d=\"M2022.2682,-1293.8796C2032.2463,-1284.6031 2042.9119,-1274.6874 2053.1642,-1265.1559\"/>\n<polygon fill=\"#000000\" stroke=\"#000000\" points=\"2055.6,-1267.6704 2060.5407,-1258.2981 2050.8337,-1262.5436 2055.6,-1267.6704\"/>\n</g>\n<!-- 70 -->\n<g id=\"node71\" class=\"node\">\n<title>70</title>\n<path fill=\"#e89152\" stroke=\"#000000\" d=\"M1880.5,-1139C1880.5,-1139 1764.5,-1139 1764.5,-1139 1758.5,-1139 1752.5,-1133 1752.5,-1127 1752.5,-1127 1752.5,-1068 1752.5,-1068 1752.5,-1062 1758.5,-1056 1764.5,-1056 1764.5,-1056 1880.5,-1056 1880.5,-1056 1886.5,-1056 1892.5,-1062 1892.5,-1068 1892.5,-1068 1892.5,-1127 1892.5,-1127 1892.5,-1133 1886.5,-1139 1880.5,-1139\"/>\n<text text-anchor=\"start\" x=\"1760.5\" y=\"-1123.8\" font-family=\"Helvetica,sans-Serif\" font-size=\"14.00\" fill=\"#000000\">revol.bal ≤ 92243.0</text>\n<text text-anchor=\"start\" x=\"1771.5\" y=\"-1108.8\" font-family=\"Helvetica,sans-Serif\" font-size=\"14.00\" fill=\"#000000\">entropy = 0.511</text>\n<text text-anchor=\"start\" x=\"1778.5\" y=\"-1093.8\" font-family=\"Helvetica,sans-Serif\" font-size=\"14.00\" fill=\"#000000\">samples = 44</text>\n<text text-anchor=\"start\" x=\"1777\" y=\"-1078.8\" font-family=\"Helvetica,sans-Serif\" font-size=\"14.00\" fill=\"#000000\">value = [39, 5]</text>\n<text text-anchor=\"start\" x=\"1793.5\" y=\"-1063.8\" font-family=\"Helvetica,sans-Serif\" font-size=\"14.00\" fill=\"#000000\">class = c</text>\n</g>\n<!-- 69&#45;&gt;70 -->\n<g id=\"edge70\" class=\"edge\">\n<title>69&#45;&gt;70</title>\n<path fill=\"none\" stroke=\"#000000\" d=\"M1908.3328,-1174.8796C1898.0429,-1165.6031 1887.044,-1155.6874 1876.4713,-1146.1559\"/>\n<polygon fill=\"#000000\" stroke=\"#000000\" points=\"1878.6352,-1143.3944 1868.8642,-1139.2981 1873.9481,-1148.5935 1878.6352,-1143.3944\"/>\n</g>\n<!-- 75 -->\n<g id=\"node76\" class=\"node\">\n<title>75</title>\n<path fill=\"#399de5\" stroke=\"#000000\" d=\"M2006,-1131.5C2006,-1131.5 1923,-1131.5 1923,-1131.5 1917,-1131.5 1911,-1125.5 1911,-1119.5 1911,-1119.5 1911,-1075.5 1911,-1075.5 1911,-1069.5 1917,-1063.5 1923,-1063.5 1923,-1063.5 2006,-1063.5 2006,-1063.5 2012,-1063.5 2018,-1069.5 2018,-1075.5 2018,-1075.5 2018,-1119.5 2018,-1119.5 2018,-1125.5 2012,-1131.5 2006,-1131.5\"/>\n<text text-anchor=\"start\" x=\"1922\" y=\"-1116.3\" font-family=\"Helvetica,sans-Serif\" font-size=\"14.00\" fill=\"#000000\">entropy = 0.0</text>\n<text text-anchor=\"start\" x=\"1920.5\" y=\"-1101.3\" font-family=\"Helvetica,sans-Serif\" font-size=\"14.00\" fill=\"#000000\">samples = 15</text>\n<text text-anchor=\"start\" x=\"1919\" y=\"-1086.3\" font-family=\"Helvetica,sans-Serif\" font-size=\"14.00\" fill=\"#000000\">value = [0, 15]</text>\n<text text-anchor=\"start\" x=\"1937\" y=\"-1071.3\" font-family=\"Helvetica,sans-Serif\" font-size=\"14.00\" fill=\"#000000\">class = r</text>\n</g>\n<!-- 69&#45;&gt;75 -->\n<g id=\"edge75\" class=\"edge\">\n<title>69&#45;&gt;75</title>\n<path fill=\"none\" stroke=\"#000000\" d=\"M1957.9975,-1174.8796C1958.8938,-1164.2134 1959.8612,-1152.7021 1960.7688,-1141.9015\"/>\n<polygon fill=\"#000000\" stroke=\"#000000\" points=\"1964.2666,-1142.0729 1961.6164,-1131.8149 1957.2912,-1141.4867 1964.2666,-1142.0729\"/>\n</g>\n<!-- 71 -->\n<g id=\"node72\" class=\"node\">\n<title>71</title>\n<path fill=\"#eda877\" stroke=\"#000000\" d=\"M1756,-1020C1756,-1020 1613,-1020 1613,-1020 1607,-1020 1601,-1014 1601,-1008 1601,-1008 1601,-949 1601,-949 1601,-943 1607,-937 1613,-937 1613,-937 1756,-937 1756,-937 1762,-937 1768,-943 1768,-949 1768,-949 1768,-1008 1768,-1008 1768,-1014 1762,-1020 1756,-1020\"/>\n<text text-anchor=\"start\" x=\"1609\" y=\"-1004.8\" font-family=\"Helvetica,sans-Serif\" font-size=\"14.00\" fill=\"#000000\">log.annual.inc ≤ 11.329</text>\n<text text-anchor=\"start\" x=\"1633.5\" y=\"-989.8\" font-family=\"Helvetica,sans-Serif\" font-size=\"14.00\" fill=\"#000000\">entropy = 0.792</text>\n<text text-anchor=\"start\" x=\"1640.5\" y=\"-974.8\" font-family=\"Helvetica,sans-Serif\" font-size=\"14.00\" fill=\"#000000\">samples = 21</text>\n<text text-anchor=\"start\" x=\"1639\" y=\"-959.8\" font-family=\"Helvetica,sans-Serif\" font-size=\"14.00\" fill=\"#000000\">value = [16, 5]</text>\n<text text-anchor=\"start\" x=\"1655.5\" y=\"-944.8\" font-family=\"Helvetica,sans-Serif\" font-size=\"14.00\" fill=\"#000000\">class = c</text>\n</g>\n<!-- 70&#45;&gt;71 -->\n<g id=\"edge71\" class=\"edge\">\n<title>70&#45;&gt;71</title>\n<path fill=\"none\" stroke=\"#000000\" d=\"M1774.2343,-1055.8796C1763.3722,-1046.513 1751.7544,-1036.4948 1740.6027,-1026.8784\"/>\n<polygon fill=\"#000000\" stroke=\"#000000\" points=\"1742.8306,-1024.178 1732.9717,-1020.2981 1738.2592,-1029.4792 1742.8306,-1024.178\"/>\n</g>\n<!-- 74 -->\n<g id=\"node75\" class=\"node\">\n<title>74</title>\n<path fill=\"#e58139\" stroke=\"#000000\" d=\"M1881,-1012.5C1881,-1012.5 1798,-1012.5 1798,-1012.5 1792,-1012.5 1786,-1006.5 1786,-1000.5 1786,-1000.5 1786,-956.5 1786,-956.5 1786,-950.5 1792,-944.5 1798,-944.5 1798,-944.5 1881,-944.5 1881,-944.5 1887,-944.5 1893,-950.5 1893,-956.5 1893,-956.5 1893,-1000.5 1893,-1000.5 1893,-1006.5 1887,-1012.5 1881,-1012.5\"/>\n<text text-anchor=\"start\" x=\"1797\" y=\"-997.3\" font-family=\"Helvetica,sans-Serif\" font-size=\"14.00\" fill=\"#000000\">entropy = 0.0</text>\n<text text-anchor=\"start\" x=\"1795.5\" y=\"-982.3\" font-family=\"Helvetica,sans-Serif\" font-size=\"14.00\" fill=\"#000000\">samples = 23</text>\n<text text-anchor=\"start\" x=\"1794\" y=\"-967.3\" font-family=\"Helvetica,sans-Serif\" font-size=\"14.00\" fill=\"#000000\">value = [23, 0]</text>\n<text text-anchor=\"start\" x=\"1810.5\" y=\"-952.3\" font-family=\"Helvetica,sans-Serif\" font-size=\"14.00\" fill=\"#000000\">class = c</text>\n</g>\n<!-- 70&#45;&gt;74 -->\n<g id=\"edge74\" class=\"edge\">\n<title>70&#45;&gt;74</title>\n<path fill=\"none\" stroke=\"#000000\" d=\"M1828.4458,-1055.8796C1829.9695,-1045.2134 1831.614,-1033.7021 1833.1569,-1022.9015\"/>\n<polygon fill=\"#000000\" stroke=\"#000000\" points=\"1836.6484,-1023.2094 1834.5979,-1012.8149 1829.7187,-1022.2194 1836.6484,-1023.2094\"/>\n</g>\n<!-- 72 -->\n<g id=\"node73\" class=\"node\">\n<title>72</title>\n<path fill=\"#e58139\" stroke=\"#000000\" d=\"M1707,-893.5C1707,-893.5 1624,-893.5 1624,-893.5 1618,-893.5 1612,-887.5 1612,-881.5 1612,-881.5 1612,-837.5 1612,-837.5 1612,-831.5 1618,-825.5 1624,-825.5 1624,-825.5 1707,-825.5 1707,-825.5 1713,-825.5 1719,-831.5 1719,-837.5 1719,-837.5 1719,-881.5 1719,-881.5 1719,-887.5 1713,-893.5 1707,-893.5\"/>\n<text text-anchor=\"start\" x=\"1623\" y=\"-878.3\" font-family=\"Helvetica,sans-Serif\" font-size=\"14.00\" fill=\"#000000\">entropy = 0.0</text>\n<text text-anchor=\"start\" x=\"1621.5\" y=\"-863.3\" font-family=\"Helvetica,sans-Serif\" font-size=\"14.00\" fill=\"#000000\">samples = 13</text>\n<text text-anchor=\"start\" x=\"1620\" y=\"-848.3\" font-family=\"Helvetica,sans-Serif\" font-size=\"14.00\" fill=\"#000000\">value = [13, 0]</text>\n<text text-anchor=\"start\" x=\"1636.5\" y=\"-833.3\" font-family=\"Helvetica,sans-Serif\" font-size=\"14.00\" fill=\"#000000\">class = c</text>\n</g>\n<!-- 71&#45;&gt;72 -->\n<g id=\"edge72\" class=\"edge\">\n<title>71&#45;&gt;72</title>\n<path fill=\"none\" stroke=\"#000000\" d=\"M1677.8547,-936.8796C1676.1517,-926.2134 1674.3138,-914.7021 1672.5893,-903.9015\"/>\n<polygon fill=\"#000000\" stroke=\"#000000\" points=\"1676.0118,-903.138 1670.9789,-893.8149 1669.0994,-904.2417 1676.0118,-903.138\"/>\n</g>\n<!-- 73 -->\n<g id=\"node74\" class=\"node\">\n<title>73</title>\n<path fill=\"#b0d8f5\" stroke=\"#000000\" d=\"M1843.5,-893.5C1843.5,-893.5 1749.5,-893.5 1749.5,-893.5 1743.5,-893.5 1737.5,-887.5 1737.5,-881.5 1737.5,-881.5 1737.5,-837.5 1737.5,-837.5 1737.5,-831.5 1743.5,-825.5 1749.5,-825.5 1749.5,-825.5 1843.5,-825.5 1843.5,-825.5 1849.5,-825.5 1855.5,-831.5 1855.5,-837.5 1855.5,-837.5 1855.5,-881.5 1855.5,-881.5 1855.5,-887.5 1849.5,-893.5 1843.5,-893.5\"/>\n<text text-anchor=\"start\" x=\"1745.5\" y=\"-878.3\" font-family=\"Helvetica,sans-Serif\" font-size=\"14.00\" fill=\"#000000\">entropy = 0.954</text>\n<text text-anchor=\"start\" x=\"1757\" y=\"-863.3\" font-family=\"Helvetica,sans-Serif\" font-size=\"14.00\" fill=\"#000000\">samples = 8</text>\n<text text-anchor=\"start\" x=\"1755\" y=\"-848.3\" font-family=\"Helvetica,sans-Serif\" font-size=\"14.00\" fill=\"#000000\">value = [3, 5]</text>\n<text text-anchor=\"start\" x=\"1769\" y=\"-833.3\" font-family=\"Helvetica,sans-Serif\" font-size=\"14.00\" fill=\"#000000\">class = r</text>\n</g>\n<!-- 71&#45;&gt;73 -->\n<g id=\"edge73\" class=\"edge\">\n<title>71&#45;&gt;73</title>\n<path fill=\"none\" stroke=\"#000000\" d=\"M1723.6722,-936.8796C1734.5389,-925.3337 1746.3376,-912.7976 1757.2109,-901.2446\"/>\n<polygon fill=\"#000000\" stroke=\"#000000\" points=\"1759.8986,-903.4958 1764.2036,-893.8149 1754.8012,-898.6982 1759.8986,-903.4958\"/>\n</g>\n<!-- 77 -->\n<g id=\"node78\" class=\"node\">\n<title>77</title>\n<path fill=\"#3d9fe5\" stroke=\"#000000\" d=\"M2142.5,-1139C2142.5,-1139 2048.5,-1139 2048.5,-1139 2042.5,-1139 2036.5,-1133 2036.5,-1127 2036.5,-1127 2036.5,-1068 2036.5,-1068 2036.5,-1062 2042.5,-1056 2048.5,-1056 2048.5,-1056 2142.5,-1056 2142.5,-1056 2148.5,-1056 2154.5,-1062 2154.5,-1068 2154.5,-1068 2154.5,-1127 2154.5,-1127 2154.5,-1133 2148.5,-1139 2142.5,-1139\"/>\n<text text-anchor=\"start\" x=\"2062\" y=\"-1123.8\" font-family=\"Helvetica,sans-Serif\" font-size=\"14.00\" fill=\"#000000\">dti ≤ 23.74</text>\n<text text-anchor=\"start\" x=\"2044.5\" y=\"-1108.8\" font-family=\"Helvetica,sans-Serif\" font-size=\"14.00\" fill=\"#000000\">entropy = 0.127</text>\n<text text-anchor=\"start\" x=\"2051.5\" y=\"-1093.8\" font-family=\"Helvetica,sans-Serif\" font-size=\"14.00\" fill=\"#000000\">samples = 57</text>\n<text text-anchor=\"start\" x=\"2050\" y=\"-1078.8\" font-family=\"Helvetica,sans-Serif\" font-size=\"14.00\" fill=\"#000000\">value = [1, 56]</text>\n<text text-anchor=\"start\" x=\"2068\" y=\"-1063.8\" font-family=\"Helvetica,sans-Serif\" font-size=\"14.00\" fill=\"#000000\">class = r</text>\n</g>\n<!-- 76&#45;&gt;77 -->\n<g id=\"edge77\" class=\"edge\">\n<title>76&#45;&gt;77</title>\n<path fill=\"none\" stroke=\"#000000\" d=\"M2102.0025,-1174.8796C2101.3138,-1166.6838 2100.5831,-1157.9891 2099.8699,-1149.5013\"/>\n<polygon fill=\"#000000\" stroke=\"#000000\" points=\"2103.3376,-1148.9698 2099.0124,-1139.2981 2096.3622,-1149.5561 2103.3376,-1148.9698\"/>\n</g>\n<!-- 80 -->\n<g id=\"node81\" class=\"node\">\n<title>80</title>\n<path fill=\"#d3e9f9\" stroke=\"#000000\" d=\"M2328,-1139C2328,-1139 2185,-1139 2185,-1139 2179,-1139 2173,-1133 2173,-1127 2173,-1127 2173,-1068 2173,-1068 2173,-1062 2179,-1056 2185,-1056 2185,-1056 2328,-1056 2328,-1056 2334,-1056 2340,-1062 2340,-1068 2340,-1068 2340,-1127 2340,-1127 2340,-1133 2334,-1139 2328,-1139\"/>\n<text text-anchor=\"start\" x=\"2181\" y=\"-1123.8\" font-family=\"Helvetica,sans-Serif\" font-size=\"14.00\" fill=\"#000000\">log.annual.inc ≤ 11.802</text>\n<text text-anchor=\"start\" x=\"2205.5\" y=\"-1108.8\" font-family=\"Helvetica,sans-Serif\" font-size=\"14.00\" fill=\"#000000\">entropy = 0.989</text>\n<text text-anchor=\"start\" x=\"2212.5\" y=\"-1093.8\" font-family=\"Helvetica,sans-Serif\" font-size=\"14.00\" fill=\"#000000\">samples = 16</text>\n<text text-anchor=\"start\" x=\"2215\" y=\"-1078.8\" font-family=\"Helvetica,sans-Serif\" font-size=\"14.00\" fill=\"#000000\">value = [7, 9]</text>\n<text text-anchor=\"start\" x=\"2229\" y=\"-1063.8\" font-family=\"Helvetica,sans-Serif\" font-size=\"14.00\" fill=\"#000000\">class = r</text>\n</g>\n<!-- 76&#45;&gt;80 -->\n<g id=\"edge80\" class=\"edge\">\n<title>76&#45;&gt;80</title>\n<path fill=\"none\" stroke=\"#000000\" d=\"M2158.3125,-1174.8796C2170.3818,-1165.368 2183.3039,-1155.1843 2195.6788,-1145.432\"/>\n<polygon fill=\"#000000\" stroke=\"#000000\" points=\"2198.0296,-1148.0356 2203.7173,-1139.0969 2193.6968,-1142.5377 2198.0296,-1148.0356\"/>\n</g>\n<!-- 78 -->\n<g id=\"node79\" class=\"node\">\n<title>78</title>\n<path fill=\"#399de5\" stroke=\"#000000\" d=\"M2014,-1012.5C2014,-1012.5 1931,-1012.5 1931,-1012.5 1925,-1012.5 1919,-1006.5 1919,-1000.5 1919,-1000.5 1919,-956.5 1919,-956.5 1919,-950.5 1925,-944.5 1931,-944.5 1931,-944.5 2014,-944.5 2014,-944.5 2020,-944.5 2026,-950.5 2026,-956.5 2026,-956.5 2026,-1000.5 2026,-1000.5 2026,-1006.5 2020,-1012.5 2014,-1012.5\"/>\n<text text-anchor=\"start\" x=\"1930\" y=\"-997.3\" font-family=\"Helvetica,sans-Serif\" font-size=\"14.00\" fill=\"#000000\">entropy = 0.0</text>\n<text text-anchor=\"start\" x=\"1928.5\" y=\"-982.3\" font-family=\"Helvetica,sans-Serif\" font-size=\"14.00\" fill=\"#000000\">samples = 52</text>\n<text text-anchor=\"start\" x=\"1927\" y=\"-967.3\" font-family=\"Helvetica,sans-Serif\" font-size=\"14.00\" fill=\"#000000\">value = [0, 52]</text>\n<text text-anchor=\"start\" x=\"1945\" y=\"-952.3\" font-family=\"Helvetica,sans-Serif\" font-size=\"14.00\" fill=\"#000000\">class = r</text>\n</g>\n<!-- 77&#45;&gt;78 -->\n<g id=\"edge78\" class=\"edge\">\n<title>77&#45;&gt;78</title>\n<path fill=\"none\" stroke=\"#000000\" d=\"M2052.4806,-1055.8796C2040.4329,-1044.2237 2027.3422,-1031.5587 2015.3069,-1019.9148\"/>\n<polygon fill=\"#000000\" stroke=\"#000000\" points=\"2017.589,-1017.2528 2007.9684,-1012.8149 2012.7217,-1022.2837 2017.589,-1017.2528\"/>\n</g>\n<!-- 79 -->\n<g id=\"node80\" class=\"node\">\n<title>79</title>\n<path fill=\"#6ab6ec\" stroke=\"#000000\" d=\"M2150.5,-1012.5C2150.5,-1012.5 2056.5,-1012.5 2056.5,-1012.5 2050.5,-1012.5 2044.5,-1006.5 2044.5,-1000.5 2044.5,-1000.5 2044.5,-956.5 2044.5,-956.5 2044.5,-950.5 2050.5,-944.5 2056.5,-944.5 2056.5,-944.5 2150.5,-944.5 2150.5,-944.5 2156.5,-944.5 2162.5,-950.5 2162.5,-956.5 2162.5,-956.5 2162.5,-1000.5 2162.5,-1000.5 2162.5,-1006.5 2156.5,-1012.5 2150.5,-1012.5\"/>\n<text text-anchor=\"start\" x=\"2052.5\" y=\"-997.3\" font-family=\"Helvetica,sans-Serif\" font-size=\"14.00\" fill=\"#000000\">entropy = 0.722</text>\n<text text-anchor=\"start\" x=\"2064\" y=\"-982.3\" font-family=\"Helvetica,sans-Serif\" font-size=\"14.00\" fill=\"#000000\">samples = 5</text>\n<text text-anchor=\"start\" x=\"2062\" y=\"-967.3\" font-family=\"Helvetica,sans-Serif\" font-size=\"14.00\" fill=\"#000000\">value = [1, 4]</text>\n<text text-anchor=\"start\" x=\"2076\" y=\"-952.3\" font-family=\"Helvetica,sans-Serif\" font-size=\"14.00\" fill=\"#000000\">class = r</text>\n</g>\n<!-- 77&#45;&gt;79 -->\n<g id=\"edge79\" class=\"edge\">\n<title>77&#45;&gt;79</title>\n<path fill=\"none\" stroke=\"#000000\" d=\"M2098.298,-1055.8796C2099.0151,-1045.2134 2099.7889,-1033.7021 2100.515,-1022.9015\"/>\n<polygon fill=\"#000000\" stroke=\"#000000\" points=\"2104.0144,-1023.0272 2101.1931,-1012.8149 2097.0301,-1022.5576 2104.0144,-1023.0272\"/>\n</g>\n<!-- 81 -->\n<g id=\"node82\" class=\"node\">\n<title>81</title>\n<path fill=\"#e58139\" stroke=\"#000000\" d=\"M2286,-1012.5C2286,-1012.5 2209,-1012.5 2209,-1012.5 2203,-1012.5 2197,-1006.5 2197,-1000.5 2197,-1000.5 2197,-956.5 2197,-956.5 2197,-950.5 2203,-944.5 2209,-944.5 2209,-944.5 2286,-944.5 2286,-944.5 2292,-944.5 2298,-950.5 2298,-956.5 2298,-956.5 2298,-1000.5 2298,-1000.5 2298,-1006.5 2292,-1012.5 2286,-1012.5\"/>\n<text text-anchor=\"start\" x=\"2205\" y=\"-997.3\" font-family=\"Helvetica,sans-Serif\" font-size=\"14.00\" fill=\"#000000\">entropy = 0.0</text>\n<text text-anchor=\"start\" x=\"2208\" y=\"-982.3\" font-family=\"Helvetica,sans-Serif\" font-size=\"14.00\" fill=\"#000000\">samples = 5</text>\n<text text-anchor=\"start\" x=\"2206\" y=\"-967.3\" font-family=\"Helvetica,sans-Serif\" font-size=\"14.00\" fill=\"#000000\">value = [5, 0]</text>\n<text text-anchor=\"start\" x=\"2218.5\" y=\"-952.3\" font-family=\"Helvetica,sans-Serif\" font-size=\"14.00\" fill=\"#000000\">class = c</text>\n</g>\n<!-- 80&#45;&gt;81 -->\n<g id=\"edge81\" class=\"edge\">\n<title>80&#45;&gt;81</title>\n<path fill=\"none\" stroke=\"#000000\" d=\"M2253.3522,-1055.8796C2252.5455,-1045.2134 2251.6749,-1033.7021 2250.8581,-1022.9015\"/>\n<polygon fill=\"#000000\" stroke=\"#000000\" points=\"2254.3395,-1022.5225 2250.0952,-1012.8149 2247.3595,-1023.0504 2254.3395,-1022.5225\"/>\n</g>\n<!-- 82 -->\n<g id=\"node83\" class=\"node\">\n<title>82</title>\n<path fill=\"#65b3eb\" stroke=\"#000000\" d=\"M2471,-1020C2471,-1020 2328,-1020 2328,-1020 2322,-1020 2316,-1014 2316,-1008 2316,-1008 2316,-949 2316,-949 2316,-943 2322,-937 2328,-937 2328,-937 2471,-937 2471,-937 2477,-937 2483,-943 2483,-949 2483,-949 2483,-1008 2483,-1008 2483,-1014 2477,-1020 2471,-1020\"/>\n<text text-anchor=\"start\" x=\"2324\" y=\"-1004.8\" font-family=\"Helvetica,sans-Serif\" font-size=\"14.00\" fill=\"#000000\">log.annual.inc ≤ 11.995</text>\n<text text-anchor=\"start\" x=\"2348.5\" y=\"-989.8\" font-family=\"Helvetica,sans-Serif\" font-size=\"14.00\" fill=\"#000000\">entropy = 0.684</text>\n<text text-anchor=\"start\" x=\"2355.5\" y=\"-974.8\" font-family=\"Helvetica,sans-Serif\" font-size=\"14.00\" fill=\"#000000\">samples = 11</text>\n<text text-anchor=\"start\" x=\"2358\" y=\"-959.8\" font-family=\"Helvetica,sans-Serif\" font-size=\"14.00\" fill=\"#000000\">value = [2, 9]</text>\n<text text-anchor=\"start\" x=\"2372\" y=\"-944.8\" font-family=\"Helvetica,sans-Serif\" font-size=\"14.00\" fill=\"#000000\">class = r</text>\n</g>\n<!-- 80&#45;&gt;82 -->\n<g id=\"edge82\" class=\"edge\">\n<title>80&#45;&gt;82</title>\n<path fill=\"none\" stroke=\"#000000\" d=\"M2306.5145,-1055.8796C2317.7701,-1046.513 2329.8088,-1036.4948 2341.3646,-1026.8784\"/>\n<polygon fill=\"#000000\" stroke=\"#000000\" points=\"2343.8242,-1029.385 2349.2721,-1020.2981 2339.3466,-1024.0043 2343.8242,-1029.385\"/>\n</g>\n<!-- 83 -->\n<g id=\"node84\" class=\"node\">\n<title>83</title>\n<path fill=\"#bddef6\" stroke=\"#000000\" d=\"M2382.5,-893.5C2382.5,-893.5 2288.5,-893.5 2288.5,-893.5 2282.5,-893.5 2276.5,-887.5 2276.5,-881.5 2276.5,-881.5 2276.5,-837.5 2276.5,-837.5 2276.5,-831.5 2282.5,-825.5 2288.5,-825.5 2288.5,-825.5 2382.5,-825.5 2382.5,-825.5 2388.5,-825.5 2394.5,-831.5 2394.5,-837.5 2394.5,-837.5 2394.5,-881.5 2394.5,-881.5 2394.5,-887.5 2388.5,-893.5 2382.5,-893.5\"/>\n<text text-anchor=\"start\" x=\"2284.5\" y=\"-878.3\" font-family=\"Helvetica,sans-Serif\" font-size=\"14.00\" fill=\"#000000\">entropy = 0.971</text>\n<text text-anchor=\"start\" x=\"2296\" y=\"-863.3\" font-family=\"Helvetica,sans-Serif\" font-size=\"14.00\" fill=\"#000000\">samples = 5</text>\n<text text-anchor=\"start\" x=\"2294\" y=\"-848.3\" font-family=\"Helvetica,sans-Serif\" font-size=\"14.00\" fill=\"#000000\">value = [2, 3]</text>\n<text text-anchor=\"start\" x=\"2308\" y=\"-833.3\" font-family=\"Helvetica,sans-Serif\" font-size=\"14.00\" fill=\"#000000\">class = r</text>\n</g>\n<!-- 82&#45;&gt;83 -->\n<g id=\"edge83\" class=\"edge\">\n<title>82&#45;&gt;83</title>\n<path fill=\"none\" stroke=\"#000000\" d=\"M2377.1159,-936.8796C2371.202,-925.8835 2364.8051,-913.9893 2358.842,-902.9015\"/>\n<polygon fill=\"#000000\" stroke=\"#000000\" points=\"2361.7742,-900.9642 2353.9551,-893.8149 2355.6092,-904.2799 2361.7742,-900.9642\"/>\n</g>\n<!-- 84 -->\n<g id=\"node85\" class=\"node\">\n<title>84</title>\n<path fill=\"#399de5\" stroke=\"#000000\" d=\"M2502,-893.5C2502,-893.5 2425,-893.5 2425,-893.5 2419,-893.5 2413,-887.5 2413,-881.5 2413,-881.5 2413,-837.5 2413,-837.5 2413,-831.5 2419,-825.5 2425,-825.5 2425,-825.5 2502,-825.5 2502,-825.5 2508,-825.5 2514,-831.5 2514,-837.5 2514,-837.5 2514,-881.5 2514,-881.5 2514,-887.5 2508,-893.5 2502,-893.5\"/>\n<text text-anchor=\"start\" x=\"2421\" y=\"-878.3\" font-family=\"Helvetica,sans-Serif\" font-size=\"14.00\" fill=\"#000000\">entropy = 0.0</text>\n<text text-anchor=\"start\" x=\"2424\" y=\"-863.3\" font-family=\"Helvetica,sans-Serif\" font-size=\"14.00\" fill=\"#000000\">samples = 6</text>\n<text text-anchor=\"start\" x=\"2422\" y=\"-848.3\" font-family=\"Helvetica,sans-Serif\" font-size=\"14.00\" fill=\"#000000\">value = [0, 6]</text>\n<text text-anchor=\"start\" x=\"2436\" y=\"-833.3\" font-family=\"Helvetica,sans-Serif\" font-size=\"14.00\" fill=\"#000000\">class = r</text>\n</g>\n<!-- 82&#45;&gt;84 -->\n<g id=\"edge84\" class=\"edge\">\n<title>82&#45;&gt;84</title>\n<path fill=\"none\" stroke=\"#000000\" d=\"M2421.8841,-936.8796C2427.798,-925.8835 2434.1949,-913.9893 2440.158,-902.9015\"/>\n<polygon fill=\"#000000\" stroke=\"#000000\" points=\"2443.3908,-904.2799 2445.0449,-893.8149 2437.2258,-900.9642 2443.3908,-904.2799\"/>\n</g>\n<!-- 87 -->\n<g id=\"node88\" class=\"node\">\n<title>87</title>\n<path fill=\"#e58139\" stroke=\"#000000\" d=\"M2214.5,-1726.5C2214.5,-1726.5 2122.5,-1726.5 2122.5,-1726.5 2116.5,-1726.5 2110.5,-1720.5 2110.5,-1714.5 2110.5,-1714.5 2110.5,-1670.5 2110.5,-1670.5 2110.5,-1664.5 2116.5,-1658.5 2122.5,-1658.5 2122.5,-1658.5 2214.5,-1658.5 2214.5,-1658.5 2220.5,-1658.5 2226.5,-1664.5 2226.5,-1670.5 2226.5,-1670.5 2226.5,-1714.5 2226.5,-1714.5 2226.5,-1720.5 2220.5,-1726.5 2214.5,-1726.5\"/>\n<text text-anchor=\"start\" x=\"2126\" y=\"-1711.3\" font-family=\"Helvetica,sans-Serif\" font-size=\"14.00\" fill=\"#000000\">entropy = 0.0</text>\n<text text-anchor=\"start\" x=\"2120.5\" y=\"-1696.3\" font-family=\"Helvetica,sans-Serif\" font-size=\"14.00\" fill=\"#000000\">samples = 846</text>\n<text text-anchor=\"start\" x=\"2118.5\" y=\"-1681.3\" font-family=\"Helvetica,sans-Serif\" font-size=\"14.00\" fill=\"#000000\">value = [846, 0]</text>\n<text text-anchor=\"start\" x=\"2139.5\" y=\"-1666.3\" font-family=\"Helvetica,sans-Serif\" font-size=\"14.00\" fill=\"#000000\">class = c</text>\n</g>\n<!-- 86&#45;&gt;87 -->\n<g id=\"edge87\" class=\"edge\">\n<title>86&#45;&gt;87</title>\n<path fill=\"none\" stroke=\"#000000\" d=\"M2168.5,-1769.8796C2168.5,-1759.2134 2168.5,-1747.7021 2168.5,-1736.9015\"/>\n<polygon fill=\"#000000\" stroke=\"#000000\" points=\"2172.0001,-1736.8149 2168.5,-1726.8149 2165.0001,-1736.815 2172.0001,-1736.8149\"/>\n</g>\n<!-- 88 -->\n<g id=\"node89\" class=\"node\">\n<title>88</title>\n<path fill=\"#4fa8e8\" stroke=\"#000000\" d=\"M2467,-1734C2467,-1734 2350,-1734 2350,-1734 2344,-1734 2338,-1728 2338,-1722 2338,-1722 2338,-1663 2338,-1663 2338,-1657 2344,-1651 2350,-1651 2350,-1651 2467,-1651 2467,-1651 2473,-1651 2479,-1657 2479,-1663 2479,-1663 2479,-1722 2479,-1722 2479,-1728 2473,-1734 2467,-1734\"/>\n<text text-anchor=\"start\" x=\"2346\" y=\"-1718.8\" font-family=\"Helvetica,sans-Serif\" font-size=\"14.00\" fill=\"#000000\">inq.last.6mths ≤ 8.5</text>\n<text text-anchor=\"start\" x=\"2357.5\" y=\"-1703.8\" font-family=\"Helvetica,sans-Serif\" font-size=\"14.00\" fill=\"#000000\">entropy = 0.473</text>\n<text text-anchor=\"start\" x=\"2360.5\" y=\"-1688.8\" font-family=\"Helvetica,sans-Serif\" font-size=\"14.00\" fill=\"#000000\">samples = 148</text>\n<text text-anchor=\"start\" x=\"2354.5\" y=\"-1673.8\" font-family=\"Helvetica,sans-Serif\" font-size=\"14.00\" fill=\"#000000\">value = [15, 133]</text>\n<text text-anchor=\"start\" x=\"2381\" y=\"-1658.8\" font-family=\"Helvetica,sans-Serif\" font-size=\"14.00\" fill=\"#000000\">class = r</text>\n</g>\n<!-- 86&#45;&gt;88 -->\n<g id=\"edge88\" class=\"edge\">\n<title>86&#45;&gt;88</title>\n<path fill=\"none\" stroke=\"#000000\" d=\"M2234.7164,-1778.6677C2263.7622,-1764.2658 2298.1087,-1747.2357 2328.5654,-1732.1342\"/>\n<polygon fill=\"#000000\" stroke=\"#000000\" points=\"2330.4781,-1735.0925 2337.8825,-1727.5145 2327.3685,-1728.8211 2330.4781,-1735.0925\"/>\n</g>\n<!-- 89 -->\n<g id=\"node90\" class=\"node\">\n<title>89</title>\n<path fill=\"#48a4e7\" stroke=\"#000000\" d=\"M2470.5,-1615C2470.5,-1615 2346.5,-1615 2346.5,-1615 2340.5,-1615 2334.5,-1609 2334.5,-1603 2334.5,-1603 2334.5,-1544 2334.5,-1544 2334.5,-1538 2340.5,-1532 2346.5,-1532 2346.5,-1532 2470.5,-1532 2470.5,-1532 2476.5,-1532 2482.5,-1538 2482.5,-1544 2482.5,-1544 2482.5,-1603 2482.5,-1603 2482.5,-1609 2476.5,-1615 2470.5,-1615\"/>\n<text text-anchor=\"start\" x=\"2342.5\" y=\"-1599.8\" font-family=\"Helvetica,sans-Serif\" font-size=\"14.00\" fill=\"#000000\">revol.bal ≤ 113882.0</text>\n<text text-anchor=\"start\" x=\"2357.5\" y=\"-1584.8\" font-family=\"Helvetica,sans-Serif\" font-size=\"14.00\" fill=\"#000000\">entropy = 0.366</text>\n<text text-anchor=\"start\" x=\"2360.5\" y=\"-1569.8\" font-family=\"Helvetica,sans-Serif\" font-size=\"14.00\" fill=\"#000000\">samples = 143</text>\n<text text-anchor=\"start\" x=\"2354.5\" y=\"-1554.8\" font-family=\"Helvetica,sans-Serif\" font-size=\"14.00\" fill=\"#000000\">value = [10, 133]</text>\n<text text-anchor=\"start\" x=\"2381\" y=\"-1539.8\" font-family=\"Helvetica,sans-Serif\" font-size=\"14.00\" fill=\"#000000\">class = r</text>\n</g>\n<!-- 88&#45;&gt;89 -->\n<g id=\"edge89\" class=\"edge\">\n<title>88&#45;&gt;89</title>\n<path fill=\"none\" stroke=\"#000000\" d=\"M2408.5,-1650.8796C2408.5,-1642.6838 2408.5,-1633.9891 2408.5,-1625.5013\"/>\n<polygon fill=\"#000000\" stroke=\"#000000\" points=\"2412.0001,-1625.298 2408.5,-1615.2981 2405.0001,-1625.2981 2412.0001,-1625.298\"/>\n</g>\n<!-- 98 -->\n<g id=\"node99\" class=\"node\">\n<title>98</title>\n<path fill=\"#e58139\" stroke=\"#000000\" d=\"M2590,-1607.5C2590,-1607.5 2513,-1607.5 2513,-1607.5 2507,-1607.5 2501,-1601.5 2501,-1595.5 2501,-1595.5 2501,-1551.5 2501,-1551.5 2501,-1545.5 2507,-1539.5 2513,-1539.5 2513,-1539.5 2590,-1539.5 2590,-1539.5 2596,-1539.5 2602,-1545.5 2602,-1551.5 2602,-1551.5 2602,-1595.5 2602,-1595.5 2602,-1601.5 2596,-1607.5 2590,-1607.5\"/>\n<text text-anchor=\"start\" x=\"2509\" y=\"-1592.3\" font-family=\"Helvetica,sans-Serif\" font-size=\"14.00\" fill=\"#000000\">entropy = 0.0</text>\n<text text-anchor=\"start\" x=\"2512\" y=\"-1577.3\" font-family=\"Helvetica,sans-Serif\" font-size=\"14.00\" fill=\"#000000\">samples = 5</text>\n<text text-anchor=\"start\" x=\"2510\" y=\"-1562.3\" font-family=\"Helvetica,sans-Serif\" font-size=\"14.00\" fill=\"#000000\">value = [5, 0]</text>\n<text text-anchor=\"start\" x=\"2522.5\" y=\"-1547.3\" font-family=\"Helvetica,sans-Serif\" font-size=\"14.00\" fill=\"#000000\">class = c</text>\n</g>\n<!-- 88&#45;&gt;98 -->\n<g id=\"edge98\" class=\"edge\">\n<title>88&#45;&gt;98</title>\n<path fill=\"none\" stroke=\"#000000\" d=\"M2458.5145,-1650.8796C2472.7853,-1639.0038 2488.3151,-1626.0804 2502.5233,-1614.2568\"/>\n<polygon fill=\"#000000\" stroke=\"#000000\" points=\"2504.8166,-1616.9019 2510.2644,-1607.8149 2500.339,-1611.5212 2504.8166,-1616.9019\"/>\n</g>\n<!-- 90 -->\n<g id=\"node91\" class=\"node\">\n<title>90</title>\n<path fill=\"#42a1e6\" stroke=\"#000000\" d=\"M2455.5,-1496C2455.5,-1496 2361.5,-1496 2361.5,-1496 2355.5,-1496 2349.5,-1490 2349.5,-1484 2349.5,-1484 2349.5,-1425 2349.5,-1425 2349.5,-1419 2355.5,-1413 2361.5,-1413 2361.5,-1413 2455.5,-1413 2455.5,-1413 2461.5,-1413 2467.5,-1419 2467.5,-1425 2467.5,-1425 2467.5,-1484 2467.5,-1484 2467.5,-1490 2461.5,-1496 2455.5,-1496\"/>\n<text text-anchor=\"start\" x=\"2363\" y=\"-1480.8\" font-family=\"Helvetica,sans-Serif\" font-size=\"14.00\" fill=\"#000000\">revol.bal ≤ 2.5</text>\n<text text-anchor=\"start\" x=\"2357.5\" y=\"-1465.8\" font-family=\"Helvetica,sans-Serif\" font-size=\"14.00\" fill=\"#000000\">entropy = 0.258</text>\n<text text-anchor=\"start\" x=\"2360.5\" y=\"-1450.8\" font-family=\"Helvetica,sans-Serif\" font-size=\"14.00\" fill=\"#000000\">samples = 138</text>\n<text text-anchor=\"start\" x=\"2358.5\" y=\"-1435.8\" font-family=\"Helvetica,sans-Serif\" font-size=\"14.00\" fill=\"#000000\">value = [6, 132]</text>\n<text text-anchor=\"start\" x=\"2381\" y=\"-1420.8\" font-family=\"Helvetica,sans-Serif\" font-size=\"14.00\" fill=\"#000000\">class = r</text>\n</g>\n<!-- 89&#45;&gt;90 -->\n<g id=\"edge90\" class=\"edge\">\n<title>89&#45;&gt;90</title>\n<path fill=\"none\" stroke=\"#000000\" d=\"M2408.5,-1531.8796C2408.5,-1523.6838 2408.5,-1514.9891 2408.5,-1506.5013\"/>\n<polygon fill=\"#000000\" stroke=\"#000000\" points=\"2412.0001,-1506.298 2408.5,-1496.2981 2405.0001,-1506.2981 2412.0001,-1506.298\"/>\n</g>\n<!-- 97 -->\n<g id=\"node98\" class=\"node\">\n<title>97</title>\n<path fill=\"#eca06a\" stroke=\"#000000\" d=\"M2591.5,-1488.5C2591.5,-1488.5 2497.5,-1488.5 2497.5,-1488.5 2491.5,-1488.5 2485.5,-1482.5 2485.5,-1476.5 2485.5,-1476.5 2485.5,-1432.5 2485.5,-1432.5 2485.5,-1426.5 2491.5,-1420.5 2497.5,-1420.5 2497.5,-1420.5 2591.5,-1420.5 2591.5,-1420.5 2597.5,-1420.5 2603.5,-1426.5 2603.5,-1432.5 2603.5,-1432.5 2603.5,-1476.5 2603.5,-1476.5 2603.5,-1482.5 2597.5,-1488.5 2591.5,-1488.5\"/>\n<text text-anchor=\"start\" x=\"2493.5\" y=\"-1473.3\" font-family=\"Helvetica,sans-Serif\" font-size=\"14.00\" fill=\"#000000\">entropy = 0.722</text>\n<text text-anchor=\"start\" x=\"2505\" y=\"-1458.3\" font-family=\"Helvetica,sans-Serif\" font-size=\"14.00\" fill=\"#000000\">samples = 5</text>\n<text text-anchor=\"start\" x=\"2503\" y=\"-1443.3\" font-family=\"Helvetica,sans-Serif\" font-size=\"14.00\" fill=\"#000000\">value = [4, 1]</text>\n<text text-anchor=\"start\" x=\"2515.5\" y=\"-1428.3\" font-family=\"Helvetica,sans-Serif\" font-size=\"14.00\" fill=\"#000000\">class = c</text>\n</g>\n<!-- 89&#45;&gt;97 -->\n<g id=\"edge97\" class=\"edge\">\n<title>89&#45;&gt;97</title>\n<path fill=\"none\" stroke=\"#000000\" d=\"M2456.0662,-1531.8796C2469.5128,-1520.1138 2484.1347,-1507.3197 2497.5451,-1495.5855\"/>\n<polygon fill=\"#000000\" stroke=\"#000000\" points=\"2500.0619,-1498.034 2505.2829,-1488.8149 2495.4524,-1492.766 2500.0619,-1498.034\"/>\n</g>\n<!-- 91 -->\n<g id=\"node92\" class=\"node\">\n<title>91</title>\n<path fill=\"#bddef6\" stroke=\"#000000\" d=\"M2455.5,-1377C2455.5,-1377 2361.5,-1377 2361.5,-1377 2355.5,-1377 2349.5,-1371 2349.5,-1365 2349.5,-1365 2349.5,-1306 2349.5,-1306 2349.5,-1300 2355.5,-1294 2361.5,-1294 2361.5,-1294 2455.5,-1294 2455.5,-1294 2461.5,-1294 2467.5,-1300 2467.5,-1306 2467.5,-1306 2467.5,-1365 2467.5,-1365 2467.5,-1371 2461.5,-1377 2455.5,-1377\"/>\n<text text-anchor=\"start\" x=\"2360\" y=\"-1361.8\" font-family=\"Helvetica,sans-Serif\" font-size=\"14.00\" fill=\"#000000\">revol.util ≤ 0.65</text>\n<text text-anchor=\"start\" x=\"2357.5\" y=\"-1346.8\" font-family=\"Helvetica,sans-Serif\" font-size=\"14.00\" fill=\"#000000\">entropy = 0.971</text>\n<text text-anchor=\"start\" x=\"2364.5\" y=\"-1331.8\" font-family=\"Helvetica,sans-Serif\" font-size=\"14.00\" fill=\"#000000\">samples = 15</text>\n<text text-anchor=\"start\" x=\"2367\" y=\"-1316.8\" font-family=\"Helvetica,sans-Serif\" font-size=\"14.00\" fill=\"#000000\">value = [6, 9]</text>\n<text text-anchor=\"start\" x=\"2381\" y=\"-1301.8\" font-family=\"Helvetica,sans-Serif\" font-size=\"14.00\" fill=\"#000000\">class = r</text>\n</g>\n<!-- 90&#45;&gt;91 -->\n<g id=\"edge91\" class=\"edge\">\n<title>90&#45;&gt;91</title>\n<path fill=\"none\" stroke=\"#000000\" d=\"M2408.5,-1412.8796C2408.5,-1404.6838 2408.5,-1395.9891 2408.5,-1387.5013\"/>\n<polygon fill=\"#000000\" stroke=\"#000000\" points=\"2412.0001,-1387.298 2408.5,-1377.2981 2405.0001,-1387.2981 2412.0001,-1387.298\"/>\n</g>\n<!-- 96 -->\n<g id=\"node97\" class=\"node\">\n<title>96</title>\n<path fill=\"#399de5\" stroke=\"#000000\" d=\"M2589.5,-1369.5C2589.5,-1369.5 2497.5,-1369.5 2497.5,-1369.5 2491.5,-1369.5 2485.5,-1363.5 2485.5,-1357.5 2485.5,-1357.5 2485.5,-1313.5 2485.5,-1313.5 2485.5,-1307.5 2491.5,-1301.5 2497.5,-1301.5 2497.5,-1301.5 2589.5,-1301.5 2589.5,-1301.5 2595.5,-1301.5 2601.5,-1307.5 2601.5,-1313.5 2601.5,-1313.5 2601.5,-1357.5 2601.5,-1357.5 2601.5,-1363.5 2595.5,-1369.5 2589.5,-1369.5\"/>\n<text text-anchor=\"start\" x=\"2501\" y=\"-1354.3\" font-family=\"Helvetica,sans-Serif\" font-size=\"14.00\" fill=\"#000000\">entropy = 0.0</text>\n<text text-anchor=\"start\" x=\"2495.5\" y=\"-1339.3\" font-family=\"Helvetica,sans-Serif\" font-size=\"14.00\" fill=\"#000000\">samples = 123</text>\n<text text-anchor=\"start\" x=\"2493.5\" y=\"-1324.3\" font-family=\"Helvetica,sans-Serif\" font-size=\"14.00\" fill=\"#000000\">value = [0, 123]</text>\n<text text-anchor=\"start\" x=\"2516\" y=\"-1309.3\" font-family=\"Helvetica,sans-Serif\" font-size=\"14.00\" fill=\"#000000\">class = r</text>\n</g>\n<!-- 90&#45;&gt;96 -->\n<g id=\"edge96\" class=\"edge\">\n<title>90&#45;&gt;96</title>\n<path fill=\"none\" stroke=\"#000000\" d=\"M2455.7164,-1412.8796C2469.0642,-1401.1138 2483.5785,-1388.3197 2496.8904,-1376.5855\"/>\n<polygon fill=\"#000000\" stroke=\"#000000\" points=\"2499.384,-1379.0531 2504.5713,-1369.8149 2494.7552,-1373.8019 2499.384,-1379.0531\"/>\n</g>\n<!-- 92 -->\n<g id=\"node93\" class=\"node\">\n<title>92</title>\n<path fill=\"#4fa8e8\" stroke=\"#000000\" d=\"M2455.5,-1258C2455.5,-1258 2361.5,-1258 2361.5,-1258 2355.5,-1258 2349.5,-1252 2349.5,-1246 2349.5,-1246 2349.5,-1187 2349.5,-1187 2349.5,-1181 2355.5,-1175 2361.5,-1175 2361.5,-1175 2455.5,-1175 2455.5,-1175 2461.5,-1175 2467.5,-1181 2467.5,-1187 2467.5,-1187 2467.5,-1246 2467.5,-1246 2467.5,-1252 2461.5,-1258 2455.5,-1258\"/>\n<text text-anchor=\"start\" x=\"2369\" y=\"-1242.8\" font-family=\"Helvetica,sans-Serif\" font-size=\"14.00\" fill=\"#000000\">int.rate ≤ 0.1</text>\n<text text-anchor=\"start\" x=\"2357.5\" y=\"-1227.8\" font-family=\"Helvetica,sans-Serif\" font-size=\"14.00\" fill=\"#000000\">entropy = 0.469</text>\n<text text-anchor=\"start\" x=\"2364.5\" y=\"-1212.8\" font-family=\"Helvetica,sans-Serif\" font-size=\"14.00\" fill=\"#000000\">samples = 10</text>\n<text text-anchor=\"start\" x=\"2367\" y=\"-1197.8\" font-family=\"Helvetica,sans-Serif\" font-size=\"14.00\" fill=\"#000000\">value = [1, 9]</text>\n<text text-anchor=\"start\" x=\"2381\" y=\"-1182.8\" font-family=\"Helvetica,sans-Serif\" font-size=\"14.00\" fill=\"#000000\">class = r</text>\n</g>\n<!-- 91&#45;&gt;92 -->\n<g id=\"edge92\" class=\"edge\">\n<title>91&#45;&gt;92</title>\n<path fill=\"none\" stroke=\"#000000\" d=\"M2408.5,-1293.8796C2408.5,-1285.6838 2408.5,-1276.9891 2408.5,-1268.5013\"/>\n<polygon fill=\"#000000\" stroke=\"#000000\" points=\"2412.0001,-1268.298 2408.5,-1258.2981 2405.0001,-1268.2981 2412.0001,-1268.298\"/>\n</g>\n<!-- 95 -->\n<g id=\"node96\" class=\"node\">\n<title>95</title>\n<path fill=\"#e58139\" stroke=\"#000000\" d=\"M2575,-1250.5C2575,-1250.5 2498,-1250.5 2498,-1250.5 2492,-1250.5 2486,-1244.5 2486,-1238.5 2486,-1238.5 2486,-1194.5 2486,-1194.5 2486,-1188.5 2492,-1182.5 2498,-1182.5 2498,-1182.5 2575,-1182.5 2575,-1182.5 2581,-1182.5 2587,-1188.5 2587,-1194.5 2587,-1194.5 2587,-1238.5 2587,-1238.5 2587,-1244.5 2581,-1250.5 2575,-1250.5\"/>\n<text text-anchor=\"start\" x=\"2494\" y=\"-1235.3\" font-family=\"Helvetica,sans-Serif\" font-size=\"14.00\" fill=\"#000000\">entropy = 0.0</text>\n<text text-anchor=\"start\" x=\"2497\" y=\"-1220.3\" font-family=\"Helvetica,sans-Serif\" font-size=\"14.00\" fill=\"#000000\">samples = 5</text>\n<text text-anchor=\"start\" x=\"2495\" y=\"-1205.3\" font-family=\"Helvetica,sans-Serif\" font-size=\"14.00\" fill=\"#000000\">value = [5, 0]</text>\n<text text-anchor=\"start\" x=\"2507.5\" y=\"-1190.3\" font-family=\"Helvetica,sans-Serif\" font-size=\"14.00\" fill=\"#000000\">class = c</text>\n</g>\n<!-- 91&#45;&gt;95 -->\n<g id=\"edge95\" class=\"edge\">\n<title>91&#45;&gt;95</title>\n<path fill=\"none\" stroke=\"#000000\" d=\"M2453.2682,-1293.8796C2465.8056,-1282.2237 2479.4284,-1269.5587 2491.953,-1257.9148\"/>\n<polygon fill=\"#000000\" stroke=\"#000000\" points=\"2494.6491,-1260.1872 2499.5898,-1250.8149 2489.8828,-1255.0605 2494.6491,-1260.1872\"/>\n</g>\n<!-- 93 -->\n<g id=\"node94\" class=\"node\">\n<title>93</title>\n<path fill=\"#399de5\" stroke=\"#000000\" d=\"M2447,-1131.5C2447,-1131.5 2370,-1131.5 2370,-1131.5 2364,-1131.5 2358,-1125.5 2358,-1119.5 2358,-1119.5 2358,-1075.5 2358,-1075.5 2358,-1069.5 2364,-1063.5 2370,-1063.5 2370,-1063.5 2447,-1063.5 2447,-1063.5 2453,-1063.5 2459,-1069.5 2459,-1075.5 2459,-1075.5 2459,-1119.5 2459,-1119.5 2459,-1125.5 2453,-1131.5 2447,-1131.5\"/>\n<text text-anchor=\"start\" x=\"2366\" y=\"-1116.3\" font-family=\"Helvetica,sans-Serif\" font-size=\"14.00\" fill=\"#000000\">entropy = 0.0</text>\n<text text-anchor=\"start\" x=\"2369\" y=\"-1101.3\" font-family=\"Helvetica,sans-Serif\" font-size=\"14.00\" fill=\"#000000\">samples = 5</text>\n<text text-anchor=\"start\" x=\"2367\" y=\"-1086.3\" font-family=\"Helvetica,sans-Serif\" font-size=\"14.00\" fill=\"#000000\">value = [0, 5]</text>\n<text text-anchor=\"start\" x=\"2381\" y=\"-1071.3\" font-family=\"Helvetica,sans-Serif\" font-size=\"14.00\" fill=\"#000000\">class = r</text>\n</g>\n<!-- 92&#45;&gt;93 -->\n<g id=\"edge93\" class=\"edge\">\n<title>92&#45;&gt;93</title>\n<path fill=\"none\" stroke=\"#000000\" d=\"M2408.5,-1174.8796C2408.5,-1164.2134 2408.5,-1152.7021 2408.5,-1141.9015\"/>\n<polygon fill=\"#000000\" stroke=\"#000000\" points=\"2412.0001,-1141.8149 2408.5,-1131.8149 2405.0001,-1141.815 2412.0001,-1141.8149\"/>\n</g>\n<!-- 94 -->\n<g id=\"node95\" class=\"node\">\n<title>94</title>\n<path fill=\"#6ab6ec\" stroke=\"#000000\" d=\"M2583.5,-1131.5C2583.5,-1131.5 2489.5,-1131.5 2489.5,-1131.5 2483.5,-1131.5 2477.5,-1125.5 2477.5,-1119.5 2477.5,-1119.5 2477.5,-1075.5 2477.5,-1075.5 2477.5,-1069.5 2483.5,-1063.5 2489.5,-1063.5 2489.5,-1063.5 2583.5,-1063.5 2583.5,-1063.5 2589.5,-1063.5 2595.5,-1069.5 2595.5,-1075.5 2595.5,-1075.5 2595.5,-1119.5 2595.5,-1119.5 2595.5,-1125.5 2589.5,-1131.5 2583.5,-1131.5\"/>\n<text text-anchor=\"start\" x=\"2485.5\" y=\"-1116.3\" font-family=\"Helvetica,sans-Serif\" font-size=\"14.00\" fill=\"#000000\">entropy = 0.722</text>\n<text text-anchor=\"start\" x=\"2497\" y=\"-1101.3\" font-family=\"Helvetica,sans-Serif\" font-size=\"14.00\" fill=\"#000000\">samples = 5</text>\n<text text-anchor=\"start\" x=\"2495\" y=\"-1086.3\" font-family=\"Helvetica,sans-Serif\" font-size=\"14.00\" fill=\"#000000\">value = [1, 4]</text>\n<text text-anchor=\"start\" x=\"2509\" y=\"-1071.3\" font-family=\"Helvetica,sans-Serif\" font-size=\"14.00\" fill=\"#000000\">class = r</text>\n</g>\n<!-- 92&#45;&gt;94 -->\n<g id=\"edge94\" class=\"edge\">\n<title>92&#45;&gt;94</title>\n<path fill=\"none\" stroke=\"#000000\" d=\"M2453.2682,-1174.8796C2465.8056,-1163.2237 2479.4284,-1150.5587 2491.953,-1138.9148\"/>\n<polygon fill=\"#000000\" stroke=\"#000000\" points=\"2494.6491,-1141.1872 2499.5898,-1131.8149 2489.8828,-1136.0605 2494.6491,-1141.1872\"/>\n</g>\n</g>\n</svg>\n"
          },
          "metadata": {},
          "execution_count": 68
        }
      ]
    },
    {
      "cell_type": "code",
      "source": [
        "from sklearn.metrics import accuracy_score\n",
        "from sklearn.ensemble import RandomForestClassifier\n",
        "rforest = RandomForestClassifier(n_estimators = 300)\n",
        "rforest.fit(X_train, y_train)\n",
        "y_predict = rforest.predict(X_test)\n",
        "print(accuracy_score(y_test, y_predict))\n",
        "print(classification_report(y_test,y_predict))\n",
        "print(confusion_matrix(y_test,y_predict))"
      ],
      "metadata": {
        "colab": {
          "base_uri": "https://localhost:8080/"
        },
        "id": "gj5BN39-QMM4",
        "outputId": "532ee27f-8d4d-4f55-d720-beca530fc970"
      },
      "execution_count": 69,
      "outputs": [
        {
          "output_type": "stream",
          "name": "stdout",
          "text": [
            "0.988517745302714\n",
            "              precision    recall  f1-score   support\n",
            "\n",
            "           0       0.98      0.96      0.97       367\n",
            "           1       0.99      1.00      0.99      1549\n",
            "\n",
            "    accuracy                           0.99      1916\n",
            "   macro avg       0.99      0.98      0.98      1916\n",
            "weighted avg       0.99      0.99      0.99      1916\n",
            "\n",
            "[[ 351   16]\n",
            " [   6 1543]]\n"
          ]
        }
      ]
    },
    {
      "cell_type": "code",
      "source": [
        "from sklearn.ensemble import RandomForestClassifier\n",
        "rf = RandomForestClassifier()\n",
        "from sklearn.model_selection import GridSearchCV, RandomizedSearchCV\n",
        "param_grid  = {\n",
        "    'criterion': ['entropy','gini'],\n",
        "    'max_depth': [None,5,6,7,15],\n",
        "    'max_features': ['log2','sqrt','auto'],\n",
        "    'min_samples_leaf': [4, 5, 6],\n",
        "    'min_samples_split': [2, 4 , 6, 10],\n",
        "    'n_estimators': [10, 20, 30]\n",
        "}\n",
        "grid_searchrf = RandomizedSearchCV(estimator=rf, \n",
        "                           param_distributions=param_grid, \n",
        "                           cv=3, n_jobs=-1, verbose=2, scoring = \"accuracy\")\n",
        "grid_searchrf.fit(X_train, y_train)\n",
        "score_df_rf = pd.DataFrame(grid_searchrf.cv_results_)\n",
        "score_df_rf.head()"
      ],
      "metadata": {
        "colab": {
          "base_uri": "https://localhost:8080/",
          "height": 462
        },
        "id": "n7P4uUKzgtvl",
        "outputId": "571632f1-2bd1-4705-9977-5629f177de30"
      },
      "execution_count": 70,
      "outputs": [
        {
          "output_type": "stream",
          "name": "stdout",
          "text": [
            "Fitting 3 folds for each of 10 candidates, totalling 30 fits\n"
          ]
        },
        {
          "output_type": "execute_result",
          "data": {
            "text/plain": [
              "   mean_fit_time  std_fit_time  mean_score_time  std_score_time  \\\n",
              "0       0.487519      0.112224         0.029344        0.008870   \n",
              "1       1.084875      0.200270         0.052527        0.022967   \n",
              "2       0.228272      0.079093         0.011435        0.000044   \n",
              "3       0.196746      0.013453         0.014464        0.001698   \n",
              "4       0.119032      0.005117         0.014993        0.006593   \n",
              "\n",
              "  param_n_estimators param_min_samples_split param_min_samples_leaf  \\\n",
              "0                 30                       6                      4   \n",
              "1                 30                      10                      6   \n",
              "2                 20                       2                      5   \n",
              "3                 20                       6                      6   \n",
              "4                 10                      10                      6   \n",
              "\n",
              "  param_max_features param_max_depth param_criterion  \\\n",
              "0               log2               5            gini   \n",
              "1               log2            None         entropy   \n",
              "2               sqrt               5         entropy   \n",
              "3               sqrt               6         entropy   \n",
              "4               log2              15            gini   \n",
              "\n",
              "                                              params  split0_test_score  \\\n",
              "0  {'n_estimators': 30, 'min_samples_split': 6, '...           0.974941   \n",
              "1  {'n_estimators': 30, 'min_samples_split': 10, ...           0.982381   \n",
              "2  {'n_estimators': 20, 'min_samples_split': 2, '...           0.981206   \n",
              "3  {'n_estimators': 20, 'min_samples_split': 6, '...           0.981206   \n",
              "4  {'n_estimators': 10, 'min_samples_split': 10, ...           0.981597   \n",
              "\n",
              "   split1_test_score  split2_test_score  mean_test_score  std_test_score  \\\n",
              "0           0.980814           0.976899         0.977552        0.002442   \n",
              "1           0.989037           0.985121         0.985513        0.002731   \n",
              "2           0.972984           0.971417         0.975202        0.004293   \n",
              "3           0.984730           0.975724         0.980553        0.003705   \n",
              "4           0.990211           0.984338         0.985382        0.003593   \n",
              "\n",
              "   rank_test_score  \n",
              "0                8  \n",
              "1                2  \n",
              "2                9  \n",
              "3                6  \n",
              "4                3  "
            ],
            "text/html": [
              "\n",
              "  <div id=\"df-7c866fa4-abd5-4273-81fb-f44aa0b0a8e8\">\n",
              "    <div class=\"colab-df-container\">\n",
              "      <div>\n",
              "<style scoped>\n",
              "    .dataframe tbody tr th:only-of-type {\n",
              "        vertical-align: middle;\n",
              "    }\n",
              "\n",
              "    .dataframe tbody tr th {\n",
              "        vertical-align: top;\n",
              "    }\n",
              "\n",
              "    .dataframe thead th {\n",
              "        text-align: right;\n",
              "    }\n",
              "</style>\n",
              "<table border=\"1\" class=\"dataframe\">\n",
              "  <thead>\n",
              "    <tr style=\"text-align: right;\">\n",
              "      <th></th>\n",
              "      <th>mean_fit_time</th>\n",
              "      <th>std_fit_time</th>\n",
              "      <th>mean_score_time</th>\n",
              "      <th>std_score_time</th>\n",
              "      <th>param_n_estimators</th>\n",
              "      <th>param_min_samples_split</th>\n",
              "      <th>param_min_samples_leaf</th>\n",
              "      <th>param_max_features</th>\n",
              "      <th>param_max_depth</th>\n",
              "      <th>param_criterion</th>\n",
              "      <th>params</th>\n",
              "      <th>split0_test_score</th>\n",
              "      <th>split1_test_score</th>\n",
              "      <th>split2_test_score</th>\n",
              "      <th>mean_test_score</th>\n",
              "      <th>std_test_score</th>\n",
              "      <th>rank_test_score</th>\n",
              "    </tr>\n",
              "  </thead>\n",
              "  <tbody>\n",
              "    <tr>\n",
              "      <th>0</th>\n",
              "      <td>0.487519</td>\n",
              "      <td>0.112224</td>\n",
              "      <td>0.029344</td>\n",
              "      <td>0.008870</td>\n",
              "      <td>30</td>\n",
              "      <td>6</td>\n",
              "      <td>4</td>\n",
              "      <td>log2</td>\n",
              "      <td>5</td>\n",
              "      <td>gini</td>\n",
              "      <td>{'n_estimators': 30, 'min_samples_split': 6, '...</td>\n",
              "      <td>0.974941</td>\n",
              "      <td>0.980814</td>\n",
              "      <td>0.976899</td>\n",
              "      <td>0.977552</td>\n",
              "      <td>0.002442</td>\n",
              "      <td>8</td>\n",
              "    </tr>\n",
              "    <tr>\n",
              "      <th>1</th>\n",
              "      <td>1.084875</td>\n",
              "      <td>0.200270</td>\n",
              "      <td>0.052527</td>\n",
              "      <td>0.022967</td>\n",
              "      <td>30</td>\n",
              "      <td>10</td>\n",
              "      <td>6</td>\n",
              "      <td>log2</td>\n",
              "      <td>None</td>\n",
              "      <td>entropy</td>\n",
              "      <td>{'n_estimators': 30, 'min_samples_split': 10, ...</td>\n",
              "      <td>0.982381</td>\n",
              "      <td>0.989037</td>\n",
              "      <td>0.985121</td>\n",
              "      <td>0.985513</td>\n",
              "      <td>0.002731</td>\n",
              "      <td>2</td>\n",
              "    </tr>\n",
              "    <tr>\n",
              "      <th>2</th>\n",
              "      <td>0.228272</td>\n",
              "      <td>0.079093</td>\n",
              "      <td>0.011435</td>\n",
              "      <td>0.000044</td>\n",
              "      <td>20</td>\n",
              "      <td>2</td>\n",
              "      <td>5</td>\n",
              "      <td>sqrt</td>\n",
              "      <td>5</td>\n",
              "      <td>entropy</td>\n",
              "      <td>{'n_estimators': 20, 'min_samples_split': 2, '...</td>\n",
              "      <td>0.981206</td>\n",
              "      <td>0.972984</td>\n",
              "      <td>0.971417</td>\n",
              "      <td>0.975202</td>\n",
              "      <td>0.004293</td>\n",
              "      <td>9</td>\n",
              "    </tr>\n",
              "    <tr>\n",
              "      <th>3</th>\n",
              "      <td>0.196746</td>\n",
              "      <td>0.013453</td>\n",
              "      <td>0.014464</td>\n",
              "      <td>0.001698</td>\n",
              "      <td>20</td>\n",
              "      <td>6</td>\n",
              "      <td>6</td>\n",
              "      <td>sqrt</td>\n",
              "      <td>6</td>\n",
              "      <td>entropy</td>\n",
              "      <td>{'n_estimators': 20, 'min_samples_split': 6, '...</td>\n",
              "      <td>0.981206</td>\n",
              "      <td>0.984730</td>\n",
              "      <td>0.975724</td>\n",
              "      <td>0.980553</td>\n",
              "      <td>0.003705</td>\n",
              "      <td>6</td>\n",
              "    </tr>\n",
              "    <tr>\n",
              "      <th>4</th>\n",
              "      <td>0.119032</td>\n",
              "      <td>0.005117</td>\n",
              "      <td>0.014993</td>\n",
              "      <td>0.006593</td>\n",
              "      <td>10</td>\n",
              "      <td>10</td>\n",
              "      <td>6</td>\n",
              "      <td>log2</td>\n",
              "      <td>15</td>\n",
              "      <td>gini</td>\n",
              "      <td>{'n_estimators': 10, 'min_samples_split': 10, ...</td>\n",
              "      <td>0.981597</td>\n",
              "      <td>0.990211</td>\n",
              "      <td>0.984338</td>\n",
              "      <td>0.985382</td>\n",
              "      <td>0.003593</td>\n",
              "      <td>3</td>\n",
              "    </tr>\n",
              "  </tbody>\n",
              "</table>\n",
              "</div>\n",
              "      <button class=\"colab-df-convert\" onclick=\"convertToInteractive('df-7c866fa4-abd5-4273-81fb-f44aa0b0a8e8')\"\n",
              "              title=\"Convert this dataframe to an interactive table.\"\n",
              "              style=\"display:none;\">\n",
              "        \n",
              "  <svg xmlns=\"http://www.w3.org/2000/svg\" height=\"24px\"viewBox=\"0 0 24 24\"\n",
              "       width=\"24px\">\n",
              "    <path d=\"M0 0h24v24H0V0z\" fill=\"none\"/>\n",
              "    <path d=\"M18.56 5.44l.94 2.06.94-2.06 2.06-.94-2.06-.94-.94-2.06-.94 2.06-2.06.94zm-11 1L8.5 8.5l.94-2.06 2.06-.94-2.06-.94L8.5 2.5l-.94 2.06-2.06.94zm10 10l.94 2.06.94-2.06 2.06-.94-2.06-.94-.94-2.06-.94 2.06-2.06.94z\"/><path d=\"M17.41 7.96l-1.37-1.37c-.4-.4-.92-.59-1.43-.59-.52 0-1.04.2-1.43.59L10.3 9.45l-7.72 7.72c-.78.78-.78 2.05 0 2.83L4 21.41c.39.39.9.59 1.41.59.51 0 1.02-.2 1.41-.59l7.78-7.78 2.81-2.81c.8-.78.8-2.07 0-2.86zM5.41 20L4 18.59l7.72-7.72 1.47 1.35L5.41 20z\"/>\n",
              "  </svg>\n",
              "      </button>\n",
              "      \n",
              "  <style>\n",
              "    .colab-df-container {\n",
              "      display:flex;\n",
              "      flex-wrap:wrap;\n",
              "      gap: 12px;\n",
              "    }\n",
              "\n",
              "    .colab-df-convert {\n",
              "      background-color: #E8F0FE;\n",
              "      border: none;\n",
              "      border-radius: 50%;\n",
              "      cursor: pointer;\n",
              "      display: none;\n",
              "      fill: #1967D2;\n",
              "      height: 32px;\n",
              "      padding: 0 0 0 0;\n",
              "      width: 32px;\n",
              "    }\n",
              "\n",
              "    .colab-df-convert:hover {\n",
              "      background-color: #E2EBFA;\n",
              "      box-shadow: 0px 1px 2px rgba(60, 64, 67, 0.3), 0px 1px 3px 1px rgba(60, 64, 67, 0.15);\n",
              "      fill: #174EA6;\n",
              "    }\n",
              "\n",
              "    [theme=dark] .colab-df-convert {\n",
              "      background-color: #3B4455;\n",
              "      fill: #D2E3FC;\n",
              "    }\n",
              "\n",
              "    [theme=dark] .colab-df-convert:hover {\n",
              "      background-color: #434B5C;\n",
              "      box-shadow: 0px 1px 3px 1px rgba(0, 0, 0, 0.15);\n",
              "      filter: drop-shadow(0px 1px 2px rgba(0, 0, 0, 0.3));\n",
              "      fill: #FFFFFF;\n",
              "    }\n",
              "  </style>\n",
              "\n",
              "      <script>\n",
              "        const buttonEl =\n",
              "          document.querySelector('#df-7c866fa4-abd5-4273-81fb-f44aa0b0a8e8 button.colab-df-convert');\n",
              "        buttonEl.style.display =\n",
              "          google.colab.kernel.accessAllowed ? 'block' : 'none';\n",
              "\n",
              "        async function convertToInteractive(key) {\n",
              "          const element = document.querySelector('#df-7c866fa4-abd5-4273-81fb-f44aa0b0a8e8');\n",
              "          const dataTable =\n",
              "            await google.colab.kernel.invokeFunction('convertToInteractive',\n",
              "                                                     [key], {});\n",
              "          if (!dataTable) return;\n",
              "\n",
              "          const docLinkHtml = 'Like what you see? Visit the ' +\n",
              "            '<a target=\"_blank\" href=https://colab.research.google.com/notebooks/data_table.ipynb>data table notebook</a>'\n",
              "            + ' to learn more about interactive tables.';\n",
              "          element.innerHTML = '';\n",
              "          dataTable['output_type'] = 'display_data';\n",
              "          await google.colab.output.renderOutput(dataTable, element);\n",
              "          const docLink = document.createElement('div');\n",
              "          docLink.innerHTML = docLinkHtml;\n",
              "          element.appendChild(docLink);\n",
              "        }\n",
              "      </script>\n",
              "    </div>\n",
              "  </div>\n",
              "  "
            ]
          },
          "metadata": {},
          "execution_count": 70
        }
      ]
    },
    {
      "cell_type": "code",
      "source": [
        "print(grid_searchrf.best_estimator_)\n",
        "rf_best = grid_search.best_estimator_\n",
        "evaluate_model(dt_best)\n",
        "print(classification_report(y_test, dt_best.predict(X_test)))"
      ],
      "metadata": {
        "colab": {
          "base_uri": "https://localhost:8080/"
        },
        "id": "dgAV5qlx7z73",
        "outputId": "c0d5a113-1199-4a68-a615-7e878b544382"
      },
      "execution_count": 71,
      "outputs": [
        {
          "output_type": "stream",
          "name": "stdout",
          "text": [
            "RandomForestClassifier(criterion='entropy', max_depth=15, max_features='log2',\n",
            "                       min_samples_leaf=6, min_samples_split=10,\n",
            "                       n_estimators=30)\n",
            "Train Accuracy : 0.9960845732184808\n",
            "Train Confusion Matrix:\n",
            "[[1485   16]\n",
            " [  14 6147]]\n",
            "--------------------------------------------------\n",
            "Test Accuracy : 0.9926931106471816\n",
            "Test Confusion Matrix:\n",
            "[[ 360    7]\n",
            " [   7 1542]]\n",
            "              precision    recall  f1-score   support\n",
            "\n",
            "           0       0.98      0.98      0.98       367\n",
            "           1       1.00      1.00      1.00      1549\n",
            "\n",
            "    accuracy                           0.99      1916\n",
            "   macro avg       0.99      0.99      0.99      1916\n",
            "weighted avg       0.99      0.99      0.99      1916\n",
            "\n"
          ]
        }
      ]
    },
    {
      "cell_type": "code",
      "source": [
        "graph = plot_tree(rf_best)\n",
        "graph"
      ],
      "metadata": {
        "colab": {
          "base_uri": "https://localhost:8080/",
          "height": 1000
        },
        "id": "HNZh9bxivP-M",
        "outputId": "9c3d7ca4-2b31-4300-c8cd-83201875e1de"
      },
      "execution_count": 72,
      "outputs": [
        {
          "output_type": "execute_result",
          "data": {
            "text/plain": [
              "<graphviz.files.Source at 0x7f40360c5490>"
            ],
            "image/svg+xml": "<?xml version=\"1.0\" encoding=\"UTF-8\" standalone=\"no\"?>\n<!DOCTYPE svg PUBLIC \"-//W3C//DTD SVG 1.1//EN\"\n \"http://www.w3.org/Graphics/SVG/1.1/DTD/svg11.dtd\">\n<!-- Generated by graphviz version 2.40.1 (20161225.0304)\n -->\n<!-- Title: Tree Pages: 1 -->\n<svg width=\"2612pt\" height=\"1980pt\"\n viewBox=\"0.00 0.00 2611.50 1980.00\" xmlns=\"http://www.w3.org/2000/svg\" xmlns:xlink=\"http://www.w3.org/1999/xlink\">\n<g id=\"graph0\" class=\"graph\" transform=\"scale(1 1) rotate(0) translate(4 1976)\">\n<title>Tree</title>\n<polygon fill=\"#ffffff\" stroke=\"transparent\" points=\"-4,4 -4,-1976 2607.5,-1976 2607.5,4 -4,4\"/>\n<!-- 0 -->\n<g id=\"node1\" class=\"node\">\n<title>0</title>\n<path fill=\"#69b5eb\" stroke=\"#000000\" d=\"M2217,-1972C2217,-1972 2092,-1972 2092,-1972 2086,-1972 2080,-1966 2080,-1960 2080,-1960 2080,-1901 2080,-1901 2080,-1895 2086,-1889 2092,-1889 2092,-1889 2217,-1889 2217,-1889 2223,-1889 2229,-1895 2229,-1901 2229,-1901 2229,-1960 2229,-1960 2229,-1966 2223,-1972 2217,-1972\"/>\n<text text-anchor=\"start\" x=\"2092\" y=\"-1956.8\" font-family=\"Helvetica,sans-Serif\" font-size=\"14.00\" fill=\"#000000\">inq.last.6mths ≤ 3.5</text>\n<text text-anchor=\"start\" x=\"2103.5\" y=\"-1941.8\" font-family=\"Helvetica,sans-Serif\" font-size=\"14.00\" fill=\"#000000\">entropy = 0.714</text>\n<text text-anchor=\"start\" x=\"2102.5\" y=\"-1926.8\" font-family=\"Helvetica,sans-Serif\" font-size=\"14.00\" fill=\"#000000\">samples = 7662</text>\n<text text-anchor=\"start\" x=\"2088\" y=\"-1911.8\" font-family=\"Helvetica,sans-Serif\" font-size=\"14.00\" fill=\"#000000\">value = [1501, 6161]</text>\n<text text-anchor=\"start\" x=\"2127\" y=\"-1896.8\" font-family=\"Helvetica,sans-Serif\" font-size=\"14.00\" fill=\"#000000\">class = r</text>\n</g>\n<!-- 1 -->\n<g id=\"node2\" class=\"node\">\n<title>1</title>\n<path fill=\"#4ea7e8\" stroke=\"#000000\" d=\"M2026.5,-1853C2026.5,-1853 1910.5,-1853 1910.5,-1853 1904.5,-1853 1898.5,-1847 1898.5,-1841 1898.5,-1841 1898.5,-1782 1898.5,-1782 1898.5,-1776 1904.5,-1770 1910.5,-1770 1910.5,-1770 2026.5,-1770 2026.5,-1770 2032.5,-1770 2038.5,-1776 2038.5,-1782 2038.5,-1782 2038.5,-1841 2038.5,-1841 2038.5,-1847 2032.5,-1853 2026.5,-1853\"/>\n<text text-anchor=\"start\" x=\"1931\" y=\"-1837.8\" font-family=\"Helvetica,sans-Serif\" font-size=\"14.00\" fill=\"#000000\">fico ≤ 659.5</text>\n<text text-anchor=\"start\" x=\"1917.5\" y=\"-1822.8\" font-family=\"Helvetica,sans-Serif\" font-size=\"14.00\" fill=\"#000000\">entropy = 0.456</text>\n<text text-anchor=\"start\" x=\"1916.5\" y=\"-1807.8\" font-family=\"Helvetica,sans-Serif\" font-size=\"14.00\" fill=\"#000000\">samples = 6668</text>\n<text text-anchor=\"start\" x=\"1906.5\" y=\"-1792.8\" font-family=\"Helvetica,sans-Serif\" font-size=\"14.00\" fill=\"#000000\">value = [640, 6028]</text>\n<text text-anchor=\"start\" x=\"1941\" y=\"-1777.8\" font-family=\"Helvetica,sans-Serif\" font-size=\"14.00\" fill=\"#000000\">class = r</text>\n</g>\n<!-- 0&#45;&gt;1 -->\n<g id=\"edge1\" class=\"edge\">\n<title>0&#45;&gt;1</title>\n<path fill=\"none\" stroke=\"#000000\" d=\"M2089.4462,-1888.8796C2074.1546,-1879.0962 2057.7516,-1868.6019 2042.114,-1858.5971\"/>\n<polygon fill=\"#000000\" stroke=\"#000000\" points=\"2043.8268,-1855.538 2033.517,-1853.0969 2040.0543,-1861.4345 2043.8268,-1855.538\"/>\n<text text-anchor=\"middle\" x=\"2038.881\" y=\"-1873.8147\" font-family=\"Helvetica,sans-Serif\" font-size=\"14.00\" fill=\"#000000\">True</text>\n</g>\n<!-- 86 -->\n<g id=\"node87\" class=\"node\">\n<title>86</title>\n<path fill=\"#e99458\" stroke=\"#000000\" d=\"M2222.5,-1853C2222.5,-1853 2114.5,-1853 2114.5,-1853 2108.5,-1853 2102.5,-1847 2102.5,-1841 2102.5,-1841 2102.5,-1782 2102.5,-1782 2102.5,-1776 2108.5,-1770 2114.5,-1770 2114.5,-1770 2222.5,-1770 2222.5,-1770 2228.5,-1770 2234.5,-1776 2234.5,-1782 2234.5,-1782 2234.5,-1841 2234.5,-1841 2234.5,-1847 2228.5,-1853 2222.5,-1853\"/>\n<text text-anchor=\"start\" x=\"2131\" y=\"-1837.8\" font-family=\"Helvetica,sans-Serif\" font-size=\"14.00\" fill=\"#000000\">fico ≤ 739.5</text>\n<text text-anchor=\"start\" x=\"2117.5\" y=\"-1822.8\" font-family=\"Helvetica,sans-Serif\" font-size=\"14.00\" fill=\"#000000\">entropy = 0.568</text>\n<text text-anchor=\"start\" x=\"2120.5\" y=\"-1807.8\" font-family=\"Helvetica,sans-Serif\" font-size=\"14.00\" fill=\"#000000\">samples = 994</text>\n<text text-anchor=\"start\" x=\"2110.5\" y=\"-1792.8\" font-family=\"Helvetica,sans-Serif\" font-size=\"14.00\" fill=\"#000000\">value = [861, 133]</text>\n<text text-anchor=\"start\" x=\"2139.5\" y=\"-1777.8\" font-family=\"Helvetica,sans-Serif\" font-size=\"14.00\" fill=\"#000000\">class = c</text>\n</g>\n<!-- 0&#45;&gt;86 -->\n<g id=\"edge86\" class=\"edge\">\n<title>0&#45;&gt;86</title>\n<path fill=\"none\" stroke=\"#000000\" d=\"M2159.3965,-1888.8796C2160.3607,-1880.6838 2161.3836,-1871.9891 2162.3822,-1863.5013\"/>\n<polygon fill=\"#000000\" stroke=\"#000000\" points=\"2165.8901,-1863.6386 2163.5826,-1853.2981 2158.9381,-1862.8206 2165.8901,-1863.6386\"/>\n<text text-anchor=\"middle\" x=\"2179.0737\" y=\"-1869.2201\" font-family=\"Helvetica,sans-Serif\" font-size=\"14.00\" fill=\"#000000\">False</text>\n</g>\n<!-- 2 -->\n<g id=\"node3\" class=\"node\">\n<title>2</title>\n<path fill=\"#e5813a\" stroke=\"#000000\" d=\"M1791.5,-1734C1791.5,-1734 1697.5,-1734 1697.5,-1734 1691.5,-1734 1685.5,-1728 1685.5,-1722 1685.5,-1722 1685.5,-1663 1685.5,-1663 1685.5,-1657 1691.5,-1651 1697.5,-1651 1697.5,-1651 1791.5,-1651 1791.5,-1651 1797.5,-1651 1803.5,-1657 1803.5,-1663 1803.5,-1663 1803.5,-1722 1803.5,-1722 1803.5,-1728 1797.5,-1734 1791.5,-1734\"/>\n<text text-anchor=\"start\" x=\"1707\" y=\"-1718.8\" font-family=\"Helvetica,sans-Serif\" font-size=\"14.00\" fill=\"#000000\">fico ≤ 639.5</text>\n<text text-anchor=\"start\" x=\"1693.5\" y=\"-1703.8\" font-family=\"Helvetica,sans-Serif\" font-size=\"14.00\" fill=\"#000000\">entropy = 0.034</text>\n<text text-anchor=\"start\" x=\"1696.5\" y=\"-1688.8\" font-family=\"Helvetica,sans-Serif\" font-size=\"14.00\" fill=\"#000000\">samples = 280</text>\n<text text-anchor=\"start\" x=\"1694.5\" y=\"-1673.8\" font-family=\"Helvetica,sans-Serif\" font-size=\"14.00\" fill=\"#000000\">value = [279, 1]</text>\n<text text-anchor=\"start\" x=\"1715.5\" y=\"-1658.8\" font-family=\"Helvetica,sans-Serif\" font-size=\"14.00\" fill=\"#000000\">class = c</text>\n</g>\n<!-- 1&#45;&gt;2 -->\n<g id=\"edge2\" class=\"edge\">\n<title>1&#45;&gt;2</title>\n<path fill=\"none\" stroke=\"#000000\" d=\"M1898.2396,-1774.1742C1870.9198,-1759.6605 1839.7334,-1743.0927 1812.6216,-1728.6896\"/>\n<polygon fill=\"#000000\" stroke=\"#000000\" points=\"1814.0681,-1725.4948 1803.5948,-1723.8941 1810.7839,-1731.6766 1814.0681,-1725.4948\"/>\n</g>\n<!-- 5 -->\n<g id=\"node6\" class=\"node\">\n<title>5</title>\n<path fill=\"#45a3e7\" stroke=\"#000000\" d=\"M2046,-1734C2046,-1734 1891,-1734 1891,-1734 1885,-1734 1879,-1728 1879,-1722 1879,-1722 1879,-1663 1879,-1663 1879,-1657 1885,-1651 1891,-1651 1891,-1651 2046,-1651 2046,-1651 2052,-1651 2058,-1657 2058,-1663 2058,-1663 2058,-1722 2058,-1722 2058,-1728 2052,-1734 2046,-1734\"/>\n<text text-anchor=\"start\" x=\"1887\" y=\"-1718.8\" font-family=\"Helvetica,sans-Serif\" font-size=\"14.00\" fill=\"#000000\">days.with.cr.line ≤ 1109.5</text>\n<text text-anchor=\"start\" x=\"1917.5\" y=\"-1703.8\" font-family=\"Helvetica,sans-Serif\" font-size=\"14.00\" fill=\"#000000\">entropy = 0.313</text>\n<text text-anchor=\"start\" x=\"1916.5\" y=\"-1688.8\" font-family=\"Helvetica,sans-Serif\" font-size=\"14.00\" fill=\"#000000\">samples = 6388</text>\n<text text-anchor=\"start\" x=\"1906.5\" y=\"-1673.8\" font-family=\"Helvetica,sans-Serif\" font-size=\"14.00\" fill=\"#000000\">value = [361, 6027]</text>\n<text text-anchor=\"start\" x=\"1941\" y=\"-1658.8\" font-family=\"Helvetica,sans-Serif\" font-size=\"14.00\" fill=\"#000000\">class = r</text>\n</g>\n<!-- 1&#45;&gt;5 -->\n<g id=\"edge5\" class=\"edge\">\n<title>1&#45;&gt;5</title>\n<path fill=\"none\" stroke=\"#000000\" d=\"M1968.5,-1769.8796C1968.5,-1761.6838 1968.5,-1752.9891 1968.5,-1744.5013\"/>\n<polygon fill=\"#000000\" stroke=\"#000000\" points=\"1972.0001,-1744.298 1968.5,-1734.2981 1965.0001,-1744.2981 1972.0001,-1744.298\"/>\n</g>\n<!-- 3 -->\n<g id=\"node4\" class=\"node\">\n<title>3</title>\n<path fill=\"#e9965a\" stroke=\"#000000\" d=\"M1656.5,-1607.5C1656.5,-1607.5 1562.5,-1607.5 1562.5,-1607.5 1556.5,-1607.5 1550.5,-1601.5 1550.5,-1595.5 1550.5,-1595.5 1550.5,-1551.5 1550.5,-1551.5 1550.5,-1545.5 1556.5,-1539.5 1562.5,-1539.5 1562.5,-1539.5 1656.5,-1539.5 1656.5,-1539.5 1662.5,-1539.5 1668.5,-1545.5 1668.5,-1551.5 1668.5,-1551.5 1668.5,-1595.5 1668.5,-1595.5 1668.5,-1601.5 1662.5,-1607.5 1656.5,-1607.5\"/>\n<text text-anchor=\"start\" x=\"1558.5\" y=\"-1592.3\" font-family=\"Helvetica,sans-Serif\" font-size=\"14.00\" fill=\"#000000\">entropy = 0.592</text>\n<text text-anchor=\"start\" x=\"1570\" y=\"-1577.3\" font-family=\"Helvetica,sans-Serif\" font-size=\"14.00\" fill=\"#000000\">samples = 7</text>\n<text text-anchor=\"start\" x=\"1568\" y=\"-1562.3\" font-family=\"Helvetica,sans-Serif\" font-size=\"14.00\" fill=\"#000000\">value = [6, 1]</text>\n<text text-anchor=\"start\" x=\"1580.5\" y=\"-1547.3\" font-family=\"Helvetica,sans-Serif\" font-size=\"14.00\" fill=\"#000000\">class = c</text>\n</g>\n<!-- 2&#45;&gt;3 -->\n<g id=\"edge3\" class=\"edge\">\n<title>2&#45;&gt;3</title>\n<path fill=\"none\" stroke=\"#000000\" d=\"M1697.2836,-1650.8796C1683.9358,-1639.1138 1669.4215,-1626.3197 1656.1096,-1614.5855\"/>\n<polygon fill=\"#000000\" stroke=\"#000000\" points=\"1658.2448,-1611.8019 1648.4287,-1607.8149 1653.616,-1617.0531 1658.2448,-1611.8019\"/>\n</g>\n<!-- 4 -->\n<g id=\"node5\" class=\"node\">\n<title>4</title>\n<path fill=\"#e58139\" stroke=\"#000000\" d=\"M1790.5,-1607.5C1790.5,-1607.5 1698.5,-1607.5 1698.5,-1607.5 1692.5,-1607.5 1686.5,-1601.5 1686.5,-1595.5 1686.5,-1595.5 1686.5,-1551.5 1686.5,-1551.5 1686.5,-1545.5 1692.5,-1539.5 1698.5,-1539.5 1698.5,-1539.5 1790.5,-1539.5 1790.5,-1539.5 1796.5,-1539.5 1802.5,-1545.5 1802.5,-1551.5 1802.5,-1551.5 1802.5,-1595.5 1802.5,-1595.5 1802.5,-1601.5 1796.5,-1607.5 1790.5,-1607.5\"/>\n<text text-anchor=\"start\" x=\"1702\" y=\"-1592.3\" font-family=\"Helvetica,sans-Serif\" font-size=\"14.00\" fill=\"#000000\">entropy = 0.0</text>\n<text text-anchor=\"start\" x=\"1696.5\" y=\"-1577.3\" font-family=\"Helvetica,sans-Serif\" font-size=\"14.00\" fill=\"#000000\">samples = 273</text>\n<text text-anchor=\"start\" x=\"1694.5\" y=\"-1562.3\" font-family=\"Helvetica,sans-Serif\" font-size=\"14.00\" fill=\"#000000\">value = [273, 0]</text>\n<text text-anchor=\"start\" x=\"1715.5\" y=\"-1547.3\" font-family=\"Helvetica,sans-Serif\" font-size=\"14.00\" fill=\"#000000\">class = c</text>\n</g>\n<!-- 2&#45;&gt;4 -->\n<g id=\"edge4\" class=\"edge\">\n<title>2&#45;&gt;4</title>\n<path fill=\"none\" stroke=\"#000000\" d=\"M1744.5,-1650.8796C1744.5,-1640.2134 1744.5,-1628.7021 1744.5,-1617.9015\"/>\n<polygon fill=\"#000000\" stroke=\"#000000\" points=\"1748.0001,-1617.8149 1744.5,-1607.8149 1741.0001,-1617.815 1748.0001,-1617.8149\"/>\n</g>\n<!-- 6 -->\n<g id=\"node7\" class=\"node\">\n<title>6</title>\n<path fill=\"#e58139\" stroke=\"#000000\" d=\"M1924.5,-1607.5C1924.5,-1607.5 1832.5,-1607.5 1832.5,-1607.5 1826.5,-1607.5 1820.5,-1601.5 1820.5,-1595.5 1820.5,-1595.5 1820.5,-1551.5 1820.5,-1551.5 1820.5,-1545.5 1826.5,-1539.5 1832.5,-1539.5 1832.5,-1539.5 1924.5,-1539.5 1924.5,-1539.5 1930.5,-1539.5 1936.5,-1545.5 1936.5,-1551.5 1936.5,-1551.5 1936.5,-1595.5 1936.5,-1595.5 1936.5,-1601.5 1930.5,-1607.5 1924.5,-1607.5\"/>\n<text text-anchor=\"start\" x=\"1836\" y=\"-1592.3\" font-family=\"Helvetica,sans-Serif\" font-size=\"14.00\" fill=\"#000000\">entropy = 0.0</text>\n<text text-anchor=\"start\" x=\"1830.5\" y=\"-1577.3\" font-family=\"Helvetica,sans-Serif\" font-size=\"14.00\" fill=\"#000000\">samples = 140</text>\n<text text-anchor=\"start\" x=\"1828.5\" y=\"-1562.3\" font-family=\"Helvetica,sans-Serif\" font-size=\"14.00\" fill=\"#000000\">value = [140, 0]</text>\n<text text-anchor=\"start\" x=\"1849.5\" y=\"-1547.3\" font-family=\"Helvetica,sans-Serif\" font-size=\"14.00\" fill=\"#000000\">class = c</text>\n</g>\n<!-- 5&#45;&gt;6 -->\n<g id=\"edge6\" class=\"edge\">\n<title>5&#45;&gt;6</title>\n<path fill=\"none\" stroke=\"#000000\" d=\"M1937.0224,-1650.8796C1928.4565,-1639.5536 1919.17,-1627.2748 1910.5717,-1615.9058\"/>\n<polygon fill=\"#000000\" stroke=\"#000000\" points=\"1913.2762,-1613.6795 1904.4525,-1607.8149 1907.6931,-1617.902 1913.2762,-1613.6795\"/>\n</g>\n<!-- 7 -->\n<g id=\"node8\" class=\"node\">\n<title>7</title>\n<path fill=\"#40a1e6\" stroke=\"#000000\" d=\"M2082.5,-1615C2082.5,-1615 1966.5,-1615 1966.5,-1615 1960.5,-1615 1954.5,-1609 1954.5,-1603 1954.5,-1603 1954.5,-1544 1954.5,-1544 1954.5,-1538 1960.5,-1532 1966.5,-1532 1966.5,-1532 2082.5,-1532 2082.5,-1532 2088.5,-1532 2094.5,-1538 2094.5,-1544 2094.5,-1544 2094.5,-1603 2094.5,-1603 2094.5,-1609 2088.5,-1615 2082.5,-1615\"/>\n<text text-anchor=\"start\" x=\"1962.5\" y=\"-1599.8\" font-family=\"Helvetica,sans-Serif\" font-size=\"14.00\" fill=\"#000000\">revol.bal ≤ 74020.5</text>\n<text text-anchor=\"start\" x=\"1973.5\" y=\"-1584.8\" font-family=\"Helvetica,sans-Serif\" font-size=\"14.00\" fill=\"#000000\">entropy = 0.221</text>\n<text text-anchor=\"start\" x=\"1972.5\" y=\"-1569.8\" font-family=\"Helvetica,sans-Serif\" font-size=\"14.00\" fill=\"#000000\">samples = 6248</text>\n<text text-anchor=\"start\" x=\"1962.5\" y=\"-1554.8\" font-family=\"Helvetica,sans-Serif\" font-size=\"14.00\" fill=\"#000000\">value = [221, 6027]</text>\n<text text-anchor=\"start\" x=\"1997\" y=\"-1539.8\" font-family=\"Helvetica,sans-Serif\" font-size=\"14.00\" fill=\"#000000\">class = r</text>\n</g>\n<!-- 5&#45;&gt;7 -->\n<g id=\"edge7\" class=\"edge\">\n<title>5&#45;&gt;7</title>\n<path fill=\"none\" stroke=\"#000000\" d=\"M1988.0861,-1650.8796C1992.1124,-1642.3236 1996.3947,-1633.2238 2000.5549,-1624.3833\"/>\n<polygon fill=\"#000000\" stroke=\"#000000\" points=\"2003.7392,-1625.8366 2004.8303,-1615.2981 1997.4054,-1622.856 2003.7392,-1625.8366\"/>\n</g>\n<!-- 8 -->\n<g id=\"node9\" class=\"node\">\n<title>8</title>\n<path fill=\"#3d9fe5\" stroke=\"#000000\" d=\"M1812.5,-1496C1812.5,-1496 1696.5,-1496 1696.5,-1496 1690.5,-1496 1684.5,-1490 1684.5,-1484 1684.5,-1484 1684.5,-1425 1684.5,-1425 1684.5,-1419 1690.5,-1413 1696.5,-1413 1696.5,-1413 1812.5,-1413 1812.5,-1413 1818.5,-1413 1824.5,-1419 1824.5,-1425 1824.5,-1425 1824.5,-1484 1824.5,-1484 1824.5,-1490 1818.5,-1496 1812.5,-1496\"/>\n<text text-anchor=\"start\" x=\"1716.5\" y=\"-1480.8\" font-family=\"Helvetica,sans-Serif\" font-size=\"14.00\" fill=\"#000000\">dti ≤ 24.995</text>\n<text text-anchor=\"start\" x=\"1703.5\" y=\"-1465.8\" font-family=\"Helvetica,sans-Serif\" font-size=\"14.00\" fill=\"#000000\">entropy = 0.131</text>\n<text text-anchor=\"start\" x=\"1702.5\" y=\"-1450.8\" font-family=\"Helvetica,sans-Serif\" font-size=\"14.00\" fill=\"#000000\">samples = 6052</text>\n<text text-anchor=\"start\" x=\"1692.5\" y=\"-1435.8\" font-family=\"Helvetica,sans-Serif\" font-size=\"14.00\" fill=\"#000000\">value = [110, 5942]</text>\n<text text-anchor=\"start\" x=\"1727\" y=\"-1420.8\" font-family=\"Helvetica,sans-Serif\" font-size=\"14.00\" fill=\"#000000\">class = r</text>\n</g>\n<!-- 7&#45;&gt;8 -->\n<g id=\"edge8\" class=\"edge\">\n<title>7&#45;&gt;8</title>\n<path fill=\"none\" stroke=\"#000000\" d=\"M1954.4678,-1536.2548C1951.4495,-1534.7941 1948.451,-1533.3698 1945.5,-1532 1909.4513,-1515.2672 1868.7335,-1498.4668 1834.1822,-1484.8067\"/>\n<polygon fill=\"#000000\" stroke=\"#000000\" points=\"1835.1965,-1481.4447 1824.6094,-1481.0398 1832.6333,-1487.9585 1835.1965,-1481.4447\"/>\n</g>\n<!-- 67 -->\n<g id=\"node68\" class=\"node\">\n<title>67</title>\n<path fill=\"#f9e1d1\" stroke=\"#000000\" d=\"M2086.5,-1496C2086.5,-1496 1962.5,-1496 1962.5,-1496 1956.5,-1496 1950.5,-1490 1950.5,-1484 1950.5,-1484 1950.5,-1425 1950.5,-1425 1950.5,-1419 1956.5,-1413 1962.5,-1413 1962.5,-1413 2086.5,-1413 2086.5,-1413 2092.5,-1413 2098.5,-1419 2098.5,-1425 2098.5,-1425 2098.5,-1484 2098.5,-1484 2098.5,-1490 2092.5,-1496 2086.5,-1496\"/>\n<text text-anchor=\"start\" x=\"1958.5\" y=\"-1480.8\" font-family=\"Helvetica,sans-Serif\" font-size=\"14.00\" fill=\"#000000\">revol.bal ≤ 149674.5</text>\n<text text-anchor=\"start\" x=\"1973.5\" y=\"-1465.8\" font-family=\"Helvetica,sans-Serif\" font-size=\"14.00\" fill=\"#000000\">entropy = 0.987</text>\n<text text-anchor=\"start\" x=\"1976.5\" y=\"-1450.8\" font-family=\"Helvetica,sans-Serif\" font-size=\"14.00\" fill=\"#000000\">samples = 196</text>\n<text text-anchor=\"start\" x=\"1970.5\" y=\"-1435.8\" font-family=\"Helvetica,sans-Serif\" font-size=\"14.00\" fill=\"#000000\">value = [111, 85]</text>\n<text text-anchor=\"start\" x=\"1995.5\" y=\"-1420.8\" font-family=\"Helvetica,sans-Serif\" font-size=\"14.00\" fill=\"#000000\">class = c</text>\n</g>\n<!-- 7&#45;&gt;67 -->\n<g id=\"edge67\" class=\"edge\">\n<title>7&#45;&gt;67</title>\n<path fill=\"none\" stroke=\"#000000\" d=\"M2024.5,-1531.8796C2024.5,-1523.6838 2024.5,-1514.9891 2024.5,-1506.5013\"/>\n<polygon fill=\"#000000\" stroke=\"#000000\" points=\"2028.0001,-1506.298 2024.5,-1496.2981 2021.0001,-1506.2981 2028.0001,-1506.298\"/>\n</g>\n<!-- 9 -->\n<g id=\"node10\" class=\"node\">\n<title>9</title>\n<path fill=\"#3b9ee5\" stroke=\"#000000\" d=\"M1419.5,-1377C1419.5,-1377 1311.5,-1377 1311.5,-1377 1305.5,-1377 1299.5,-1371 1299.5,-1365 1299.5,-1365 1299.5,-1306 1299.5,-1306 1299.5,-1300 1305.5,-1294 1311.5,-1294 1311.5,-1294 1419.5,-1294 1419.5,-1294 1425.5,-1294 1431.5,-1300 1431.5,-1306 1431.5,-1306 1431.5,-1365 1431.5,-1365 1431.5,-1371 1425.5,-1377 1419.5,-1377\"/>\n<text text-anchor=\"start\" x=\"1312.5\" y=\"-1361.8\" font-family=\"Helvetica,sans-Serif\" font-size=\"14.00\" fill=\"#000000\">revol.util ≤ 99.85</text>\n<text text-anchor=\"start\" x=\"1314.5\" y=\"-1346.8\" font-family=\"Helvetica,sans-Serif\" font-size=\"14.00\" fill=\"#000000\">entropy = 0.075</text>\n<text text-anchor=\"start\" x=\"1313.5\" y=\"-1331.8\" font-family=\"Helvetica,sans-Serif\" font-size=\"14.00\" fill=\"#000000\">samples = 5994</text>\n<text text-anchor=\"start\" x=\"1307.5\" y=\"-1316.8\" font-family=\"Helvetica,sans-Serif\" font-size=\"14.00\" fill=\"#000000\">value = [55, 5939]</text>\n<text text-anchor=\"start\" x=\"1338\" y=\"-1301.8\" font-family=\"Helvetica,sans-Serif\" font-size=\"14.00\" fill=\"#000000\">class = r</text>\n</g>\n<!-- 8&#45;&gt;9 -->\n<g id=\"edge9\" class=\"edge\">\n<title>8&#45;&gt;9</title>\n<path fill=\"none\" stroke=\"#000000\" d=\"M1684.055,-1432.95C1615.4675,-1411.9682 1511.5569,-1380.1807 1441.2241,-1358.665\"/>\n<polygon fill=\"#000000\" stroke=\"#000000\" points=\"1442.1163,-1355.2778 1431.5298,-1355.6994 1440.0685,-1361.9716 1442.1163,-1355.2778\"/>\n</g>\n<!-- 62 -->\n<g id=\"node63\" class=\"node\">\n<title>62</title>\n<path fill=\"#e68844\" stroke=\"#000000\" d=\"M1815.5,-1377C1815.5,-1377 1693.5,-1377 1693.5,-1377 1687.5,-1377 1681.5,-1371 1681.5,-1365 1681.5,-1365 1681.5,-1306 1681.5,-1306 1681.5,-1300 1687.5,-1294 1693.5,-1294 1693.5,-1294 1815.5,-1294 1815.5,-1294 1821.5,-1294 1827.5,-1300 1827.5,-1306 1827.5,-1306 1827.5,-1365 1827.5,-1365 1827.5,-1371 1821.5,-1377 1815.5,-1377\"/>\n<text text-anchor=\"start\" x=\"1689.5\" y=\"-1361.8\" font-family=\"Helvetica,sans-Serif\" font-size=\"14.00\" fill=\"#000000\">installment ≤ 135.81</text>\n<text text-anchor=\"start\" x=\"1703.5\" y=\"-1346.8\" font-family=\"Helvetica,sans-Serif\" font-size=\"14.00\" fill=\"#000000\">entropy = 0.294</text>\n<text text-anchor=\"start\" x=\"1710.5\" y=\"-1331.8\" font-family=\"Helvetica,sans-Serif\" font-size=\"14.00\" fill=\"#000000\">samples = 58</text>\n<text text-anchor=\"start\" x=\"1709\" y=\"-1316.8\" font-family=\"Helvetica,sans-Serif\" font-size=\"14.00\" fill=\"#000000\">value = [55, 3]</text>\n<text text-anchor=\"start\" x=\"1725.5\" y=\"-1301.8\" font-family=\"Helvetica,sans-Serif\" font-size=\"14.00\" fill=\"#000000\">class = c</text>\n</g>\n<!-- 8&#45;&gt;62 -->\n<g id=\"edge62\" class=\"edge\">\n<title>8&#45;&gt;62</title>\n<path fill=\"none\" stroke=\"#000000\" d=\"M1754.5,-1412.8796C1754.5,-1404.6838 1754.5,-1395.9891 1754.5,-1387.5013\"/>\n<polygon fill=\"#000000\" stroke=\"#000000\" points=\"1758.0001,-1387.298 1754.5,-1377.2981 1751.0001,-1387.2981 1758.0001,-1387.298\"/>\n</g>\n<!-- 10 -->\n<g id=\"node11\" class=\"node\">\n<title>10</title>\n<path fill=\"#3a9ee5\" stroke=\"#000000\" d=\"M1197.5,-1258C1197.5,-1258 1081.5,-1258 1081.5,-1258 1075.5,-1258 1069.5,-1252 1069.5,-1246 1069.5,-1246 1069.5,-1187 1069.5,-1187 1069.5,-1181 1075.5,-1175 1081.5,-1175 1081.5,-1175 1197.5,-1175 1197.5,-1175 1203.5,-1175 1209.5,-1181 1209.5,-1187 1209.5,-1187 1209.5,-1246 1209.5,-1246 1209.5,-1252 1203.5,-1258 1197.5,-1258\"/>\n<text text-anchor=\"start\" x=\"1077.5\" y=\"-1242.8\" font-family=\"Helvetica,sans-Serif\" font-size=\"14.00\" fill=\"#000000\">revol.bal ≤ 40035.0</text>\n<text text-anchor=\"start\" x=\"1088.5\" y=\"-1227.8\" font-family=\"Helvetica,sans-Serif\" font-size=\"14.00\" fill=\"#000000\">entropy = 0.062</text>\n<text text-anchor=\"start\" x=\"1087.5\" y=\"-1212.8\" font-family=\"Helvetica,sans-Serif\" font-size=\"14.00\" fill=\"#000000\">samples = 5981</text>\n<text text-anchor=\"start\" x=\"1081.5\" y=\"-1197.8\" font-family=\"Helvetica,sans-Serif\" font-size=\"14.00\" fill=\"#000000\">value = [43, 5938]</text>\n<text text-anchor=\"start\" x=\"1112\" y=\"-1182.8\" font-family=\"Helvetica,sans-Serif\" font-size=\"14.00\" fill=\"#000000\">class = r</text>\n</g>\n<!-- 9&#45;&gt;10 -->\n<g id=\"edge10\" class=\"edge\">\n<title>9&#45;&gt;10</title>\n<path fill=\"none\" stroke=\"#000000\" d=\"M1299.2196,-1300.6001C1274.0536,-1287.349 1245.1352,-1272.1221 1218.8808,-1258.2978\"/>\n<polygon fill=\"#000000\" stroke=\"#000000\" points=\"1220.1949,-1255.0343 1209.7159,-1253.4721 1216.9335,-1261.2281 1220.1949,-1255.0343\"/>\n</g>\n<!-- 59 -->\n<g id=\"node60\" class=\"node\">\n<title>59</title>\n<path fill=\"#e78c49\" stroke=\"#000000\" d=\"M1437,-1258C1437,-1258 1294,-1258 1294,-1258 1288,-1258 1282,-1252 1282,-1246 1282,-1246 1282,-1187 1282,-1187 1282,-1181 1288,-1175 1294,-1175 1294,-1175 1437,-1175 1437,-1175 1443,-1175 1449,-1181 1449,-1187 1449,-1187 1449,-1246 1449,-1246 1449,-1252 1443,-1258 1437,-1258\"/>\n<text text-anchor=\"start\" x=\"1290\" y=\"-1242.8\" font-family=\"Helvetica,sans-Serif\" font-size=\"14.00\" fill=\"#000000\">log.annual.inc ≤ 10.747</text>\n<text text-anchor=\"start\" x=\"1314.5\" y=\"-1227.8\" font-family=\"Helvetica,sans-Serif\" font-size=\"14.00\" fill=\"#000000\">entropy = 0.391</text>\n<text text-anchor=\"start\" x=\"1321.5\" y=\"-1212.8\" font-family=\"Helvetica,sans-Serif\" font-size=\"14.00\" fill=\"#000000\">samples = 13</text>\n<text text-anchor=\"start\" x=\"1320\" y=\"-1197.8\" font-family=\"Helvetica,sans-Serif\" font-size=\"14.00\" fill=\"#000000\">value = [12, 1]</text>\n<text text-anchor=\"start\" x=\"1336.5\" y=\"-1182.8\" font-family=\"Helvetica,sans-Serif\" font-size=\"14.00\" fill=\"#000000\">class = c</text>\n</g>\n<!-- 9&#45;&gt;59 -->\n<g id=\"edge59\" class=\"edge\">\n<title>9&#45;&gt;59</title>\n<path fill=\"none\" stroke=\"#000000\" d=\"M1365.5,-1293.8796C1365.5,-1285.6838 1365.5,-1276.9891 1365.5,-1268.5013\"/>\n<polygon fill=\"#000000\" stroke=\"#000000\" points=\"1369.0001,-1268.298 1365.5,-1258.2981 1362.0001,-1268.2981 1369.0001,-1268.298\"/>\n</g>\n<!-- 11 -->\n<g id=\"node12\" class=\"node\">\n<title>11</title>\n<path fill=\"#3a9de5\" stroke=\"#000000\" d=\"M879.5,-1139C879.5,-1139 771.5,-1139 771.5,-1139 765.5,-1139 759.5,-1133 759.5,-1127 759.5,-1127 759.5,-1068 759.5,-1068 759.5,-1062 765.5,-1056 771.5,-1056 771.5,-1056 879.5,-1056 879.5,-1056 885.5,-1056 891.5,-1062 891.5,-1068 891.5,-1068 891.5,-1127 891.5,-1127 891.5,-1133 885.5,-1139 879.5,-1139\"/>\n<text text-anchor=\"start\" x=\"780\" y=\"-1123.8\" font-family=\"Helvetica,sans-Serif\" font-size=\"14.00\" fill=\"#000000\">revol.bal ≤ 0.5</text>\n<text text-anchor=\"start\" x=\"774.5\" y=\"-1108.8\" font-family=\"Helvetica,sans-Serif\" font-size=\"14.00\" fill=\"#000000\">entropy = 0.039</text>\n<text text-anchor=\"start\" x=\"773.5\" y=\"-1093.8\" font-family=\"Helvetica,sans-Serif\" font-size=\"14.00\" fill=\"#000000\">samples = 5686</text>\n<text text-anchor=\"start\" x=\"767.5\" y=\"-1078.8\" font-family=\"Helvetica,sans-Serif\" font-size=\"14.00\" fill=\"#000000\">value = [24, 5662]</text>\n<text text-anchor=\"start\" x=\"798\" y=\"-1063.8\" font-family=\"Helvetica,sans-Serif\" font-size=\"14.00\" fill=\"#000000\">class = r</text>\n</g>\n<!-- 10&#45;&gt;11 -->\n<g id=\"edge11\" class=\"edge\">\n<title>10&#45;&gt;11</title>\n<path fill=\"none\" stroke=\"#000000\" d=\"M1069.4231,-1189.9422C1019.3969,-1170.9832 952.1773,-1145.5083 900.9715,-1126.1022\"/>\n<polygon fill=\"#000000\" stroke=\"#000000\" points=\"902.1957,-1122.8233 891.6044,-1122.5523 899.715,-1129.3691 902.1957,-1122.8233\"/>\n</g>\n<!-- 48 -->\n<g id=\"node49\" class=\"node\">\n<title>48</title>\n<path fill=\"#47a4e7\" stroke=\"#000000\" d=\"M1211,-1139C1211,-1139 1068,-1139 1068,-1139 1062,-1139 1056,-1133 1056,-1127 1056,-1127 1056,-1068 1056,-1068 1056,-1062 1062,-1056 1068,-1056 1068,-1056 1211,-1056 1211,-1056 1217,-1056 1223,-1062 1223,-1068 1223,-1068 1223,-1127 1223,-1127 1223,-1133 1217,-1139 1211,-1139\"/>\n<text text-anchor=\"start\" x=\"1064\" y=\"-1123.8\" font-family=\"Helvetica,sans-Serif\" font-size=\"14.00\" fill=\"#000000\">log.annual.inc ≤ 10.916</text>\n<text text-anchor=\"start\" x=\"1088.5\" y=\"-1108.8\" font-family=\"Helvetica,sans-Serif\" font-size=\"14.00\" fill=\"#000000\">entropy = 0.345</text>\n<text text-anchor=\"start\" x=\"1091.5\" y=\"-1093.8\" font-family=\"Helvetica,sans-Serif\" font-size=\"14.00\" fill=\"#000000\">samples = 295</text>\n<text text-anchor=\"start\" x=\"1085.5\" y=\"-1078.8\" font-family=\"Helvetica,sans-Serif\" font-size=\"14.00\" fill=\"#000000\">value = [19, 276]</text>\n<text text-anchor=\"start\" x=\"1112\" y=\"-1063.8\" font-family=\"Helvetica,sans-Serif\" font-size=\"14.00\" fill=\"#000000\">class = r</text>\n</g>\n<!-- 10&#45;&gt;48 -->\n<g id=\"edge48\" class=\"edge\">\n<title>10&#45;&gt;48</title>\n<path fill=\"none\" stroke=\"#000000\" d=\"M1139.5,-1174.8796C1139.5,-1166.6838 1139.5,-1157.9891 1139.5,-1149.5013\"/>\n<polygon fill=\"#000000\" stroke=\"#000000\" points=\"1143.0001,-1149.298 1139.5,-1139.2981 1136.0001,-1149.2981 1143.0001,-1149.298\"/>\n</g>\n<!-- 12 -->\n<g id=\"node13\" class=\"node\">\n<title>12</title>\n<path fill=\"#46a3e7\" stroke=\"#000000\" d=\"M645.5,-1020C645.5,-1020 545.5,-1020 545.5,-1020 539.5,-1020 533.5,-1014 533.5,-1008 533.5,-1008 533.5,-949 533.5,-949 533.5,-943 539.5,-937 545.5,-937 545.5,-937 645.5,-937 645.5,-937 651.5,-937 657.5,-943 657.5,-949 657.5,-949 657.5,-1008 657.5,-1008 657.5,-1014 651.5,-1020 645.5,-1020\"/>\n<text text-anchor=\"start\" x=\"547.5\" y=\"-1004.8\" font-family=\"Helvetica,sans-Serif\" font-size=\"14.00\" fill=\"#000000\">int.rate ≤ 0.109</text>\n<text text-anchor=\"start\" x=\"544.5\" y=\"-989.8\" font-family=\"Helvetica,sans-Serif\" font-size=\"14.00\" fill=\"#000000\">entropy = 0.333</text>\n<text text-anchor=\"start\" x=\"547.5\" y=\"-974.8\" font-family=\"Helvetica,sans-Serif\" font-size=\"14.00\" fill=\"#000000\">samples = 179</text>\n<text text-anchor=\"start\" x=\"541.5\" y=\"-959.8\" font-family=\"Helvetica,sans-Serif\" font-size=\"14.00\" fill=\"#000000\">value = [11, 168]</text>\n<text text-anchor=\"start\" x=\"568\" y=\"-944.8\" font-family=\"Helvetica,sans-Serif\" font-size=\"14.00\" fill=\"#000000\">class = r</text>\n</g>\n<!-- 11&#45;&gt;12 -->\n<g id=\"edge12\" class=\"edge\">\n<title>11&#45;&gt;12</title>\n<path fill=\"none\" stroke=\"#000000\" d=\"M759.283,-1063.2399C730.2988,-1048.2437 696.2395,-1030.6217 666.709,-1015.3429\"/>\n<polygon fill=\"#000000\" stroke=\"#000000\" points=\"668.1905,-1012.1687 657.7005,-1010.682 664.9737,-1018.3859 668.1905,-1012.1687\"/>\n</g>\n<!-- 23 -->\n<g id=\"node24\" class=\"node\">\n<title>23</title>\n<path fill=\"#399de5\" stroke=\"#000000\" d=\"M897,-1020C897,-1020 754,-1020 754,-1020 748,-1020 742,-1014 742,-1008 742,-1008 742,-949 742,-949 742,-943 748,-937 754,-937 754,-937 897,-937 897,-937 903,-937 909,-943 909,-949 909,-949 909,-1008 909,-1008 909,-1014 903,-1020 897,-1020\"/>\n<text text-anchor=\"start\" x=\"750\" y=\"-1004.8\" font-family=\"Helvetica,sans-Serif\" font-size=\"14.00\" fill=\"#000000\">log.annual.inc ≤ 10.493</text>\n<text text-anchor=\"start\" x=\"774.5\" y=\"-989.8\" font-family=\"Helvetica,sans-Serif\" font-size=\"14.00\" fill=\"#000000\">entropy = 0.024</text>\n<text text-anchor=\"start\" x=\"773.5\" y=\"-974.8\" font-family=\"Helvetica,sans-Serif\" font-size=\"14.00\" fill=\"#000000\">samples = 5507</text>\n<text text-anchor=\"start\" x=\"767.5\" y=\"-959.8\" font-family=\"Helvetica,sans-Serif\" font-size=\"14.00\" fill=\"#000000\">value = [13, 5494]</text>\n<text text-anchor=\"start\" x=\"798\" y=\"-944.8\" font-family=\"Helvetica,sans-Serif\" font-size=\"14.00\" fill=\"#000000\">class = r</text>\n</g>\n<!-- 11&#45;&gt;23 -->\n<g id=\"edge23\" class=\"edge\">\n<title>11&#45;&gt;23</title>\n<path fill=\"none\" stroke=\"#000000\" d=\"M825.5,-1055.8796C825.5,-1047.6838 825.5,-1038.9891 825.5,-1030.5013\"/>\n<polygon fill=\"#000000\" stroke=\"#000000\" points=\"829.0001,-1030.298 825.5,-1020.2981 822.0001,-1030.2981 829.0001,-1030.298\"/>\n</g>\n<!-- 13 -->\n<g id=\"node14\" class=\"node\">\n<title>13</title>\n<path fill=\"#5eafea\" stroke=\"#000000\" d=\"M507.5,-901C507.5,-901 413.5,-901 413.5,-901 407.5,-901 401.5,-895 401.5,-889 401.5,-889 401.5,-830 401.5,-830 401.5,-824 407.5,-818 413.5,-818 413.5,-818 507.5,-818 507.5,-818 513.5,-818 519.5,-824 519.5,-830 519.5,-830 519.5,-889 519.5,-889 519.5,-895 513.5,-901 507.5,-901\"/>\n<text text-anchor=\"start\" x=\"412\" y=\"-885.8\" font-family=\"Helvetica,sans-Serif\" font-size=\"14.00\" fill=\"#000000\">revol.util ≤ 0.05</text>\n<text text-anchor=\"start\" x=\"409.5\" y=\"-870.8\" font-family=\"Helvetica,sans-Serif\" font-size=\"14.00\" fill=\"#000000\">entropy = 0.627</text>\n<text text-anchor=\"start\" x=\"416.5\" y=\"-855.8\" font-family=\"Helvetica,sans-Serif\" font-size=\"14.00\" fill=\"#000000\">samples = 70</text>\n<text text-anchor=\"start\" x=\"410.5\" y=\"-840.8\" font-family=\"Helvetica,sans-Serif\" font-size=\"14.00\" fill=\"#000000\">value = [11, 59]</text>\n<text text-anchor=\"start\" x=\"433\" y=\"-825.8\" font-family=\"Helvetica,sans-Serif\" font-size=\"14.00\" fill=\"#000000\">class = r</text>\n</g>\n<!-- 12&#45;&gt;13 -->\n<g id=\"edge13\" class=\"edge\">\n<title>12&#45;&gt;13</title>\n<path fill=\"none\" stroke=\"#000000\" d=\"M548.2836,-936.8796C537.7598,-927.6031 526.5109,-917.6874 515.6979,-908.1559\"/>\n<polygon fill=\"#000000\" stroke=\"#000000\" points=\"517.734,-905.2851 507.918,-901.2981 513.1052,-910.5362 517.734,-905.2851\"/>\n</g>\n<!-- 22 -->\n<g id=\"node23\" class=\"node\">\n<title>22</title>\n<path fill=\"#399de5\" stroke=\"#000000\" d=\"M641.5,-893.5C641.5,-893.5 549.5,-893.5 549.5,-893.5 543.5,-893.5 537.5,-887.5 537.5,-881.5 537.5,-881.5 537.5,-837.5 537.5,-837.5 537.5,-831.5 543.5,-825.5 549.5,-825.5 549.5,-825.5 641.5,-825.5 641.5,-825.5 647.5,-825.5 653.5,-831.5 653.5,-837.5 653.5,-837.5 653.5,-881.5 653.5,-881.5 653.5,-887.5 647.5,-893.5 641.5,-893.5\"/>\n<text text-anchor=\"start\" x=\"553\" y=\"-878.3\" font-family=\"Helvetica,sans-Serif\" font-size=\"14.00\" fill=\"#000000\">entropy = 0.0</text>\n<text text-anchor=\"start\" x=\"547.5\" y=\"-863.3\" font-family=\"Helvetica,sans-Serif\" font-size=\"14.00\" fill=\"#000000\">samples = 109</text>\n<text text-anchor=\"start\" x=\"545.5\" y=\"-848.3\" font-family=\"Helvetica,sans-Serif\" font-size=\"14.00\" fill=\"#000000\">value = [0, 109]</text>\n<text text-anchor=\"start\" x=\"568\" y=\"-833.3\" font-family=\"Helvetica,sans-Serif\" font-size=\"14.00\" fill=\"#000000\">class = r</text>\n</g>\n<!-- 12&#45;&gt;22 -->\n<g id=\"edge22\" class=\"edge\">\n<title>12&#45;&gt;22</title>\n<path fill=\"none\" stroke=\"#000000\" d=\"M595.5,-936.8796C595.5,-926.2134 595.5,-914.7021 595.5,-903.9015\"/>\n<polygon fill=\"#000000\" stroke=\"#000000\" points=\"599.0001,-903.8149 595.5,-893.8149 592.0001,-903.815 599.0001,-903.8149\"/>\n</g>\n<!-- 14 -->\n<g id=\"node15\" class=\"node\">\n<title>14</title>\n<path fill=\"#43a2e6\" stroke=\"#000000\" d=\"M372.5,-782C372.5,-782 242.5,-782 242.5,-782 236.5,-782 230.5,-776 230.5,-770 230.5,-770 230.5,-711 230.5,-711 230.5,-705 236.5,-699 242.5,-699 242.5,-699 372.5,-699 372.5,-699 378.5,-699 384.5,-705 384.5,-711 384.5,-711 384.5,-770 384.5,-770 384.5,-776 378.5,-782 372.5,-782\"/>\n<text text-anchor=\"start\" x=\"238.5\" y=\"-766.8\" font-family=\"Helvetica,sans-Serif\" font-size=\"14.00\" fill=\"#000000\">installment ≤ 218.955</text>\n<text text-anchor=\"start\" x=\"256.5\" y=\"-751.8\" font-family=\"Helvetica,sans-Serif\" font-size=\"14.00\" fill=\"#000000\">entropy = 0.283</text>\n<text text-anchor=\"start\" x=\"263.5\" y=\"-736.8\" font-family=\"Helvetica,sans-Serif\" font-size=\"14.00\" fill=\"#000000\">samples = 61</text>\n<text text-anchor=\"start\" x=\"262\" y=\"-721.8\" font-family=\"Helvetica,sans-Serif\" font-size=\"14.00\" fill=\"#000000\">value = [3, 58]</text>\n<text text-anchor=\"start\" x=\"280\" y=\"-706.8\" font-family=\"Helvetica,sans-Serif\" font-size=\"14.00\" fill=\"#000000\">class = r</text>\n</g>\n<!-- 13&#45;&gt;14 -->\n<g id=\"edge14\" class=\"edge\">\n<title>13&#45;&gt;14</title>\n<path fill=\"none\" stroke=\"#000000\" d=\"M406.988,-817.8796C394.7588,-808.368 381.6656,-798.1843 369.1268,-788.432\"/>\n<polygon fill=\"#000000\" stroke=\"#000000\" points=\"371.0241,-785.4736 360.9818,-782.0969 366.7265,-790.9991 371.0241,-785.4736\"/>\n</g>\n<!-- 21 -->\n<g id=\"node22\" class=\"node\">\n<title>21</title>\n<path fill=\"#e89152\" stroke=\"#000000\" d=\"M508.5,-774.5C508.5,-774.5 414.5,-774.5 414.5,-774.5 408.5,-774.5 402.5,-768.5 402.5,-762.5 402.5,-762.5 402.5,-718.5 402.5,-718.5 402.5,-712.5 408.5,-706.5 414.5,-706.5 414.5,-706.5 508.5,-706.5 508.5,-706.5 514.5,-706.5 520.5,-712.5 520.5,-718.5 520.5,-718.5 520.5,-762.5 520.5,-762.5 520.5,-768.5 514.5,-774.5 508.5,-774.5\"/>\n<text text-anchor=\"start\" x=\"410.5\" y=\"-759.3\" font-family=\"Helvetica,sans-Serif\" font-size=\"14.00\" fill=\"#000000\">entropy = 0.503</text>\n<text text-anchor=\"start\" x=\"422\" y=\"-744.3\" font-family=\"Helvetica,sans-Serif\" font-size=\"14.00\" fill=\"#000000\">samples = 9</text>\n<text text-anchor=\"start\" x=\"420\" y=\"-729.3\" font-family=\"Helvetica,sans-Serif\" font-size=\"14.00\" fill=\"#000000\">value = [8, 1]</text>\n<text text-anchor=\"start\" x=\"432.5\" y=\"-714.3\" font-family=\"Helvetica,sans-Serif\" font-size=\"14.00\" fill=\"#000000\">class = c</text>\n</g>\n<!-- 13&#45;&gt;21 -->\n<g id=\"edge21\" class=\"edge\">\n<title>13&#45;&gt;21</title>\n<path fill=\"none\" stroke=\"#000000\" d=\"M460.8498,-817.8796C460.9394,-807.2134 461.0361,-795.7021 461.1269,-784.9015\"/>\n<polygon fill=\"#000000\" stroke=\"#000000\" points=\"464.6274,-784.844 461.2116,-774.8149 457.6276,-784.7851 464.6274,-784.844\"/>\n</g>\n<!-- 15 -->\n<g id=\"node16\" class=\"node\">\n<title>15</title>\n<path fill=\"#4ea8e8\" stroke=\"#000000\" d=\"M244,-663C244,-663 127,-663 127,-663 121,-663 115,-657 115,-651 115,-651 115,-592 115,-592 115,-586 121,-580 127,-580 127,-580 244,-580 244,-580 250,-580 256,-586 256,-592 256,-592 256,-651 256,-651 256,-657 250,-663 244,-663\"/>\n<text text-anchor=\"start\" x=\"123\" y=\"-647.8\" font-family=\"Helvetica,sans-Serif\" font-size=\"14.00\" fill=\"#000000\">inq.last.6mths ≤ 0.5</text>\n<text text-anchor=\"start\" x=\"134.5\" y=\"-632.8\" font-family=\"Helvetica,sans-Serif\" font-size=\"14.00\" fill=\"#000000\">entropy = 0.459</text>\n<text text-anchor=\"start\" x=\"141.5\" y=\"-617.8\" font-family=\"Helvetica,sans-Serif\" font-size=\"14.00\" fill=\"#000000\">samples = 31</text>\n<text text-anchor=\"start\" x=\"140\" y=\"-602.8\" font-family=\"Helvetica,sans-Serif\" font-size=\"14.00\" fill=\"#000000\">value = [3, 28]</text>\n<text text-anchor=\"start\" x=\"158\" y=\"-587.8\" font-family=\"Helvetica,sans-Serif\" font-size=\"14.00\" fill=\"#000000\">class = r</text>\n</g>\n<!-- 14&#45;&gt;15 -->\n<g id=\"edge15\" class=\"edge\">\n<title>14&#45;&gt;15</title>\n<path fill=\"none\" stroke=\"#000000\" d=\"M264.8303,-698.8796C255.4123,-689.6931 245.3516,-679.8798 235.6672,-670.4336\"/>\n<polygon fill=\"#000000\" stroke=\"#000000\" points=\"237.9543,-667.7751 228.3518,-663.2981 233.0665,-672.7861 237.9543,-667.7751\"/>\n</g>\n<!-- 20 -->\n<g id=\"node21\" class=\"node\">\n<title>20</title>\n<path fill=\"#399de5\" stroke=\"#000000\" d=\"M369,-655.5C369,-655.5 286,-655.5 286,-655.5 280,-655.5 274,-649.5 274,-643.5 274,-643.5 274,-599.5 274,-599.5 274,-593.5 280,-587.5 286,-587.5 286,-587.5 369,-587.5 369,-587.5 375,-587.5 381,-593.5 381,-599.5 381,-599.5 381,-643.5 381,-643.5 381,-649.5 375,-655.5 369,-655.5\"/>\n<text text-anchor=\"start\" x=\"285\" y=\"-640.3\" font-family=\"Helvetica,sans-Serif\" font-size=\"14.00\" fill=\"#000000\">entropy = 0.0</text>\n<text text-anchor=\"start\" x=\"283.5\" y=\"-625.3\" font-family=\"Helvetica,sans-Serif\" font-size=\"14.00\" fill=\"#000000\">samples = 30</text>\n<text text-anchor=\"start\" x=\"282\" y=\"-610.3\" font-family=\"Helvetica,sans-Serif\" font-size=\"14.00\" fill=\"#000000\">value = [0, 30]</text>\n<text text-anchor=\"start\" x=\"300\" y=\"-595.3\" font-family=\"Helvetica,sans-Serif\" font-size=\"14.00\" fill=\"#000000\">class = r</text>\n</g>\n<!-- 14&#45;&gt;20 -->\n<g id=\"edge20\" class=\"edge\">\n<title>14&#45;&gt;20</title>\n<path fill=\"none\" stroke=\"#000000\" d=\"M314.495,-698.8796C316.2877,-688.2134 318.2223,-676.7021 320.0376,-665.9015\"/>\n<polygon fill=\"#000000\" stroke=\"#000000\" points=\"323.5269,-666.2568 321.7328,-655.8149 316.6237,-665.0965 323.5269,-666.2568\"/>\n</g>\n<!-- 16 -->\n<g id=\"node17\" class=\"node\">\n<title>16</title>\n<path fill=\"#399de5\" stroke=\"#000000\" d=\"M95,-536.5C95,-536.5 12,-536.5 12,-536.5 6,-536.5 0,-530.5 0,-524.5 0,-524.5 0,-480.5 0,-480.5 0,-474.5 6,-468.5 12,-468.5 12,-468.5 95,-468.5 95,-468.5 101,-468.5 107,-474.5 107,-480.5 107,-480.5 107,-524.5 107,-524.5 107,-530.5 101,-536.5 95,-536.5\"/>\n<text text-anchor=\"start\" x=\"11\" y=\"-521.3\" font-family=\"Helvetica,sans-Serif\" font-size=\"14.00\" fill=\"#000000\">entropy = 0.0</text>\n<text text-anchor=\"start\" x=\"9.5\" y=\"-506.3\" font-family=\"Helvetica,sans-Serif\" font-size=\"14.00\" fill=\"#000000\">samples = 17</text>\n<text text-anchor=\"start\" x=\"8\" y=\"-491.3\" font-family=\"Helvetica,sans-Serif\" font-size=\"14.00\" fill=\"#000000\">value = [0, 17]</text>\n<text text-anchor=\"start\" x=\"26\" y=\"-476.3\" font-family=\"Helvetica,sans-Serif\" font-size=\"14.00\" fill=\"#000000\">class = r</text>\n</g>\n<!-- 15&#45;&gt;16 -->\n<g id=\"edge16\" class=\"edge\">\n<title>15&#45;&gt;16</title>\n<path fill=\"none\" stroke=\"#000000\" d=\"M139.3328,-579.8796C126.2817,-568.1138 112.0899,-555.3197 99.0739,-543.5855\"/>\n<polygon fill=\"#000000\" stroke=\"#000000\" points=\"101.3346,-540.9113 91.5636,-536.8149 96.6474,-546.1104 101.3346,-540.9113\"/>\n</g>\n<!-- 17 -->\n<g id=\"node18\" class=\"node\">\n<title>17</title>\n<path fill=\"#6fb8ec\" stroke=\"#000000\" d=\"M254,-544C254,-544 137,-544 137,-544 131,-544 125,-538 125,-532 125,-532 125,-473 125,-473 125,-467 131,-461 137,-461 137,-461 254,-461 254,-461 260,-461 266,-467 266,-473 266,-473 266,-532 266,-532 266,-538 260,-544 254,-544\"/>\n<text text-anchor=\"start\" x=\"133\" y=\"-528.8\" font-family=\"Helvetica,sans-Serif\" font-size=\"14.00\" fill=\"#000000\">inq.last.6mths ≤ 1.5</text>\n<text text-anchor=\"start\" x=\"148.5\" y=\"-513.8\" font-family=\"Helvetica,sans-Serif\" font-size=\"14.00\" fill=\"#000000\">entropy = 0.75</text>\n<text text-anchor=\"start\" x=\"151.5\" y=\"-498.8\" font-family=\"Helvetica,sans-Serif\" font-size=\"14.00\" fill=\"#000000\">samples = 14</text>\n<text text-anchor=\"start\" x=\"150\" y=\"-483.8\" font-family=\"Helvetica,sans-Serif\" font-size=\"14.00\" fill=\"#000000\">value = [3, 11]</text>\n<text text-anchor=\"start\" x=\"168\" y=\"-468.8\" font-family=\"Helvetica,sans-Serif\" font-size=\"14.00\" fill=\"#000000\">class = r</text>\n</g>\n<!-- 15&#45;&gt;17 -->\n<g id=\"edge17\" class=\"edge\">\n<title>15&#45;&gt;17</title>\n<path fill=\"none\" stroke=\"#000000\" d=\"M188.9975,-579.8796C189.6862,-571.6838 190.4169,-562.9891 191.1301,-554.5013\"/>\n<polygon fill=\"#000000\" stroke=\"#000000\" points=\"194.6378,-554.5561 191.9876,-544.2981 187.6624,-553.9698 194.6378,-554.5561\"/>\n</g>\n<!-- 18 -->\n<g id=\"node19\" class=\"node\">\n<title>18</title>\n<path fill=\"#b0d8f5\" stroke=\"#000000\" d=\"M116.5,-417.5C116.5,-417.5 22.5,-417.5 22.5,-417.5 16.5,-417.5 10.5,-411.5 10.5,-405.5 10.5,-405.5 10.5,-361.5 10.5,-361.5 10.5,-355.5 16.5,-349.5 22.5,-349.5 22.5,-349.5 116.5,-349.5 116.5,-349.5 122.5,-349.5 128.5,-355.5 128.5,-361.5 128.5,-361.5 128.5,-405.5 128.5,-405.5 128.5,-411.5 122.5,-417.5 116.5,-417.5\"/>\n<text text-anchor=\"start\" x=\"18.5\" y=\"-402.3\" font-family=\"Helvetica,sans-Serif\" font-size=\"14.00\" fill=\"#000000\">entropy = 0.954</text>\n<text text-anchor=\"start\" x=\"30\" y=\"-387.3\" font-family=\"Helvetica,sans-Serif\" font-size=\"14.00\" fill=\"#000000\">samples = 8</text>\n<text text-anchor=\"start\" x=\"28\" y=\"-372.3\" font-family=\"Helvetica,sans-Serif\" font-size=\"14.00\" fill=\"#000000\">value = [3, 5]</text>\n<text text-anchor=\"start\" x=\"42\" y=\"-357.3\" font-family=\"Helvetica,sans-Serif\" font-size=\"14.00\" fill=\"#000000\">class = r</text>\n</g>\n<!-- 17&#45;&gt;18 -->\n<g id=\"edge18\" class=\"edge\">\n<title>17&#45;&gt;18</title>\n<path fill=\"none\" stroke=\"#000000\" d=\"M151.4313,-460.8796C139.0898,-449.2237 125.6798,-436.5587 113.351,-424.9148\"/>\n<polygon fill=\"#000000\" stroke=\"#000000\" points=\"115.5068,-422.1366 105.8335,-417.8149 110.7004,-427.2258 115.5068,-422.1366\"/>\n</g>\n<!-- 19 -->\n<g id=\"node20\" class=\"node\">\n<title>19</title>\n<path fill=\"#399de5\" stroke=\"#000000\" d=\"M236,-417.5C236,-417.5 159,-417.5 159,-417.5 153,-417.5 147,-411.5 147,-405.5 147,-405.5 147,-361.5 147,-361.5 147,-355.5 153,-349.5 159,-349.5 159,-349.5 236,-349.5 236,-349.5 242,-349.5 248,-355.5 248,-361.5 248,-361.5 248,-405.5 248,-405.5 248,-411.5 242,-417.5 236,-417.5\"/>\n<text text-anchor=\"start\" x=\"155\" y=\"-402.3\" font-family=\"Helvetica,sans-Serif\" font-size=\"14.00\" fill=\"#000000\">entropy = 0.0</text>\n<text text-anchor=\"start\" x=\"158\" y=\"-387.3\" font-family=\"Helvetica,sans-Serif\" font-size=\"14.00\" fill=\"#000000\">samples = 6</text>\n<text text-anchor=\"start\" x=\"156\" y=\"-372.3\" font-family=\"Helvetica,sans-Serif\" font-size=\"14.00\" fill=\"#000000\">value = [0, 6]</text>\n<text text-anchor=\"start\" x=\"170\" y=\"-357.3\" font-family=\"Helvetica,sans-Serif\" font-size=\"14.00\" fill=\"#000000\">class = r</text>\n</g>\n<!-- 17&#45;&gt;19 -->\n<g id=\"edge19\" class=\"edge\">\n<title>17&#45;&gt;19</title>\n<path fill=\"none\" stroke=\"#000000\" d=\"M196.1995,-460.8796C196.3788,-450.2134 196.5722,-438.7021 196.7538,-427.9015\"/>\n<polygon fill=\"#000000\" stroke=\"#000000\" points=\"200.2546,-427.8724 196.9233,-417.8149 193.2556,-427.7547 200.2546,-427.8724\"/>\n</g>\n<!-- 24 -->\n<g id=\"node25\" class=\"node\">\n<title>24</title>\n<path fill=\"#3b9ee5\" stroke=\"#000000\" d=\"M799.5,-901C799.5,-901 683.5,-901 683.5,-901 677.5,-901 671.5,-895 671.5,-889 671.5,-889 671.5,-830 671.5,-830 671.5,-824 677.5,-818 683.5,-818 683.5,-818 799.5,-818 799.5,-818 805.5,-818 811.5,-824 811.5,-830 811.5,-830 811.5,-889 811.5,-889 811.5,-895 805.5,-901 799.5,-901\"/>\n<text text-anchor=\"start\" x=\"679.5\" y=\"-885.8\" font-family=\"Helvetica,sans-Serif\" font-size=\"14.00\" fill=\"#000000\">revol.bal ≤ 25145.5</text>\n<text text-anchor=\"start\" x=\"690.5\" y=\"-870.8\" font-family=\"Helvetica,sans-Serif\" font-size=\"14.00\" fill=\"#000000\">entropy = 0.084</text>\n<text text-anchor=\"start\" x=\"689.5\" y=\"-855.8\" font-family=\"Helvetica,sans-Serif\" font-size=\"14.00\" fill=\"#000000\">samples = 1241</text>\n<text text-anchor=\"start\" x=\"683.5\" y=\"-840.8\" font-family=\"Helvetica,sans-Serif\" font-size=\"14.00\" fill=\"#000000\">value = [13, 1228]</text>\n<text text-anchor=\"start\" x=\"714\" y=\"-825.8\" font-family=\"Helvetica,sans-Serif\" font-size=\"14.00\" fill=\"#000000\">class = r</text>\n</g>\n<!-- 23&#45;&gt;24 -->\n<g id=\"edge24\" class=\"edge\">\n<title>23&#45;&gt;24</title>\n<path fill=\"none\" stroke=\"#000000\" d=\"M796.1209,-936.8796C789.8906,-928.0534 783.2519,-918.6485 776.827,-909.5466\"/>\n<polygon fill=\"#000000\" stroke=\"#000000\" points=\"779.6308,-907.4494 771.0045,-901.2981 773.912,-911.4862 779.6308,-907.4494\"/>\n</g>\n<!-- 47 -->\n<g id=\"node48\" class=\"node\">\n<title>47</title>\n<path fill=\"#399de5\" stroke=\"#000000\" d=\"M941.5,-893.5C941.5,-893.5 841.5,-893.5 841.5,-893.5 835.5,-893.5 829.5,-887.5 829.5,-881.5 829.5,-881.5 829.5,-837.5 829.5,-837.5 829.5,-831.5 835.5,-825.5 841.5,-825.5 841.5,-825.5 941.5,-825.5 941.5,-825.5 947.5,-825.5 953.5,-831.5 953.5,-837.5 953.5,-837.5 953.5,-881.5 953.5,-881.5 953.5,-887.5 947.5,-893.5 941.5,-893.5\"/>\n<text text-anchor=\"start\" x=\"849\" y=\"-878.3\" font-family=\"Helvetica,sans-Serif\" font-size=\"14.00\" fill=\"#000000\">entropy = 0.0</text>\n<text text-anchor=\"start\" x=\"839.5\" y=\"-863.3\" font-family=\"Helvetica,sans-Serif\" font-size=\"14.00\" fill=\"#000000\">samples = 4266</text>\n<text text-anchor=\"start\" x=\"837.5\" y=\"-848.3\" font-family=\"Helvetica,sans-Serif\" font-size=\"14.00\" fill=\"#000000\">value = [0, 4266]</text>\n<text text-anchor=\"start\" x=\"864\" y=\"-833.3\" font-family=\"Helvetica,sans-Serif\" font-size=\"14.00\" fill=\"#000000\">class = r</text>\n</g>\n<!-- 23&#45;&gt;47 -->\n<g id=\"edge47\" class=\"edge\">\n<title>23&#45;&gt;47</title>\n<path fill=\"none\" stroke=\"#000000\" d=\"M848.5836,-936.8796C854.7433,-925.7735 861.4111,-913.7513 867.6129,-902.5691\"/>\n<polygon fill=\"#000000\" stroke=\"#000000\" points=\"870.6787,-904.2576 872.4682,-893.8149 864.5572,-900.8624 870.6787,-904.2576\"/>\n</g>\n<!-- 25 -->\n<g id=\"node26\" class=\"node\">\n<title>25</title>\n<path fill=\"#3a9ee5\" stroke=\"#000000\" d=\"M790.5,-782C790.5,-782 690.5,-782 690.5,-782 684.5,-782 678.5,-776 678.5,-770 678.5,-770 678.5,-711 678.5,-711 678.5,-705 684.5,-699 690.5,-699 690.5,-699 790.5,-699 790.5,-699 796.5,-699 802.5,-705 802.5,-711 802.5,-711 802.5,-770 802.5,-770 802.5,-776 796.5,-782 790.5,-782\"/>\n<text text-anchor=\"start\" x=\"692.5\" y=\"-766.8\" font-family=\"Helvetica,sans-Serif\" font-size=\"14.00\" fill=\"#000000\">int.rate ≤ 0.116</text>\n<text text-anchor=\"start\" x=\"689.5\" y=\"-751.8\" font-family=\"Helvetica,sans-Serif\" font-size=\"14.00\" fill=\"#000000\">entropy = 0.051</text>\n<text text-anchor=\"start\" x=\"688.5\" y=\"-736.8\" font-family=\"Helvetica,sans-Serif\" font-size=\"14.00\" fill=\"#000000\">samples = 1227</text>\n<text text-anchor=\"start\" x=\"686.5\" y=\"-721.8\" font-family=\"Helvetica,sans-Serif\" font-size=\"14.00\" fill=\"#000000\">value = [7, 1220]</text>\n<text text-anchor=\"start\" x=\"713\" y=\"-706.8\" font-family=\"Helvetica,sans-Serif\" font-size=\"14.00\" fill=\"#000000\">class = r</text>\n</g>\n<!-- 24&#45;&gt;25 -->\n<g id=\"edge25\" class=\"edge\">\n<title>24&#45;&gt;25</title>\n<path fill=\"none\" stroke=\"#000000\" d=\"M741.1502,-817.8796C741.0814,-809.6838 741.0083,-800.9891 740.937,-792.5013\"/>\n<polygon fill=\"#000000\" stroke=\"#000000\" points=\"744.4352,-792.2683 740.8512,-782.2981 737.4355,-792.3272 744.4352,-792.2683\"/>\n</g>\n<!-- 44 -->\n<g id=\"node45\" class=\"node\">\n<title>44</title>\n<path fill=\"#cee6f8\" stroke=\"#000000\" d=\"M930.5,-782C930.5,-782 832.5,-782 832.5,-782 826.5,-782 820.5,-776 820.5,-770 820.5,-770 820.5,-711 820.5,-711 820.5,-705 826.5,-699 832.5,-699 832.5,-699 930.5,-699 930.5,-699 936.5,-699 942.5,-705 942.5,-711 942.5,-711 942.5,-770 942.5,-770 942.5,-776 936.5,-782 930.5,-782\"/>\n<text text-anchor=\"start\" x=\"828.5\" y=\"-766.8\" font-family=\"Helvetica,sans-Serif\" font-size=\"14.00\" fill=\"#000000\">revol.util ≤ 49.75</text>\n<text text-anchor=\"start\" x=\"830.5\" y=\"-751.8\" font-family=\"Helvetica,sans-Serif\" font-size=\"14.00\" fill=\"#000000\">entropy = 0.985</text>\n<text text-anchor=\"start\" x=\"837.5\" y=\"-736.8\" font-family=\"Helvetica,sans-Serif\" font-size=\"14.00\" fill=\"#000000\">samples = 14</text>\n<text text-anchor=\"start\" x=\"840\" y=\"-721.8\" font-family=\"Helvetica,sans-Serif\" font-size=\"14.00\" fill=\"#000000\">value = [6, 8]</text>\n<text text-anchor=\"start\" x=\"854\" y=\"-706.8\" font-family=\"Helvetica,sans-Serif\" font-size=\"14.00\" fill=\"#000000\">class = r</text>\n</g>\n<!-- 24&#45;&gt;44 -->\n<g id=\"edge44\" class=\"edge\">\n<title>24&#45;&gt;44</title>\n<path fill=\"none\" stroke=\"#000000\" d=\"M790.4652,-817.8796C801.4847,-808.513 813.2709,-798.4948 824.5842,-788.8784\"/>\n<polygon fill=\"#000000\" stroke=\"#000000\" points=\"826.9732,-791.4414 832.3258,-782.2981 822.4396,-786.1078 826.9732,-791.4414\"/>\n</g>\n<!-- 26 -->\n<g id=\"node27\" class=\"node\">\n<title>26</title>\n<path fill=\"#3b9ee5\" stroke=\"#000000\" d=\"M661.5,-663C661.5,-663 527.5,-663 527.5,-663 521.5,-663 515.5,-657 515.5,-651 515.5,-651 515.5,-592 515.5,-592 515.5,-586 521.5,-580 527.5,-580 527.5,-580 661.5,-580 661.5,-580 667.5,-580 673.5,-586 673.5,-592 673.5,-592 673.5,-651 673.5,-651 673.5,-657 667.5,-663 661.5,-663\"/>\n<text text-anchor=\"start\" x=\"523.5\" y=\"-647.8\" font-family=\"Helvetica,sans-Serif\" font-size=\"14.00\" fill=\"#000000\">log.annual.inc ≤ 9.904</text>\n<text text-anchor=\"start\" x=\"543.5\" y=\"-632.8\" font-family=\"Helvetica,sans-Serif\" font-size=\"14.00\" fill=\"#000000\">entropy = 0.097</text>\n<text text-anchor=\"start\" x=\"546.5\" y=\"-617.8\" font-family=\"Helvetica,sans-Serif\" font-size=\"14.00\" fill=\"#000000\">samples = 563</text>\n<text text-anchor=\"start\" x=\"544.5\" y=\"-602.8\" font-family=\"Helvetica,sans-Serif\" font-size=\"14.00\" fill=\"#000000\">value = [7, 556]</text>\n<text text-anchor=\"start\" x=\"567\" y=\"-587.8\" font-family=\"Helvetica,sans-Serif\" font-size=\"14.00\" fill=\"#000000\">class = r</text>\n</g>\n<!-- 25&#45;&gt;26 -->\n<g id=\"edge26\" class=\"edge\">\n<title>25&#45;&gt;26</title>\n<path fill=\"none\" stroke=\"#000000\" d=\"M689.4363,-698.8796C677.9445,-689.513 665.6532,-679.4948 653.855,-669.8784\"/>\n<polygon fill=\"#000000\" stroke=\"#000000\" points=\"655.7444,-666.903 645.7817,-663.2981 651.3218,-672.329 655.7444,-666.903\"/>\n</g>\n<!-- 43 -->\n<g id=\"node44\" class=\"node\">\n<title>43</title>\n<path fill=\"#399de5\" stroke=\"#000000\" d=\"M795.5,-655.5C795.5,-655.5 703.5,-655.5 703.5,-655.5 697.5,-655.5 691.5,-649.5 691.5,-643.5 691.5,-643.5 691.5,-599.5 691.5,-599.5 691.5,-593.5 697.5,-587.5 703.5,-587.5 703.5,-587.5 795.5,-587.5 795.5,-587.5 801.5,-587.5 807.5,-593.5 807.5,-599.5 807.5,-599.5 807.5,-643.5 807.5,-643.5 807.5,-649.5 801.5,-655.5 795.5,-655.5\"/>\n<text text-anchor=\"start\" x=\"707\" y=\"-640.3\" font-family=\"Helvetica,sans-Serif\" font-size=\"14.00\" fill=\"#000000\">entropy = 0.0</text>\n<text text-anchor=\"start\" x=\"701.5\" y=\"-625.3\" font-family=\"Helvetica,sans-Serif\" font-size=\"14.00\" fill=\"#000000\">samples = 664</text>\n<text text-anchor=\"start\" x=\"699.5\" y=\"-610.3\" font-family=\"Helvetica,sans-Serif\" font-size=\"14.00\" fill=\"#000000\">value = [0, 664]</text>\n<text text-anchor=\"start\" x=\"722\" y=\"-595.3\" font-family=\"Helvetica,sans-Serif\" font-size=\"14.00\" fill=\"#000000\">class = r</text>\n</g>\n<!-- 25&#45;&gt;43 -->\n<g id=\"edge43\" class=\"edge\">\n<title>25&#45;&gt;43</title>\n<path fill=\"none\" stroke=\"#000000\" d=\"M743.6478,-698.8796C744.4545,-688.2134 745.3251,-676.7021 746.1419,-665.9015\"/>\n<polygon fill=\"#000000\" stroke=\"#000000\" points=\"749.6405,-666.0504 746.9048,-655.8149 742.6605,-665.5225 749.6405,-666.0504\"/>\n</g>\n<!-- 27 -->\n<g id=\"node28\" class=\"node\">\n<title>27</title>\n<path fill=\"#43a2e6\" stroke=\"#000000\" d=\"M647,-544C647,-544 540,-544 540,-544 534,-544 528,-538 528,-532 528,-532 528,-473 528,-473 528,-467 534,-461 540,-461 540,-461 647,-461 647,-461 653,-461 659,-467 659,-473 659,-473 659,-532 659,-532 659,-538 653,-544 647,-544\"/>\n<text text-anchor=\"start\" x=\"536\" y=\"-528.8\" font-family=\"Helvetica,sans-Serif\" font-size=\"14.00\" fill=\"#000000\">revol.bal ≤ 9328.0</text>\n<text text-anchor=\"start\" x=\"542.5\" y=\"-513.8\" font-family=\"Helvetica,sans-Serif\" font-size=\"14.00\" fill=\"#000000\">entropy = 0.272</text>\n<text text-anchor=\"start\" x=\"545.5\" y=\"-498.8\" font-family=\"Helvetica,sans-Serif\" font-size=\"14.00\" fill=\"#000000\">samples = 107</text>\n<text text-anchor=\"start\" x=\"543.5\" y=\"-483.8\" font-family=\"Helvetica,sans-Serif\" font-size=\"14.00\" fill=\"#000000\">value = [5, 102]</text>\n<text text-anchor=\"start\" x=\"566\" y=\"-468.8\" font-family=\"Helvetica,sans-Serif\" font-size=\"14.00\" fill=\"#000000\">class = r</text>\n</g>\n<!-- 26&#45;&gt;27 -->\n<g id=\"edge27\" class=\"edge\">\n<title>26&#45;&gt;27</title>\n<path fill=\"none\" stroke=\"#000000\" d=\"M594.1502,-579.8796C594.0814,-571.6838 594.0083,-562.9891 593.937,-554.5013\"/>\n<polygon fill=\"#000000\" stroke=\"#000000\" points=\"597.4352,-554.2683 593.8512,-544.2981 590.4355,-554.3272 597.4352,-554.2683\"/>\n</g>\n<!-- 34 -->\n<g id=\"node35\" class=\"node\">\n<title>34</title>\n<path fill=\"#3a9de5\" stroke=\"#000000\" d=\"M840.5,-544C840.5,-544 746.5,-544 746.5,-544 740.5,-544 734.5,-538 734.5,-532 734.5,-532 734.5,-473 734.5,-473 734.5,-467 740.5,-461 746.5,-461 746.5,-461 840.5,-461 840.5,-461 846.5,-461 852.5,-467 852.5,-473 852.5,-473 852.5,-532 852.5,-532 852.5,-538 846.5,-544 840.5,-544\"/>\n<text text-anchor=\"start\" x=\"760\" y=\"-528.8\" font-family=\"Helvetica,sans-Serif\" font-size=\"14.00\" fill=\"#000000\">dti ≤ 2.635</text>\n<text text-anchor=\"start\" x=\"742.5\" y=\"-513.8\" font-family=\"Helvetica,sans-Serif\" font-size=\"14.00\" fill=\"#000000\">entropy = 0.041</text>\n<text text-anchor=\"start\" x=\"745.5\" y=\"-498.8\" font-family=\"Helvetica,sans-Serif\" font-size=\"14.00\" fill=\"#000000\">samples = 456</text>\n<text text-anchor=\"start\" x=\"743.5\" y=\"-483.8\" font-family=\"Helvetica,sans-Serif\" font-size=\"14.00\" fill=\"#000000\">value = [2, 454]</text>\n<text text-anchor=\"start\" x=\"766\" y=\"-468.8\" font-family=\"Helvetica,sans-Serif\" font-size=\"14.00\" fill=\"#000000\">class = r</text>\n</g>\n<!-- 26&#45;&gt;34 -->\n<g id=\"edge34\" class=\"edge\">\n<title>26&#45;&gt;34</title>\n<path fill=\"none\" stroke=\"#000000\" d=\"M664.1005,-579.8796C684.0178,-567.9692 705.6972,-555.0052 725.5162,-543.1536\"/>\n<polygon fill=\"#000000\" stroke=\"#000000\" points=\"727.3946,-546.1085 734.1808,-537.9723 723.802,-540.1007 727.3946,-546.1085\"/>\n</g>\n<!-- 28 -->\n<g id=\"node29\" class=\"node\">\n<title>28</title>\n<path fill=\"#3b9ee5\" stroke=\"#000000\" d=\"M442.5,-425C442.5,-425 348.5,-425 348.5,-425 342.5,-425 336.5,-419 336.5,-413 336.5,-413 336.5,-354 336.5,-354 336.5,-348 342.5,-342 348.5,-342 348.5,-342 442.5,-342 442.5,-342 448.5,-342 454.5,-348 454.5,-354 454.5,-354 454.5,-413 454.5,-413 454.5,-419 448.5,-425 442.5,-425\"/>\n<text text-anchor=\"start\" x=\"362\" y=\"-409.8\" font-family=\"Helvetica,sans-Serif\" font-size=\"14.00\" fill=\"#000000\">dti ≤ 1.415</text>\n<text text-anchor=\"start\" x=\"344.5\" y=\"-394.8\" font-family=\"Helvetica,sans-Serif\" font-size=\"14.00\" fill=\"#000000\">entropy = 0.084</text>\n<text text-anchor=\"start\" x=\"351.5\" y=\"-379.8\" font-family=\"Helvetica,sans-Serif\" font-size=\"14.00\" fill=\"#000000\">samples = 95</text>\n<text text-anchor=\"start\" x=\"350\" y=\"-364.8\" font-family=\"Helvetica,sans-Serif\" font-size=\"14.00\" fill=\"#000000\">value = [1, 94]</text>\n<text text-anchor=\"start\" x=\"368\" y=\"-349.8\" font-family=\"Helvetica,sans-Serif\" font-size=\"14.00\" fill=\"#000000\">class = r</text>\n</g>\n<!-- 27&#45;&gt;28 -->\n<g id=\"edge28\" class=\"edge\">\n<title>27&#45;&gt;28</title>\n<path fill=\"none\" stroke=\"#000000\" d=\"M527.8439,-463.04C507.1591,-450.6082 484.2755,-436.8549 463.4354,-424.3299\"/>\n<polygon fill=\"#000000\" stroke=\"#000000\" points=\"465.0156,-421.1961 454.6415,-419.0446 461.4096,-427.1959 465.0156,-421.1961\"/>\n</g>\n<!-- 31 -->\n<g id=\"node32\" class=\"node\">\n<title>31</title>\n<path fill=\"#9ccef2\" stroke=\"#000000\" d=\"M671,-425C671,-425 516,-425 516,-425 510,-425 504,-419 504,-413 504,-413 504,-354 504,-354 504,-348 510,-342 516,-342 516,-342 671,-342 671,-342 677,-342 683,-348 683,-354 683,-354 683,-413 683,-413 683,-419 677,-425 671,-425\"/>\n<text text-anchor=\"start\" x=\"512\" y=\"-409.8\" font-family=\"Helvetica,sans-Serif\" font-size=\"14.00\" fill=\"#000000\">days.with.cr.line ≤ 5116.0</text>\n<text text-anchor=\"start\" x=\"542.5\" y=\"-394.8\" font-family=\"Helvetica,sans-Serif\" font-size=\"14.00\" fill=\"#000000\">entropy = 0.918</text>\n<text text-anchor=\"start\" x=\"549.5\" y=\"-379.8\" font-family=\"Helvetica,sans-Serif\" font-size=\"14.00\" fill=\"#000000\">samples = 12</text>\n<text text-anchor=\"start\" x=\"552\" y=\"-364.8\" font-family=\"Helvetica,sans-Serif\" font-size=\"14.00\" fill=\"#000000\">value = [4, 8]</text>\n<text text-anchor=\"start\" x=\"566\" y=\"-349.8\" font-family=\"Helvetica,sans-Serif\" font-size=\"14.00\" fill=\"#000000\">class = r</text>\n</g>\n<!-- 27&#45;&gt;31 -->\n<g id=\"edge31\" class=\"edge\">\n<title>27&#45;&gt;31</title>\n<path fill=\"none\" stroke=\"#000000\" d=\"M593.5,-460.8796C593.5,-452.6838 593.5,-443.9891 593.5,-435.5013\"/>\n<polygon fill=\"#000000\" stroke=\"#000000\" points=\"597.0001,-435.298 593.5,-425.2981 590.0001,-435.2981 597.0001,-435.298\"/>\n</g>\n<!-- 29 -->\n<g id=\"node30\" class=\"node\">\n<title>29</title>\n<path fill=\"#6ab6ec\" stroke=\"#000000\" d=\"M311.5,-298.5C311.5,-298.5 217.5,-298.5 217.5,-298.5 211.5,-298.5 205.5,-292.5 205.5,-286.5 205.5,-286.5 205.5,-242.5 205.5,-242.5 205.5,-236.5 211.5,-230.5 217.5,-230.5 217.5,-230.5 311.5,-230.5 311.5,-230.5 317.5,-230.5 323.5,-236.5 323.5,-242.5 323.5,-242.5 323.5,-286.5 323.5,-286.5 323.5,-292.5 317.5,-298.5 311.5,-298.5\"/>\n<text text-anchor=\"start\" x=\"213.5\" y=\"-283.3\" font-family=\"Helvetica,sans-Serif\" font-size=\"14.00\" fill=\"#000000\">entropy = 0.722</text>\n<text text-anchor=\"start\" x=\"225\" y=\"-268.3\" font-family=\"Helvetica,sans-Serif\" font-size=\"14.00\" fill=\"#000000\">samples = 5</text>\n<text text-anchor=\"start\" x=\"223\" y=\"-253.3\" font-family=\"Helvetica,sans-Serif\" font-size=\"14.00\" fill=\"#000000\">value = [1, 4]</text>\n<text text-anchor=\"start\" x=\"237\" y=\"-238.3\" font-family=\"Helvetica,sans-Serif\" font-size=\"14.00\" fill=\"#000000\">class = r</text>\n</g>\n<!-- 28&#45;&gt;29 -->\n<g id=\"edge29\" class=\"edge\">\n<title>28&#45;&gt;29</title>\n<path fill=\"none\" stroke=\"#000000\" d=\"M349.6826,-341.8796C336.7303,-330.1138 322.646,-317.3197 309.7286,-305.5855\"/>\n<polygon fill=\"#000000\" stroke=\"#000000\" points=\"312.0306,-302.9482 302.2753,-298.8149 307.3239,-308.1296 312.0306,-302.9482\"/>\n</g>\n<!-- 30 -->\n<g id=\"node31\" class=\"node\">\n<title>30</title>\n<path fill=\"#399de5\" stroke=\"#000000\" d=\"M437,-298.5C437,-298.5 354,-298.5 354,-298.5 348,-298.5 342,-292.5 342,-286.5 342,-286.5 342,-242.5 342,-242.5 342,-236.5 348,-230.5 354,-230.5 354,-230.5 437,-230.5 437,-230.5 443,-230.5 449,-236.5 449,-242.5 449,-242.5 449,-286.5 449,-286.5 449,-292.5 443,-298.5 437,-298.5\"/>\n<text text-anchor=\"start\" x=\"353\" y=\"-283.3\" font-family=\"Helvetica,sans-Serif\" font-size=\"14.00\" fill=\"#000000\">entropy = 0.0</text>\n<text text-anchor=\"start\" x=\"351.5\" y=\"-268.3\" font-family=\"Helvetica,sans-Serif\" font-size=\"14.00\" fill=\"#000000\">samples = 90</text>\n<text text-anchor=\"start\" x=\"350\" y=\"-253.3\" font-family=\"Helvetica,sans-Serif\" font-size=\"14.00\" fill=\"#000000\">value = [0, 90]</text>\n<text text-anchor=\"start\" x=\"368\" y=\"-238.3\" font-family=\"Helvetica,sans-Serif\" font-size=\"14.00\" fill=\"#000000\">class = r</text>\n</g>\n<!-- 28&#45;&gt;30 -->\n<g id=\"edge30\" class=\"edge\">\n<title>28&#45;&gt;30</title>\n<path fill=\"none\" stroke=\"#000000\" d=\"M395.5,-341.8796C395.5,-331.2134 395.5,-319.7021 395.5,-308.9015\"/>\n<polygon fill=\"#000000\" stroke=\"#000000\" points=\"399.0001,-308.8149 395.5,-298.8149 392.0001,-308.815 399.0001,-308.8149\"/>\n</g>\n<!-- 32 -->\n<g id=\"node33\" class=\"node\">\n<title>32</title>\n<path fill=\"#f6d5bd\" stroke=\"#000000\" d=\"M573.5,-298.5C573.5,-298.5 479.5,-298.5 479.5,-298.5 473.5,-298.5 467.5,-292.5 467.5,-286.5 467.5,-286.5 467.5,-242.5 467.5,-242.5 467.5,-236.5 473.5,-230.5 479.5,-230.5 479.5,-230.5 573.5,-230.5 573.5,-230.5 579.5,-230.5 585.5,-236.5 585.5,-242.5 585.5,-242.5 585.5,-286.5 585.5,-286.5 585.5,-292.5 579.5,-298.5 573.5,-298.5\"/>\n<text text-anchor=\"start\" x=\"475.5\" y=\"-283.3\" font-family=\"Helvetica,sans-Serif\" font-size=\"14.00\" fill=\"#000000\">entropy = 0.971</text>\n<text text-anchor=\"start\" x=\"487\" y=\"-268.3\" font-family=\"Helvetica,sans-Serif\" font-size=\"14.00\" fill=\"#000000\">samples = 5</text>\n<text text-anchor=\"start\" x=\"485\" y=\"-253.3\" font-family=\"Helvetica,sans-Serif\" font-size=\"14.00\" fill=\"#000000\">value = [3, 2]</text>\n<text text-anchor=\"start\" x=\"497.5\" y=\"-238.3\" font-family=\"Helvetica,sans-Serif\" font-size=\"14.00\" fill=\"#000000\">class = c</text>\n</g>\n<!-- 31&#45;&gt;32 -->\n<g id=\"edge32\" class=\"edge\">\n<title>31&#45;&gt;32</title>\n<path fill=\"none\" stroke=\"#000000\" d=\"M570.0667,-341.8796C563.8137,-330.7735 557.0448,-318.7513 550.749,-307.5691\"/>\n<polygon fill=\"#000000\" stroke=\"#000000\" points=\"553.7761,-305.8116 545.8202,-298.8149 547.6765,-309.2459 553.7761,-305.8116\"/>\n</g>\n<!-- 33 -->\n<g id=\"node34\" class=\"node\">\n<title>33</title>\n<path fill=\"#5aade9\" stroke=\"#000000\" d=\"M709.5,-298.5C709.5,-298.5 615.5,-298.5 615.5,-298.5 609.5,-298.5 603.5,-292.5 603.5,-286.5 603.5,-286.5 603.5,-242.5 603.5,-242.5 603.5,-236.5 609.5,-230.5 615.5,-230.5 615.5,-230.5 709.5,-230.5 709.5,-230.5 715.5,-230.5 721.5,-236.5 721.5,-242.5 721.5,-242.5 721.5,-286.5 721.5,-286.5 721.5,-292.5 715.5,-298.5 709.5,-298.5\"/>\n<text text-anchor=\"start\" x=\"611.5\" y=\"-283.3\" font-family=\"Helvetica,sans-Serif\" font-size=\"14.00\" fill=\"#000000\">entropy = 0.592</text>\n<text text-anchor=\"start\" x=\"623\" y=\"-268.3\" font-family=\"Helvetica,sans-Serif\" font-size=\"14.00\" fill=\"#000000\">samples = 7</text>\n<text text-anchor=\"start\" x=\"621\" y=\"-253.3\" font-family=\"Helvetica,sans-Serif\" font-size=\"14.00\" fill=\"#000000\">value = [1, 6]</text>\n<text text-anchor=\"start\" x=\"635\" y=\"-238.3\" font-family=\"Helvetica,sans-Serif\" font-size=\"14.00\" fill=\"#000000\">class = r</text>\n</g>\n<!-- 31&#45;&gt;33 -->\n<g id=\"edge33\" class=\"edge\">\n<title>31&#45;&gt;33</title>\n<path fill=\"none\" stroke=\"#000000\" d=\"M617.6329,-341.8796C624.0725,-330.7735 631.0434,-318.7513 637.5271,-307.5691\"/>\n<polygon fill=\"#000000\" stroke=\"#000000\" points=\"640.6148,-309.2215 642.6031,-298.8149 634.5591,-305.7102 640.6148,-309.2215\"/>\n</g>\n<!-- 35 -->\n<g id=\"node36\" class=\"node\">\n<title>35</title>\n<path fill=\"#40a1e6\" stroke=\"#000000\" d=\"M842.5,-425C842.5,-425 744.5,-425 744.5,-425 738.5,-425 732.5,-419 732.5,-413 732.5,-413 732.5,-354 732.5,-354 732.5,-348 738.5,-342 744.5,-342 744.5,-342 842.5,-342 842.5,-342 848.5,-342 854.5,-348 854.5,-354 854.5,-354 854.5,-413 854.5,-413 854.5,-419 848.5,-425 842.5,-425\"/>\n<text text-anchor=\"start\" x=\"740.5\" y=\"-409.8\" font-family=\"Helvetica,sans-Serif\" font-size=\"14.00\" fill=\"#000000\">revol.util ≤ 14.15</text>\n<text text-anchor=\"start\" x=\"742.5\" y=\"-394.8\" font-family=\"Helvetica,sans-Serif\" font-size=\"14.00\" fill=\"#000000\">entropy = 0.219</text>\n<text text-anchor=\"start\" x=\"749.5\" y=\"-379.8\" font-family=\"Helvetica,sans-Serif\" font-size=\"14.00\" fill=\"#000000\">samples = 57</text>\n<text text-anchor=\"start\" x=\"748\" y=\"-364.8\" font-family=\"Helvetica,sans-Serif\" font-size=\"14.00\" fill=\"#000000\">value = [2, 55]</text>\n<text text-anchor=\"start\" x=\"766\" y=\"-349.8\" font-family=\"Helvetica,sans-Serif\" font-size=\"14.00\" fill=\"#000000\">class = r</text>\n</g>\n<!-- 34&#45;&gt;35 -->\n<g id=\"edge35\" class=\"edge\">\n<title>34&#45;&gt;35</title>\n<path fill=\"none\" stroke=\"#000000\" d=\"M793.5,-460.8796C793.5,-452.6838 793.5,-443.9891 793.5,-435.5013\"/>\n<polygon fill=\"#000000\" stroke=\"#000000\" points=\"797.0001,-435.298 793.5,-425.2981 790.0001,-435.2981 797.0001,-435.298\"/>\n</g>\n<!-- 42 -->\n<g id=\"node43\" class=\"node\">\n<title>42</title>\n<path fill=\"#399de5\" stroke=\"#000000\" d=\"M976.5,-417.5C976.5,-417.5 884.5,-417.5 884.5,-417.5 878.5,-417.5 872.5,-411.5 872.5,-405.5 872.5,-405.5 872.5,-361.5 872.5,-361.5 872.5,-355.5 878.5,-349.5 884.5,-349.5 884.5,-349.5 976.5,-349.5 976.5,-349.5 982.5,-349.5 988.5,-355.5 988.5,-361.5 988.5,-361.5 988.5,-405.5 988.5,-405.5 988.5,-411.5 982.5,-417.5 976.5,-417.5\"/>\n<text text-anchor=\"start\" x=\"888\" y=\"-402.3\" font-family=\"Helvetica,sans-Serif\" font-size=\"14.00\" fill=\"#000000\">entropy = 0.0</text>\n<text text-anchor=\"start\" x=\"882.5\" y=\"-387.3\" font-family=\"Helvetica,sans-Serif\" font-size=\"14.00\" fill=\"#000000\">samples = 399</text>\n<text text-anchor=\"start\" x=\"880.5\" y=\"-372.3\" font-family=\"Helvetica,sans-Serif\" font-size=\"14.00\" fill=\"#000000\">value = [0, 399]</text>\n<text text-anchor=\"start\" x=\"903\" y=\"-357.3\" font-family=\"Helvetica,sans-Serif\" font-size=\"14.00\" fill=\"#000000\">class = r</text>\n</g>\n<!-- 34&#45;&gt;42 -->\n<g id=\"edge42\" class=\"edge\">\n<title>34&#45;&gt;42</title>\n<path fill=\"none\" stroke=\"#000000\" d=\"M841.416,-460.8796C854.9615,-449.1138 869.6908,-436.3197 883.1998,-424.5855\"/>\n<polygon fill=\"#000000\" stroke=\"#000000\" points=\"885.7401,-427.015 890.9946,-417.8149 881.1497,-421.7303 885.7401,-427.015\"/>\n</g>\n<!-- 36 -->\n<g id=\"node37\" class=\"node\">\n<title>36</title>\n<path fill=\"#399de5\" stroke=\"#000000\" d=\"M835,-298.5C835,-298.5 752,-298.5 752,-298.5 746,-298.5 740,-292.5 740,-286.5 740,-286.5 740,-242.5 740,-242.5 740,-236.5 746,-230.5 752,-230.5 752,-230.5 835,-230.5 835,-230.5 841,-230.5 847,-236.5 847,-242.5 847,-242.5 847,-286.5 847,-286.5 847,-292.5 841,-298.5 835,-298.5\"/>\n<text text-anchor=\"start\" x=\"751\" y=\"-283.3\" font-family=\"Helvetica,sans-Serif\" font-size=\"14.00\" fill=\"#000000\">entropy = 0.0</text>\n<text text-anchor=\"start\" x=\"749.5\" y=\"-268.3\" font-family=\"Helvetica,sans-Serif\" font-size=\"14.00\" fill=\"#000000\">samples = 34</text>\n<text text-anchor=\"start\" x=\"748\" y=\"-253.3\" font-family=\"Helvetica,sans-Serif\" font-size=\"14.00\" fill=\"#000000\">value = [0, 34]</text>\n<text text-anchor=\"start\" x=\"766\" y=\"-238.3\" font-family=\"Helvetica,sans-Serif\" font-size=\"14.00\" fill=\"#000000\">class = r</text>\n</g>\n<!-- 35&#45;&gt;36 -->\n<g id=\"edge36\" class=\"edge\">\n<title>35&#45;&gt;36</title>\n<path fill=\"none\" stroke=\"#000000\" d=\"M793.5,-341.8796C793.5,-331.2134 793.5,-319.7021 793.5,-308.9015\"/>\n<polygon fill=\"#000000\" stroke=\"#000000\" points=\"797.0001,-308.8149 793.5,-298.8149 790.0001,-308.815 797.0001,-308.8149\"/>\n</g>\n<!-- 37 -->\n<g id=\"node38\" class=\"node\">\n<title>37</title>\n<path fill=\"#4ca6e7\" stroke=\"#000000\" d=\"M1048,-306C1048,-306 877,-306 877,-306 871,-306 865,-300 865,-294 865,-294 865,-235 865,-235 865,-229 871,-223 877,-223 877,-223 1048,-223 1048,-223 1054,-223 1060,-229 1060,-235 1060,-235 1060,-294 1060,-294 1060,-300 1054,-306 1048,-306\"/>\n<text text-anchor=\"start\" x=\"873\" y=\"-290.8\" font-family=\"Helvetica,sans-Serif\" font-size=\"14.00\" fill=\"#000000\">days.with.cr.line ≤ 2579.979</text>\n<text text-anchor=\"start\" x=\"911.5\" y=\"-275.8\" font-family=\"Helvetica,sans-Serif\" font-size=\"14.00\" fill=\"#000000\">entropy = 0.426</text>\n<text text-anchor=\"start\" x=\"918.5\" y=\"-260.8\" font-family=\"Helvetica,sans-Serif\" font-size=\"14.00\" fill=\"#000000\">samples = 23</text>\n<text text-anchor=\"start\" x=\"917\" y=\"-245.8\" font-family=\"Helvetica,sans-Serif\" font-size=\"14.00\" fill=\"#000000\">value = [2, 21]</text>\n<text text-anchor=\"start\" x=\"935\" y=\"-230.8\" font-family=\"Helvetica,sans-Serif\" font-size=\"14.00\" fill=\"#000000\">class = r</text>\n</g>\n<!-- 35&#45;&gt;37 -->\n<g id=\"edge37\" class=\"edge\">\n<title>35&#45;&gt;37</title>\n<path fill=\"none\" stroke=\"#000000\" d=\"M852.608,-341.8796C866.3734,-332.1868 881.1299,-321.7961 895.2193,-311.8752\"/>\n<polygon fill=\"#000000\" stroke=\"#000000\" points=\"897.2641,-314.716 903.4254,-306.0969 893.2339,-308.9926 897.2641,-314.716\"/>\n</g>\n<!-- 38 -->\n<g id=\"node39\" class=\"node\">\n<title>38</title>\n<path fill=\"#399de5\" stroke=\"#000000\" d=\"M939,-179.5C939,-179.5 856,-179.5 856,-179.5 850,-179.5 844,-173.5 844,-167.5 844,-167.5 844,-123.5 844,-123.5 844,-117.5 850,-111.5 856,-111.5 856,-111.5 939,-111.5 939,-111.5 945,-111.5 951,-117.5 951,-123.5 951,-123.5 951,-167.5 951,-167.5 951,-173.5 945,-179.5 939,-179.5\"/>\n<text text-anchor=\"start\" x=\"855\" y=\"-164.3\" font-family=\"Helvetica,sans-Serif\" font-size=\"14.00\" fill=\"#000000\">entropy = 0.0</text>\n<text text-anchor=\"start\" x=\"853.5\" y=\"-149.3\" font-family=\"Helvetica,sans-Serif\" font-size=\"14.00\" fill=\"#000000\">samples = 12</text>\n<text text-anchor=\"start\" x=\"852\" y=\"-134.3\" font-family=\"Helvetica,sans-Serif\" font-size=\"14.00\" fill=\"#000000\">value = [0, 12]</text>\n<text text-anchor=\"start\" x=\"870\" y=\"-119.3\" font-family=\"Helvetica,sans-Serif\" font-size=\"14.00\" fill=\"#000000\">class = r</text>\n</g>\n<!-- 37&#45;&gt;38 -->\n<g id=\"edge38\" class=\"edge\">\n<title>37&#45;&gt;38</title>\n<path fill=\"none\" stroke=\"#000000\" d=\"M939.7662,-222.8796C933.7599,-211.8835 927.263,-199.9893 921.2067,-188.9015\"/>\n<polygon fill=\"#000000\" stroke=\"#000000\" points=\"924.1088,-186.9133 916.2435,-179.8149 917.9655,-190.2689 924.1088,-186.9133\"/>\n</g>\n<!-- 39 -->\n<g id=\"node40\" class=\"node\">\n<title>39</title>\n<path fill=\"#65b3eb\" stroke=\"#000000\" d=\"M1075.5,-187C1075.5,-187 981.5,-187 981.5,-187 975.5,-187 969.5,-181 969.5,-175 969.5,-175 969.5,-116 969.5,-116 969.5,-110 975.5,-104 981.5,-104 981.5,-104 1075.5,-104 1075.5,-104 1081.5,-104 1087.5,-110 1087.5,-116 1087.5,-116 1087.5,-175 1087.5,-175 1087.5,-181 1081.5,-187 1075.5,-187\"/>\n<text text-anchor=\"start\" x=\"980.5\" y=\"-171.8\" font-family=\"Helvetica,sans-Serif\" font-size=\"14.00\" fill=\"#000000\">int.rate ≤ 0.095</text>\n<text text-anchor=\"start\" x=\"977.5\" y=\"-156.8\" font-family=\"Helvetica,sans-Serif\" font-size=\"14.00\" fill=\"#000000\">entropy = 0.684</text>\n<text text-anchor=\"start\" x=\"984.5\" y=\"-141.8\" font-family=\"Helvetica,sans-Serif\" font-size=\"14.00\" fill=\"#000000\">samples = 11</text>\n<text text-anchor=\"start\" x=\"987\" y=\"-126.8\" font-family=\"Helvetica,sans-Serif\" font-size=\"14.00\" fill=\"#000000\">value = [2, 9]</text>\n<text text-anchor=\"start\" x=\"1001\" y=\"-111.8\" font-family=\"Helvetica,sans-Serif\" font-size=\"14.00\" fill=\"#000000\">class = r</text>\n</g>\n<!-- 37&#45;&gt;39 -->\n<g id=\"edge39\" class=\"edge\">\n<title>37&#45;&gt;39</title>\n<path fill=\"none\" stroke=\"#000000\" d=\"M985.5836,-222.8796C990.3789,-214.2335 995.4822,-205.0322 1000.4338,-196.1042\"/>\n<polygon fill=\"#000000\" stroke=\"#000000\" points=\"1003.5284,-197.7407 1005.3179,-187.2981 997.4069,-194.3455 1003.5284,-197.7407\"/>\n</g>\n<!-- 40 -->\n<g id=\"node41\" class=\"node\">\n<title>40</title>\n<path fill=\"#6ab6ec\" stroke=\"#000000\" d=\"M1009.5,-68C1009.5,-68 915.5,-68 915.5,-68 909.5,-68 903.5,-62 903.5,-56 903.5,-56 903.5,-12 903.5,-12 903.5,-6 909.5,0 915.5,0 915.5,0 1009.5,0 1009.5,0 1015.5,0 1021.5,-6 1021.5,-12 1021.5,-12 1021.5,-56 1021.5,-56 1021.5,-62 1015.5,-68 1009.5,-68\"/>\n<text text-anchor=\"start\" x=\"911.5\" y=\"-52.8\" font-family=\"Helvetica,sans-Serif\" font-size=\"14.00\" fill=\"#000000\">entropy = 0.722</text>\n<text text-anchor=\"start\" x=\"923\" y=\"-37.8\" font-family=\"Helvetica,sans-Serif\" font-size=\"14.00\" fill=\"#000000\">samples = 5</text>\n<text text-anchor=\"start\" x=\"921\" y=\"-22.8\" font-family=\"Helvetica,sans-Serif\" font-size=\"14.00\" fill=\"#000000\">value = [1, 4]</text>\n<text text-anchor=\"start\" x=\"935\" y=\"-7.8\" font-family=\"Helvetica,sans-Serif\" font-size=\"14.00\" fill=\"#000000\">class = r</text>\n</g>\n<!-- 39&#45;&gt;40 -->\n<g id=\"edge40\" class=\"edge\">\n<title>39&#45;&gt;40</title>\n<path fill=\"none\" stroke=\"#000000\" d=\"M1003.924,-103.9815C998.7014,-95.1585 993.1771,-85.8258 987.9237,-76.9506\"/>\n<polygon fill=\"#000000\" stroke=\"#000000\" points=\"990.8874,-75.0863 982.7816,-68.2637 984.8636,-78.652 990.8874,-75.0863\"/>\n</g>\n<!-- 41 -->\n<g id=\"node42\" class=\"node\">\n<title>41</title>\n<path fill=\"#61b1ea\" stroke=\"#000000\" d=\"M1137.5,-68C1137.5,-68 1051.5,-68 1051.5,-68 1045.5,-68 1039.5,-62 1039.5,-56 1039.5,-56 1039.5,-12 1039.5,-12 1039.5,-6 1045.5,0 1051.5,0 1051.5,0 1137.5,0 1137.5,0 1143.5,0 1149.5,-6 1149.5,-12 1149.5,-12 1149.5,-56 1149.5,-56 1149.5,-62 1143.5,-68 1137.5,-68\"/>\n<text text-anchor=\"start\" x=\"1047.5\" y=\"-52.8\" font-family=\"Helvetica,sans-Serif\" font-size=\"14.00\" fill=\"#000000\">entropy = 0.65</text>\n<text text-anchor=\"start\" x=\"1055\" y=\"-37.8\" font-family=\"Helvetica,sans-Serif\" font-size=\"14.00\" fill=\"#000000\">samples = 6</text>\n<text text-anchor=\"start\" x=\"1053\" y=\"-22.8\" font-family=\"Helvetica,sans-Serif\" font-size=\"14.00\" fill=\"#000000\">value = [1, 5]</text>\n<text text-anchor=\"start\" x=\"1067\" y=\"-7.8\" font-family=\"Helvetica,sans-Serif\" font-size=\"14.00\" fill=\"#000000\">class = r</text>\n</g>\n<!-- 39&#45;&gt;41 -->\n<g id=\"edge41\" class=\"edge\">\n<title>39&#45;&gt;41</title>\n<path fill=\"none\" stroke=\"#000000\" d=\"M1053.076,-103.9815C1058.2986,-95.1585 1063.8229,-85.8258 1069.0763,-76.9506\"/>\n<polygon fill=\"#000000\" stroke=\"#000000\" points=\"1072.1364,-78.652 1074.2184,-68.2637 1066.1126,-75.0863 1072.1364,-78.652\"/>\n</g>\n<!-- 45 -->\n<g id=\"node46\" class=\"node\">\n<title>45</title>\n<path fill=\"#399de5\" stroke=\"#000000\" d=\"M920,-655.5C920,-655.5 843,-655.5 843,-655.5 837,-655.5 831,-649.5 831,-643.5 831,-643.5 831,-599.5 831,-599.5 831,-593.5 837,-587.5 843,-587.5 843,-587.5 920,-587.5 920,-587.5 926,-587.5 932,-593.5 932,-599.5 932,-599.5 932,-643.5 932,-643.5 932,-649.5 926,-655.5 920,-655.5\"/>\n<text text-anchor=\"start\" x=\"839\" y=\"-640.3\" font-family=\"Helvetica,sans-Serif\" font-size=\"14.00\" fill=\"#000000\">entropy = 0.0</text>\n<text text-anchor=\"start\" x=\"842\" y=\"-625.3\" font-family=\"Helvetica,sans-Serif\" font-size=\"14.00\" fill=\"#000000\">samples = 5</text>\n<text text-anchor=\"start\" x=\"840\" y=\"-610.3\" font-family=\"Helvetica,sans-Serif\" font-size=\"14.00\" fill=\"#000000\">value = [0, 5]</text>\n<text text-anchor=\"start\" x=\"854\" y=\"-595.3\" font-family=\"Helvetica,sans-Serif\" font-size=\"14.00\" fill=\"#000000\">class = r</text>\n</g>\n<!-- 44&#45;&gt;45 -->\n<g id=\"edge45\" class=\"edge\">\n<title>44&#45;&gt;45</title>\n<path fill=\"none\" stroke=\"#000000\" d=\"M881.5,-698.8796C881.5,-688.2134 881.5,-676.7021 881.5,-665.9015\"/>\n<polygon fill=\"#000000\" stroke=\"#000000\" points=\"885.0001,-665.8149 881.5,-655.8149 878.0001,-665.815 885.0001,-665.8149\"/>\n</g>\n<!-- 46 -->\n<g id=\"node47\" class=\"node\">\n<title>46</title>\n<path fill=\"#f2c09c\" stroke=\"#000000\" d=\"M1056.5,-655.5C1056.5,-655.5 962.5,-655.5 962.5,-655.5 956.5,-655.5 950.5,-649.5 950.5,-643.5 950.5,-643.5 950.5,-599.5 950.5,-599.5 950.5,-593.5 956.5,-587.5 962.5,-587.5 962.5,-587.5 1056.5,-587.5 1056.5,-587.5 1062.5,-587.5 1068.5,-593.5 1068.5,-599.5 1068.5,-599.5 1068.5,-643.5 1068.5,-643.5 1068.5,-649.5 1062.5,-655.5 1056.5,-655.5\"/>\n<text text-anchor=\"start\" x=\"958.5\" y=\"-640.3\" font-family=\"Helvetica,sans-Serif\" font-size=\"14.00\" fill=\"#000000\">entropy = 0.918</text>\n<text text-anchor=\"start\" x=\"970\" y=\"-625.3\" font-family=\"Helvetica,sans-Serif\" font-size=\"14.00\" fill=\"#000000\">samples = 9</text>\n<text text-anchor=\"start\" x=\"968\" y=\"-610.3\" font-family=\"Helvetica,sans-Serif\" font-size=\"14.00\" fill=\"#000000\">value = [6, 3]</text>\n<text text-anchor=\"start\" x=\"980.5\" y=\"-595.3\" font-family=\"Helvetica,sans-Serif\" font-size=\"14.00\" fill=\"#000000\">class = c</text>\n</g>\n<!-- 44&#45;&gt;46 -->\n<g id=\"edge46\" class=\"edge\">\n<title>44&#45;&gt;46</title>\n<path fill=\"none\" stroke=\"#000000\" d=\"M926.2682,-698.8796C938.8056,-687.2237 952.4284,-674.5587 964.953,-662.9148\"/>\n<polygon fill=\"#000000\" stroke=\"#000000\" points=\"967.6491,-665.1872 972.5898,-655.8149 962.8828,-660.0605 967.6491,-665.1872\"/>\n</g>\n<!-- 49 -->\n<g id=\"node50\" class=\"node\">\n<title>49</title>\n<path fill=\"#f1bc96\" stroke=\"#000000\" d=\"M1186.5,-1020C1186.5,-1020 1092.5,-1020 1092.5,-1020 1086.5,-1020 1080.5,-1014 1080.5,-1008 1080.5,-1008 1080.5,-949 1080.5,-949 1080.5,-943 1086.5,-937 1092.5,-937 1092.5,-937 1186.5,-937 1186.5,-937 1192.5,-937 1198.5,-943 1198.5,-949 1198.5,-949 1198.5,-1008 1198.5,-1008 1198.5,-1014 1192.5,-1020 1186.5,-1020\"/>\n<text text-anchor=\"start\" x=\"1102\" y=\"-1004.8\" font-family=\"Helvetica,sans-Serif\" font-size=\"14.00\" fill=\"#000000\">fico ≤ 734.5</text>\n<text text-anchor=\"start\" x=\"1088.5\" y=\"-989.8\" font-family=\"Helvetica,sans-Serif\" font-size=\"14.00\" fill=\"#000000\">entropy = 0.904</text>\n<text text-anchor=\"start\" x=\"1095.5\" y=\"-974.8\" font-family=\"Helvetica,sans-Serif\" font-size=\"14.00\" fill=\"#000000\">samples = 25</text>\n<text text-anchor=\"start\" x=\"1094\" y=\"-959.8\" font-family=\"Helvetica,sans-Serif\" font-size=\"14.00\" fill=\"#000000\">value = [17, 8]</text>\n<text text-anchor=\"start\" x=\"1110.5\" y=\"-944.8\" font-family=\"Helvetica,sans-Serif\" font-size=\"14.00\" fill=\"#000000\">class = c</text>\n</g>\n<!-- 48&#45;&gt;49 -->\n<g id=\"edge49\" class=\"edge\">\n<title>48&#45;&gt;49</title>\n<path fill=\"none\" stroke=\"#000000\" d=\"M1139.5,-1055.8796C1139.5,-1047.6838 1139.5,-1038.9891 1139.5,-1030.5013\"/>\n<polygon fill=\"#000000\" stroke=\"#000000\" points=\"1143.0001,-1030.298 1139.5,-1020.2981 1136.0001,-1030.2981 1143.0001,-1030.298\"/>\n</g>\n<!-- 54 -->\n<g id=\"node55\" class=\"node\">\n<title>54</title>\n<path fill=\"#3a9ee5\" stroke=\"#000000\" d=\"M1371.5,-1020C1371.5,-1020 1255.5,-1020 1255.5,-1020 1249.5,-1020 1243.5,-1014 1243.5,-1008 1243.5,-1008 1243.5,-949 1243.5,-949 1243.5,-943 1249.5,-937 1255.5,-937 1255.5,-937 1371.5,-937 1371.5,-937 1377.5,-937 1383.5,-943 1383.5,-949 1383.5,-949 1383.5,-1008 1383.5,-1008 1383.5,-1014 1377.5,-1020 1371.5,-1020\"/>\n<text text-anchor=\"start\" x=\"1251.5\" y=\"-1004.8\" font-family=\"Helvetica,sans-Serif\" font-size=\"14.00\" fill=\"#000000\">revol.bal ≤ 70700.0</text>\n<text text-anchor=\"start\" x=\"1262.5\" y=\"-989.8\" font-family=\"Helvetica,sans-Serif\" font-size=\"14.00\" fill=\"#000000\">entropy = 0.063</text>\n<text text-anchor=\"start\" x=\"1265.5\" y=\"-974.8\" font-family=\"Helvetica,sans-Serif\" font-size=\"14.00\" fill=\"#000000\">samples = 270</text>\n<text text-anchor=\"start\" x=\"1263.5\" y=\"-959.8\" font-family=\"Helvetica,sans-Serif\" font-size=\"14.00\" fill=\"#000000\">value = [2, 268]</text>\n<text text-anchor=\"start\" x=\"1286\" y=\"-944.8\" font-family=\"Helvetica,sans-Serif\" font-size=\"14.00\" fill=\"#000000\">class = r</text>\n</g>\n<!-- 48&#45;&gt;54 -->\n<g id=\"edge54\" class=\"edge\">\n<title>48&#45;&gt;54</title>\n<path fill=\"none\" stroke=\"#000000\" d=\"M1200.3568,-1055.8796C1214.5294,-1046.1868 1229.7225,-1035.7961 1244.2288,-1025.8752\"/>\n<polygon fill=\"#000000\" stroke=\"#000000\" points=\"1246.3992,-1028.6311 1252.6776,-1020.0969 1242.4475,-1022.8531 1246.3992,-1028.6311\"/>\n</g>\n<!-- 50 -->\n<g id=\"node51\" class=\"node\">\n<title>50</title>\n<path fill=\"#e89050\" stroke=\"#000000\" d=\"M1105.5,-901C1105.5,-901 983.5,-901 983.5,-901 977.5,-901 971.5,-895 971.5,-889 971.5,-889 971.5,-830 971.5,-830 971.5,-824 977.5,-818 983.5,-818 983.5,-818 1105.5,-818 1105.5,-818 1111.5,-818 1117.5,-824 1117.5,-830 1117.5,-830 1117.5,-889 1117.5,-889 1117.5,-895 1111.5,-901 1105.5,-901\"/>\n<text text-anchor=\"start\" x=\"979.5\" y=\"-885.8\" font-family=\"Helvetica,sans-Serif\" font-size=\"14.00\" fill=\"#000000\">installment ≤ 382.29</text>\n<text text-anchor=\"start\" x=\"993.5\" y=\"-870.8\" font-family=\"Helvetica,sans-Serif\" font-size=\"14.00\" fill=\"#000000\">entropy = 0.485</text>\n<text text-anchor=\"start\" x=\"1000.5\" y=\"-855.8\" font-family=\"Helvetica,sans-Serif\" font-size=\"14.00\" fill=\"#000000\">samples = 19</text>\n<text text-anchor=\"start\" x=\"999\" y=\"-840.8\" font-family=\"Helvetica,sans-Serif\" font-size=\"14.00\" fill=\"#000000\">value = [17, 2]</text>\n<text text-anchor=\"start\" x=\"1015.5\" y=\"-825.8\" font-family=\"Helvetica,sans-Serif\" font-size=\"14.00\" fill=\"#000000\">class = c</text>\n</g>\n<!-- 49&#45;&gt;50 -->\n<g id=\"edge50\" class=\"edge\">\n<title>49&#45;&gt;50</title>\n<path fill=\"none\" stroke=\"#000000\" d=\"M1106.2736,-936.8796C1099.1556,-927.9633 1091.5661,-918.4565 1084.2308,-909.268\"/>\n<polygon fill=\"#000000\" stroke=\"#000000\" points=\"1086.8425,-906.9295 1077.8682,-901.2981 1081.3719,-911.2968 1086.8425,-906.9295\"/>\n</g>\n<!-- 53 -->\n<g id=\"node54\" class=\"node\">\n<title>53</title>\n<path fill=\"#399de5\" stroke=\"#000000\" d=\"M1225,-893.5C1225,-893.5 1148,-893.5 1148,-893.5 1142,-893.5 1136,-887.5 1136,-881.5 1136,-881.5 1136,-837.5 1136,-837.5 1136,-831.5 1142,-825.5 1148,-825.5 1148,-825.5 1225,-825.5 1225,-825.5 1231,-825.5 1237,-831.5 1237,-837.5 1237,-837.5 1237,-881.5 1237,-881.5 1237,-887.5 1231,-893.5 1225,-893.5\"/>\n<text text-anchor=\"start\" x=\"1144\" y=\"-878.3\" font-family=\"Helvetica,sans-Serif\" font-size=\"14.00\" fill=\"#000000\">entropy = 0.0</text>\n<text text-anchor=\"start\" x=\"1147\" y=\"-863.3\" font-family=\"Helvetica,sans-Serif\" font-size=\"14.00\" fill=\"#000000\">samples = 6</text>\n<text text-anchor=\"start\" x=\"1145\" y=\"-848.3\" font-family=\"Helvetica,sans-Serif\" font-size=\"14.00\" fill=\"#000000\">value = [0, 6]</text>\n<text text-anchor=\"start\" x=\"1159\" y=\"-833.3\" font-family=\"Helvetica,sans-Serif\" font-size=\"14.00\" fill=\"#000000\">class = r</text>\n</g>\n<!-- 49&#45;&gt;53 -->\n<g id=\"edge53\" class=\"edge\">\n<title>49&#45;&gt;53</title>\n<path fill=\"none\" stroke=\"#000000\" d=\"M1155.9383,-936.8796C1160.2379,-925.9935 1164.8851,-914.227 1169.2268,-903.2344\"/>\n<polygon fill=\"#000000\" stroke=\"#000000\" points=\"1172.5288,-904.4015 1172.947,-893.8149 1166.0182,-901.8301 1172.5288,-904.4015\"/>\n</g>\n<!-- 51 -->\n<g id=\"node52\" class=\"node\">\n<title>51</title>\n<path fill=\"#e58139\" stroke=\"#000000\" d=\"M1070,-774.5C1070,-774.5 987,-774.5 987,-774.5 981,-774.5 975,-768.5 975,-762.5 975,-762.5 975,-718.5 975,-718.5 975,-712.5 981,-706.5 987,-706.5 987,-706.5 1070,-706.5 1070,-706.5 1076,-706.5 1082,-712.5 1082,-718.5 1082,-718.5 1082,-762.5 1082,-762.5 1082,-768.5 1076,-774.5 1070,-774.5\"/>\n<text text-anchor=\"start\" x=\"986\" y=\"-759.3\" font-family=\"Helvetica,sans-Serif\" font-size=\"14.00\" fill=\"#000000\">entropy = 0.0</text>\n<text text-anchor=\"start\" x=\"984.5\" y=\"-744.3\" font-family=\"Helvetica,sans-Serif\" font-size=\"14.00\" fill=\"#000000\">samples = 14</text>\n<text text-anchor=\"start\" x=\"983\" y=\"-729.3\" font-family=\"Helvetica,sans-Serif\" font-size=\"14.00\" fill=\"#000000\">value = [14, 0]</text>\n<text text-anchor=\"start\" x=\"999.5\" y=\"-714.3\" font-family=\"Helvetica,sans-Serif\" font-size=\"14.00\" fill=\"#000000\">class = c</text>\n</g>\n<!-- 50&#45;&gt;51 -->\n<g id=\"edge51\" class=\"edge\">\n<title>50&#45;&gt;51</title>\n<path fill=\"none\" stroke=\"#000000\" d=\"M1038.904,-817.8796C1037.4699,-807.2134 1035.9221,-795.7021 1034.47,-784.9015\"/>\n<polygon fill=\"#000000\" stroke=\"#000000\" points=\"1037.9152,-784.2593 1033.1138,-774.8149 1030.9776,-785.1922 1037.9152,-784.2593\"/>\n</g>\n<!-- 52 -->\n<g id=\"node53\" class=\"node\">\n<title>52</title>\n<path fill=\"#f6d5bd\" stroke=\"#000000\" d=\"M1206.5,-774.5C1206.5,-774.5 1112.5,-774.5 1112.5,-774.5 1106.5,-774.5 1100.5,-768.5 1100.5,-762.5 1100.5,-762.5 1100.5,-718.5 1100.5,-718.5 1100.5,-712.5 1106.5,-706.5 1112.5,-706.5 1112.5,-706.5 1206.5,-706.5 1206.5,-706.5 1212.5,-706.5 1218.5,-712.5 1218.5,-718.5 1218.5,-718.5 1218.5,-762.5 1218.5,-762.5 1218.5,-768.5 1212.5,-774.5 1206.5,-774.5\"/>\n<text text-anchor=\"start\" x=\"1108.5\" y=\"-759.3\" font-family=\"Helvetica,sans-Serif\" font-size=\"14.00\" fill=\"#000000\">entropy = 0.971</text>\n<text text-anchor=\"start\" x=\"1120\" y=\"-744.3\" font-family=\"Helvetica,sans-Serif\" font-size=\"14.00\" fill=\"#000000\">samples = 5</text>\n<text text-anchor=\"start\" x=\"1118\" y=\"-729.3\" font-family=\"Helvetica,sans-Serif\" font-size=\"14.00\" fill=\"#000000\">value = [3, 2]</text>\n<text text-anchor=\"start\" x=\"1130.5\" y=\"-714.3\" font-family=\"Helvetica,sans-Serif\" font-size=\"14.00\" fill=\"#000000\">class = c</text>\n</g>\n<!-- 50&#45;&gt;52 -->\n<g id=\"edge52\" class=\"edge\">\n<title>50&#45;&gt;52</title>\n<path fill=\"none\" stroke=\"#000000\" d=\"M1084.7214,-817.8796C1095.8792,-806.3337 1107.9939,-793.7976 1119.1586,-782.2446\"/>\n<polygon fill=\"#000000\" stroke=\"#000000\" points=\"1121.9061,-784.4381 1126.3385,-774.8149 1116.8725,-779.5736 1121.9061,-784.4381\"/>\n</g>\n<!-- 55 -->\n<g id=\"node56\" class=\"node\">\n<title>55</title>\n<path fill=\"#399de5\" stroke=\"#000000\" d=\"M1359.5,-893.5C1359.5,-893.5 1267.5,-893.5 1267.5,-893.5 1261.5,-893.5 1255.5,-887.5 1255.5,-881.5 1255.5,-881.5 1255.5,-837.5 1255.5,-837.5 1255.5,-831.5 1261.5,-825.5 1267.5,-825.5 1267.5,-825.5 1359.5,-825.5 1359.5,-825.5 1365.5,-825.5 1371.5,-831.5 1371.5,-837.5 1371.5,-837.5 1371.5,-881.5 1371.5,-881.5 1371.5,-887.5 1365.5,-893.5 1359.5,-893.5\"/>\n<text text-anchor=\"start\" x=\"1271\" y=\"-878.3\" font-family=\"Helvetica,sans-Serif\" font-size=\"14.00\" fill=\"#000000\">entropy = 0.0</text>\n<text text-anchor=\"start\" x=\"1265.5\" y=\"-863.3\" font-family=\"Helvetica,sans-Serif\" font-size=\"14.00\" fill=\"#000000\">samples = 245</text>\n<text text-anchor=\"start\" x=\"1263.5\" y=\"-848.3\" font-family=\"Helvetica,sans-Serif\" font-size=\"14.00\" fill=\"#000000\">value = [0, 245]</text>\n<text text-anchor=\"start\" x=\"1286\" y=\"-833.3\" font-family=\"Helvetica,sans-Serif\" font-size=\"14.00\" fill=\"#000000\">class = r</text>\n</g>\n<!-- 54&#45;&gt;55 -->\n<g id=\"edge55\" class=\"edge\">\n<title>54&#45;&gt;55</title>\n<path fill=\"none\" stroke=\"#000000\" d=\"M1313.5,-936.8796C1313.5,-926.2134 1313.5,-914.7021 1313.5,-903.9015\"/>\n<polygon fill=\"#000000\" stroke=\"#000000\" points=\"1317.0001,-903.8149 1313.5,-893.8149 1310.0001,-903.815 1317.0001,-903.8149\"/>\n</g>\n<!-- 56 -->\n<g id=\"node57\" class=\"node\">\n<title>56</title>\n<path fill=\"#4aa6e7\" stroke=\"#000000\" d=\"M1545,-901C1545,-901 1402,-901 1402,-901 1396,-901 1390,-895 1390,-889 1390,-889 1390,-830 1390,-830 1390,-824 1396,-818 1402,-818 1402,-818 1545,-818 1545,-818 1551,-818 1557,-824 1557,-830 1557,-830 1557,-889 1557,-889 1557,-895 1551,-901 1545,-901\"/>\n<text text-anchor=\"start\" x=\"1398\" y=\"-885.8\" font-family=\"Helvetica,sans-Serif\" font-size=\"14.00\" fill=\"#000000\">log.annual.inc ≤ 11.262</text>\n<text text-anchor=\"start\" x=\"1422.5\" y=\"-870.8\" font-family=\"Helvetica,sans-Serif\" font-size=\"14.00\" fill=\"#000000\">entropy = 0.402</text>\n<text text-anchor=\"start\" x=\"1429.5\" y=\"-855.8\" font-family=\"Helvetica,sans-Serif\" font-size=\"14.00\" fill=\"#000000\">samples = 25</text>\n<text text-anchor=\"start\" x=\"1428\" y=\"-840.8\" font-family=\"Helvetica,sans-Serif\" font-size=\"14.00\" fill=\"#000000\">value = [2, 23]</text>\n<text text-anchor=\"start\" x=\"1446\" y=\"-825.8\" font-family=\"Helvetica,sans-Serif\" font-size=\"14.00\" fill=\"#000000\">class = r</text>\n</g>\n<!-- 54&#45;&gt;56 -->\n<g id=\"edge56\" class=\"edge\">\n<title>54&#45;&gt;56</title>\n<path fill=\"none\" stroke=\"#000000\" d=\"M1369.4602,-936.8796C1382.3708,-927.2774 1396.2021,-916.9903 1409.4282,-907.1534\"/>\n<polygon fill=\"#000000\" stroke=\"#000000\" points=\"1411.6361,-909.8732 1417.5714,-901.0969 1407.4586,-904.2564 1411.6361,-909.8732\"/>\n</g>\n<!-- 57 -->\n<g id=\"node58\" class=\"node\">\n<title>57</title>\n<path fill=\"#bddef6\" stroke=\"#000000\" d=\"M1454.5,-774.5C1454.5,-774.5 1360.5,-774.5 1360.5,-774.5 1354.5,-774.5 1348.5,-768.5 1348.5,-762.5 1348.5,-762.5 1348.5,-718.5 1348.5,-718.5 1348.5,-712.5 1354.5,-706.5 1360.5,-706.5 1360.5,-706.5 1454.5,-706.5 1454.5,-706.5 1460.5,-706.5 1466.5,-712.5 1466.5,-718.5 1466.5,-718.5 1466.5,-762.5 1466.5,-762.5 1466.5,-768.5 1460.5,-774.5 1454.5,-774.5\"/>\n<text text-anchor=\"start\" x=\"1356.5\" y=\"-759.3\" font-family=\"Helvetica,sans-Serif\" font-size=\"14.00\" fill=\"#000000\">entropy = 0.971</text>\n<text text-anchor=\"start\" x=\"1368\" y=\"-744.3\" font-family=\"Helvetica,sans-Serif\" font-size=\"14.00\" fill=\"#000000\">samples = 5</text>\n<text text-anchor=\"start\" x=\"1366\" y=\"-729.3\" font-family=\"Helvetica,sans-Serif\" font-size=\"14.00\" fill=\"#000000\">value = [2, 3]</text>\n<text text-anchor=\"start\" x=\"1380\" y=\"-714.3\" font-family=\"Helvetica,sans-Serif\" font-size=\"14.00\" fill=\"#000000\">class = r</text>\n</g>\n<!-- 56&#45;&gt;57 -->\n<g id=\"edge57\" class=\"edge\">\n<title>56&#45;&gt;57</title>\n<path fill=\"none\" stroke=\"#000000\" d=\"M1450.4164,-817.8796C1444.2567,-806.7735 1437.5889,-794.7513 1431.3871,-783.5691\"/>\n<polygon fill=\"#000000\" stroke=\"#000000\" points=\"1434.4428,-781.8624 1426.5318,-774.8149 1428.3213,-785.2576 1434.4428,-781.8624\"/>\n</g>\n<!-- 58 -->\n<g id=\"node59\" class=\"node\">\n<title>58</title>\n<path fill=\"#399de5\" stroke=\"#000000\" d=\"M1580,-774.5C1580,-774.5 1497,-774.5 1497,-774.5 1491,-774.5 1485,-768.5 1485,-762.5 1485,-762.5 1485,-718.5 1485,-718.5 1485,-712.5 1491,-706.5 1497,-706.5 1497,-706.5 1580,-706.5 1580,-706.5 1586,-706.5 1592,-712.5 1592,-718.5 1592,-718.5 1592,-762.5 1592,-762.5 1592,-768.5 1586,-774.5 1580,-774.5\"/>\n<text text-anchor=\"start\" x=\"1496\" y=\"-759.3\" font-family=\"Helvetica,sans-Serif\" font-size=\"14.00\" fill=\"#000000\">entropy = 0.0</text>\n<text text-anchor=\"start\" x=\"1494.5\" y=\"-744.3\" font-family=\"Helvetica,sans-Serif\" font-size=\"14.00\" fill=\"#000000\">samples = 20</text>\n<text text-anchor=\"start\" x=\"1493\" y=\"-729.3\" font-family=\"Helvetica,sans-Serif\" font-size=\"14.00\" fill=\"#000000\">value = [0, 20]</text>\n<text text-anchor=\"start\" x=\"1511\" y=\"-714.3\" font-family=\"Helvetica,sans-Serif\" font-size=\"14.00\" fill=\"#000000\">class = r</text>\n</g>\n<!-- 56&#45;&gt;58 -->\n<g id=\"edge58\" class=\"edge\">\n<title>56&#45;&gt;58</title>\n<path fill=\"none\" stroke=\"#000000\" d=\"M1496.2338,-817.8796C1502.2401,-806.8835 1508.737,-794.9893 1514.7933,-783.9015\"/>\n<polygon fill=\"#000000\" stroke=\"#000000\" points=\"1518.0345,-785.2689 1519.7565,-774.8149 1511.8912,-781.9133 1518.0345,-785.2689\"/>\n</g>\n<!-- 60 -->\n<g id=\"node61\" class=\"node\">\n<title>60</title>\n<path fill=\"#e58139\" stroke=\"#000000\" d=\"M1330,-1131.5C1330,-1131.5 1253,-1131.5 1253,-1131.5 1247,-1131.5 1241,-1125.5 1241,-1119.5 1241,-1119.5 1241,-1075.5 1241,-1075.5 1241,-1069.5 1247,-1063.5 1253,-1063.5 1253,-1063.5 1330,-1063.5 1330,-1063.5 1336,-1063.5 1342,-1069.5 1342,-1075.5 1342,-1075.5 1342,-1119.5 1342,-1119.5 1342,-1125.5 1336,-1131.5 1330,-1131.5\"/>\n<text text-anchor=\"start\" x=\"1249\" y=\"-1116.3\" font-family=\"Helvetica,sans-Serif\" font-size=\"14.00\" fill=\"#000000\">entropy = 0.0</text>\n<text text-anchor=\"start\" x=\"1252\" y=\"-1101.3\" font-family=\"Helvetica,sans-Serif\" font-size=\"14.00\" fill=\"#000000\">samples = 8</text>\n<text text-anchor=\"start\" x=\"1250\" y=\"-1086.3\" font-family=\"Helvetica,sans-Serif\" font-size=\"14.00\" fill=\"#000000\">value = [8, 0]</text>\n<text text-anchor=\"start\" x=\"1262.5\" y=\"-1071.3\" font-family=\"Helvetica,sans-Serif\" font-size=\"14.00\" fill=\"#000000\">class = c</text>\n</g>\n<!-- 59&#45;&gt;60 -->\n<g id=\"edge60\" class=\"edge\">\n<title>59&#45;&gt;60</title>\n<path fill=\"none\" stroke=\"#000000\" d=\"M1339.6184,-1174.8796C1332.7121,-1163.7735 1325.2361,-1151.7513 1318.2825,-1140.5691\"/>\n<polygon fill=\"#000000\" stroke=\"#000000\" points=\"1321.0917,-1138.4587 1312.8387,-1131.8149 1315.1473,-1142.1552 1321.0917,-1138.4587\"/>\n</g>\n<!-- 61 -->\n<g id=\"node62\" class=\"node\">\n<title>61</title>\n<path fill=\"#eca06a\" stroke=\"#000000\" d=\"M1466.5,-1131.5C1466.5,-1131.5 1372.5,-1131.5 1372.5,-1131.5 1366.5,-1131.5 1360.5,-1125.5 1360.5,-1119.5 1360.5,-1119.5 1360.5,-1075.5 1360.5,-1075.5 1360.5,-1069.5 1366.5,-1063.5 1372.5,-1063.5 1372.5,-1063.5 1466.5,-1063.5 1466.5,-1063.5 1472.5,-1063.5 1478.5,-1069.5 1478.5,-1075.5 1478.5,-1075.5 1478.5,-1119.5 1478.5,-1119.5 1478.5,-1125.5 1472.5,-1131.5 1466.5,-1131.5\"/>\n<text text-anchor=\"start\" x=\"1368.5\" y=\"-1116.3\" font-family=\"Helvetica,sans-Serif\" font-size=\"14.00\" fill=\"#000000\">entropy = 0.722</text>\n<text text-anchor=\"start\" x=\"1380\" y=\"-1101.3\" font-family=\"Helvetica,sans-Serif\" font-size=\"14.00\" fill=\"#000000\">samples = 5</text>\n<text text-anchor=\"start\" x=\"1378\" y=\"-1086.3\" font-family=\"Helvetica,sans-Serif\" font-size=\"14.00\" fill=\"#000000\">value = [4, 1]</text>\n<text text-anchor=\"start\" x=\"1390.5\" y=\"-1071.3\" font-family=\"Helvetica,sans-Serif\" font-size=\"14.00\" fill=\"#000000\">class = c</text>\n</g>\n<!-- 59&#45;&gt;61 -->\n<g id=\"edge61\" class=\"edge\">\n<title>59&#45;&gt;61</title>\n<path fill=\"none\" stroke=\"#000000\" d=\"M1384.3866,-1174.8796C1389.3265,-1163.9935 1394.6659,-1152.227 1399.6541,-1141.2344\"/>\n<polygon fill=\"#000000\" stroke=\"#000000\" points=\"1402.9834,-1142.3675 1403.9285,-1131.8149 1396.609,-1139.4749 1402.9834,-1142.3675\"/>\n</g>\n<!-- 63 -->\n<g id=\"node64\" class=\"node\">\n<title>63</title>\n<path fill=\"#eca36f\" stroke=\"#000000\" d=\"M1698,-1258C1698,-1258 1585,-1258 1585,-1258 1579,-1258 1573,-1252 1573,-1246 1573,-1246 1573,-1187 1573,-1187 1573,-1181 1579,-1175 1585,-1175 1585,-1175 1698,-1175 1698,-1175 1704,-1175 1710,-1181 1710,-1187 1710,-1187 1710,-1246 1710,-1246 1710,-1252 1704,-1258 1698,-1258\"/>\n<text text-anchor=\"start\" x=\"1581\" y=\"-1242.8\" font-family=\"Helvetica,sans-Serif\" font-size=\"14.00\" fill=\"#000000\">installment ≤ 89.24</text>\n<text text-anchor=\"start\" x=\"1594.5\" y=\"-1227.8\" font-family=\"Helvetica,sans-Serif\" font-size=\"14.00\" fill=\"#000000\">entropy = 0.75</text>\n<text text-anchor=\"start\" x=\"1597.5\" y=\"-1212.8\" font-family=\"Helvetica,sans-Serif\" font-size=\"14.00\" fill=\"#000000\">samples = 14</text>\n<text text-anchor=\"start\" x=\"1596\" y=\"-1197.8\" font-family=\"Helvetica,sans-Serif\" font-size=\"14.00\" fill=\"#000000\">value = [11, 3]</text>\n<text text-anchor=\"start\" x=\"1612.5\" y=\"-1182.8\" font-family=\"Helvetica,sans-Serif\" font-size=\"14.00\" fill=\"#000000\">class = c</text>\n</g>\n<!-- 62&#45;&gt;63 -->\n<g id=\"edge63\" class=\"edge\">\n<title>62&#45;&gt;63</title>\n<path fill=\"none\" stroke=\"#000000\" d=\"M1714.9781,-1293.8796C1706.3403,-1284.7832 1697.119,-1275.0722 1688.2303,-1265.7116\"/>\n<polygon fill=\"#000000\" stroke=\"#000000\" points=\"1690.6146,-1263.1395 1681.1906,-1258.2981 1685.5385,-1267.9597 1690.6146,-1263.1395\"/>\n</g>\n<!-- 66 -->\n<g id=\"node67\" class=\"node\">\n<title>66</title>\n<path fill=\"#e58139\" stroke=\"#000000\" d=\"M1823,-1250.5C1823,-1250.5 1740,-1250.5 1740,-1250.5 1734,-1250.5 1728,-1244.5 1728,-1238.5 1728,-1238.5 1728,-1194.5 1728,-1194.5 1728,-1188.5 1734,-1182.5 1740,-1182.5 1740,-1182.5 1823,-1182.5 1823,-1182.5 1829,-1182.5 1835,-1188.5 1835,-1194.5 1835,-1194.5 1835,-1238.5 1835,-1238.5 1835,-1244.5 1829,-1250.5 1823,-1250.5\"/>\n<text text-anchor=\"start\" x=\"1739\" y=\"-1235.3\" font-family=\"Helvetica,sans-Serif\" font-size=\"14.00\" fill=\"#000000\">entropy = 0.0</text>\n<text text-anchor=\"start\" x=\"1737.5\" y=\"-1220.3\" font-family=\"Helvetica,sans-Serif\" font-size=\"14.00\" fill=\"#000000\">samples = 44</text>\n<text text-anchor=\"start\" x=\"1736\" y=\"-1205.3\" font-family=\"Helvetica,sans-Serif\" font-size=\"14.00\" fill=\"#000000\">value = [44, 0]</text>\n<text text-anchor=\"start\" x=\"1752.5\" y=\"-1190.3\" font-family=\"Helvetica,sans-Serif\" font-size=\"14.00\" fill=\"#000000\">class = c</text>\n</g>\n<!-- 62&#45;&gt;66 -->\n<g id=\"edge66\" class=\"edge\">\n<title>62&#45;&gt;66</title>\n<path fill=\"none\" stroke=\"#000000\" d=\"M1763.9433,-1293.8796C1766.3883,-1283.1034 1769.029,-1271.4647 1771.5014,-1260.5677\"/>\n<polygon fill=\"#000000\" stroke=\"#000000\" points=\"1774.9148,-1261.3415 1773.7143,-1250.8149 1768.0883,-1259.7926 1774.9148,-1261.3415\"/>\n</g>\n<!-- 64 -->\n<g id=\"node65\" class=\"node\">\n<title>64</title>\n<path fill=\"#e58139\" stroke=\"#000000\" d=\"M1586,-1131.5C1586,-1131.5 1509,-1131.5 1509,-1131.5 1503,-1131.5 1497,-1125.5 1497,-1119.5 1497,-1119.5 1497,-1075.5 1497,-1075.5 1497,-1069.5 1503,-1063.5 1509,-1063.5 1509,-1063.5 1586,-1063.5 1586,-1063.5 1592,-1063.5 1598,-1069.5 1598,-1075.5 1598,-1075.5 1598,-1119.5 1598,-1119.5 1598,-1125.5 1592,-1131.5 1586,-1131.5\"/>\n<text text-anchor=\"start\" x=\"1505\" y=\"-1116.3\" font-family=\"Helvetica,sans-Serif\" font-size=\"14.00\" fill=\"#000000\">entropy = 0.0</text>\n<text text-anchor=\"start\" x=\"1508\" y=\"-1101.3\" font-family=\"Helvetica,sans-Serif\" font-size=\"14.00\" fill=\"#000000\">samples = 6</text>\n<text text-anchor=\"start\" x=\"1506\" y=\"-1086.3\" font-family=\"Helvetica,sans-Serif\" font-size=\"14.00\" fill=\"#000000\">value = [6, 0]</text>\n<text text-anchor=\"start\" x=\"1518.5\" y=\"-1071.3\" font-family=\"Helvetica,sans-Serif\" font-size=\"14.00\" fill=\"#000000\">class = c</text>\n</g>\n<!-- 63&#45;&gt;64 -->\n<g id=\"edge64\" class=\"edge\">\n<title>63&#45;&gt;64</title>\n<path fill=\"none\" stroke=\"#000000\" d=\"M1608.6234,-1174.8796C1599.6768,-1163.5536 1589.9776,-1151.2748 1580.9971,-1139.9058\"/>\n<polygon fill=\"#000000\" stroke=\"#000000\" points=\"1583.551,-1137.4926 1574.6059,-1131.8149 1578.058,-1141.8316 1583.551,-1137.4926\"/>\n</g>\n<!-- 65 -->\n<g id=\"node66\" class=\"node\">\n<title>65</title>\n<path fill=\"#f5cdb0\" stroke=\"#000000\" d=\"M1722.5,-1131.5C1722.5,-1131.5 1628.5,-1131.5 1628.5,-1131.5 1622.5,-1131.5 1616.5,-1125.5 1616.5,-1119.5 1616.5,-1119.5 1616.5,-1075.5 1616.5,-1075.5 1616.5,-1069.5 1622.5,-1063.5 1628.5,-1063.5 1628.5,-1063.5 1722.5,-1063.5 1722.5,-1063.5 1728.5,-1063.5 1734.5,-1069.5 1734.5,-1075.5 1734.5,-1075.5 1734.5,-1119.5 1734.5,-1119.5 1734.5,-1125.5 1728.5,-1131.5 1722.5,-1131.5\"/>\n<text text-anchor=\"start\" x=\"1624.5\" y=\"-1116.3\" font-family=\"Helvetica,sans-Serif\" font-size=\"14.00\" fill=\"#000000\">entropy = 0.954</text>\n<text text-anchor=\"start\" x=\"1636\" y=\"-1101.3\" font-family=\"Helvetica,sans-Serif\" font-size=\"14.00\" fill=\"#000000\">samples = 8</text>\n<text text-anchor=\"start\" x=\"1634\" y=\"-1086.3\" font-family=\"Helvetica,sans-Serif\" font-size=\"14.00\" fill=\"#000000\">value = [5, 3]</text>\n<text text-anchor=\"start\" x=\"1646.5\" y=\"-1071.3\" font-family=\"Helvetica,sans-Serif\" font-size=\"14.00\" fill=\"#000000\">class = c</text>\n</g>\n<!-- 63&#45;&gt;65 -->\n<g id=\"edge65\" class=\"edge\">\n<title>63&#45;&gt;65</title>\n<path fill=\"none\" stroke=\"#000000\" d=\"M1653.3916,-1174.8796C1656.4705,-1164.1034 1659.7958,-1152.4647 1662.9092,-1141.5677\"/>\n<polygon fill=\"#000000\" stroke=\"#000000\" points=\"1666.3138,-1142.3917 1665.6957,-1131.8149 1659.5831,-1140.4686 1666.3138,-1142.3917\"/>\n</g>\n<!-- 68 -->\n<g id=\"node69\" class=\"node\">\n<title>68</title>\n<path fill=\"#a6d3f3\" stroke=\"#000000\" d=\"M2049,-1377C2049,-1377 1906,-1377 1906,-1377 1900,-1377 1894,-1371 1894,-1365 1894,-1365 1894,-1306 1894,-1306 1894,-1300 1900,-1294 1906,-1294 1906,-1294 2049,-1294 2049,-1294 2055,-1294 2061,-1300 2061,-1306 2061,-1306 2061,-1365 2061,-1365 2061,-1371 2055,-1377 2049,-1377\"/>\n<text text-anchor=\"start\" x=\"1902\" y=\"-1361.8\" font-family=\"Helvetica,sans-Serif\" font-size=\"14.00\" fill=\"#000000\">log.annual.inc ≤ 11.648</text>\n<text text-anchor=\"start\" x=\"1926.5\" y=\"-1346.8\" font-family=\"Helvetica,sans-Serif\" font-size=\"14.00\" fill=\"#000000\">entropy = 0.939</text>\n<text text-anchor=\"start\" x=\"1929.5\" y=\"-1331.8\" font-family=\"Helvetica,sans-Serif\" font-size=\"14.00\" fill=\"#000000\">samples = 132</text>\n<text text-anchor=\"start\" x=\"1927.5\" y=\"-1316.8\" font-family=\"Helvetica,sans-Serif\" font-size=\"14.00\" fill=\"#000000\">value = [47, 85]</text>\n<text text-anchor=\"start\" x=\"1950\" y=\"-1301.8\" font-family=\"Helvetica,sans-Serif\" font-size=\"14.00\" fill=\"#000000\">class = r</text>\n</g>\n<!-- 67&#45;&gt;68 -->\n<g id=\"edge68\" class=\"edge\">\n<title>67&#45;&gt;68</title>\n<path fill=\"none\" stroke=\"#000000\" d=\"M2008.0617,-1412.8796C2004.718,-1404.4136 2001.164,-1395.4153 1997.7071,-1386.6626\"/>\n<polygon fill=\"#000000\" stroke=\"#000000\" points=\"2000.9373,-1385.3132 1994.0085,-1377.2981 1994.4267,-1387.8847 2000.9373,-1385.3132\"/>\n</g>\n<!-- 85 -->\n<g id=\"node86\" class=\"node\">\n<title>85</title>\n<path fill=\"#e58139\" stroke=\"#000000\" d=\"M2174,-1369.5C2174,-1369.5 2091,-1369.5 2091,-1369.5 2085,-1369.5 2079,-1363.5 2079,-1357.5 2079,-1357.5 2079,-1313.5 2079,-1313.5 2079,-1307.5 2085,-1301.5 2091,-1301.5 2091,-1301.5 2174,-1301.5 2174,-1301.5 2180,-1301.5 2186,-1307.5 2186,-1313.5 2186,-1313.5 2186,-1357.5 2186,-1357.5 2186,-1363.5 2180,-1369.5 2174,-1369.5\"/>\n<text text-anchor=\"start\" x=\"2090\" y=\"-1354.3\" font-family=\"Helvetica,sans-Serif\" font-size=\"14.00\" fill=\"#000000\">entropy = 0.0</text>\n<text text-anchor=\"start\" x=\"2088.5\" y=\"-1339.3\" font-family=\"Helvetica,sans-Serif\" font-size=\"14.00\" fill=\"#000000\">samples = 64</text>\n<text text-anchor=\"start\" x=\"2087\" y=\"-1324.3\" font-family=\"Helvetica,sans-Serif\" font-size=\"14.00\" fill=\"#000000\">value = [64, 0]</text>\n<text text-anchor=\"start\" x=\"2103.5\" y=\"-1309.3\" font-family=\"Helvetica,sans-Serif\" font-size=\"14.00\" fill=\"#000000\">class = c</text>\n</g>\n<!-- 67&#45;&gt;85 -->\n<g id=\"edge85\" class=\"edge\">\n<title>67&#45;&gt;85</title>\n<path fill=\"none\" stroke=\"#000000\" d=\"M2062.2732,-1412.8796C2072.7518,-1401.3337 2084.1291,-1388.7976 2094.6141,-1377.2446\"/>\n<polygon fill=\"#000000\" stroke=\"#000000\" points=\"2097.2282,-1379.5722 2101.357,-1369.8149 2092.0447,-1374.8678 2097.2282,-1379.5722\"/>\n</g>\n<!-- 69 -->\n<g id=\"node70\" class=\"node\">\n<title>69</title>\n<path fill=\"#f2c29f\" stroke=\"#000000\" d=\"M2001.5,-1258C2001.5,-1258 1907.5,-1258 1907.5,-1258 1901.5,-1258 1895.5,-1252 1895.5,-1246 1895.5,-1246 1895.5,-1187 1895.5,-1187 1895.5,-1181 1901.5,-1175 1907.5,-1175 1907.5,-1175 2001.5,-1175 2001.5,-1175 2007.5,-1175 2013.5,-1181 2013.5,-1187 2013.5,-1187 2013.5,-1246 2013.5,-1246 2013.5,-1252 2007.5,-1258 2001.5,-1258\"/>\n<text text-anchor=\"start\" x=\"1917\" y=\"-1242.8\" font-family=\"Helvetica,sans-Serif\" font-size=\"14.00\" fill=\"#000000\">fico ≤ 739.5</text>\n<text text-anchor=\"start\" x=\"1903.5\" y=\"-1227.8\" font-family=\"Helvetica,sans-Serif\" font-size=\"14.00\" fill=\"#000000\">entropy = 0.924</text>\n<text text-anchor=\"start\" x=\"1910.5\" y=\"-1212.8\" font-family=\"Helvetica,sans-Serif\" font-size=\"14.00\" fill=\"#000000\">samples = 59</text>\n<text text-anchor=\"start\" x=\"1904.5\" y=\"-1197.8\" font-family=\"Helvetica,sans-Serif\" font-size=\"14.00\" fill=\"#000000\">value = [39, 20]</text>\n<text text-anchor=\"start\" x=\"1925.5\" y=\"-1182.8\" font-family=\"Helvetica,sans-Serif\" font-size=\"14.00\" fill=\"#000000\">class = c</text>\n</g>\n<!-- 68&#45;&gt;69 -->\n<g id=\"edge69\" class=\"edge\">\n<title>68&#45;&gt;69</title>\n<path fill=\"none\" stroke=\"#000000\" d=\"M1969.4557,-1293.8796C1967.8543,-1285.5938 1966.1542,-1276.798 1964.4966,-1268.2216\"/>\n<polygon fill=\"#000000\" stroke=\"#000000\" points=\"1967.9128,-1267.4522 1962.5786,-1258.2981 1961.0399,-1268.7806 1967.9128,-1267.4522\"/>\n</g>\n<!-- 76 -->\n<g id=\"node77\" class=\"node\">\n<title>76</title>\n<path fill=\"#51a9e8\" stroke=\"#000000\" d=\"M2167.5,-1258C2167.5,-1258 2043.5,-1258 2043.5,-1258 2037.5,-1258 2031.5,-1252 2031.5,-1246 2031.5,-1246 2031.5,-1187 2031.5,-1187 2031.5,-1181 2037.5,-1175 2043.5,-1175 2043.5,-1175 2167.5,-1175 2167.5,-1175 2173.5,-1175 2179.5,-1181 2179.5,-1187 2179.5,-1187 2179.5,-1246 2179.5,-1246 2179.5,-1252 2173.5,-1258 2167.5,-1258\"/>\n<text text-anchor=\"start\" x=\"2039.5\" y=\"-1242.8\" font-family=\"Helvetica,sans-Serif\" font-size=\"14.00\" fill=\"#000000\">revol.bal ≤ 121718.5</text>\n<text text-anchor=\"start\" x=\"2054.5\" y=\"-1227.8\" font-family=\"Helvetica,sans-Serif\" font-size=\"14.00\" fill=\"#000000\">entropy = 0.499</text>\n<text text-anchor=\"start\" x=\"2061.5\" y=\"-1212.8\" font-family=\"Helvetica,sans-Serif\" font-size=\"14.00\" fill=\"#000000\">samples = 73</text>\n<text text-anchor=\"start\" x=\"2060\" y=\"-1197.8\" font-family=\"Helvetica,sans-Serif\" font-size=\"14.00\" fill=\"#000000\">value = [8, 65]</text>\n<text text-anchor=\"start\" x=\"2078\" y=\"-1182.8\" font-family=\"Helvetica,sans-Serif\" font-size=\"14.00\" fill=\"#000000\">class = r</text>\n</g>\n<!-- 68&#45;&gt;76 -->\n<g id=\"edge76\" class=\"edge\">\n<title>68&#45;&gt;76</title>\n<path fill=\"none\" stroke=\"#000000\" d=\"M2022.2682,-1293.8796C2032.2463,-1284.6031 2042.9119,-1274.6874 2053.1642,-1265.1559\"/>\n<polygon fill=\"#000000\" stroke=\"#000000\" points=\"2055.6,-1267.6704 2060.5407,-1258.2981 2050.8337,-1262.5436 2055.6,-1267.6704\"/>\n</g>\n<!-- 70 -->\n<g id=\"node71\" class=\"node\">\n<title>70</title>\n<path fill=\"#e89152\" stroke=\"#000000\" d=\"M1880.5,-1139C1880.5,-1139 1764.5,-1139 1764.5,-1139 1758.5,-1139 1752.5,-1133 1752.5,-1127 1752.5,-1127 1752.5,-1068 1752.5,-1068 1752.5,-1062 1758.5,-1056 1764.5,-1056 1764.5,-1056 1880.5,-1056 1880.5,-1056 1886.5,-1056 1892.5,-1062 1892.5,-1068 1892.5,-1068 1892.5,-1127 1892.5,-1127 1892.5,-1133 1886.5,-1139 1880.5,-1139\"/>\n<text text-anchor=\"start\" x=\"1760.5\" y=\"-1123.8\" font-family=\"Helvetica,sans-Serif\" font-size=\"14.00\" fill=\"#000000\">revol.bal ≤ 92243.0</text>\n<text text-anchor=\"start\" x=\"1771.5\" y=\"-1108.8\" font-family=\"Helvetica,sans-Serif\" font-size=\"14.00\" fill=\"#000000\">entropy = 0.511</text>\n<text text-anchor=\"start\" x=\"1778.5\" y=\"-1093.8\" font-family=\"Helvetica,sans-Serif\" font-size=\"14.00\" fill=\"#000000\">samples = 44</text>\n<text text-anchor=\"start\" x=\"1777\" y=\"-1078.8\" font-family=\"Helvetica,sans-Serif\" font-size=\"14.00\" fill=\"#000000\">value = [39, 5]</text>\n<text text-anchor=\"start\" x=\"1793.5\" y=\"-1063.8\" font-family=\"Helvetica,sans-Serif\" font-size=\"14.00\" fill=\"#000000\">class = c</text>\n</g>\n<!-- 69&#45;&gt;70 -->\n<g id=\"edge70\" class=\"edge\">\n<title>69&#45;&gt;70</title>\n<path fill=\"none\" stroke=\"#000000\" d=\"M1908.3328,-1174.8796C1898.0429,-1165.6031 1887.044,-1155.6874 1876.4713,-1146.1559\"/>\n<polygon fill=\"#000000\" stroke=\"#000000\" points=\"1878.6352,-1143.3944 1868.8642,-1139.2981 1873.9481,-1148.5935 1878.6352,-1143.3944\"/>\n</g>\n<!-- 75 -->\n<g id=\"node76\" class=\"node\">\n<title>75</title>\n<path fill=\"#399de5\" stroke=\"#000000\" d=\"M2006,-1131.5C2006,-1131.5 1923,-1131.5 1923,-1131.5 1917,-1131.5 1911,-1125.5 1911,-1119.5 1911,-1119.5 1911,-1075.5 1911,-1075.5 1911,-1069.5 1917,-1063.5 1923,-1063.5 1923,-1063.5 2006,-1063.5 2006,-1063.5 2012,-1063.5 2018,-1069.5 2018,-1075.5 2018,-1075.5 2018,-1119.5 2018,-1119.5 2018,-1125.5 2012,-1131.5 2006,-1131.5\"/>\n<text text-anchor=\"start\" x=\"1922\" y=\"-1116.3\" font-family=\"Helvetica,sans-Serif\" font-size=\"14.00\" fill=\"#000000\">entropy = 0.0</text>\n<text text-anchor=\"start\" x=\"1920.5\" y=\"-1101.3\" font-family=\"Helvetica,sans-Serif\" font-size=\"14.00\" fill=\"#000000\">samples = 15</text>\n<text text-anchor=\"start\" x=\"1919\" y=\"-1086.3\" font-family=\"Helvetica,sans-Serif\" font-size=\"14.00\" fill=\"#000000\">value = [0, 15]</text>\n<text text-anchor=\"start\" x=\"1937\" y=\"-1071.3\" font-family=\"Helvetica,sans-Serif\" font-size=\"14.00\" fill=\"#000000\">class = r</text>\n</g>\n<!-- 69&#45;&gt;75 -->\n<g id=\"edge75\" class=\"edge\">\n<title>69&#45;&gt;75</title>\n<path fill=\"none\" stroke=\"#000000\" d=\"M1957.9975,-1174.8796C1958.8938,-1164.2134 1959.8612,-1152.7021 1960.7688,-1141.9015\"/>\n<polygon fill=\"#000000\" stroke=\"#000000\" points=\"1964.2666,-1142.0729 1961.6164,-1131.8149 1957.2912,-1141.4867 1964.2666,-1142.0729\"/>\n</g>\n<!-- 71 -->\n<g id=\"node72\" class=\"node\">\n<title>71</title>\n<path fill=\"#eda877\" stroke=\"#000000\" d=\"M1756,-1020C1756,-1020 1613,-1020 1613,-1020 1607,-1020 1601,-1014 1601,-1008 1601,-1008 1601,-949 1601,-949 1601,-943 1607,-937 1613,-937 1613,-937 1756,-937 1756,-937 1762,-937 1768,-943 1768,-949 1768,-949 1768,-1008 1768,-1008 1768,-1014 1762,-1020 1756,-1020\"/>\n<text text-anchor=\"start\" x=\"1609\" y=\"-1004.8\" font-family=\"Helvetica,sans-Serif\" font-size=\"14.00\" fill=\"#000000\">log.annual.inc ≤ 11.329</text>\n<text text-anchor=\"start\" x=\"1633.5\" y=\"-989.8\" font-family=\"Helvetica,sans-Serif\" font-size=\"14.00\" fill=\"#000000\">entropy = 0.792</text>\n<text text-anchor=\"start\" x=\"1640.5\" y=\"-974.8\" font-family=\"Helvetica,sans-Serif\" font-size=\"14.00\" fill=\"#000000\">samples = 21</text>\n<text text-anchor=\"start\" x=\"1639\" y=\"-959.8\" font-family=\"Helvetica,sans-Serif\" font-size=\"14.00\" fill=\"#000000\">value = [16, 5]</text>\n<text text-anchor=\"start\" x=\"1655.5\" y=\"-944.8\" font-family=\"Helvetica,sans-Serif\" font-size=\"14.00\" fill=\"#000000\">class = c</text>\n</g>\n<!-- 70&#45;&gt;71 -->\n<g id=\"edge71\" class=\"edge\">\n<title>70&#45;&gt;71</title>\n<path fill=\"none\" stroke=\"#000000\" d=\"M1774.2343,-1055.8796C1763.3722,-1046.513 1751.7544,-1036.4948 1740.6027,-1026.8784\"/>\n<polygon fill=\"#000000\" stroke=\"#000000\" points=\"1742.8306,-1024.178 1732.9717,-1020.2981 1738.2592,-1029.4792 1742.8306,-1024.178\"/>\n</g>\n<!-- 74 -->\n<g id=\"node75\" class=\"node\">\n<title>74</title>\n<path fill=\"#e58139\" stroke=\"#000000\" d=\"M1881,-1012.5C1881,-1012.5 1798,-1012.5 1798,-1012.5 1792,-1012.5 1786,-1006.5 1786,-1000.5 1786,-1000.5 1786,-956.5 1786,-956.5 1786,-950.5 1792,-944.5 1798,-944.5 1798,-944.5 1881,-944.5 1881,-944.5 1887,-944.5 1893,-950.5 1893,-956.5 1893,-956.5 1893,-1000.5 1893,-1000.5 1893,-1006.5 1887,-1012.5 1881,-1012.5\"/>\n<text text-anchor=\"start\" x=\"1797\" y=\"-997.3\" font-family=\"Helvetica,sans-Serif\" font-size=\"14.00\" fill=\"#000000\">entropy = 0.0</text>\n<text text-anchor=\"start\" x=\"1795.5\" y=\"-982.3\" font-family=\"Helvetica,sans-Serif\" font-size=\"14.00\" fill=\"#000000\">samples = 23</text>\n<text text-anchor=\"start\" x=\"1794\" y=\"-967.3\" font-family=\"Helvetica,sans-Serif\" font-size=\"14.00\" fill=\"#000000\">value = [23, 0]</text>\n<text text-anchor=\"start\" x=\"1810.5\" y=\"-952.3\" font-family=\"Helvetica,sans-Serif\" font-size=\"14.00\" fill=\"#000000\">class = c</text>\n</g>\n<!-- 70&#45;&gt;74 -->\n<g id=\"edge74\" class=\"edge\">\n<title>70&#45;&gt;74</title>\n<path fill=\"none\" stroke=\"#000000\" d=\"M1828.4458,-1055.8796C1829.9695,-1045.2134 1831.614,-1033.7021 1833.1569,-1022.9015\"/>\n<polygon fill=\"#000000\" stroke=\"#000000\" points=\"1836.6484,-1023.2094 1834.5979,-1012.8149 1829.7187,-1022.2194 1836.6484,-1023.2094\"/>\n</g>\n<!-- 72 -->\n<g id=\"node73\" class=\"node\">\n<title>72</title>\n<path fill=\"#e58139\" stroke=\"#000000\" d=\"M1707,-893.5C1707,-893.5 1624,-893.5 1624,-893.5 1618,-893.5 1612,-887.5 1612,-881.5 1612,-881.5 1612,-837.5 1612,-837.5 1612,-831.5 1618,-825.5 1624,-825.5 1624,-825.5 1707,-825.5 1707,-825.5 1713,-825.5 1719,-831.5 1719,-837.5 1719,-837.5 1719,-881.5 1719,-881.5 1719,-887.5 1713,-893.5 1707,-893.5\"/>\n<text text-anchor=\"start\" x=\"1623\" y=\"-878.3\" font-family=\"Helvetica,sans-Serif\" font-size=\"14.00\" fill=\"#000000\">entropy = 0.0</text>\n<text text-anchor=\"start\" x=\"1621.5\" y=\"-863.3\" font-family=\"Helvetica,sans-Serif\" font-size=\"14.00\" fill=\"#000000\">samples = 13</text>\n<text text-anchor=\"start\" x=\"1620\" y=\"-848.3\" font-family=\"Helvetica,sans-Serif\" font-size=\"14.00\" fill=\"#000000\">value = [13, 0]</text>\n<text text-anchor=\"start\" x=\"1636.5\" y=\"-833.3\" font-family=\"Helvetica,sans-Serif\" font-size=\"14.00\" fill=\"#000000\">class = c</text>\n</g>\n<!-- 71&#45;&gt;72 -->\n<g id=\"edge72\" class=\"edge\">\n<title>71&#45;&gt;72</title>\n<path fill=\"none\" stroke=\"#000000\" d=\"M1677.8547,-936.8796C1676.1517,-926.2134 1674.3138,-914.7021 1672.5893,-903.9015\"/>\n<polygon fill=\"#000000\" stroke=\"#000000\" points=\"1676.0118,-903.138 1670.9789,-893.8149 1669.0994,-904.2417 1676.0118,-903.138\"/>\n</g>\n<!-- 73 -->\n<g id=\"node74\" class=\"node\">\n<title>73</title>\n<path fill=\"#b0d8f5\" stroke=\"#000000\" d=\"M1843.5,-893.5C1843.5,-893.5 1749.5,-893.5 1749.5,-893.5 1743.5,-893.5 1737.5,-887.5 1737.5,-881.5 1737.5,-881.5 1737.5,-837.5 1737.5,-837.5 1737.5,-831.5 1743.5,-825.5 1749.5,-825.5 1749.5,-825.5 1843.5,-825.5 1843.5,-825.5 1849.5,-825.5 1855.5,-831.5 1855.5,-837.5 1855.5,-837.5 1855.5,-881.5 1855.5,-881.5 1855.5,-887.5 1849.5,-893.5 1843.5,-893.5\"/>\n<text text-anchor=\"start\" x=\"1745.5\" y=\"-878.3\" font-family=\"Helvetica,sans-Serif\" font-size=\"14.00\" fill=\"#000000\">entropy = 0.954</text>\n<text text-anchor=\"start\" x=\"1757\" y=\"-863.3\" font-family=\"Helvetica,sans-Serif\" font-size=\"14.00\" fill=\"#000000\">samples = 8</text>\n<text text-anchor=\"start\" x=\"1755\" y=\"-848.3\" font-family=\"Helvetica,sans-Serif\" font-size=\"14.00\" fill=\"#000000\">value = [3, 5]</text>\n<text text-anchor=\"start\" x=\"1769\" y=\"-833.3\" font-family=\"Helvetica,sans-Serif\" font-size=\"14.00\" fill=\"#000000\">class = r</text>\n</g>\n<!-- 71&#45;&gt;73 -->\n<g id=\"edge73\" class=\"edge\">\n<title>71&#45;&gt;73</title>\n<path fill=\"none\" stroke=\"#000000\" d=\"M1723.6722,-936.8796C1734.5389,-925.3337 1746.3376,-912.7976 1757.2109,-901.2446\"/>\n<polygon fill=\"#000000\" stroke=\"#000000\" points=\"1759.8986,-903.4958 1764.2036,-893.8149 1754.8012,-898.6982 1759.8986,-903.4958\"/>\n</g>\n<!-- 77 -->\n<g id=\"node78\" class=\"node\">\n<title>77</title>\n<path fill=\"#3d9fe5\" stroke=\"#000000\" d=\"M2142.5,-1139C2142.5,-1139 2048.5,-1139 2048.5,-1139 2042.5,-1139 2036.5,-1133 2036.5,-1127 2036.5,-1127 2036.5,-1068 2036.5,-1068 2036.5,-1062 2042.5,-1056 2048.5,-1056 2048.5,-1056 2142.5,-1056 2142.5,-1056 2148.5,-1056 2154.5,-1062 2154.5,-1068 2154.5,-1068 2154.5,-1127 2154.5,-1127 2154.5,-1133 2148.5,-1139 2142.5,-1139\"/>\n<text text-anchor=\"start\" x=\"2062\" y=\"-1123.8\" font-family=\"Helvetica,sans-Serif\" font-size=\"14.00\" fill=\"#000000\">dti ≤ 23.74</text>\n<text text-anchor=\"start\" x=\"2044.5\" y=\"-1108.8\" font-family=\"Helvetica,sans-Serif\" font-size=\"14.00\" fill=\"#000000\">entropy = 0.127</text>\n<text text-anchor=\"start\" x=\"2051.5\" y=\"-1093.8\" font-family=\"Helvetica,sans-Serif\" font-size=\"14.00\" fill=\"#000000\">samples = 57</text>\n<text text-anchor=\"start\" x=\"2050\" y=\"-1078.8\" font-family=\"Helvetica,sans-Serif\" font-size=\"14.00\" fill=\"#000000\">value = [1, 56]</text>\n<text text-anchor=\"start\" x=\"2068\" y=\"-1063.8\" font-family=\"Helvetica,sans-Serif\" font-size=\"14.00\" fill=\"#000000\">class = r</text>\n</g>\n<!-- 76&#45;&gt;77 -->\n<g id=\"edge77\" class=\"edge\">\n<title>76&#45;&gt;77</title>\n<path fill=\"none\" stroke=\"#000000\" d=\"M2102.0025,-1174.8796C2101.3138,-1166.6838 2100.5831,-1157.9891 2099.8699,-1149.5013\"/>\n<polygon fill=\"#000000\" stroke=\"#000000\" points=\"2103.3376,-1148.9698 2099.0124,-1139.2981 2096.3622,-1149.5561 2103.3376,-1148.9698\"/>\n</g>\n<!-- 80 -->\n<g id=\"node81\" class=\"node\">\n<title>80</title>\n<path fill=\"#d3e9f9\" stroke=\"#000000\" d=\"M2328,-1139C2328,-1139 2185,-1139 2185,-1139 2179,-1139 2173,-1133 2173,-1127 2173,-1127 2173,-1068 2173,-1068 2173,-1062 2179,-1056 2185,-1056 2185,-1056 2328,-1056 2328,-1056 2334,-1056 2340,-1062 2340,-1068 2340,-1068 2340,-1127 2340,-1127 2340,-1133 2334,-1139 2328,-1139\"/>\n<text text-anchor=\"start\" x=\"2181\" y=\"-1123.8\" font-family=\"Helvetica,sans-Serif\" font-size=\"14.00\" fill=\"#000000\">log.annual.inc ≤ 11.802</text>\n<text text-anchor=\"start\" x=\"2205.5\" y=\"-1108.8\" font-family=\"Helvetica,sans-Serif\" font-size=\"14.00\" fill=\"#000000\">entropy = 0.989</text>\n<text text-anchor=\"start\" x=\"2212.5\" y=\"-1093.8\" font-family=\"Helvetica,sans-Serif\" font-size=\"14.00\" fill=\"#000000\">samples = 16</text>\n<text text-anchor=\"start\" x=\"2215\" y=\"-1078.8\" font-family=\"Helvetica,sans-Serif\" font-size=\"14.00\" fill=\"#000000\">value = [7, 9]</text>\n<text text-anchor=\"start\" x=\"2229\" y=\"-1063.8\" font-family=\"Helvetica,sans-Serif\" font-size=\"14.00\" fill=\"#000000\">class = r</text>\n</g>\n<!-- 76&#45;&gt;80 -->\n<g id=\"edge80\" class=\"edge\">\n<title>76&#45;&gt;80</title>\n<path fill=\"none\" stroke=\"#000000\" d=\"M2158.3125,-1174.8796C2170.3818,-1165.368 2183.3039,-1155.1843 2195.6788,-1145.432\"/>\n<polygon fill=\"#000000\" stroke=\"#000000\" points=\"2198.0296,-1148.0356 2203.7173,-1139.0969 2193.6968,-1142.5377 2198.0296,-1148.0356\"/>\n</g>\n<!-- 78 -->\n<g id=\"node79\" class=\"node\">\n<title>78</title>\n<path fill=\"#399de5\" stroke=\"#000000\" d=\"M2014,-1012.5C2014,-1012.5 1931,-1012.5 1931,-1012.5 1925,-1012.5 1919,-1006.5 1919,-1000.5 1919,-1000.5 1919,-956.5 1919,-956.5 1919,-950.5 1925,-944.5 1931,-944.5 1931,-944.5 2014,-944.5 2014,-944.5 2020,-944.5 2026,-950.5 2026,-956.5 2026,-956.5 2026,-1000.5 2026,-1000.5 2026,-1006.5 2020,-1012.5 2014,-1012.5\"/>\n<text text-anchor=\"start\" x=\"1930\" y=\"-997.3\" font-family=\"Helvetica,sans-Serif\" font-size=\"14.00\" fill=\"#000000\">entropy = 0.0</text>\n<text text-anchor=\"start\" x=\"1928.5\" y=\"-982.3\" font-family=\"Helvetica,sans-Serif\" font-size=\"14.00\" fill=\"#000000\">samples = 52</text>\n<text text-anchor=\"start\" x=\"1927\" y=\"-967.3\" font-family=\"Helvetica,sans-Serif\" font-size=\"14.00\" fill=\"#000000\">value = [0, 52]</text>\n<text text-anchor=\"start\" x=\"1945\" y=\"-952.3\" font-family=\"Helvetica,sans-Serif\" font-size=\"14.00\" fill=\"#000000\">class = r</text>\n</g>\n<!-- 77&#45;&gt;78 -->\n<g id=\"edge78\" class=\"edge\">\n<title>77&#45;&gt;78</title>\n<path fill=\"none\" stroke=\"#000000\" d=\"M2052.4806,-1055.8796C2040.4329,-1044.2237 2027.3422,-1031.5587 2015.3069,-1019.9148\"/>\n<polygon fill=\"#000000\" stroke=\"#000000\" points=\"2017.589,-1017.2528 2007.9684,-1012.8149 2012.7217,-1022.2837 2017.589,-1017.2528\"/>\n</g>\n<!-- 79 -->\n<g id=\"node80\" class=\"node\">\n<title>79</title>\n<path fill=\"#6ab6ec\" stroke=\"#000000\" d=\"M2150.5,-1012.5C2150.5,-1012.5 2056.5,-1012.5 2056.5,-1012.5 2050.5,-1012.5 2044.5,-1006.5 2044.5,-1000.5 2044.5,-1000.5 2044.5,-956.5 2044.5,-956.5 2044.5,-950.5 2050.5,-944.5 2056.5,-944.5 2056.5,-944.5 2150.5,-944.5 2150.5,-944.5 2156.5,-944.5 2162.5,-950.5 2162.5,-956.5 2162.5,-956.5 2162.5,-1000.5 2162.5,-1000.5 2162.5,-1006.5 2156.5,-1012.5 2150.5,-1012.5\"/>\n<text text-anchor=\"start\" x=\"2052.5\" y=\"-997.3\" font-family=\"Helvetica,sans-Serif\" font-size=\"14.00\" fill=\"#000000\">entropy = 0.722</text>\n<text text-anchor=\"start\" x=\"2064\" y=\"-982.3\" font-family=\"Helvetica,sans-Serif\" font-size=\"14.00\" fill=\"#000000\">samples = 5</text>\n<text text-anchor=\"start\" x=\"2062\" y=\"-967.3\" font-family=\"Helvetica,sans-Serif\" font-size=\"14.00\" fill=\"#000000\">value = [1, 4]</text>\n<text text-anchor=\"start\" x=\"2076\" y=\"-952.3\" font-family=\"Helvetica,sans-Serif\" font-size=\"14.00\" fill=\"#000000\">class = r</text>\n</g>\n<!-- 77&#45;&gt;79 -->\n<g id=\"edge79\" class=\"edge\">\n<title>77&#45;&gt;79</title>\n<path fill=\"none\" stroke=\"#000000\" d=\"M2098.298,-1055.8796C2099.0151,-1045.2134 2099.7889,-1033.7021 2100.515,-1022.9015\"/>\n<polygon fill=\"#000000\" stroke=\"#000000\" points=\"2104.0144,-1023.0272 2101.1931,-1012.8149 2097.0301,-1022.5576 2104.0144,-1023.0272\"/>\n</g>\n<!-- 81 -->\n<g id=\"node82\" class=\"node\">\n<title>81</title>\n<path fill=\"#e58139\" stroke=\"#000000\" d=\"M2286,-1012.5C2286,-1012.5 2209,-1012.5 2209,-1012.5 2203,-1012.5 2197,-1006.5 2197,-1000.5 2197,-1000.5 2197,-956.5 2197,-956.5 2197,-950.5 2203,-944.5 2209,-944.5 2209,-944.5 2286,-944.5 2286,-944.5 2292,-944.5 2298,-950.5 2298,-956.5 2298,-956.5 2298,-1000.5 2298,-1000.5 2298,-1006.5 2292,-1012.5 2286,-1012.5\"/>\n<text text-anchor=\"start\" x=\"2205\" y=\"-997.3\" font-family=\"Helvetica,sans-Serif\" font-size=\"14.00\" fill=\"#000000\">entropy = 0.0</text>\n<text text-anchor=\"start\" x=\"2208\" y=\"-982.3\" font-family=\"Helvetica,sans-Serif\" font-size=\"14.00\" fill=\"#000000\">samples = 5</text>\n<text text-anchor=\"start\" x=\"2206\" y=\"-967.3\" font-family=\"Helvetica,sans-Serif\" font-size=\"14.00\" fill=\"#000000\">value = [5, 0]</text>\n<text text-anchor=\"start\" x=\"2218.5\" y=\"-952.3\" font-family=\"Helvetica,sans-Serif\" font-size=\"14.00\" fill=\"#000000\">class = c</text>\n</g>\n<!-- 80&#45;&gt;81 -->\n<g id=\"edge81\" class=\"edge\">\n<title>80&#45;&gt;81</title>\n<path fill=\"none\" stroke=\"#000000\" d=\"M2253.3522,-1055.8796C2252.5455,-1045.2134 2251.6749,-1033.7021 2250.8581,-1022.9015\"/>\n<polygon fill=\"#000000\" stroke=\"#000000\" points=\"2254.3395,-1022.5225 2250.0952,-1012.8149 2247.3595,-1023.0504 2254.3395,-1022.5225\"/>\n</g>\n<!-- 82 -->\n<g id=\"node83\" class=\"node\">\n<title>82</title>\n<path fill=\"#65b3eb\" stroke=\"#000000\" d=\"M2471,-1020C2471,-1020 2328,-1020 2328,-1020 2322,-1020 2316,-1014 2316,-1008 2316,-1008 2316,-949 2316,-949 2316,-943 2322,-937 2328,-937 2328,-937 2471,-937 2471,-937 2477,-937 2483,-943 2483,-949 2483,-949 2483,-1008 2483,-1008 2483,-1014 2477,-1020 2471,-1020\"/>\n<text text-anchor=\"start\" x=\"2324\" y=\"-1004.8\" font-family=\"Helvetica,sans-Serif\" font-size=\"14.00\" fill=\"#000000\">log.annual.inc ≤ 11.995</text>\n<text text-anchor=\"start\" x=\"2348.5\" y=\"-989.8\" font-family=\"Helvetica,sans-Serif\" font-size=\"14.00\" fill=\"#000000\">entropy = 0.684</text>\n<text text-anchor=\"start\" x=\"2355.5\" y=\"-974.8\" font-family=\"Helvetica,sans-Serif\" font-size=\"14.00\" fill=\"#000000\">samples = 11</text>\n<text text-anchor=\"start\" x=\"2358\" y=\"-959.8\" font-family=\"Helvetica,sans-Serif\" font-size=\"14.00\" fill=\"#000000\">value = [2, 9]</text>\n<text text-anchor=\"start\" x=\"2372\" y=\"-944.8\" font-family=\"Helvetica,sans-Serif\" font-size=\"14.00\" fill=\"#000000\">class = r</text>\n</g>\n<!-- 80&#45;&gt;82 -->\n<g id=\"edge82\" class=\"edge\">\n<title>80&#45;&gt;82</title>\n<path fill=\"none\" stroke=\"#000000\" d=\"M2306.5145,-1055.8796C2317.7701,-1046.513 2329.8088,-1036.4948 2341.3646,-1026.8784\"/>\n<polygon fill=\"#000000\" stroke=\"#000000\" points=\"2343.8242,-1029.385 2349.2721,-1020.2981 2339.3466,-1024.0043 2343.8242,-1029.385\"/>\n</g>\n<!-- 83 -->\n<g id=\"node84\" class=\"node\">\n<title>83</title>\n<path fill=\"#bddef6\" stroke=\"#000000\" d=\"M2382.5,-893.5C2382.5,-893.5 2288.5,-893.5 2288.5,-893.5 2282.5,-893.5 2276.5,-887.5 2276.5,-881.5 2276.5,-881.5 2276.5,-837.5 2276.5,-837.5 2276.5,-831.5 2282.5,-825.5 2288.5,-825.5 2288.5,-825.5 2382.5,-825.5 2382.5,-825.5 2388.5,-825.5 2394.5,-831.5 2394.5,-837.5 2394.5,-837.5 2394.5,-881.5 2394.5,-881.5 2394.5,-887.5 2388.5,-893.5 2382.5,-893.5\"/>\n<text text-anchor=\"start\" x=\"2284.5\" y=\"-878.3\" font-family=\"Helvetica,sans-Serif\" font-size=\"14.00\" fill=\"#000000\">entropy = 0.971</text>\n<text text-anchor=\"start\" x=\"2296\" y=\"-863.3\" font-family=\"Helvetica,sans-Serif\" font-size=\"14.00\" fill=\"#000000\">samples = 5</text>\n<text text-anchor=\"start\" x=\"2294\" y=\"-848.3\" font-family=\"Helvetica,sans-Serif\" font-size=\"14.00\" fill=\"#000000\">value = [2, 3]</text>\n<text text-anchor=\"start\" x=\"2308\" y=\"-833.3\" font-family=\"Helvetica,sans-Serif\" font-size=\"14.00\" fill=\"#000000\">class = r</text>\n</g>\n<!-- 82&#45;&gt;83 -->\n<g id=\"edge83\" class=\"edge\">\n<title>82&#45;&gt;83</title>\n<path fill=\"none\" stroke=\"#000000\" d=\"M2377.1159,-936.8796C2371.202,-925.8835 2364.8051,-913.9893 2358.842,-902.9015\"/>\n<polygon fill=\"#000000\" stroke=\"#000000\" points=\"2361.7742,-900.9642 2353.9551,-893.8149 2355.6092,-904.2799 2361.7742,-900.9642\"/>\n</g>\n<!-- 84 -->\n<g id=\"node85\" class=\"node\">\n<title>84</title>\n<path fill=\"#399de5\" stroke=\"#000000\" d=\"M2502,-893.5C2502,-893.5 2425,-893.5 2425,-893.5 2419,-893.5 2413,-887.5 2413,-881.5 2413,-881.5 2413,-837.5 2413,-837.5 2413,-831.5 2419,-825.5 2425,-825.5 2425,-825.5 2502,-825.5 2502,-825.5 2508,-825.5 2514,-831.5 2514,-837.5 2514,-837.5 2514,-881.5 2514,-881.5 2514,-887.5 2508,-893.5 2502,-893.5\"/>\n<text text-anchor=\"start\" x=\"2421\" y=\"-878.3\" font-family=\"Helvetica,sans-Serif\" font-size=\"14.00\" fill=\"#000000\">entropy = 0.0</text>\n<text text-anchor=\"start\" x=\"2424\" y=\"-863.3\" font-family=\"Helvetica,sans-Serif\" font-size=\"14.00\" fill=\"#000000\">samples = 6</text>\n<text text-anchor=\"start\" x=\"2422\" y=\"-848.3\" font-family=\"Helvetica,sans-Serif\" font-size=\"14.00\" fill=\"#000000\">value = [0, 6]</text>\n<text text-anchor=\"start\" x=\"2436\" y=\"-833.3\" font-family=\"Helvetica,sans-Serif\" font-size=\"14.00\" fill=\"#000000\">class = r</text>\n</g>\n<!-- 82&#45;&gt;84 -->\n<g id=\"edge84\" class=\"edge\">\n<title>82&#45;&gt;84</title>\n<path fill=\"none\" stroke=\"#000000\" d=\"M2421.8841,-936.8796C2427.798,-925.8835 2434.1949,-913.9893 2440.158,-902.9015\"/>\n<polygon fill=\"#000000\" stroke=\"#000000\" points=\"2443.3908,-904.2799 2445.0449,-893.8149 2437.2258,-900.9642 2443.3908,-904.2799\"/>\n</g>\n<!-- 87 -->\n<g id=\"node88\" class=\"node\">\n<title>87</title>\n<path fill=\"#e58139\" stroke=\"#000000\" d=\"M2214.5,-1726.5C2214.5,-1726.5 2122.5,-1726.5 2122.5,-1726.5 2116.5,-1726.5 2110.5,-1720.5 2110.5,-1714.5 2110.5,-1714.5 2110.5,-1670.5 2110.5,-1670.5 2110.5,-1664.5 2116.5,-1658.5 2122.5,-1658.5 2122.5,-1658.5 2214.5,-1658.5 2214.5,-1658.5 2220.5,-1658.5 2226.5,-1664.5 2226.5,-1670.5 2226.5,-1670.5 2226.5,-1714.5 2226.5,-1714.5 2226.5,-1720.5 2220.5,-1726.5 2214.5,-1726.5\"/>\n<text text-anchor=\"start\" x=\"2126\" y=\"-1711.3\" font-family=\"Helvetica,sans-Serif\" font-size=\"14.00\" fill=\"#000000\">entropy = 0.0</text>\n<text text-anchor=\"start\" x=\"2120.5\" y=\"-1696.3\" font-family=\"Helvetica,sans-Serif\" font-size=\"14.00\" fill=\"#000000\">samples = 846</text>\n<text text-anchor=\"start\" x=\"2118.5\" y=\"-1681.3\" font-family=\"Helvetica,sans-Serif\" font-size=\"14.00\" fill=\"#000000\">value = [846, 0]</text>\n<text text-anchor=\"start\" x=\"2139.5\" y=\"-1666.3\" font-family=\"Helvetica,sans-Serif\" font-size=\"14.00\" fill=\"#000000\">class = c</text>\n</g>\n<!-- 86&#45;&gt;87 -->\n<g id=\"edge87\" class=\"edge\">\n<title>86&#45;&gt;87</title>\n<path fill=\"none\" stroke=\"#000000\" d=\"M2168.5,-1769.8796C2168.5,-1759.2134 2168.5,-1747.7021 2168.5,-1736.9015\"/>\n<polygon fill=\"#000000\" stroke=\"#000000\" points=\"2172.0001,-1736.8149 2168.5,-1726.8149 2165.0001,-1736.815 2172.0001,-1736.8149\"/>\n</g>\n<!-- 88 -->\n<g id=\"node89\" class=\"node\">\n<title>88</title>\n<path fill=\"#4fa8e8\" stroke=\"#000000\" d=\"M2467,-1734C2467,-1734 2350,-1734 2350,-1734 2344,-1734 2338,-1728 2338,-1722 2338,-1722 2338,-1663 2338,-1663 2338,-1657 2344,-1651 2350,-1651 2350,-1651 2467,-1651 2467,-1651 2473,-1651 2479,-1657 2479,-1663 2479,-1663 2479,-1722 2479,-1722 2479,-1728 2473,-1734 2467,-1734\"/>\n<text text-anchor=\"start\" x=\"2346\" y=\"-1718.8\" font-family=\"Helvetica,sans-Serif\" font-size=\"14.00\" fill=\"#000000\">inq.last.6mths ≤ 8.5</text>\n<text text-anchor=\"start\" x=\"2357.5\" y=\"-1703.8\" font-family=\"Helvetica,sans-Serif\" font-size=\"14.00\" fill=\"#000000\">entropy = 0.473</text>\n<text text-anchor=\"start\" x=\"2360.5\" y=\"-1688.8\" font-family=\"Helvetica,sans-Serif\" font-size=\"14.00\" fill=\"#000000\">samples = 148</text>\n<text text-anchor=\"start\" x=\"2354.5\" y=\"-1673.8\" font-family=\"Helvetica,sans-Serif\" font-size=\"14.00\" fill=\"#000000\">value = [15, 133]</text>\n<text text-anchor=\"start\" x=\"2381\" y=\"-1658.8\" font-family=\"Helvetica,sans-Serif\" font-size=\"14.00\" fill=\"#000000\">class = r</text>\n</g>\n<!-- 86&#45;&gt;88 -->\n<g id=\"edge88\" class=\"edge\">\n<title>86&#45;&gt;88</title>\n<path fill=\"none\" stroke=\"#000000\" d=\"M2234.7164,-1778.6677C2263.7622,-1764.2658 2298.1087,-1747.2357 2328.5654,-1732.1342\"/>\n<polygon fill=\"#000000\" stroke=\"#000000\" points=\"2330.4781,-1735.0925 2337.8825,-1727.5145 2327.3685,-1728.8211 2330.4781,-1735.0925\"/>\n</g>\n<!-- 89 -->\n<g id=\"node90\" class=\"node\">\n<title>89</title>\n<path fill=\"#48a4e7\" stroke=\"#000000\" d=\"M2470.5,-1615C2470.5,-1615 2346.5,-1615 2346.5,-1615 2340.5,-1615 2334.5,-1609 2334.5,-1603 2334.5,-1603 2334.5,-1544 2334.5,-1544 2334.5,-1538 2340.5,-1532 2346.5,-1532 2346.5,-1532 2470.5,-1532 2470.5,-1532 2476.5,-1532 2482.5,-1538 2482.5,-1544 2482.5,-1544 2482.5,-1603 2482.5,-1603 2482.5,-1609 2476.5,-1615 2470.5,-1615\"/>\n<text text-anchor=\"start\" x=\"2342.5\" y=\"-1599.8\" font-family=\"Helvetica,sans-Serif\" font-size=\"14.00\" fill=\"#000000\">revol.bal ≤ 113882.0</text>\n<text text-anchor=\"start\" x=\"2357.5\" y=\"-1584.8\" font-family=\"Helvetica,sans-Serif\" font-size=\"14.00\" fill=\"#000000\">entropy = 0.366</text>\n<text text-anchor=\"start\" x=\"2360.5\" y=\"-1569.8\" font-family=\"Helvetica,sans-Serif\" font-size=\"14.00\" fill=\"#000000\">samples = 143</text>\n<text text-anchor=\"start\" x=\"2354.5\" y=\"-1554.8\" font-family=\"Helvetica,sans-Serif\" font-size=\"14.00\" fill=\"#000000\">value = [10, 133]</text>\n<text text-anchor=\"start\" x=\"2381\" y=\"-1539.8\" font-family=\"Helvetica,sans-Serif\" font-size=\"14.00\" fill=\"#000000\">class = r</text>\n</g>\n<!-- 88&#45;&gt;89 -->\n<g id=\"edge89\" class=\"edge\">\n<title>88&#45;&gt;89</title>\n<path fill=\"none\" stroke=\"#000000\" d=\"M2408.5,-1650.8796C2408.5,-1642.6838 2408.5,-1633.9891 2408.5,-1625.5013\"/>\n<polygon fill=\"#000000\" stroke=\"#000000\" points=\"2412.0001,-1625.298 2408.5,-1615.2981 2405.0001,-1625.2981 2412.0001,-1625.298\"/>\n</g>\n<!-- 98 -->\n<g id=\"node99\" class=\"node\">\n<title>98</title>\n<path fill=\"#e58139\" stroke=\"#000000\" d=\"M2590,-1607.5C2590,-1607.5 2513,-1607.5 2513,-1607.5 2507,-1607.5 2501,-1601.5 2501,-1595.5 2501,-1595.5 2501,-1551.5 2501,-1551.5 2501,-1545.5 2507,-1539.5 2513,-1539.5 2513,-1539.5 2590,-1539.5 2590,-1539.5 2596,-1539.5 2602,-1545.5 2602,-1551.5 2602,-1551.5 2602,-1595.5 2602,-1595.5 2602,-1601.5 2596,-1607.5 2590,-1607.5\"/>\n<text text-anchor=\"start\" x=\"2509\" y=\"-1592.3\" font-family=\"Helvetica,sans-Serif\" font-size=\"14.00\" fill=\"#000000\">entropy = 0.0</text>\n<text text-anchor=\"start\" x=\"2512\" y=\"-1577.3\" font-family=\"Helvetica,sans-Serif\" font-size=\"14.00\" fill=\"#000000\">samples = 5</text>\n<text text-anchor=\"start\" x=\"2510\" y=\"-1562.3\" font-family=\"Helvetica,sans-Serif\" font-size=\"14.00\" fill=\"#000000\">value = [5, 0]</text>\n<text text-anchor=\"start\" x=\"2522.5\" y=\"-1547.3\" font-family=\"Helvetica,sans-Serif\" font-size=\"14.00\" fill=\"#000000\">class = c</text>\n</g>\n<!-- 88&#45;&gt;98 -->\n<g id=\"edge98\" class=\"edge\">\n<title>88&#45;&gt;98</title>\n<path fill=\"none\" stroke=\"#000000\" d=\"M2458.5145,-1650.8796C2472.7853,-1639.0038 2488.3151,-1626.0804 2502.5233,-1614.2568\"/>\n<polygon fill=\"#000000\" stroke=\"#000000\" points=\"2504.8166,-1616.9019 2510.2644,-1607.8149 2500.339,-1611.5212 2504.8166,-1616.9019\"/>\n</g>\n<!-- 90 -->\n<g id=\"node91\" class=\"node\">\n<title>90</title>\n<path fill=\"#42a1e6\" stroke=\"#000000\" d=\"M2455.5,-1496C2455.5,-1496 2361.5,-1496 2361.5,-1496 2355.5,-1496 2349.5,-1490 2349.5,-1484 2349.5,-1484 2349.5,-1425 2349.5,-1425 2349.5,-1419 2355.5,-1413 2361.5,-1413 2361.5,-1413 2455.5,-1413 2455.5,-1413 2461.5,-1413 2467.5,-1419 2467.5,-1425 2467.5,-1425 2467.5,-1484 2467.5,-1484 2467.5,-1490 2461.5,-1496 2455.5,-1496\"/>\n<text text-anchor=\"start\" x=\"2363\" y=\"-1480.8\" font-family=\"Helvetica,sans-Serif\" font-size=\"14.00\" fill=\"#000000\">revol.bal ≤ 2.5</text>\n<text text-anchor=\"start\" x=\"2357.5\" y=\"-1465.8\" font-family=\"Helvetica,sans-Serif\" font-size=\"14.00\" fill=\"#000000\">entropy = 0.258</text>\n<text text-anchor=\"start\" x=\"2360.5\" y=\"-1450.8\" font-family=\"Helvetica,sans-Serif\" font-size=\"14.00\" fill=\"#000000\">samples = 138</text>\n<text text-anchor=\"start\" x=\"2358.5\" y=\"-1435.8\" font-family=\"Helvetica,sans-Serif\" font-size=\"14.00\" fill=\"#000000\">value = [6, 132]</text>\n<text text-anchor=\"start\" x=\"2381\" y=\"-1420.8\" font-family=\"Helvetica,sans-Serif\" font-size=\"14.00\" fill=\"#000000\">class = r</text>\n</g>\n<!-- 89&#45;&gt;90 -->\n<g id=\"edge90\" class=\"edge\">\n<title>89&#45;&gt;90</title>\n<path fill=\"none\" stroke=\"#000000\" d=\"M2408.5,-1531.8796C2408.5,-1523.6838 2408.5,-1514.9891 2408.5,-1506.5013\"/>\n<polygon fill=\"#000000\" stroke=\"#000000\" points=\"2412.0001,-1506.298 2408.5,-1496.2981 2405.0001,-1506.2981 2412.0001,-1506.298\"/>\n</g>\n<!-- 97 -->\n<g id=\"node98\" class=\"node\">\n<title>97</title>\n<path fill=\"#eca06a\" stroke=\"#000000\" d=\"M2591.5,-1488.5C2591.5,-1488.5 2497.5,-1488.5 2497.5,-1488.5 2491.5,-1488.5 2485.5,-1482.5 2485.5,-1476.5 2485.5,-1476.5 2485.5,-1432.5 2485.5,-1432.5 2485.5,-1426.5 2491.5,-1420.5 2497.5,-1420.5 2497.5,-1420.5 2591.5,-1420.5 2591.5,-1420.5 2597.5,-1420.5 2603.5,-1426.5 2603.5,-1432.5 2603.5,-1432.5 2603.5,-1476.5 2603.5,-1476.5 2603.5,-1482.5 2597.5,-1488.5 2591.5,-1488.5\"/>\n<text text-anchor=\"start\" x=\"2493.5\" y=\"-1473.3\" font-family=\"Helvetica,sans-Serif\" font-size=\"14.00\" fill=\"#000000\">entropy = 0.722</text>\n<text text-anchor=\"start\" x=\"2505\" y=\"-1458.3\" font-family=\"Helvetica,sans-Serif\" font-size=\"14.00\" fill=\"#000000\">samples = 5</text>\n<text text-anchor=\"start\" x=\"2503\" y=\"-1443.3\" font-family=\"Helvetica,sans-Serif\" font-size=\"14.00\" fill=\"#000000\">value = [4, 1]</text>\n<text text-anchor=\"start\" x=\"2515.5\" y=\"-1428.3\" font-family=\"Helvetica,sans-Serif\" font-size=\"14.00\" fill=\"#000000\">class = c</text>\n</g>\n<!-- 89&#45;&gt;97 -->\n<g id=\"edge97\" class=\"edge\">\n<title>89&#45;&gt;97</title>\n<path fill=\"none\" stroke=\"#000000\" d=\"M2456.0662,-1531.8796C2469.5128,-1520.1138 2484.1347,-1507.3197 2497.5451,-1495.5855\"/>\n<polygon fill=\"#000000\" stroke=\"#000000\" points=\"2500.0619,-1498.034 2505.2829,-1488.8149 2495.4524,-1492.766 2500.0619,-1498.034\"/>\n</g>\n<!-- 91 -->\n<g id=\"node92\" class=\"node\">\n<title>91</title>\n<path fill=\"#bddef6\" stroke=\"#000000\" d=\"M2455.5,-1377C2455.5,-1377 2361.5,-1377 2361.5,-1377 2355.5,-1377 2349.5,-1371 2349.5,-1365 2349.5,-1365 2349.5,-1306 2349.5,-1306 2349.5,-1300 2355.5,-1294 2361.5,-1294 2361.5,-1294 2455.5,-1294 2455.5,-1294 2461.5,-1294 2467.5,-1300 2467.5,-1306 2467.5,-1306 2467.5,-1365 2467.5,-1365 2467.5,-1371 2461.5,-1377 2455.5,-1377\"/>\n<text text-anchor=\"start\" x=\"2360\" y=\"-1361.8\" font-family=\"Helvetica,sans-Serif\" font-size=\"14.00\" fill=\"#000000\">revol.util ≤ 0.65</text>\n<text text-anchor=\"start\" x=\"2357.5\" y=\"-1346.8\" font-family=\"Helvetica,sans-Serif\" font-size=\"14.00\" fill=\"#000000\">entropy = 0.971</text>\n<text text-anchor=\"start\" x=\"2364.5\" y=\"-1331.8\" font-family=\"Helvetica,sans-Serif\" font-size=\"14.00\" fill=\"#000000\">samples = 15</text>\n<text text-anchor=\"start\" x=\"2367\" y=\"-1316.8\" font-family=\"Helvetica,sans-Serif\" font-size=\"14.00\" fill=\"#000000\">value = [6, 9]</text>\n<text text-anchor=\"start\" x=\"2381\" y=\"-1301.8\" font-family=\"Helvetica,sans-Serif\" font-size=\"14.00\" fill=\"#000000\">class = r</text>\n</g>\n<!-- 90&#45;&gt;91 -->\n<g id=\"edge91\" class=\"edge\">\n<title>90&#45;&gt;91</title>\n<path fill=\"none\" stroke=\"#000000\" d=\"M2408.5,-1412.8796C2408.5,-1404.6838 2408.5,-1395.9891 2408.5,-1387.5013\"/>\n<polygon fill=\"#000000\" stroke=\"#000000\" points=\"2412.0001,-1387.298 2408.5,-1377.2981 2405.0001,-1387.2981 2412.0001,-1387.298\"/>\n</g>\n<!-- 96 -->\n<g id=\"node97\" class=\"node\">\n<title>96</title>\n<path fill=\"#399de5\" stroke=\"#000000\" d=\"M2589.5,-1369.5C2589.5,-1369.5 2497.5,-1369.5 2497.5,-1369.5 2491.5,-1369.5 2485.5,-1363.5 2485.5,-1357.5 2485.5,-1357.5 2485.5,-1313.5 2485.5,-1313.5 2485.5,-1307.5 2491.5,-1301.5 2497.5,-1301.5 2497.5,-1301.5 2589.5,-1301.5 2589.5,-1301.5 2595.5,-1301.5 2601.5,-1307.5 2601.5,-1313.5 2601.5,-1313.5 2601.5,-1357.5 2601.5,-1357.5 2601.5,-1363.5 2595.5,-1369.5 2589.5,-1369.5\"/>\n<text text-anchor=\"start\" x=\"2501\" y=\"-1354.3\" font-family=\"Helvetica,sans-Serif\" font-size=\"14.00\" fill=\"#000000\">entropy = 0.0</text>\n<text text-anchor=\"start\" x=\"2495.5\" y=\"-1339.3\" font-family=\"Helvetica,sans-Serif\" font-size=\"14.00\" fill=\"#000000\">samples = 123</text>\n<text text-anchor=\"start\" x=\"2493.5\" y=\"-1324.3\" font-family=\"Helvetica,sans-Serif\" font-size=\"14.00\" fill=\"#000000\">value = [0, 123]</text>\n<text text-anchor=\"start\" x=\"2516\" y=\"-1309.3\" font-family=\"Helvetica,sans-Serif\" font-size=\"14.00\" fill=\"#000000\">class = r</text>\n</g>\n<!-- 90&#45;&gt;96 -->\n<g id=\"edge96\" class=\"edge\">\n<title>90&#45;&gt;96</title>\n<path fill=\"none\" stroke=\"#000000\" d=\"M2455.7164,-1412.8796C2469.0642,-1401.1138 2483.5785,-1388.3197 2496.8904,-1376.5855\"/>\n<polygon fill=\"#000000\" stroke=\"#000000\" points=\"2499.384,-1379.0531 2504.5713,-1369.8149 2494.7552,-1373.8019 2499.384,-1379.0531\"/>\n</g>\n<!-- 92 -->\n<g id=\"node93\" class=\"node\">\n<title>92</title>\n<path fill=\"#4fa8e8\" stroke=\"#000000\" d=\"M2455.5,-1258C2455.5,-1258 2361.5,-1258 2361.5,-1258 2355.5,-1258 2349.5,-1252 2349.5,-1246 2349.5,-1246 2349.5,-1187 2349.5,-1187 2349.5,-1181 2355.5,-1175 2361.5,-1175 2361.5,-1175 2455.5,-1175 2455.5,-1175 2461.5,-1175 2467.5,-1181 2467.5,-1187 2467.5,-1187 2467.5,-1246 2467.5,-1246 2467.5,-1252 2461.5,-1258 2455.5,-1258\"/>\n<text text-anchor=\"start\" x=\"2369\" y=\"-1242.8\" font-family=\"Helvetica,sans-Serif\" font-size=\"14.00\" fill=\"#000000\">int.rate ≤ 0.1</text>\n<text text-anchor=\"start\" x=\"2357.5\" y=\"-1227.8\" font-family=\"Helvetica,sans-Serif\" font-size=\"14.00\" fill=\"#000000\">entropy = 0.469</text>\n<text text-anchor=\"start\" x=\"2364.5\" y=\"-1212.8\" font-family=\"Helvetica,sans-Serif\" font-size=\"14.00\" fill=\"#000000\">samples = 10</text>\n<text text-anchor=\"start\" x=\"2367\" y=\"-1197.8\" font-family=\"Helvetica,sans-Serif\" font-size=\"14.00\" fill=\"#000000\">value = [1, 9]</text>\n<text text-anchor=\"start\" x=\"2381\" y=\"-1182.8\" font-family=\"Helvetica,sans-Serif\" font-size=\"14.00\" fill=\"#000000\">class = r</text>\n</g>\n<!-- 91&#45;&gt;92 -->\n<g id=\"edge92\" class=\"edge\">\n<title>91&#45;&gt;92</title>\n<path fill=\"none\" stroke=\"#000000\" d=\"M2408.5,-1293.8796C2408.5,-1285.6838 2408.5,-1276.9891 2408.5,-1268.5013\"/>\n<polygon fill=\"#000000\" stroke=\"#000000\" points=\"2412.0001,-1268.298 2408.5,-1258.2981 2405.0001,-1268.2981 2412.0001,-1268.298\"/>\n</g>\n<!-- 95 -->\n<g id=\"node96\" class=\"node\">\n<title>95</title>\n<path fill=\"#e58139\" stroke=\"#000000\" d=\"M2575,-1250.5C2575,-1250.5 2498,-1250.5 2498,-1250.5 2492,-1250.5 2486,-1244.5 2486,-1238.5 2486,-1238.5 2486,-1194.5 2486,-1194.5 2486,-1188.5 2492,-1182.5 2498,-1182.5 2498,-1182.5 2575,-1182.5 2575,-1182.5 2581,-1182.5 2587,-1188.5 2587,-1194.5 2587,-1194.5 2587,-1238.5 2587,-1238.5 2587,-1244.5 2581,-1250.5 2575,-1250.5\"/>\n<text text-anchor=\"start\" x=\"2494\" y=\"-1235.3\" font-family=\"Helvetica,sans-Serif\" font-size=\"14.00\" fill=\"#000000\">entropy = 0.0</text>\n<text text-anchor=\"start\" x=\"2497\" y=\"-1220.3\" font-family=\"Helvetica,sans-Serif\" font-size=\"14.00\" fill=\"#000000\">samples = 5</text>\n<text text-anchor=\"start\" x=\"2495\" y=\"-1205.3\" font-family=\"Helvetica,sans-Serif\" font-size=\"14.00\" fill=\"#000000\">value = [5, 0]</text>\n<text text-anchor=\"start\" x=\"2507.5\" y=\"-1190.3\" font-family=\"Helvetica,sans-Serif\" font-size=\"14.00\" fill=\"#000000\">class = c</text>\n</g>\n<!-- 91&#45;&gt;95 -->\n<g id=\"edge95\" class=\"edge\">\n<title>91&#45;&gt;95</title>\n<path fill=\"none\" stroke=\"#000000\" d=\"M2453.2682,-1293.8796C2465.8056,-1282.2237 2479.4284,-1269.5587 2491.953,-1257.9148\"/>\n<polygon fill=\"#000000\" stroke=\"#000000\" points=\"2494.6491,-1260.1872 2499.5898,-1250.8149 2489.8828,-1255.0605 2494.6491,-1260.1872\"/>\n</g>\n<!-- 93 -->\n<g id=\"node94\" class=\"node\">\n<title>93</title>\n<path fill=\"#399de5\" stroke=\"#000000\" d=\"M2447,-1131.5C2447,-1131.5 2370,-1131.5 2370,-1131.5 2364,-1131.5 2358,-1125.5 2358,-1119.5 2358,-1119.5 2358,-1075.5 2358,-1075.5 2358,-1069.5 2364,-1063.5 2370,-1063.5 2370,-1063.5 2447,-1063.5 2447,-1063.5 2453,-1063.5 2459,-1069.5 2459,-1075.5 2459,-1075.5 2459,-1119.5 2459,-1119.5 2459,-1125.5 2453,-1131.5 2447,-1131.5\"/>\n<text text-anchor=\"start\" x=\"2366\" y=\"-1116.3\" font-family=\"Helvetica,sans-Serif\" font-size=\"14.00\" fill=\"#000000\">entropy = 0.0</text>\n<text text-anchor=\"start\" x=\"2369\" y=\"-1101.3\" font-family=\"Helvetica,sans-Serif\" font-size=\"14.00\" fill=\"#000000\">samples = 5</text>\n<text text-anchor=\"start\" x=\"2367\" y=\"-1086.3\" font-family=\"Helvetica,sans-Serif\" font-size=\"14.00\" fill=\"#000000\">value = [0, 5]</text>\n<text text-anchor=\"start\" x=\"2381\" y=\"-1071.3\" font-family=\"Helvetica,sans-Serif\" font-size=\"14.00\" fill=\"#000000\">class = r</text>\n</g>\n<!-- 92&#45;&gt;93 -->\n<g id=\"edge93\" class=\"edge\">\n<title>92&#45;&gt;93</title>\n<path fill=\"none\" stroke=\"#000000\" d=\"M2408.5,-1174.8796C2408.5,-1164.2134 2408.5,-1152.7021 2408.5,-1141.9015\"/>\n<polygon fill=\"#000000\" stroke=\"#000000\" points=\"2412.0001,-1141.8149 2408.5,-1131.8149 2405.0001,-1141.815 2412.0001,-1141.8149\"/>\n</g>\n<!-- 94 -->\n<g id=\"node95\" class=\"node\">\n<title>94</title>\n<path fill=\"#6ab6ec\" stroke=\"#000000\" d=\"M2583.5,-1131.5C2583.5,-1131.5 2489.5,-1131.5 2489.5,-1131.5 2483.5,-1131.5 2477.5,-1125.5 2477.5,-1119.5 2477.5,-1119.5 2477.5,-1075.5 2477.5,-1075.5 2477.5,-1069.5 2483.5,-1063.5 2489.5,-1063.5 2489.5,-1063.5 2583.5,-1063.5 2583.5,-1063.5 2589.5,-1063.5 2595.5,-1069.5 2595.5,-1075.5 2595.5,-1075.5 2595.5,-1119.5 2595.5,-1119.5 2595.5,-1125.5 2589.5,-1131.5 2583.5,-1131.5\"/>\n<text text-anchor=\"start\" x=\"2485.5\" y=\"-1116.3\" font-family=\"Helvetica,sans-Serif\" font-size=\"14.00\" fill=\"#000000\">entropy = 0.722</text>\n<text text-anchor=\"start\" x=\"2497\" y=\"-1101.3\" font-family=\"Helvetica,sans-Serif\" font-size=\"14.00\" fill=\"#000000\">samples = 5</text>\n<text text-anchor=\"start\" x=\"2495\" y=\"-1086.3\" font-family=\"Helvetica,sans-Serif\" font-size=\"14.00\" fill=\"#000000\">value = [1, 4]</text>\n<text text-anchor=\"start\" x=\"2509\" y=\"-1071.3\" font-family=\"Helvetica,sans-Serif\" font-size=\"14.00\" fill=\"#000000\">class = r</text>\n</g>\n<!-- 92&#45;&gt;94 -->\n<g id=\"edge94\" class=\"edge\">\n<title>92&#45;&gt;94</title>\n<path fill=\"none\" stroke=\"#000000\" d=\"M2453.2682,-1174.8796C2465.8056,-1163.2237 2479.4284,-1150.5587 2491.953,-1138.9148\"/>\n<polygon fill=\"#000000\" stroke=\"#000000\" points=\"2494.6491,-1141.1872 2499.5898,-1131.8149 2489.8828,-1136.0605 2494.6491,-1141.1872\"/>\n</g>\n</g>\n</svg>\n"
          },
          "metadata": {},
          "execution_count": 72
        }
      ]
    },
    {
      "cell_type": "markdown",
      "source": [
        "### Questions\n",
        "1. How did the DT compare to the RF in performance? Why?\n",
        "    - *In comparimg between ACC I found that DT is preformance better than RF because it is faster because Rf is multible DT*\n",
        "2. After fine-tuning, how does the max depth in DT compare to RF? Why?\n",
        "    - *The best max depth for DT is 20 and the best max depth for RF is 15\n",
        "    The model's flexibility is determined by the tree depth. Complexer functions can fit in a deeper tree. The performance on the training set should therefore improve as tree depth is increased. However, greater flexibility also makes it easier to overfit the data, and if depth is increased too much, generalization performance may suffer (i.e. test set performance may decrease). Increased depth reduces bias at the expense of increasing variance, to put it another way. By averaging over several trees, random forests can reduce this rise in variance, but they are still vulnerable to overfitting. Tuning the tree depth to create an appropriate balance between bias and variance is usually necessary to obtain the optimum generalization performance (e.g. by optimizing the out-of-bag error).*\n",
        "3. What is ensemble learning? What are its pros and cons?\n",
        "    - *When using ensemble methods, more learning algorithms are used for prediction than would be possible with just one of the individual learning algorithms.*\n",
        "    - One disadvantage of ensemble learning is that the results of the ensembled model are difficult to predict and understand. As a result, it is challenging to market the ensemble concept and obtain insightful commercial data.\n",
        "\n",
        " Assembling is a difficult skill to master, and any poor decision might result in a model with lower prediction accuracy than an individual model.\n",
        "\n",
        " Costs associated with assembly include both time and physical space. Therefore, ensembling can increase ROI.*\n",
        "advantages of ensemble methods\n",
        " Ensemble approaches outperform individual models in terms of predicted accuracy.\n",
        "\n",
        " With ensemble approaches, bias and variance can be decreased, and the model is typically neither underfit nor overfit.*\n",
        "4. Briefly explain 2 types of boosting methods and 2 types of bagging methods.\n",
        "Which of these categories does RF fall under?\n",
        "    - *A meta-estimator called an AdaBoost classifier first fits a classifier on the original dataset, and then it fits additional copies of the classifier on the same dataset with the weights of instances that were incorrectly classified being changed so that later classifiers would concentrate more on challenging cases.\n",
        "Rf is classified as a gradient booster. It is predicated on the hunch that when previous models are combined with the best possible next model, the overall prediction error is minimized. Setting the desired results for this subsequent model in order to reduce error is the key concept.*\n",
        "  -*The basic idea of bootstrapping is that inference about a population from sample data (sample → population) can be modeled by resampling the sample data and performing inference about a sample from resampled data (resampled → sample)\n",
        "  DATA Agregation: For example, raw data can be aggregated over a given time period to provide statistics such as average, minimum, maximum, sum, and count. After the data is aggregated and written to a view or report, you can analyze the aggregated data to gain insights about particular resources or resource groups.*"
      ],
      "metadata": {
        "id": "7h9tn9ggwk80"
      }
    }
  ],
  "metadata": {
    "colab": {
      "provenance": []
    },
    "kernelspec": {
      "display_name": "Python 3 (ipykernel)",
      "language": "python",
      "name": "python3"
    },
    "language_info": {
      "codemirror_mode": {
        "name": "ipython",
        "version": 3
      },
      "file_extension": ".py",
      "mimetype": "text/x-python",
      "name": "python",
      "nbconvert_exporter": "python",
      "pygments_lexer": "ipython3",
      "version": "3.10.2"
    },
    "accelerator": "GPU",
    "gpuClass": "standard"
  },
  "nbformat": 4,
  "nbformat_minor": 0
}